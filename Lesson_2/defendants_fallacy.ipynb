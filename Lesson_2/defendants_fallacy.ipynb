{
 "cells": [
  {
   "cell_type": "markdown",
   "metadata": {},
   "source": [
    "# Defendant's Fallacy\n",
    "\n",
    "For more, see this very thorough [treatment](https://www.untrammeledmind.com/2018/12/defense-attorneys-fallacy-a-conditional-probability-problem/) of this problem."
   ]
  },
  {
   "cell_type": "code",
   "execution_count": null,
   "metadata": {},
   "outputs": [],
   "source": [
    "import numpy as np\n",
    "import pandas as pd\n",
    "from custom.defendants_fallacy import data_generator, data_tests"
   ]
  },
  {
   "cell_type": "code",
   "execution_count": null,
   "metadata": {},
   "outputs": [],
   "source": [
    "# Generate and load data\n",
    "df = data_generator()\n",
    "data_tests(df)"
   ]
  },
  {
   "cell_type": "markdown",
   "metadata": {},
   "source": [
    "Note, we fabricated data on a number of couples, $N = 5,000,000$, and assume that the unconditional probability of a wife being murdered to be $P(M) = 0.0005$."
   ]
  },
  {
   "cell_type": "markdown",
   "metadata": {},
   "source": [
    "## Motivation 👨🏼‍⚖️"
   ]
  },
  {
   "cell_type": "markdown",
   "metadata": {},
   "source": [
    "Consider this quote from *Calculated Risks: How to Know When Numbers Deceive You* (Gigerenzer, 2002) regarding the proceedings of the infamous trial of OJ Simpson: \n",
    "    \n",
    "> …the prosecution presented evidence that Simpson had been violent toward his wife, while the defense argued that there was only one woman murdered for every 2,500 women who were subjected to spousal abuse, and that any history of Simpson being violent toward his wife was irrelevant to the trial.\n",
    "\n",
    "### Question\n",
    "\n",
    "*Should* the fact that Simpson had been violent toward his wife be thrown out on the grounds of irrelevance (i.e., what the defense asserts)? "
   ]
  },
  {
   "cell_type": "markdown",
   "metadata": {},
   "source": [
    "To answer this question, let's use data. Here's what we know using the data on hand and what's been said in court:\n",
    "\n",
    "- A woman has been murdered, and her husband is accused of having committed the murder. \n",
    "- It is known that the man abused his wife repeatedly in the past, and the prosecution argues that this is important evidence pointing towards the man’s guilt. The defense attorney says that the history of abuse is irrelevant, as only 1-in-2500 men who beat their wives end up murdering them.\n",
    "- Assume that the defense attorney is not committing perjury and the 1-in-2500 figure is correct.\n",
    "- Our data tell us that half of men who murder their wives previously abused them. \n",
    "- Our data also tell us that 20% of murdered married women were killed by their husbands, and that if a woman is murdered and the husband is not guilty, then there is only a 10% chance that the husband abused her. "
   ]
  },
  {
   "cell_type": "markdown",
   "metadata": {},
   "source": [
    "## Analysis 🔬\n",
    "\n",
    "Below, we start down the path of trying to figure out whether it matters that the husband abused his wife or not. "
   ]
  },
  {
   "cell_type": "markdown",
   "metadata": {},
   "source": [
    "### Step 0\n",
    "\n",
    "We need to define some events. (Hint: Look at the column headers in our data.) Begin to think about Bayes' Rule...🤔"
   ]
  },
  {
   "cell_type": "code",
   "execution_count": null,
   "metadata": {},
   "outputs": [],
   "source": [
    "df.columns"
   ]
  },
  {
   "cell_type": "code",
   "execution_count": null,
   "metadata": {},
   "outputs": [],
   "source": [
    "for col in df:\n",
    "    display(df[col].unique())"
   ]
  },
  {
   "cell_type": "markdown",
   "metadata": {},
   "source": [
    "These columns all look like *indicator* random variables. We can also look at the relative frequencies, or the *probabilities*, of each of these events:"
   ]
  },
  {
   "cell_type": "code",
   "execution_count": null,
   "metadata": {},
   "outputs": [],
   "source": [
    "df.mean()"
   ]
  },
  {
   "cell_type": "code",
   "execution_count": null,
   "metadata": {},
   "outputs": [],
   "source": [
    "## TODO: Explore the data on your more if you desire."
   ]
  },
  {
   "cell_type": "markdown",
   "metadata": {},
   "source": [
    "### Step 1 \n",
    "\n",
    "Inspect the data. What does it mean? Can you confirm the facts drawn from our data (see above)?\n",
    "\n",
    "- Show that the defense attorney is correct, i.e., $P(G|A) = \\frac{1}{2500}$.\n",
    "- Show that half of men who murder their wives previously abused them. \n",
    "- Show that 20% of murdered married women were killed by their husbands\n",
    "- Show that if a woman is murdered and the husband is not guilty, then there is only a 10% chance that the husband abused her. "
   ]
  },
  {
   "cell_type": "code",
   "execution_count": null,
   "metadata": {},
   "outputs": [],
   "source": [
    "## TODO: Confirm the facts of the case using the data.\n",
    "\n",
    "# p_G_given_A = \n",
    "\n",
    "# p_A_given_G_and_M = \n",
    "\n",
    "# p_G_given_M = \n",
    "\n",
    "# p_A_given_notG_and_M = "
   ]
  },
  {
   "cell_type": "markdown",
   "metadata": {},
   "source": [
    "### Step 2 \n",
    "\n",
    "Hope you've been pondering Bayes' Theorem. What is the _prior_ probability that the husband is guilty of murdering his wife?\n",
    "\n",
    "- Calculate $P(G|M)$."
   ]
  },
  {
   "cell_type": "code",
   "execution_count": null,
   "metadata": {},
   "outputs": [],
   "source": [
    "## TODO: Calculate the prior probability of guilt given the wife has been murdered.\n",
    "##       Ask yourself if you've already done this calculation..."
   ]
  },
  {
   "cell_type": "markdown",
   "metadata": {},
   "source": [
    "We will need to compare our *posterior* to this to see if the husband is more likely of guilt. If so, that implies that the defense attorney is trying to pull the wool over the jury's eyes!"
   ]
  },
  {
   "cell_type": "markdown",
   "metadata": {},
   "source": [
    "### Step 3\n",
    "\n",
    "Figure out what the posterior probability of guilt is.\n",
    "\n",
    "- You know that the posterior probability is $P(G|...)$. \n",
    "- Think about what event(s) to condition on (i.e., what evidence do we have?).\n",
    "- Drawing a tree diagram might help."
   ]
  },
  {
   "cell_type": "code",
   "execution_count": null,
   "metadata": {},
   "outputs": [],
   "source": [
    "## TODO: Calculate the posterior probability of guilt. \n",
    "##       Do this either analytically or numerically (directly on the data)"
   ]
  }
 ],
 "metadata": {
  "kernelspec": {
   "display_name": "Python 3",
   "language": "python",
   "name": "python3"
  },
  "language_info": {
   "codemirror_mode": {
    "name": "ipython",
    "version": 3
   },
   "file_extension": ".py",
   "mimetype": "text/x-python",
   "name": "python",
   "nbconvert_exporter": "python",
   "pygments_lexer": "ipython3",
   "version": "3.7.6"
  }
 },
 "nbformat": 4,
 "nbformat_minor": 4
}
