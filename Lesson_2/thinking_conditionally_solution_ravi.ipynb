{
 "cells": [
  {
   "cell_type": "markdown",
   "metadata": {
    "slideshow": {
     "slide_type": "slide"
    }
   },
   "source": [
    "# Thinking Conditionally: Tradelanes and Modes\n",
    "DA Probability & Statistics Learning Series • Lesson 2\n",
    "\n",
    "<img src=\"https://imgs.xkcd.com/comics/conditionals.png\" align=\"center\"/>\n",
    "\n",
    "Welcome, again!\n",
    "\n",
    "*See **#da_prob_stat** for discussion during and after this tutorial.*\n"
   ]
  },
  {
   "cell_type": "markdown",
   "metadata": {
    "slideshow": {
     "slide_type": "slide"
    }
   },
   "source": [
    "## Goals\n",
    "\n",
    "**You**: Develop an intuition around conditional vs. unconditional probabilities\n",
    "<br>\n",
    "**You**: Invent some math to answer questions. Sorta feel badass about it.\n",
    "<br>\n",
    "**You**: Understand independence of events.\n",
    "<br>\n",
    "**You**: Get feet wet regarding the Law of Total Probability (LOTP).\n",
    "\n",
    "\n",
    "---\n",
    "\n",
    "\n",
    "**Me**: Do a better job of managing time!\n",
    "<br>\n",
    "**Me**: Take more time to explain code.\n",
    "<br>\n",
    "**Me**: Be explicit about what's to be done now vs. later for homework.\n",
    "<br>\n",
    "**Me**: Cold call more! 😈\n"
   ]
  },
  {
   "cell_type": "markdown",
   "metadata": {
    "slideshow": {
     "slide_type": "slide"
    }
   },
   "source": [
    "Let's get started by bringing in the stuff we're going to need for this lesson."
   ]
  },
  {
   "cell_type": "code",
   "execution_count": 1,
   "metadata": {
    "slideshow": {
     "slide_type": "skip"
    }
   },
   "outputs": [
    {
     "data": {
      "text/html": [
       "<style>pre { white-space: pre !important; }</style>"
      ],
      "text/plain": [
       "<IPython.core.display.HTML object>"
      ]
     },
     "metadata": {},
     "output_type": "display_data"
    }
   ],
   "source": [
    "from IPython.core.display import HTML\n",
    "display(HTML(\"<style>pre { white-space: pre !important; }</style>\"))"
   ]
  },
  {
   "cell_type": "code",
   "execution_count": 10,
   "metadata": {
    "slideshow": {
     "slide_type": "fragment"
    }
   },
   "outputs": [],
   "source": [
    "# Import dependencies \n",
    "from custom.db_utils import get_connection\n",
    "import pandas as pd\n",
    "\n",
    "# Object typing\n",
    "from typing import TypeVar\n",
    "PandasSeries = TypeVar('pd.core.series.Series')\n",
    "PandasDataFrame = TypeVar('pd.core.frame.DataFrame')\n",
    "\n",
    "# Data viz\n",
    "import matplotlib.pyplot as plt\n",
    "from matplotlib.ticker import PercentFormatter\n",
    "import seaborn as sns"
   ]
  },
  {
   "cell_type": "code",
   "execution_count": 11,
   "metadata": {
    "slideshow": {
     "slide_type": "subslide"
    }
   },
   "outputs": [
    {
     "name": "stdout",
     "output_type": "stream",
     "text": [
      "Initiating login request with your identity provider. A browser window should have opened for you to complete the login. If you can't see it, check existing browser windows, or your OS settings. Press CTRL+C to abort and try again...\n"
     ]
    },
    {
     "data": {
      "text/html": [
       "<div>\n",
       "<style scoped>\n",
       "    .dataframe tbody tr th:only-of-type {\n",
       "        vertical-align: middle;\n",
       "    }\n",
       "\n",
       "    .dataframe tbody tr th {\n",
       "        vertical-align: top;\n",
       "    }\n",
       "\n",
       "    .dataframe thead th {\n",
       "        text-align: right;\n",
       "    }\n",
       "</style>\n",
       "<table border=\"1\" class=\"dataframe\">\n",
       "  <thead>\n",
       "    <tr style=\"text-align: right;\">\n",
       "      <th></th>\n",
       "      <th>shipment_id</th>\n",
       "      <th>accepted_quote_at</th>\n",
       "      <th>tradelane</th>\n",
       "      <th>mode</th>\n",
       "    </tr>\n",
       "  </thead>\n",
       "  <tbody>\n",
       "    <tr>\n",
       "      <th>57238</th>\n",
       "      <td>558719</td>\n",
       "      <td>2019-06-17 00:00:00+00:00</td>\n",
       "      <td>TPEB</td>\n",
       "      <td>Air</td>\n",
       "    </tr>\n",
       "    <tr>\n",
       "      <th>206036</th>\n",
       "      <td>496866</td>\n",
       "      <td>2019-03-06 00:00:00+00:00</td>\n",
       "      <td>TPEB</td>\n",
       "      <td>Air</td>\n",
       "    </tr>\n",
       "    <tr>\n",
       "      <th>134740</th>\n",
       "      <td>570283</td>\n",
       "      <td>2019-07-05 00:00:00+00:00</td>\n",
       "      <td>TPEB</td>\n",
       "      <td>Air</td>\n",
       "    </tr>\n",
       "  </tbody>\n",
       "</table>\n",
       "</div>"
      ],
      "text/plain": [
       "        shipment_id         accepted_quote_at tradelane mode\n",
       "57238        558719 2019-06-17 00:00:00+00:00      TPEB  Air\n",
       "206036       496866 2019-03-06 00:00:00+00:00      TPEB  Air\n",
       "134740       570283 2019-07-05 00:00:00+00:00      TPEB  Air"
      ]
     },
     "execution_count": 11,
     "metadata": {},
     "output_type": "execute_result"
    }
   ],
   "source": [
    "# Get the database connection and cursor objects\n",
    "conn, cur = get_connection()\n",
    "\n",
    "# Use a context manager to open and close connection and files\n",
    "with conn:\n",
    "    \n",
    "    # Open the query.sql file\n",
    "    with open('query.sql', 'r') as q:\n",
    "\n",
    "        # Save contents of query.sql as string\n",
    "        query_str = q.read()\n",
    "    \n",
    "    # Use the read_sql method to get the data from Snowflake into a \n",
    "    # Pandas dataframe\n",
    "    df = pd.read_sql(query_str, conn)\n",
    "    \n",
    "    # Make all the columns lowercase\n",
    "    df.columns = map(str.lower, df.columns)\n",
    "\n",
    "# Preview the data\n",
    "df.sample(3)"
   ]
  },
  {
   "cell_type": "markdown",
   "metadata": {
    "slideshow": {
     "slide_type": "slide"
    }
   },
   "source": [
    "## Motivating Question 🤔\n",
    "\n",
    "> Are shipments' tradelanes and modes independent of one another?"
   ]
  },
  {
   "cell_type": "markdown",
   "metadata": {
    "slideshow": {
     "slide_type": "slide"
    }
   },
   "source": [
    "\n",
    "## Quick Review ⏪\n",
    "\n",
    "We've already seen how to use counting and the naïve definition of probability to calculate the probability of events in a discrete setting.\n",
    "\n",
    "To calculate the $P(A)$, the probability of some event $A$ occurring, we just need to count the number of **outcomes** in **event** $A$ and divide this by the total number of outcomes found in the **sample space**, $S$."
   ]
  },
  {
   "cell_type": "markdown",
   "metadata": {
    "slideshow": {
     "slide_type": "slide"
    }
   },
   "source": [
    "### Conditional Probability\n",
    "\n",
    "Let's start with a pretty straightforward example taken from the diagnostic quiz awhile back.\n",
    "\n",
    "**Question**:\n",
    "\n",
    "> Imagine a client makes exactly two shipments. Assume that for this client, any given shipment is transported either via ocean (event O) or by air (event A) with equal probability (i.e., P(O) = P(A) = 0.5) and that the choice of transportation for one shipment is independent of that of another.\n",
    ">\n",
    "> **Which of the following scenarios is more probable?**\n",
    "\n",
    "\n",
    "A. Both shipments are air if we know at least one shipment is air.\n",
    "<br>\n",
    "B. Both shipments are air if we know the second shipment is air.\n",
    "<br>\n",
    "C. Both scenarios are equally probable.\n",
    "<br>"
   ]
  },
  {
   "cell_type": "markdown",
   "metadata": {
    "slideshow": {
     "slide_type": "slide"
    }
   },
   "source": [
    "**Answer**: \n",
    "\n",
    "> B. Both shipments are air if we know the second shipment is air."
   ]
  },
  {
   "cell_type": "markdown",
   "metadata": {
    "slideshow": {
     "slide_type": "slide"
    }
   },
   "source": [
    "Remember \"pebble world\" from last time?"
   ]
  },
  {
   "cell_type": "markdown",
   "metadata": {
    "slideshow": {
     "slide_type": "-"
    }
   },
   "source": [
    "We know that each outcome (\"pebble\") is equally likely (\"weighs the same\"). Now all we have to do is consider how each event differs.\n",
    "\n",
    "![Quiz Question Sample Space](quiz_question_sample_space.png)"
   ]
  },
  {
   "cell_type": "markdown",
   "metadata": {
    "slideshow": {
     "slide_type": "fragment"
    }
   },
   "source": [
    "- The <font color='orange'>orange box</font> is the **event** that _at least one shipment is air_.\n",
    "- The <font color='red'>red box</font> is the **event** that _the second shipment is air_. \n",
    "- The <font color='teal'>teal oval</font> is the **event** that _both shipments are air_. (Note, that this event only consists of one **outcome**.)"
   ]
  },
  {
   "cell_type": "markdown",
   "metadata": {
    "slideshow": {
     "slide_type": "fragment"
    }
   },
   "source": [
    "If we formalize this using the notation we learned last time and the naïve definition of probability, we have:\n",
    "\n",
    "$$\n",
    "\\begin{align}\n",
    "P(\\text{at least one shipment is air}) &= \\frac{3}{4}\\\\\n",
    "P(\\text{the second shipment is air}) &= \\frac{1}{2}\n",
    "\\end{align}\n",
    "$$"
   ]
  },
  {
   "cell_type": "markdown",
   "metadata": {
    "slideshow": {
     "slide_type": "slide"
    }
   },
   "source": [
    "When we **condition** on evidence or information or what we observe, we need to update our probabilities to incorporate what we've learned. \n",
    "\n",
    "Said another way, we need to **adjust our our sample space (i.e., the denominator of the probability fraction) to include only the events (or outcomes) that meet the condition**."
   ]
  },
  {
   "cell_type": "markdown",
   "metadata": {
    "slideshow": {
     "slide_type": "subslide"
    }
   },
   "source": [
    "The way we notationally represent this is by using a \"|\" to separate what we want to know (an event or events) from what we are conditioning on (another event or events). For this problem, the answer choices expressed in this notation are:"
   ]
  },
  {
   "cell_type": "markdown",
   "metadata": {
    "slideshow": {
     "slide_type": "fragment"
    }
   },
   "source": [
    "A. $P(\\text{both air shipments}\\,|\\,\\text{at least one shipment is air})$<br>\n",
    "B. $P(\\text{both air shipments}\\,|\\,\\text{the second shipment is air})$<br>"
   ]
  },
  {
   "cell_type": "markdown",
   "metadata": {
    "slideshow": {
     "slide_type": "subslide"
    }
   },
   "source": [
    "How do we take the information we have from what we know (unconditionally) and use it to get these conditional probabilities?"
   ]
  },
  {
   "cell_type": "markdown",
   "metadata": {
    "slideshow": {
     "slide_type": "fragment"
    }
   },
   "source": [
    "...by redefining what we consider \"possible\" outcomes!"
   ]
  },
  {
   "cell_type": "markdown",
   "metadata": {
    "slideshow": {
     "slide_type": "subslide"
    }
   },
   "source": [
    "Let's tackle $P(\\text{both air shipments}\\,|\\,\\text{at least one shipment is air})$. We are **conditioning** on the event that *at least one shipment is air*, so let's update what we consider possible outcomes under this condition:\n",
    "\n",
    "![Quiz Question Choice A](quiz_question_choice_A.png)"
   ]
  },
  {
   "cell_type": "markdown",
   "metadata": {
    "slideshow": {
     "slide_type": "fragment"
    }
   },
   "source": [
    "Then it becomes immediately obvious that $P(\\text{both air shipments}\\,|\\,\\text{at least one shipment is air}) = \\frac{1}{3}$.\n",
    "\n",
    "Similarly, $P(\\text{both air shipments}\\,|\\,\\text{the second shipment is air}) = \\frac{1}{2}$.\n",
    "\n",
    "![Quiz Question Choice B](quiz_question_choice_B.png)"
   ]
  },
  {
   "cell_type": "markdown",
   "metadata": {
    "slideshow": {
     "slide_type": "subslide"
    }
   },
   "source": [
    "From here, we can see that knowing more information about which shipment was air increases our belief that both shipments are air:\n",
    "\n",
    "- **Unconditionally**, we assigned a 25% probability that both shipments were air, $P(\\text{both shipments are air}) = \\frac{1}{4}$.<br>\n",
    "- If we knew that *at least one shipment was air*, we could update our priors and **condition on this information**, leading us to increase our belief to 33% that both shipments were air: $P(\\text{both shipments are air}\\,|\\,\\text{at least one shipment is air}) = \\frac{1}{3}$.<br>\n",
    "- If we knew that *the second shipment in particular was air*, we can **update our priors even more**, which leads to a stronger belief of 50% that both shipments were air: $P(\\text{both shipments are air}\\,|\\,\\text{the second shipment is air}) = \\frac{1}{2}$.\n",
    "\n",
    "A _Bayesian_ statistician would say that we've **updated our prior beliefs** (i.e., our *priors*)."
   ]
  },
  {
   "cell_type": "markdown",
   "metadata": {
    "slideshow": {
     "slide_type": "slide"
    }
   },
   "source": [
    "## Warm-up 💻\n",
    "\n",
    "We're going to try our hand at determining the independence of events using simple data visualizations and a little logic. If we're lucky we'll have stumbled upon our first test statistic.\n",
    "\n",
    "**TODO**: Explore the data a little. Try to illustrate the relationship between tradelane and mode."
   ]
  },
  {
   "cell_type": "code",
   "execution_count": 2,
   "metadata": {
    "slideshow": {
     "slide_type": "subslide"
    }
   },
   "outputs": [
    {
     "ename": "NameError",
     "evalue": "name 'df' is not defined",
     "output_type": "error",
     "traceback": [
      "\u001b[0;31m---------------------------------------------------------------------------\u001b[0m",
      "\u001b[0;31mNameError\u001b[0m                                 Traceback (most recent call last)",
      "\u001b[0;32m<ipython-input-2-ae08a0d1c51f>\u001b[0m in \u001b[0;36m<module>\u001b[0;34m\u001b[0m\n\u001b[1;32m      1\u001b[0m \u001b[0;31m# Isolate data to be used\u001b[0m\u001b[0;34m\u001b[0m\u001b[0;34m\u001b[0m\u001b[0;34m\u001b[0m\u001b[0m\n\u001b[0;32m----> 2\u001b[0;31m \u001b[0mtradelane_mode_df\u001b[0m \u001b[0;34m=\u001b[0m \u001b[0mdf\u001b[0m\u001b[0;34m[\u001b[0m\u001b[0;34m[\u001b[0m\u001b[0;34m'tradelane'\u001b[0m\u001b[0;34m,\u001b[0m \u001b[0;34m'mode'\u001b[0m\u001b[0;34m]\u001b[0m\u001b[0;34m]\u001b[0m\u001b[0;34m\u001b[0m\u001b[0;34m\u001b[0m\u001b[0m\n\u001b[0m\u001b[1;32m      3\u001b[0m \u001b[0;34m\u001b[0m\u001b[0m\n\u001b[1;32m      4\u001b[0m \u001b[0;31m# Preview the data\u001b[0m\u001b[0;34m\u001b[0m\u001b[0;34m\u001b[0m\u001b[0;34m\u001b[0m\u001b[0m\n\u001b[1;32m      5\u001b[0m \u001b[0mdisplay\u001b[0m\u001b[0;34m(\u001b[0m\u001b[0mtradelane_mode_df\u001b[0m\u001b[0;34m.\u001b[0m\u001b[0mhead\u001b[0m\u001b[0;34m(\u001b[0m\u001b[0;34m)\u001b[0m\u001b[0;34m)\u001b[0m\u001b[0;34m\u001b[0m\u001b[0;34m\u001b[0m\u001b[0m\n",
      "\u001b[0;31mNameError\u001b[0m: name 'df' is not defined"
     ]
    }
   ],
   "source": [
    "# Isolate data to be used\n",
    "tradelane_mode_df = df[['tradelane', 'mode']]\n",
    "\n",
    "# Preview the data\n",
    "display(tradelane_mode_df.head())"
   ]
  },
  {
   "cell_type": "code",
   "execution_count": 3,
   "metadata": {
    "slideshow": {
     "slide_type": "subslide"
    }
   },
   "outputs": [
    {
     "ename": "NameError",
     "evalue": "name 'tradelane_mode_df' is not defined",
     "output_type": "error",
     "traceback": [
      "\u001b[0;31m---------------------------------------------------------------------------\u001b[0m",
      "\u001b[0;31mNameError\u001b[0m                                 Traceback (most recent call last)",
      "\u001b[0;32m<ipython-input-3-6c35c07dd40a>\u001b[0m in \u001b[0;36m<module>\u001b[0;34m\u001b[0m\n\u001b[1;32m      3\u001b[0m \u001b[0;34m\u001b[0m\u001b[0m\n\u001b[1;32m      4\u001b[0m \u001b[0;31m# How big is the data?\u001b[0m\u001b[0;34m\u001b[0m\u001b[0;34m\u001b[0m\u001b[0;34m\u001b[0m\u001b[0m\n\u001b[0;32m----> 5\u001b[0;31m \u001b[0mprint\u001b[0m\u001b[0;34m(\u001b[0m\u001b[0;34mf\"The data spans {tradelane_mode_df.shape[0]} rows and {tradelane_mode_df.shape[1]} columns.\"\u001b[0m\u001b[0;34m)\u001b[0m\u001b[0;34m\u001b[0m\u001b[0;34m\u001b[0m\u001b[0m\n\u001b[0m\u001b[1;32m      6\u001b[0m \u001b[0;34m\u001b[0m\u001b[0m\n\u001b[1;32m      7\u001b[0m \u001b[0;31m# Checks that the data contains no nulls\u001b[0m\u001b[0;34m\u001b[0m\u001b[0;34m\u001b[0m\u001b[0;34m\u001b[0m\u001b[0m\n",
      "\u001b[0;31mNameError\u001b[0m: name 'tradelane_mode_df' is not defined"
     ]
    }
   ],
   "source": [
    "## TODO: Explore the data; some suggested questions to answer\n",
    "##       are listed below.\n",
    "\n",
    "# How big is the data?\n",
    "print(f\"The data spans {tradelane_mode_df.shape[0]} rows and {tradelane_mode_df.shape[1]} columns.\")\n",
    "\n",
    "# Checks that the data contains no nulls\n",
    "nulls_check = tradelane_mode_df.isnull().any(axis=1).any()\n",
    "print(f\"Are there nulls anywhere in this dataframe? {nulls_check}\")\n",
    "\n",
    "# How many unique values are in each columns?\n",
    "display(tradelane_mode_df.nunique())\n",
    "\n",
    "# What are the unique values in each column?\n",
    "unique_values = {col: tradelane_mode_df[col].value_counts() for col in tradelane_mode_df.columns}\n",
    "display(unique_values['mode'])\n",
    "display(unique_values['tradelane'])"
   ]
  },
  {
   "cell_type": "markdown",
   "metadata": {
    "slideshow": {
     "slide_type": "slide"
    }
   },
   "source": [
    "**Question**: Answer the following qualitatively based on what you see in the data (i.e., no need to perform statistical tests or calculations).\n",
    "\n",
    "> Is a shipment's tradelane independent of its mode?\n",
    "\n",
    "(Knowing each row in our dataframe is a shipment, what would you want to look for? How would you need to transform your data?)"
   ]
  },
  {
   "cell_type": "markdown",
   "metadata": {
    "slideshow": {
     "slide_type": "subslide"
    }
   },
   "source": [
    "Well, right now we have basically two lists with each row representing one data point. We should categorize the data based on the features/variables/attributes we have on hand! \n",
    "\n",
    "Let's _cross-tabulate_ this table so we have rows representing `tradelanes` and columns representing `mode`. The values in each cell will be the counts of shipments."
   ]
  },
  {
   "cell_type": "markdown",
   "metadata": {
    "slideshow": {
     "slide_type": "fragment"
    }
   },
   "source": [
    "Notice, by transforming our data this way, we've created a sample space consisting of disjoint events! Each cell is an event: its the _intersection_ of a particular `tradelane` and a particular `mode`.\n",
    "\n",
    "**TODO**: Transform our data into something workable by cross-tabulating our data with `tradelane`s as rows and `mode`s as columns."
   ]
  },
  {
   "cell_type": "code",
   "execution_count": 4,
   "metadata": {
    "slideshow": {
     "slide_type": "slide"
    }
   },
   "outputs": [
    {
     "ename": "NameError",
     "evalue": "name 'pd' is not defined",
     "output_type": "error",
     "traceback": [
      "\u001b[0;31m---------------------------------------------------------------------------\u001b[0m",
      "\u001b[0;31mNameError\u001b[0m                                 Traceback (most recent call last)",
      "\u001b[0;32m<ipython-input-4-511b8dd28fad>\u001b[0m in \u001b[0;36m<module>\u001b[0;34m\u001b[0m\n\u001b[1;32m      4\u001b[0m \u001b[0;31m# Use this variable to store cross-tabulation WITHOUT\u001b[0m\u001b[0;34m\u001b[0m\u001b[0;34m\u001b[0m\u001b[0;34m\u001b[0m\u001b[0m\n\u001b[1;32m      5\u001b[0m \u001b[0;31m# marginal distributions (see 'margins' parameter)\u001b[0m\u001b[0;34m\u001b[0m\u001b[0;34m\u001b[0m\u001b[0;34m\u001b[0m\u001b[0m\n\u001b[0;32m----> 6\u001b[0;31m tradelane_mode_xt = pd.crosstab(index=tradelane_mode_df['tradelane'], \n\u001b[0m\u001b[1;32m      7\u001b[0m                                 columns=tradelane_mode_df['mode'])\n\u001b[1;32m      8\u001b[0m \u001b[0;34m\u001b[0m\u001b[0m\n",
      "\u001b[0;31mNameError\u001b[0m: name 'pd' is not defined"
     ]
    }
   ],
   "source": [
    "## TODO: Cross-tabulate shipments\n",
    "# (Read docs for Pandas' crosstab function)\n",
    "\n",
    "# Use this variable to store cross-tabulation WITHOUT\n",
    "# marginal distributions (see 'margins' parameter)\n",
    "tradelane_mode_xt = pd.crosstab(index=tradelane_mode_df['tradelane'], \n",
    "                                columns=tradelane_mode_df['mode'])\n",
    "\n",
    "# Use this variable to store cross-tabulation WITH\n",
    "# marginal distributions (see 'margins' parameter)\n",
    "tradelane_mode_xt_marg = pd.crosstab(index=tradelane_mode_df['tradelane'], \n",
    "                                     columns=tradelane_mode_df['mode'], \n",
    "                                     margins=True)\n",
    "\n",
    "display(tradelane_mode_xt)\n",
    "display(tradelane_mode_xt_marg)"
   ]
  },
  {
   "cell_type": "markdown",
   "metadata": {
    "slideshow": {
     "slide_type": "subslide"
    }
   },
   "source": [
    "Below, I've provided a helper function that will plot a heatmap of the _joint distribution_."
   ]
  },
  {
   "cell_type": "code",
   "execution_count": 5,
   "metadata": {
    "slideshow": {
     "slide_type": "-"
    }
   },
   "outputs": [
    {
     "ename": "NameError",
     "evalue": "name 'PandasDataFrame' is not defined",
     "output_type": "error",
     "traceback": [
      "\u001b[0;31m---------------------------------------------------------------------------\u001b[0m",
      "\u001b[0;31mNameError\u001b[0m                                 Traceback (most recent call last)",
      "\u001b[0;32m<ipython-input-5-de0db32f6d35>\u001b[0m in \u001b[0;36m<module>\u001b[0;34m\u001b[0m\n\u001b[1;32m      1\u001b[0m \u001b[0;31m# Helper functions\u001b[0m\u001b[0;34m\u001b[0m\u001b[0;34m\u001b[0m\u001b[0;34m\u001b[0m\u001b[0m\n\u001b[0;32m----> 2\u001b[0;31m def heatmap(data: PandasDataFrame, \n\u001b[0m\u001b[1;32m      3\u001b[0m             \u001b[0mA\u001b[0m\u001b[0;34m:\u001b[0m \u001b[0mstr\u001b[0m\u001b[0;34m,\u001b[0m\u001b[0;34m\u001b[0m\u001b[0;34m\u001b[0m\u001b[0m\n\u001b[1;32m      4\u001b[0m             B: str) -> None:\n\u001b[1;32m      5\u001b[0m     '''\n",
      "\u001b[0;31mNameError\u001b[0m: name 'PandasDataFrame' is not defined"
     ]
    }
   ],
   "source": [
    "# Helper functions\n",
    "def heatmap(data: PandasDataFrame, \n",
    "            A: str,\n",
    "            B: str) -> None:\n",
    "    '''\n",
    "    Plots heatmap of bivariate frequency data, i.e., P(A|B) when supplied\n",
    "    data, A (as a string) and B (as a string)\n",
    "    '''\n",
    "    fig, ax = plt.subplots()\n",
    "    sns.heatmap(data, ax=ax, annot=True, fmt='.0%', \n",
    "                cmap='cividis', vmin=0, vmax=1)\n",
    "    ax.set_title(\"$P({0}\\,|\\,{1})$\".format(A, B), \n",
    "                 fontsize='x-large')\n",
    "    cbar = ax.collections[0].colorbar\n",
    "    cbar.ax.yaxis.set_major_formatter(PercentFormatter(1, 0))\n",
    "    plt.show()"
   ]
  },
  {
   "cell_type": "markdown",
   "metadata": {
    "slideshow": {
     "slide_type": "slide"
    }
   },
   "source": [
    "**TODO**: Let's condition on `mode` and see what the distribution looks like."
   ]
  },
  {
   "cell_type": "code",
   "execution_count": 6,
   "metadata": {
    "scrolled": false,
    "slideshow": {
     "slide_type": "subslide"
    }
   },
   "outputs": [
    {
     "ename": "NameError",
     "evalue": "name 'tradelane_mode_xt' is not defined",
     "output_type": "error",
     "traceback": [
      "\u001b[0;31m---------------------------------------------------------------------------\u001b[0m",
      "\u001b[0;31mNameError\u001b[0m                                 Traceback (most recent call last)",
      "\u001b[0;32m<ipython-input-6-54867f050a13>\u001b[0m in \u001b[0;36m<module>\u001b[0;34m\u001b[0m\n\u001b[1;32m      1\u001b[0m \u001b[0;31m## TODO: Convert to relative frequencies, conditioning on mode\u001b[0m\u001b[0;34m\u001b[0m\u001b[0;34m\u001b[0m\u001b[0;34m\u001b[0m\u001b[0m\n\u001b[0;32m----> 2\u001b[0;31m \u001b[0mdata\u001b[0m \u001b[0;34m=\u001b[0m \u001b[0mtradelane_mode_xt\u001b[0m\u001b[0;34m/\u001b[0m\u001b[0mtradelane_mode_xt\u001b[0m\u001b[0;34m.\u001b[0m\u001b[0msum\u001b[0m\u001b[0;34m(\u001b[0m\u001b[0maxis\u001b[0m\u001b[0;34m=\u001b[0m\u001b[0;36m0\u001b[0m\u001b[0;34m)\u001b[0m\u001b[0;34m\u001b[0m\u001b[0;34m\u001b[0m\u001b[0m\n\u001b[0m\u001b[1;32m      3\u001b[0m \u001b[0mheatmap\u001b[0m\u001b[0;34m(\u001b[0m\u001b[0mdata\u001b[0m\u001b[0;34m,\u001b[0m \u001b[0;34m'tradelane'\u001b[0m\u001b[0;34m,\u001b[0m \u001b[0;34m'mode'\u001b[0m\u001b[0;34m)\u001b[0m\u001b[0;34m\u001b[0m\u001b[0;34m\u001b[0m\u001b[0m\n\u001b[1;32m      4\u001b[0m \u001b[0;34m\u001b[0m\u001b[0m\n\u001b[1;32m      5\u001b[0m \u001b[0;31m# Compare to marginal frequency of tradelane\u001b[0m\u001b[0;34m\u001b[0m\u001b[0;34m\u001b[0m\u001b[0;34m\u001b[0m\u001b[0m\n",
      "\u001b[0;31mNameError\u001b[0m: name 'tradelane_mode_xt' is not defined"
     ]
    }
   ],
   "source": [
    "## TODO: Convert to relative frequencies, conditioning on mode\n",
    "data = tradelane_mode_xt/tradelane_mode_xt.sum(axis=0)\n",
    "heatmap(data, 'tradelane', 'mode')\n",
    "\n",
    "# Compare to marginal frequency of tradelane\n",
    "mf_tradelane = pd.DataFrame(tradelane_mode_xt_marg/tradelane_mode_xt.sum().sum())\n",
    "mf_tradelane.loc[mf_tradelane.index[:-1], \n",
    "                 ['All']].style.format(\"{:.0%}\").background_gradient(cmap='cividis', \n",
    "                                                                 axis=1, \n",
    "                                                                 vmin=0, \n",
    "                                                                 vmax=1)"
   ]
  },
  {
   "cell_type": "markdown",
   "metadata": {
    "slideshow": {
     "slide_type": "subslide"
    }
   },
   "source": [
    "**TODO**: Compare the _marginal distribution_ (on the bottom) versus each column in the heatmap above. \n",
    "\n",
    "**Question**: \n",
    "\n",
    "> What does this tell you about independence?"
   ]
  },
  {
   "cell_type": "code",
   "execution_count": 7,
   "metadata": {
    "slideshow": {
     "slide_type": "subslide"
    }
   },
   "outputs": [
    {
     "ename": "NameError",
     "evalue": "name 'tradelane_mode_xt' is not defined",
     "output_type": "error",
     "traceback": [
      "\u001b[0;31m---------------------------------------------------------------------------\u001b[0m",
      "\u001b[0;31mNameError\u001b[0m                                 Traceback (most recent call last)",
      "\u001b[0;32m<ipython-input-7-33beb1a2c370>\u001b[0m in \u001b[0;36m<module>\u001b[0;34m\u001b[0m\n\u001b[1;32m      1\u001b[0m \u001b[0;31m# Convert to relative frequencies, conditioning on tradelane\u001b[0m\u001b[0;34m\u001b[0m\u001b[0;34m\u001b[0m\u001b[0;34m\u001b[0m\u001b[0m\n\u001b[0;32m----> 2\u001b[0;31m \u001b[0mdata\u001b[0m \u001b[0;34m=\u001b[0m \u001b[0mtradelane_mode_xt\u001b[0m\u001b[0;34m.\u001b[0m\u001b[0mapply\u001b[0m\u001b[0;34m(\u001b[0m\u001b[0;32mlambda\u001b[0m \u001b[0ms\u001b[0m\u001b[0;34m:\u001b[0m \u001b[0ms\u001b[0m\u001b[0;34m/\u001b[0m\u001b[0mtradelane_mode_xt\u001b[0m\u001b[0;34m.\u001b[0m\u001b[0msum\u001b[0m\u001b[0;34m(\u001b[0m\u001b[0maxis\u001b[0m\u001b[0;34m=\u001b[0m\u001b[0;36m1\u001b[0m\u001b[0;34m)\u001b[0m\u001b[0;34m)\u001b[0m\u001b[0;34m\u001b[0m\u001b[0;34m\u001b[0m\u001b[0m\n\u001b[0m\u001b[1;32m      3\u001b[0m \u001b[0mheatmap\u001b[0m\u001b[0;34m(\u001b[0m\u001b[0mdata\u001b[0m\u001b[0;34m,\u001b[0m \u001b[0;34m'mode'\u001b[0m\u001b[0;34m,\u001b[0m \u001b[0;34m'tradelane'\u001b[0m\u001b[0;34m)\u001b[0m\u001b[0;34m\u001b[0m\u001b[0;34m\u001b[0m\u001b[0m\n\u001b[1;32m      4\u001b[0m \u001b[0;34m\u001b[0m\u001b[0m\n\u001b[1;32m      5\u001b[0m \u001b[0;31m# Compare to marginal frequency of mode\u001b[0m\u001b[0;34m\u001b[0m\u001b[0;34m\u001b[0m\u001b[0;34m\u001b[0m\u001b[0m\n",
      "\u001b[0;31mNameError\u001b[0m: name 'tradelane_mode_xt' is not defined"
     ]
    }
   ],
   "source": [
    "# Convert to relative frequencies, conditioning on tradelane\n",
    "data = tradelane_mode_xt.apply(lambda s: s/tradelane_mode_xt.sum(axis=1))\n",
    "heatmap(data, 'mode', 'tradelane')\n",
    "\n",
    "# Compare to marginal frequency of mode\n",
    "mf_mode = pd.DataFrame(tradelane_mode_xt_marg.T/tradelane_mode_xt.sum().sum())\n",
    "mf_mode.loc[mf_mode.index[:-1],\n",
    "            ['All']].T.style.format(\"{:.0%}\").background_gradient(cmap='cividis', \n",
    "                                                                  axis=1, \n",
    "                                                                  vmin=0, \n",
    "                                                                  vmax=1)"
   ]
  },
  {
   "cell_type": "markdown",
   "metadata": {
    "slideshow": {
     "slide_type": "fragment"
    }
   },
   "source": [
    "But you are all data analysts. You're supposed to measure things and tell us what they mean.\n",
    "\n",
    "**Question**: \n",
    "\n",
    "> How would I go about measuring the extent to which these variables are independent?"
   ]
  },
  {
   "cell_type": "markdown",
   "metadata": {
    "slideshow": {
     "slide_type": "subslide"
    }
   },
   "source": [
    "**Meta Question**: \n",
    "\n",
    "> How does ~Abhi~ someone answer a question they may not be prepared for?"
   ]
  },
  {
   "cell_type": "markdown",
   "metadata": {
    "slideshow": {
     "slide_type": "fragment"
    }
   },
   "source": [
    "**Meta Answer**: \n",
    "\n",
    "> Make something up and talk about it until it starts becoming believable!"
   ]
  },
  {
   "cell_type": "markdown",
   "metadata": {
    "slideshow": {
     "slide_type": "subslide"
    }
   },
   "source": [
    "That being said, back to the original question:\n",
    "\n",
    "> How would I go about measuring the extent to which these variables are independent?"
   ]
  },
  {
   "cell_type": "code",
   "execution_count": 8,
   "metadata": {
    "slideshow": {
     "slide_type": "subslide"
    }
   },
   "outputs": [
    {
     "name": "stdout",
     "output_type": "stream",
     "text": [
      "Observed Frequencies:\n"
     ]
    },
    {
     "ename": "NameError",
     "evalue": "name 'tradelane_mode_xt_marg' is not defined",
     "output_type": "error",
     "traceback": [
      "\u001b[0;31m---------------------------------------------------------------------------\u001b[0m",
      "\u001b[0;31mNameError\u001b[0m                                 Traceback (most recent call last)",
      "\u001b[0;32m<ipython-input-8-bf7bd020fcde>\u001b[0m in \u001b[0;36m<module>\u001b[0;34m\u001b[0m\n\u001b[1;32m      1\u001b[0m \u001b[0;31m# These are the observed frequencies\u001b[0m\u001b[0;34m\u001b[0m\u001b[0;34m\u001b[0m\u001b[0;34m\u001b[0m\u001b[0m\n\u001b[1;32m      2\u001b[0m \u001b[0mprint\u001b[0m\u001b[0;34m(\u001b[0m\u001b[0;34m'Observed Frequencies:'\u001b[0m\u001b[0;34m)\u001b[0m\u001b[0;34m\u001b[0m\u001b[0;34m\u001b[0m\u001b[0m\n\u001b[0;32m----> 3\u001b[0;31m \u001b[0mdisplay\u001b[0m\u001b[0;34m(\u001b[0m\u001b[0mtradelane_mode_xt_marg\u001b[0m\u001b[0;34m.\u001b[0m\u001b[0mstyle\u001b[0m\u001b[0;34m.\u001b[0m\u001b[0mformat\u001b[0m\u001b[0;34m(\u001b[0m\u001b[0;34m\"{:,.0f}\"\u001b[0m\u001b[0;34m)\u001b[0m\u001b[0;34m)\u001b[0m\u001b[0;34m\u001b[0m\u001b[0;34m\u001b[0m\u001b[0m\n\u001b[0m",
      "\u001b[0;31mNameError\u001b[0m: name 'tradelane_mode_xt_marg' is not defined"
     ]
    }
   ],
   "source": [
    "# These are the observed frequencies\n",
    "print('Observed Frequencies:')\n",
    "display(tradelane_mode_xt_marg.style.format(\"{:,.0f}\"))"
   ]
  },
  {
   "cell_type": "markdown",
   "metadata": {
    "slideshow": {
     "slide_type": "fragment"
    }
   },
   "source": [
    "**Question**: \n",
    "\n",
    "> _If_ these two variables were independent, what values would I expect in each cell?"
   ]
  },
  {
   "cell_type": "code",
   "execution_count": 9,
   "metadata": {
    "slideshow": {
     "slide_type": "subslide"
    }
   },
   "outputs": [
    {
     "ename": "NameError",
     "evalue": "name 'tradelane_mode_xt' is not defined",
     "output_type": "error",
     "traceback": [
      "\u001b[0;31m---------------------------------------------------------------------------\u001b[0m",
      "\u001b[0;31mNameError\u001b[0m                                 Traceback (most recent call last)",
      "\u001b[0;32m<ipython-input-9-98c2baf95eb7>\u001b[0m in \u001b[0;36m<module>\u001b[0;34m\u001b[0m\n\u001b[1;32m      4\u001b[0m \u001b[0;31m# Get expected counts and make into dataframe matching our\u001b[0m\u001b[0;34m\u001b[0m\u001b[0;34m\u001b[0m\u001b[0;34m\u001b[0m\u001b[0m\n\u001b[1;32m      5\u001b[0m \u001b[0;31m# previous cross-tab\u001b[0m\u001b[0;34m\u001b[0m\u001b[0;34m\u001b[0m\u001b[0;34m\u001b[0m\u001b[0m\n\u001b[0;32m----> 6\u001b[0;31m \u001b[0mchi2_stat\u001b[0m\u001b[0;34m,\u001b[0m \u001b[0mp_value\u001b[0m\u001b[0;34m,\u001b[0m \u001b[0mdof\u001b[0m\u001b[0;34m,\u001b[0m \u001b[0mexp_counts\u001b[0m \u001b[0;34m=\u001b[0m \u001b[0mchi2_contingency\u001b[0m\u001b[0;34m(\u001b[0m\u001b[0mtradelane_mode_xt\u001b[0m\u001b[0;34m)\u001b[0m\u001b[0;34m\u001b[0m\u001b[0;34m\u001b[0m\u001b[0m\n\u001b[0m\u001b[1;32m      7\u001b[0m \u001b[0mexp_tradelane_mode_xt\u001b[0m \u001b[0;34m=\u001b[0m \u001b[0mpd\u001b[0m\u001b[0;34m.\u001b[0m\u001b[0mDataFrame\u001b[0m\u001b[0;34m(\u001b[0m\u001b[0mexp_counts\u001b[0m\u001b[0;34m)\u001b[0m\u001b[0;34m\u001b[0m\u001b[0;34m\u001b[0m\u001b[0m\n\u001b[1;32m      8\u001b[0m \u001b[0mexp_tradelane_mode_xt\u001b[0m\u001b[0;34m.\u001b[0m\u001b[0mindex\u001b[0m \u001b[0;34m=\u001b[0m \u001b[0mtradelane_mode_xt\u001b[0m\u001b[0;34m.\u001b[0m\u001b[0mindex\u001b[0m\u001b[0;34m\u001b[0m\u001b[0;34m\u001b[0m\u001b[0m\n",
      "\u001b[0;31mNameError\u001b[0m: name 'tradelane_mode_xt' is not defined"
     ]
    }
   ],
   "source": [
    "# Useful function to get expected counts\n",
    "from scipy.stats import chi2_contingency\n",
    "\n",
    "# Get expected counts and make into dataframe matching our\n",
    "# previous cross-tab\n",
    "chi2_stat, p_value, dof, exp_counts = chi2_contingency(tradelane_mode_xt)\n",
    "exp_tradelane_mode_xt = pd.DataFrame(exp_counts)\n",
    "exp_tradelane_mode_xt.index = tradelane_mode_xt.index\n",
    "exp_tradelane_mode_xt.columns = tradelane_mode_xt.columns\n",
    "\n",
    "# Add 'All' total row & column\n",
    "exp_tradelane_mode_xt['All'] = exp_tradelane_mode_xt.sum(axis=1)\n",
    "exp_tradelane_mode_xt = exp_tradelane_mode_xt.append(\n",
    "    exp_tradelane_mode_xt.sum(axis=0).rename('All'))\n",
    "\n",
    "# These are the expected frequencies (if tradelane and mode were independent)\n",
    "print('Expected Frequencies:')\n",
    "exp_tradelane_mode_xt.style.format(\"{:,.0f}\")\n"
   ]
  },
  {
   "cell_type": "markdown",
   "metadata": {
    "slideshow": {
     "slide_type": "subslide"
    }
   },
   "source": [
    "**TODO**: Now, look at the differences between what we _observed_ and what we _expected_ to see."
   ]
  },
  {
   "cell_type": "code",
   "execution_count": 12,
   "metadata": {
    "slideshow": {
     "slide_type": "fragment"
    }
   },
   "outputs": [
    {
     "data": {
      "text/html": [
       "<style  type=\"text/css\" >\n",
       "</style><table id=\"T_6e3a227e_96ca_11ea_a71d_acde48001122\" ><thead>    <tr>        <th class=\"index_name level0\" >mode</th>        <th class=\"col_heading level0 col0\" >Air</th>        <th class=\"col_heading level0 col1\" >Ocean</th>        <th class=\"col_heading level0 col2\" >Truck - Domestic</th>        <th class=\"col_heading level0 col3\" >Truck - International</th>        <th class=\"col_heading level0 col4\" >All</th>    </tr>    <tr>        <th class=\"index_name level0\" >tradelane</th>        <th class=\"blank\" ></th>        <th class=\"blank\" ></th>        <th class=\"blank\" ></th>        <th class=\"blank\" ></th>        <th class=\"blank\" ></th>    </tr></thead><tbody>\n",
       "                <tr>\n",
       "                        <th id=\"T_6e3a227e_96ca_11ea_a71d_acde48001122level0_row0\" class=\"row_heading level0 row0\" >Africa to North America</th>\n",
       "                        <td id=\"T_6e3a227e_96ca_11ea_a71d_acde48001122row0_col0\" class=\"data row0 col0\" >-13</td>\n",
       "                        <td id=\"T_6e3a227e_96ca_11ea_a71d_acde48001122row0_col1\" class=\"data row0 col1\" >17</td>\n",
       "                        <td id=\"T_6e3a227e_96ca_11ea_a71d_acde48001122row0_col2\" class=\"data row0 col2\" >-3</td>\n",
       "                        <td id=\"T_6e3a227e_96ca_11ea_a71d_acde48001122row0_col3\" class=\"data row0 col3\" >-1</td>\n",
       "                        <td id=\"T_6e3a227e_96ca_11ea_a71d_acde48001122row0_col4\" class=\"data row0 col4\" >0</td>\n",
       "            </tr>\n",
       "            <tr>\n",
       "                        <th id=\"T_6e3a227e_96ca_11ea_a71d_acde48001122level0_row1\" class=\"row_heading level0 row1\" >Domestic</th>\n",
       "                        <td id=\"T_6e3a227e_96ca_11ea_a71d_acde48001122row1_col0\" class=\"data row1 col0\" >-1122</td>\n",
       "                        <td id=\"T_6e3a227e_96ca_11ea_a71d_acde48001122row1_col1\" class=\"data row1 col1\" >-3880</td>\n",
       "                        <td id=\"T_6e3a227e_96ca_11ea_a71d_acde48001122row1_col2\" class=\"data row1 col2\" >4986</td>\n",
       "                        <td id=\"T_6e3a227e_96ca_11ea_a71d_acde48001122row1_col3\" class=\"data row1 col3\" >16</td>\n",
       "                        <td id=\"T_6e3a227e_96ca_11ea_a71d_acde48001122row1_col4\" class=\"data row1 col4\" >0</td>\n",
       "            </tr>\n",
       "            <tr>\n",
       "                        <th id=\"T_6e3a227e_96ca_11ea_a71d_acde48001122level0_row2\" class=\"row_heading level0 row2\" >FEEB</th>\n",
       "                        <td id=\"T_6e3a227e_96ca_11ea_a71d_acde48001122row2_col0\" class=\"data row2 col0\" >129</td>\n",
       "                        <td id=\"T_6e3a227e_96ca_11ea_a71d_acde48001122row2_col1\" class=\"data row2 col1\" >-112</td>\n",
       "                        <td id=\"T_6e3a227e_96ca_11ea_a71d_acde48001122row2_col2\" class=\"data row2 col2\" >-15</td>\n",
       "                        <td id=\"T_6e3a227e_96ca_11ea_a71d_acde48001122row2_col3\" class=\"data row2 col3\" >-3</td>\n",
       "                        <td id=\"T_6e3a227e_96ca_11ea_a71d_acde48001122row2_col4\" class=\"data row2 col4\" >0</td>\n",
       "            </tr>\n",
       "            <tr>\n",
       "                        <th id=\"T_6e3a227e_96ca_11ea_a71d_acde48001122level0_row3\" class=\"row_heading level0 row3\" >FEWB</th>\n",
       "                        <td id=\"T_6e3a227e_96ca_11ea_a71d_acde48001122row3_col0\" class=\"data row3 col0\" >576</td>\n",
       "                        <td id=\"T_6e3a227e_96ca_11ea_a71d_acde48001122row3_col1\" class=\"data row3 col1\" >469</td>\n",
       "                        <td id=\"T_6e3a227e_96ca_11ea_a71d_acde48001122row3_col2\" class=\"data row3 col2\" >-908</td>\n",
       "                        <td id=\"T_6e3a227e_96ca_11ea_a71d_acde48001122row3_col3\" class=\"data row3 col3\" >-136</td>\n",
       "                        <td id=\"T_6e3a227e_96ca_11ea_a71d_acde48001122row3_col4\" class=\"data row3 col4\" >0</td>\n",
       "            </tr>\n",
       "            <tr>\n",
       "                        <th id=\"T_6e3a227e_96ca_11ea_a71d_acde48001122level0_row4\" class=\"row_heading level0 row4\" >Latin NB</th>\n",
       "                        <td id=\"T_6e3a227e_96ca_11ea_a71d_acde48001122row4_col0\" class=\"data row4 col0\" >19</td>\n",
       "                        <td id=\"T_6e3a227e_96ca_11ea_a71d_acde48001122row4_col1\" class=\"data row4 col1\" >-998</td>\n",
       "                        <td id=\"T_6e3a227e_96ca_11ea_a71d_acde48001122row4_col2\" class=\"data row4 col2\" >764</td>\n",
       "                        <td id=\"T_6e3a227e_96ca_11ea_a71d_acde48001122row4_col3\" class=\"data row4 col3\" >214</td>\n",
       "                        <td id=\"T_6e3a227e_96ca_11ea_a71d_acde48001122row4_col4\" class=\"data row4 col4\" >-0</td>\n",
       "            </tr>\n",
       "            <tr>\n",
       "                        <th id=\"T_6e3a227e_96ca_11ea_a71d_acde48001122level0_row5\" class=\"row_heading level0 row5\" >NA Export</th>\n",
       "                        <td id=\"T_6e3a227e_96ca_11ea_a71d_acde48001122row5_col0\" class=\"data row5 col0\" >-494</td>\n",
       "                        <td id=\"T_6e3a227e_96ca_11ea_a71d_acde48001122row5_col1\" class=\"data row5 col1\" >601</td>\n",
       "                        <td id=\"T_6e3a227e_96ca_11ea_a71d_acde48001122row5_col2\" class=\"data row5 col2\" >-98</td>\n",
       "                        <td id=\"T_6e3a227e_96ca_11ea_a71d_acde48001122row5_col3\" class=\"data row5 col3\" >-9</td>\n",
       "                        <td id=\"T_6e3a227e_96ca_11ea_a71d_acde48001122row5_col4\" class=\"data row5 col4\" >0</td>\n",
       "            </tr>\n",
       "            <tr>\n",
       "                        <th id=\"T_6e3a227e_96ca_11ea_a71d_acde48001122level0_row6\" class=\"row_heading level0 row6\" >Oceania NB</th>\n",
       "                        <td id=\"T_6e3a227e_96ca_11ea_a71d_acde48001122row6_col0\" class=\"data row6 col0\" >21</td>\n",
       "                        <td id=\"T_6e3a227e_96ca_11ea_a71d_acde48001122row6_col1\" class=\"data row6 col1\" >-16</td>\n",
       "                        <td id=\"T_6e3a227e_96ca_11ea_a71d_acde48001122row6_col2\" class=\"data row6 col2\" >-4</td>\n",
       "                        <td id=\"T_6e3a227e_96ca_11ea_a71d_acde48001122row6_col3\" class=\"data row6 col3\" >-1</td>\n",
       "                        <td id=\"T_6e3a227e_96ca_11ea_a71d_acde48001122row6_col4\" class=\"data row6 col4\" >-0</td>\n",
       "            </tr>\n",
       "            <tr>\n",
       "                        <th id=\"T_6e3a227e_96ca_11ea_a71d_acde48001122level0_row7\" class=\"row_heading level0 row7\" >ROW</th>\n",
       "                        <td id=\"T_6e3a227e_96ca_11ea_a71d_acde48001122row7_col0\" class=\"data row7 col0\" >582</td>\n",
       "                        <td id=\"T_6e3a227e_96ca_11ea_a71d_acde48001122row7_col1\" class=\"data row7 col1\" >-1652</td>\n",
       "                        <td id=\"T_6e3a227e_96ca_11ea_a71d_acde48001122row7_col2\" class=\"data row7 col2\" >329</td>\n",
       "                        <td id=\"T_6e3a227e_96ca_11ea_a71d_acde48001122row7_col3\" class=\"data row7 col3\" >741</td>\n",
       "                        <td id=\"T_6e3a227e_96ca_11ea_a71d_acde48001122row7_col4\" class=\"data row7 col4\" >0</td>\n",
       "            </tr>\n",
       "            <tr>\n",
       "                        <th id=\"T_6e3a227e_96ca_11ea_a71d_acde48001122level0_row8\" class=\"row_heading level0 row8\" >TAEB</th>\n",
       "                        <td id=\"T_6e3a227e_96ca_11ea_a71d_acde48001122row8_col0\" class=\"data row8 col0\" >353</td>\n",
       "                        <td id=\"T_6e3a227e_96ca_11ea_a71d_acde48001122row8_col1\" class=\"data row8 col1\" >-137</td>\n",
       "                        <td id=\"T_6e3a227e_96ca_11ea_a71d_acde48001122row8_col2\" class=\"data row8 col2\" >-184</td>\n",
       "                        <td id=\"T_6e3a227e_96ca_11ea_a71d_acde48001122row8_col3\" class=\"data row8 col3\" >-32</td>\n",
       "                        <td id=\"T_6e3a227e_96ca_11ea_a71d_acde48001122row8_col4\" class=\"data row8 col4\" >0</td>\n",
       "            </tr>\n",
       "            <tr>\n",
       "                        <th id=\"T_6e3a227e_96ca_11ea_a71d_acde48001122level0_row9\" class=\"row_heading level0 row9\" >TAWB</th>\n",
       "                        <td id=\"T_6e3a227e_96ca_11ea_a71d_acde48001122row9_col0\" class=\"data row9 col0\" >486</td>\n",
       "                        <td id=\"T_6e3a227e_96ca_11ea_a71d_acde48001122row9_col1\" class=\"data row9 col1\" >-69</td>\n",
       "                        <td id=\"T_6e3a227e_96ca_11ea_a71d_acde48001122row9_col2\" class=\"data row9 col2\" >-356</td>\n",
       "                        <td id=\"T_6e3a227e_96ca_11ea_a71d_acde48001122row9_col3\" class=\"data row9 col3\" >-62</td>\n",
       "                        <td id=\"T_6e3a227e_96ca_11ea_a71d_acde48001122row9_col4\" class=\"data row9 col4\" >0</td>\n",
       "            </tr>\n",
       "            <tr>\n",
       "                        <th id=\"T_6e3a227e_96ca_11ea_a71d_acde48001122level0_row10\" class=\"row_heading level0 row10\" >TPEB</th>\n",
       "                        <td id=\"T_6e3a227e_96ca_11ea_a71d_acde48001122row10_col0\" class=\"data row10 col0\" >-372</td>\n",
       "                        <td id=\"T_6e3a227e_96ca_11ea_a71d_acde48001122row10_col1\" class=\"data row10 col1\" >5420</td>\n",
       "                        <td id=\"T_6e3a227e_96ca_11ea_a71d_acde48001122row10_col2\" class=\"data row10 col2\" >-4348</td>\n",
       "                        <td id=\"T_6e3a227e_96ca_11ea_a71d_acde48001122row10_col3\" class=\"data row10 col3\" >-699</td>\n",
       "                        <td id=\"T_6e3a227e_96ca_11ea_a71d_acde48001122row10_col4\" class=\"data row10 col4\" >0</td>\n",
       "            </tr>\n",
       "            <tr>\n",
       "                        <th id=\"T_6e3a227e_96ca_11ea_a71d_acde48001122level0_row11\" class=\"row_heading level0 row11\" >TPWB</th>\n",
       "                        <td id=\"T_6e3a227e_96ca_11ea_a71d_acde48001122row11_col0\" class=\"data row11 col0\" >-165</td>\n",
       "                        <td id=\"T_6e3a227e_96ca_11ea_a71d_acde48001122row11_col1\" class=\"data row11 col1\" >356</td>\n",
       "                        <td id=\"T_6e3a227e_96ca_11ea_a71d_acde48001122row11_col2\" class=\"data row11 col2\" >-162</td>\n",
       "                        <td id=\"T_6e3a227e_96ca_11ea_a71d_acde48001122row11_col3\" class=\"data row11 col3\" >-28</td>\n",
       "                        <td id=\"T_6e3a227e_96ca_11ea_a71d_acde48001122row11_col4\" class=\"data row11 col4\" >0</td>\n",
       "            </tr>\n",
       "            <tr>\n",
       "                        <th id=\"T_6e3a227e_96ca_11ea_a71d_acde48001122level0_row12\" class=\"row_heading level0 row12\" >All</th>\n",
       "                        <td id=\"T_6e3a227e_96ca_11ea_a71d_acde48001122row12_col0\" class=\"data row12 col0\" >0</td>\n",
       "                        <td id=\"T_6e3a227e_96ca_11ea_a71d_acde48001122row12_col1\" class=\"data row12 col1\" >0</td>\n",
       "                        <td id=\"T_6e3a227e_96ca_11ea_a71d_acde48001122row12_col2\" class=\"data row12 col2\" >0</td>\n",
       "                        <td id=\"T_6e3a227e_96ca_11ea_a71d_acde48001122row12_col3\" class=\"data row12 col3\" >0</td>\n",
       "                        <td id=\"T_6e3a227e_96ca_11ea_a71d_acde48001122row12_col4\" class=\"data row12 col4\" >0</td>\n",
       "            </tr>\n",
       "    </tbody></table>"
      ],
      "text/plain": [
       "<pandas.io.formats.style.Styler at 0x139fa5210>"
      ]
     },
     "execution_count": 12,
     "metadata": {},
     "output_type": "execute_result"
    }
   ],
   "source": [
    "# TODO: Subtract the expected from the observed frequencies\n",
    "tradelane_mode_xt_diff = tradelane_mode_xt_marg - exp_tradelane_mode_xt\n",
    "tradelane_mode_xt_diff.style.format(\"{:.0f}\")"
   ]
  },
  {
   "cell_type": "markdown",
   "metadata": {
    "slideshow": {
     "slide_type": "subslide"
    }
   },
   "source": [
    "**Question**: \n",
    "\n",
    "> The errors are positive and negative. How can we generalize this _algorithm_ so the metric it produces is consistent?"
   ]
  },
  {
   "cell_type": "markdown",
   "metadata": {
    "slideshow": {
     "slide_type": "fragment"
    }
   },
   "source": [
    "**Answer**: \n",
    "\n",
    "> Let's square the differences!\n",
    ">\n",
    "> $$\n",
    " (O_{i,j}-E_{i,j})^2\n",
    " $$"
   ]
  },
  {
   "cell_type": "markdown",
   "metadata": {
    "slideshow": {
     "slide_type": "subslide"
    }
   },
   "source": [
    "**Question**: \n",
    "\n",
    "> But how do we deal with the absolute magnitude of these numbers? \n",
    "\n",
    "(We wouldn't want our metric to be bigger just because we have more counts of stuff.)"
   ]
  },
  {
   "cell_type": "markdown",
   "metadata": {
    "slideshow": {
     "slide_type": "fragment"
    }
   },
   "source": [
    "**Answer**: \n",
    "\n",
    "> We can normalize by the expected count in each cell!\n",
    "> \n",
    "> $$\n",
    "\\frac{(O_{i,j}-E_{i,j})^2}{E_{i,j}}\n",
    "$$"
   ]
  },
  {
   "cell_type": "markdown",
   "metadata": {
    "slideshow": {
     "slide_type": "subslide"
    }
   },
   "source": [
    "Great! So now we have the difference between observed and expected -- our _error_. \n",
    "\n",
    "But there are lots of numbers here, one for each cell, in fact.\n",
    "\n",
    "**Question**: \n",
    "\n",
    "> How can we summarize this in one number?"
   ]
  },
  {
   "cell_type": "markdown",
   "metadata": {
    "slideshow": {
     "slide_type": "fragment"
    }
   },
   "source": [
    "**Answer**: \n",
    "\n",
    "> Let's just add it all up!\n",
    "> \n",
    "> $$\n",
    "\\sum_{i,j}^{}\\frac{(O_{i,j}-E_{i,j})^2}{E_{i,j}}\n",
    "$$"
   ]
  },
  {
   "cell_type": "markdown",
   "metadata": {
    "slideshow": {
     "slide_type": "subslide"
    }
   },
   "source": [
    "Let's call our newly concocted metric something: how about the \"$\\chi^{2}$ statistic\"?\n",
    "\n",
    "**TODO**: Implement this statistic. "
   ]
  },
  {
   "cell_type": "code",
   "execution_count": 13,
   "metadata": {
    "slideshow": {
     "slide_type": "fragment"
    }
   },
   "outputs": [
    {
     "name": "stdout",
     "output_type": "stream",
     "text": [
      "Our Chi-Square statistic:            172597.65\n",
      "SciPy's Chi-Square statistic:        172597.65\n"
     ]
    }
   ],
   "source": [
    "# TODO: Implement our metric so it matches the out-of-box calculation\n",
    "our_chi2 = (tradelane_mode_xt_diff**2).div(exp_tradelane_mode_xt).sum().sum()\n",
    "\n",
    "print(f\"Our Chi-Square statistic: {our_chi2:>20.2f}\")\n",
    "print(f\"SciPy's Chi-Square statistic: {chi2_stat:>16.2f}\")\n"
   ]
  },
  {
   "cell_type": "markdown",
   "metadata": {
    "slideshow": {
     "slide_type": "subslide"
    }
   },
   "source": [
    "![Nice](https://media.giphy.com/media/8xgqLTTgWqHWU/giphy.gif)\n",
    "\n",
    "Nice. We just invented some math that's somewhat legit."
   ]
  },
  {
   "cell_type": "markdown",
   "metadata": {
    "slideshow": {
     "slide_type": "fragment"
    }
   },
   "source": [
    "Look familiar? This was in the prompt of the last question on the diagnostic quiz re: interpreting $p$-values)!"
   ]
  },
  {
   "cell_type": "markdown",
   "metadata": {
    "slideshow": {
     "slide_type": "subslide"
    }
   },
   "source": [
    "Later, once we have the fundamentals down, we'll get to statistical hypothesis testing. But let's look at the $p$-value for our test statistic here:"
   ]
  },
  {
   "cell_type": "code",
   "execution_count": 14,
   "metadata": {},
   "outputs": [
    {
     "data": {
      "text/plain": [
       "33"
      ]
     },
     "metadata": {},
     "output_type": "display_data"
    },
    {
     "data": {
      "text/plain": [
       "0.0"
      ]
     },
     "metadata": {},
     "output_type": "display_data"
    }
   ],
   "source": [
    "display(dof)\n",
    "display(p_value)"
   ]
  },
  {
   "cell_type": "markdown",
   "metadata": {
    "slideshow": {
     "slide_type": "subslide"
    }
   },
   "source": [
    "As we will explore much later (we should work to get the fundamentals down first), **the $p$-value is a _conditional_ probability itself**!\n",
    "\n",
    "**Question**: \n",
    "\n",
    "> Under what condition is the $p$-value?"
   ]
  },
  {
   "cell_type": "markdown",
   "metadata": {
    "slideshow": {
     "slide_type": "fragment"
    }
   },
   "source": [
    "<img src=\"https://upload.wikimedia.org/wikipedia/commons/thumb/3/3a/P-value_in_statistical_significance_testing.svg/1024px-P-value_in_statistical_significance_testing.svg.png\" width=500/>"
   ]
  },
  {
   "cell_type": "markdown",
   "metadata": {
    "slideshow": {
     "slide_type": "slide"
    }
   },
   "source": [
    "## Combining Events 🌗 🌓 🌕\n",
    "\n",
    "An **event** is just a subset of the **sample space**. So when we _union_ or _intersect_ events, we're just doing normal set operations."
   ]
  },
  {
   "cell_type": "markdown",
   "metadata": {
    "slideshow": {
     "slide_type": "subslide"
    }
   },
   "source": [
    "### Intersection of Events $\\cap$\n",
    "\n",
    "$$\n",
    "P(A \\cap B) = P(B)P(A|B) = P(A)P(B|A)\n",
    "$$\n",
    "\n",
    "Why is this true?\n",
    "\n",
    "![Conditional Probability in \"Pebble World\"](./pebble_world_conditioning.png)"
   ]
  },
  {
   "cell_type": "markdown",
   "metadata": {
    "slideshow": {
     "slide_type": "subslide"
    }
   },
   "source": [
    "### Union of Disjoint Events\n",
    "\n",
    "When events are *disjoint*, taking their union is straightforward since there is no overlap in events. All we do is sum up the disjoint events (like we did with the shipments-tradelane problem last time). \n",
    "\n",
    "![Third Axiom of Probability](https://wikimedia.org/api/rest_v1/media/math/render/svg/47f22fe03df467b1d20785e5026bac39fabd9edc)\n",
    "\n",
    "In fact, this is one of the [Axioms of Probability](https://en.wikipedia.org/wiki/Probability_axioms)!\n",
    "\n",
    "...but things get trickier when events do overlap (read: intersect)!"
   ]
  },
  {
   "cell_type": "markdown",
   "metadata": {
    "slideshow": {
     "slide_type": "subslide"
    }
   },
   "source": [
    "### Union of Events $\\cup$\n",
    "\n",
    "**Question**\n",
    "\n",
    "> So, what do we do when events overlap?\n",
    "\n",
    "![2 overlapping events](https://www.probabilitycourse.com/images/chapter1/union_b.png)\n",
    "\n",
    "<img src=\"https://www.conceptdraw.com/How-To-Guide/picture/3-circle-venn.png\" width=700 />"
   ]
  },
  {
   "cell_type": "markdown",
   "metadata": {
    "slideshow": {
     "slide_type": "subslide"
    }
   },
   "source": [
    "**Answer**: \n",
    "\n",
    "> Principle of Inclusion-Exclusion\n",
    ">\n",
    ">![PIE](https://wikimedia.org/api/rest_v1/media/math/render/svg/c14e130250afb7484a5162c7fc76fab425397279)\n",
    "\n",
    "This isn't as crazy as it looks. Sit and think about what it's doing: try some simple examples, try to explain it to a roommate, or even write some Python if you have to!"
   ]
  },
  {
   "cell_type": "markdown",
   "metadata": {
    "slideshow": {
     "slide_type": "slide"
    }
   },
   "source": [
    "**Homework**:\n",
    "\n",
    "> Let's say SF Flexporters return to a post-COVID working arrangement wherein each of the 20 DAs are \"buddied up\" with one other DA. Effectively, there are two shifts: a Monday shift (10 DAs) and a Friday shift consisting of the other 10 DAs (i.e., the buddies of those in the first shift). \n",
    ">\n",
    "> Assume that seating is random and independent (i.e., no coordination of seats between buddies or among those in a shift) -- people just show up and sit somewhere.\n",
    ">\n",
    "> **What's the probability that no one in the Friday shift is sitting in the same seat as their \\[Monday shift\\] buddy?**\n",
    "\n",
    "(Remember, you have a computer. Try to simulate this if the analytical solution isn't coming to you. **Work together!**)"
   ]
  },
  {
   "cell_type": "markdown",
   "metadata": {
    "slideshow": {
     "slide_type": "slide"
    }
   },
   "source": [
    "## Independence ⫫\n",
    "\n",
    "Now we can introduce, more formally, what **independence** means among events. Later we'll extend this notion to random variables."
   ]
  },
  {
   "cell_type": "markdown",
   "metadata": {
    "slideshow": {
     "slide_type": "subslide"
    }
   },
   "source": [
    "### Definition of Independence\n",
    "\n",
    "<br>\n",
    "\n",
    "$A$ and $B$ are **independent** of one another if and only if $P(A \\cap B) = P(A)P(B)$. (Sometimes this is written as $P(A,B) = P(A)P(B)$.)"
   ]
  },
  {
   "cell_type": "markdown",
   "metadata": {
    "slideshow": {
     "slide_type": "fragment"
    }
   },
   "source": [
    "Said another way, $A$ and $B$ are **independent** of one another if and only if $P(A\\,|\\,B) = P(A)$, which is equivalent to $P(B\\,|\\,A) = P(B)$."
   ]
  },
  {
   "cell_type": "markdown",
   "metadata": {
    "slideshow": {
     "slide_type": "fragment"
    }
   },
   "source": [
    "In plain-speak, this just says that having information about one event occurring (or not*) doesn't change the probability of the other event."
   ]
  },
  {
   "cell_type": "markdown",
   "metadata": {
    "slideshow": {
     "slide_type": "subslide"
    }
   },
   "source": [
    "<div>\n",
    "<img src=\"https://courses.cs.cornell.edu/cs2800/wiki/images/thumb/3/3b/Conditional-probability.svg/445px-Conditional-probability.svg.png\" width=\"800\"/>\n",
    "</div>\n",
    "\n",
    "<br>\n",
    "\n",
    "As mentioned before, **conditioning just re-normalizes our set of possible outcomes given new information**. This provides the basis for translating between unconditional probabilities and conditional probabilities.\n"
   ]
  },
  {
   "cell_type": "markdown",
   "metadata": {
    "slideshow": {
     "slide_type": "slide"
    }
   },
   "source": [
    "Going back to our diagnostic quiz question about ocean and air shipments, we can use this formalization to calculate the probabilities of each scenario directly:"
   ]
  },
  {
   "cell_type": "markdown",
   "metadata": {
    "slideshow": {
     "slide_type": "fragment"
    }
   },
   "source": [
    "_Scenario A_\n",
    "\n",
    "$$\n",
    "\\begin{align}\n",
    "P(\\text{both shipments are air}\\,|\\,\\text{at least one shipment is air}) &= \\\\\n",
    "\\frac{P(\\text{both shipments are air} \\cap \\text{at least one shipment is air})}{P(\\text{at least one shipment is air})} &= \\frac{P(\\text{both shipments are air})}{P(\\text{at least one shipment is air})} \\\\\n",
    "&= \\frac{\\frac{1}{4}}{\\frac{3}{4}} \\\\\n",
    "&= \\frac{1}{3}\n",
    "\\end{align}\n",
    "$$"
   ]
  },
  {
   "cell_type": "markdown",
   "metadata": {
    "slideshow": {
     "slide_type": "fragment"
    }
   },
   "source": [
    "_Scenario B_\n",
    "\n",
    "$$\n",
    "\\begin{align}\n",
    "P(\\text{both shipments are air}\\,|\\,\\text{the second shipment is air}) &=\\\\ \n",
    "\\frac{P(\\text{both shipments are air} \\cap \\text{the second shipment is air})}{P(\\text{the second shipment is air})} &= \\frac{P(\\text{both shipments are air})}{P(\\text{the second shipment is air})} \\\\\n",
    "&= \\frac{\\frac{1}{4}}{\\frac{1}{2}} \\\\\n",
    "&= \\frac{1}{2}\n",
    "\\end{align}\n",
    "$$"
   ]
  },
  {
   "cell_type": "markdown",
   "metadata": {
    "slideshow": {
     "slide_type": "subslide"
    }
   },
   "source": [
    "So, are the events in the two scenarios here independent?\n",
    "\n",
    "**Questions**:\n",
    "\n",
    "> Is the event \"both shipments are air\" independent of \"at least one shipment is air\"?\n",
    "\n",
    "> Is the event \"both shipments are air\" independent of \"the second shipment is air\"?\n"
   ]
  },
  {
   "cell_type": "markdown",
   "metadata": {
    "slideshow": {
     "slide_type": "fragment"
    }
   },
   "source": [
    "**Answers**:\n",
    "\n",
    "> No. The events in the first scenario are NOT independent, nor are the events in the second scenario."
   ]
  },
  {
   "cell_type": "markdown",
   "metadata": {
    "slideshow": {
     "slide_type": "subslide"
    }
   },
   "source": [
    "**Homework**:\n",
    "\n",
    "> \\* Prove that $P(A, B) = P(A)P(B) \\implies P(A\\,|\\,B^c) = P(A)$. \n",
    "\n",
    "In plain-speak, I'm asking you to prove that if an event is indepedent of another event having occurring, it is also indepedent of the other event not occurring.\n",
    "\n",
    "Intuitively, it should make sense that if two things are independent, whether one of them happens _or not_ shouldn't affect the other, vice versa.\n",
    "\n",
    "(Hint: Use what you already know about complements.)\n"
   ]
  },
  {
   "cell_type": "markdown",
   "metadata": {
    "slideshow": {
     "slide_type": "slide"
    }
   },
   "source": [
    "## The Law of Total Probability 📜\n",
    "\n",
    "Now we need connect conditional and unconditional probabilities. We do this with **the Law of Total Probability** (LOTP). \n",
    "\n",
    "<br>\n",
    "\n",
    "Once we understand this, we will have all the required tools to prove the all-important identity: **Bayes' Theorem**, which we'll leave for next time. \n",
    "\n",
    "<br>\n",
    "\n",
    "You'll also have the tools to deal with conditioning on multiple events/pieces of information since the concepts translate generally.\n",
    "\n"
   ]
  },
  {
   "cell_type": "markdown",
   "metadata": {
    "slideshow": {
     "slide_type": "subslide"
    }
   },
   "source": [
    "**The Law of Total Probability** is an incredibly useful problem solving tool. Formally stated, it says:\n",
    "\n",
    "$$\n",
    "\\text{If }A_i,...,A_n \\text{ is a partition of the sample space }S \\text{, then }P(B) = \\sum_{i=1}^{n}{P(B|A_i)P(A_i)}.\n",
    "$$"
   ]
  },
  {
   "cell_type": "markdown",
   "metadata": {
    "slideshow": {
     "slide_type": "fragment"
    }
   },
   "source": [
    "But this is likely better illustrated with a picture:\n",
    "\n",
    "![Partition of B by A](./LOTP.png)"
   ]
  },
  {
   "cell_type": "markdown",
   "metadata": {
    "slideshow": {
     "slide_type": "slide"
    }
   },
   "source": [
    "Okay, your turn to practice!\n",
    "\n",
    "**Question**: \n",
    "\n",
    "> What's $P(\\text{TPEB})$. \n",
    "\n",
    "Partition the data and use LOTP so you can calculate it. Check against the data directly."
   ]
  },
  {
   "cell_type": "code",
   "execution_count": 15,
   "metadata": {
    "slideshow": {
     "slide_type": "subslide"
    }
   },
   "outputs": [
    {
     "name": "stdout",
     "output_type": "stream",
     "text": [
      "Our Answer: 66.01784%\n",
      "Expected Answer: 66.01784%\n"
     ]
    }
   ],
   "source": [
    "## TODO: Demonstrate LOTP on our data; start with tradelane_mode_xt\n",
    "\n",
    "# This is the denominator to convert cardinality of sets to probabilities\n",
    "# (per the naïve Definition of Probability)\n",
    "S = tradelane_mode_xt.sum().sum()\n",
    "\n",
    "# Show that p_TPEB_by_LTOP == p_TPEB\n",
    "p_TPEB = tradelane_mode_xt.loc['TPEB',:].sum()/S\n",
    "\n",
    "p_Air = tradelane_mode_xt.loc[:,'Air'].sum()/S\n",
    "\n",
    "p_not_Air = 1 - p_Air\n",
    "\n",
    "p_TPEB_given_Air = (tradelane_mode_xt.loc['TPEB', \n",
    "                                         'Air'\n",
    "                            ].sum()/S) / p_Air\n",
    "\n",
    "p_TPEB_given_not_Air = (tradelane_mode_xt.loc['TPEB', \n",
    "                                             tradelane_mode_xt.columns != 'Air'\n",
    "                            ].sum()/S) / p_not_Air\n",
    "\n",
    "\n",
    "p_TPEB_by_LOTP = (p_TPEB_given_Air * p_Air) + (p_TPEB_given_not_Air * p_not_Air)\n",
    "\n",
    "# Check if our answer is right   \n",
    "print(f\"Our Answer: {p_TPEB_by_LOTP:.5%}\")\n",
    "print(f\"Expected Answer: {p_TPEB:.5%}\")"
   ]
  },
  {
   "cell_type": "markdown",
   "metadata": {
    "slideshow": {
     "slide_type": "slide"
    }
   },
   "source": [
    "**Homework**: \n",
    "\n",
    "> How would I get $P(\\text{Ocean} \\cup \\text{Truck - Domestic}\\,|\\,\\text{TAWB}\\cup\\text{Latin NB})$? \n",
    "\n",
    "> What can you say when you compare this with the unconditional probability, $P(\\text{Ocean} \\cup \\text{Truck - Domestic})$?\n",
    "\n",
    "> Is this the same thing as $P(\\text{TAWB}\\cup\\text{Latin NB}\\,|\\,\\text{Ocean} \\cup \\text{Truck - Domestic})$? Why or why not?\n",
    "\n",
    "Oh, yeah...**work together**!"
   ]
  },
  {
   "cell_type": "code",
   "execution_count": 16,
   "metadata": {
    "slideshow": {
     "slide_type": "skip"
    }
   },
   "outputs": [
    {
     "name": "stdout",
     "output_type": "stream",
     "text": [
      "P(Ocean or Truck - Domestic | TAWB or Latin NB) = 73.49%\n",
      "P(Ocean or Truck - Domestic) = 78.43%\n"
     ]
    }
   ],
   "source": [
    "## TODO: P(Ocean or Truck - Domestic | TAWB or Latin NB) = ?\n",
    "# Not that its necessarily useful, but notice the unions are of \n",
    "# disjoint events (a shipment cannot be TAWB and Latin NB)\n",
    "\n",
    "# Let A = Ocean or Truck - Domestic\n",
    "# P(A)\n",
    "p_A = tradelane_mode_xt.loc[:,['Ocean', 'Truck - Domestic']].sum().sum() / S\n",
    "\n",
    "# Let B = TAWB or Latin NB\n",
    "# P(B)\n",
    "p_B = tradelane_mode_xt.loc[[\"TAWB\", \"Latin NB\"]].sum().sum() / S\n",
    "\n",
    "# P(A, B)\n",
    "p_A_and_B = tradelane_mode_xt.loc[[\"TAWB\", \"Latin NB\"],\n",
    "                                  ['Ocean', 'Truck - Domestic']].sum().sum() / S\n",
    "\n",
    "print(f\"P(Ocean or Truck - Domestic | TAWB or Latin NB) = {p_A_and_B/p_B:.2%}\")\n",
    "print(f\"P(Ocean or Truck - Domestic) = {p_A:.2%}\")"
   ]
  }
 ],
 "metadata": {
  "celltoolbar": "Slideshow",
  "kernelspec": {
   "display_name": "Python 3",
   "language": "python",
   "name": "python3"
  },
  "language_info": {
   "codemirror_mode": {
    "name": "ipython",
    "version": 3
   },
   "file_extension": ".py",
   "mimetype": "text/x-python",
   "name": "python",
   "nbconvert_exporter": "python",
   "pygments_lexer": "ipython3",
   "version": "3.7.7"
  },
  "rise": {
   "enable_chalkboard": true,
   "scroll": true
  }
 },
 "nbformat": 4,
 "nbformat_minor": 4
}
