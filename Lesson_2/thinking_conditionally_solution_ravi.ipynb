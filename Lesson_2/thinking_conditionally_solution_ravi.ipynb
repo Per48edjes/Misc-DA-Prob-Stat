{
 "cells": [
  {
   "cell_type": "markdown",
   "metadata": {
    "slideshow": {
     "slide_type": "slide"
    }
   },
   "source": [
    "# Thinking Conditionally: Tradelanes and Modes\n",
    "DA Probability & Statistics Learning Series • Lesson 2\n",
    "\n",
    "<img src=\"https://imgs.xkcd.com/comics/conditionals.png\" align=\"center\"/>\n",
    "\n",
    "Welcome, again!\n",
    "\n",
    "*See **#da_prob_stat** for discussion during and after this tutorial.*\n"
   ]
  },
  {
   "cell_type": "markdown",
   "metadata": {
    "slideshow": {
     "slide_type": "slide"
    }
   },
   "source": [
    "## Goals\n",
    "\n",
    "**You**: Develop an intuition around conditional vs. unconditional probabilities\n",
    "<br>\n",
    "**You**: Invent some math to answer questions. Sorta feel badass about it.\n",
    "<br>\n",
    "**You**: Understand independence of events.\n",
    "<br>\n",
    "**You**: Get feet wet regarding the Law of Total Probability (LOTP).\n",
    "\n",
    "\n",
    "---\n",
    "\n",
    "\n",
    "**Me**: Do a better job of managing time!\n",
    "<br>\n",
    "**Me**: Take more time to explain code.\n",
    "<br>\n",
    "**Me**: Be explicit about what's to be done now vs. later for homework.\n",
    "<br>\n",
    "**Me**: Cold call more! 😈\n"
   ]
  },
  {
   "cell_type": "markdown",
   "metadata": {
    "slideshow": {
     "slide_type": "slide"
    }
   },
   "source": [
    "Let's get started by bringing in the stuff we're going to need for this lesson."
   ]
  },
  {
   "cell_type": "code",
   "execution_count": 1,
   "metadata": {
    "slideshow": {
     "slide_type": "skip"
    }
   },
   "outputs": [
    {
     "data": {
      "text/html": [
       "<style>pre { white-space: pre !important; }</style>"
      ],
      "text/plain": [
       "<IPython.core.display.HTML object>"
      ]
     },
     "metadata": {},
     "output_type": "display_data"
    }
   ],
   "source": [
    "from IPython.core.display import HTML\n",
    "display(HTML(\"<style>pre { white-space: pre !important; }</style>\"))"
   ]
  },
  {
   "cell_type": "code",
   "execution_count": 2,
   "metadata": {
    "slideshow": {
     "slide_type": "fragment"
    }
   },
   "outputs": [],
   "source": [
    "# Import dependencies \n",
    "from custom.db_utils import get_connection\n",
    "import pandas as pd\n",
    "\n",
    "# Object typing\n",
    "from typing import TypeVar\n",
    "PandasSeries = TypeVar('pd.core.series.Series')\n",
    "PandasDataFrame = TypeVar('pd.core.frame.DataFrame')\n",
    "\n",
    "# Data viz\n",
    "import matplotlib.pyplot as plt\n",
    "from matplotlib.ticker import PercentFormatter\n",
    "import seaborn as sns"
   ]
  },
  {
   "cell_type": "code",
   "execution_count": 3,
   "metadata": {
    "slideshow": {
     "slide_type": "subslide"
    }
   },
   "outputs": [
    {
     "name": "stdout",
     "output_type": "stream",
     "text": [
      "Initiating login request with your identity provider. A browser window should have opened for you to complete the login. If you can't see it, check existing browser windows, or your OS settings. Press CTRL+C to abort and try again...\n"
     ]
    },
    {
     "data": {
      "text/html": [
       "<div>\n",
       "<style scoped>\n",
       "    .dataframe tbody tr th:only-of-type {\n",
       "        vertical-align: middle;\n",
       "    }\n",
       "\n",
       "    .dataframe tbody tr th {\n",
       "        vertical-align: top;\n",
       "    }\n",
       "\n",
       "    .dataframe thead th {\n",
       "        text-align: right;\n",
       "    }\n",
       "</style>\n",
       "<table border=\"1\" class=\"dataframe\">\n",
       "  <thead>\n",
       "    <tr style=\"text-align: right;\">\n",
       "      <th></th>\n",
       "      <th>shipment_id</th>\n",
       "      <th>accepted_quote_at</th>\n",
       "      <th>tradelane</th>\n",
       "      <th>mode</th>\n",
       "    </tr>\n",
       "  </thead>\n",
       "  <tbody>\n",
       "    <tr>\n",
       "      <th>4839</th>\n",
       "      <td>488806</td>\n",
       "      <td>2019-02-08 00:00:00+00:00</td>\n",
       "      <td>FEWB</td>\n",
       "      <td>Ocean</td>\n",
       "    </tr>\n",
       "    <tr>\n",
       "      <th>69881</th>\n",
       "      <td>546472</td>\n",
       "      <td>2019-06-11 00:00:00+00:00</td>\n",
       "      <td>TPEB</td>\n",
       "      <td>Ocean</td>\n",
       "    </tr>\n",
       "    <tr>\n",
       "      <th>156246</th>\n",
       "      <td>617755</td>\n",
       "      <td>2019-09-12 00:00:00+00:00</td>\n",
       "      <td>TAWB</td>\n",
       "      <td>Ocean</td>\n",
       "    </tr>\n",
       "  </tbody>\n",
       "</table>\n",
       "</div>"
      ],
      "text/plain": [
       "        shipment_id         accepted_quote_at tradelane   mode\n",
       "4839         488806 2019-02-08 00:00:00+00:00      FEWB  Ocean\n",
       "69881        546472 2019-06-11 00:00:00+00:00      TPEB  Ocean\n",
       "156246       617755 2019-09-12 00:00:00+00:00      TAWB  Ocean"
      ]
     },
     "execution_count": 3,
     "metadata": {},
     "output_type": "execute_result"
    }
   ],
   "source": [
    "# Get the database connection and cursor objects\n",
    "conn, cur = get_connection()\n",
    "\n",
    "# Use a context manager to open and close connection and files\n",
    "with conn:\n",
    "    \n",
    "    # Open the query.sql file\n",
    "    with open('query.sql', 'r') as q:\n",
    "\n",
    "        # Save contents of query.sql as string\n",
    "        query_str = q.read()\n",
    "    \n",
    "    # Use the read_sql method to get the data from Snowflake into a \n",
    "    # Pandas dataframe\n",
    "    df = pd.read_sql(query_str, conn)\n",
    "    \n",
    "    # Make all the columns lowercase\n",
    "    df.columns = map(str.lower, df.columns)\n",
    "\n",
    "# Preview the data\n",
    "df.sample(3)"
   ]
  },
  {
   "cell_type": "markdown",
   "metadata": {
    "slideshow": {
     "slide_type": "slide"
    }
   },
   "source": [
    "## Motivating Question 🤔\n",
    "\n",
    "> Are shipments' tradelanes and modes independent of one another?"
   ]
  },
  {
   "cell_type": "markdown",
   "metadata": {
    "slideshow": {
     "slide_type": "slide"
    }
   },
   "source": [
    "\n",
    "## Quick Review ⏪\n",
    "\n",
    "We've already seen how to use counting and the naïve definition of probability to calculate the probability of events in a discrete setting.\n",
    "\n",
    "To calculate the $P(A)$, the probability of some event $A$ occurring, we just need to count the number of **outcomes** in **event** $A$ and divide this by the total number of outcomes found in the **sample space**, $S$."
   ]
  },
  {
   "cell_type": "markdown",
   "metadata": {
    "slideshow": {
     "slide_type": "slide"
    }
   },
   "source": [
    "### Conditional Probability\n",
    "\n",
    "Let's start with a pretty straightforward example taken from the diagnostic quiz awhile back.\n",
    "\n",
    "**Question**:\n",
    "\n",
    "> Imagine a client makes exactly two shipments. Assume that for this client, any given shipment is transported either via ocean (event O) or by air (event A) with equal probability (i.e., P(O) = P(A) = 0.5) and that the choice of transportation for one shipment is independent of that of another.\n",
    ">\n",
    "> **Which of the following scenarios is more probable?**\n",
    "\n",
    "\n",
    "A. Both shipments are air if we know at least one shipment is air.\n",
    "<br>\n",
    "B. Both shipments are air if we know the second shipment is air.\n",
    "<br>\n",
    "C. Both scenarios are equally probable.\n",
    "<br>"
   ]
  },
  {
   "cell_type": "markdown",
   "metadata": {
    "slideshow": {
     "slide_type": "slide"
    }
   },
   "source": [
    "**Answer**: \n",
    "\n",
    "> B. Both shipments are air if we know the second shipment is air."
   ]
  },
  {
   "cell_type": "markdown",
   "metadata": {
    "slideshow": {
     "slide_type": "slide"
    }
   },
   "source": [
    "Remember \"pebble world\" from last time?"
   ]
  },
  {
   "cell_type": "markdown",
   "metadata": {
    "slideshow": {
     "slide_type": "-"
    }
   },
   "source": [
    "We know that each outcome (\"pebble\") is equally likely (\"weighs the same\"). Now all we have to do is consider how each event differs.\n",
    "\n",
    "![Quiz Question Sample Space](quiz_question_sample_space.png)"
   ]
  },
  {
   "cell_type": "markdown",
   "metadata": {
    "slideshow": {
     "slide_type": "fragment"
    }
   },
   "source": [
    "- The <font color='orange'>orange box</font> is the **event** that _at least one shipment is air_.\n",
    "- The <font color='red'>red box</font> is the **event** that _the second shipment is air_. \n",
    "- The <font color='teal'>teal oval</font> is the **event** that _both shipments are air_. (Note, that this event only consists of one **outcome**.)"
   ]
  },
  {
   "cell_type": "markdown",
   "metadata": {
    "slideshow": {
     "slide_type": "fragment"
    }
   },
   "source": [
    "If we formalize this using the notation we learned last time and the naïve definition of probability, we have:\n",
    "\n",
    "$$\n",
    "\\begin{align}\n",
    "P(\\text{at least one shipment is air}) &= \\frac{3}{4}\\\\\n",
    "P(\\text{the second shipment is air}) &= \\frac{1}{2}\n",
    "\\end{align}\n",
    "$$"
   ]
  },
  {
   "cell_type": "markdown",
   "metadata": {
    "slideshow": {
     "slide_type": "slide"
    }
   },
   "source": [
    "When we **condition** on evidence or information or what we observe, we need to update our probabilities to incorporate what we've learned. \n",
    "\n",
    "Said another way, we need to **adjust our our sample space (i.e., the denominator of the probability fraction) to include only the events (or outcomes) that meet the condition**."
   ]
  },
  {
   "cell_type": "markdown",
   "metadata": {
    "slideshow": {
     "slide_type": "subslide"
    }
   },
   "source": [
    "The way we notationally represent this is by using a \"|\" to separate what we want to know (an event or events) from what we are conditioning on (another event or events). For this problem, the answer choices expressed in this notation are:"
   ]
  },
  {
   "cell_type": "markdown",
   "metadata": {
    "slideshow": {
     "slide_type": "fragment"
    }
   },
   "source": [
    "A. $P(\\text{both air shipments}\\,|\\,\\text{at least one shipment is air})$<br>\n",
    "B. $P(\\text{both air shipments}\\,|\\,\\text{the second shipment is air})$<br>"
   ]
  },
  {
   "cell_type": "markdown",
   "metadata": {
    "slideshow": {
     "slide_type": "subslide"
    }
   },
   "source": [
    "How do we take the information we have from what we know (unconditionally) and use it to get these conditional probabilities?"
   ]
  },
  {
   "cell_type": "markdown",
   "metadata": {
    "slideshow": {
     "slide_type": "fragment"
    }
   },
   "source": [
    "...by redefining what we consider \"possible\" outcomes!"
   ]
  },
  {
   "cell_type": "markdown",
   "metadata": {
    "slideshow": {
     "slide_type": "subslide"
    }
   },
   "source": [
    "Let's tackle $P(\\text{both air shipments}\\,|\\,\\text{at least one shipment is air})$. We are **conditioning** on the event that *at least one shipment is air*, so let's update what we consider possible outcomes under this condition:\n",
    "\n",
    "![Quiz Question Choice A](quiz_question_choice_A.png)"
   ]
  },
  {
   "cell_type": "markdown",
   "metadata": {
    "slideshow": {
     "slide_type": "fragment"
    }
   },
   "source": [
    "Then it becomes immediately obvious that $P(\\text{both air shipments}\\,|\\,\\text{at least one shipment is air}) = \\frac{1}{3}$.\n",
    "\n",
    "Similarly, $P(\\text{both air shipments}\\,|\\,\\text{the second shipment is air}) = \\frac{1}{2}$.\n",
    "\n",
    "![Quiz Question Choice B](quiz_question_choice_B.png)"
   ]
  },
  {
   "cell_type": "markdown",
   "metadata": {
    "slideshow": {
     "slide_type": "subslide"
    }
   },
   "source": [
    "From here, we can see that knowing more information about which shipment was air increases our belief that both shipments are air:\n",
    "\n",
    "- **Unconditionally**, we assigned a 25% probability that both shipments were air, $P(\\text{both shipments are air}) = \\frac{1}{4}$.<br>\n",
    "- If we knew that *at least one shipment was air*, we could update our priors and **condition on this information**, leading us to increase our belief to 33% that both shipments were air: $P(\\text{both shipments are air}\\,|\\,\\text{at least one shipment is air}) = \\frac{1}{3}$.<br>\n",
    "- If we knew that *the second shipment in particular was air*, we can **update our priors even more**, which leads to a stronger belief of 50% that both shipments were air: $P(\\text{both shipments are air}\\,|\\,\\text{the second shipment is air}) = \\frac{1}{2}$.\n",
    "\n",
    "A _Bayesian_ statistician would say that we've **updated our prior beliefs** (i.e., our *priors*)."
   ]
  },
  {
   "cell_type": "markdown",
   "metadata": {
    "slideshow": {
     "slide_type": "slide"
    }
   },
   "source": [
    "## Warm-up 💻\n",
    "\n",
    "We're going to try our hand at determining the independence of events using simple data visualizations and a little logic. If we're lucky we'll have stumbled upon our first test statistic.\n",
    "\n",
    "**TODO**: Explore the data a little. Try to illustrate the relationship between tradelane and mode."
   ]
  },
  {
   "cell_type": "code",
   "execution_count": 4,
   "metadata": {
    "slideshow": {
     "slide_type": "subslide"
    }
   },
   "outputs": [
    {
     "data": {
      "text/html": [
       "<div>\n",
       "<style scoped>\n",
       "    .dataframe tbody tr th:only-of-type {\n",
       "        vertical-align: middle;\n",
       "    }\n",
       "\n",
       "    .dataframe tbody tr th {\n",
       "        vertical-align: top;\n",
       "    }\n",
       "\n",
       "    .dataframe thead th {\n",
       "        text-align: right;\n",
       "    }\n",
       "</style>\n",
       "<table border=\"1\" class=\"dataframe\">\n",
       "  <thead>\n",
       "    <tr style=\"text-align: right;\">\n",
       "      <th></th>\n",
       "      <th>tradelane</th>\n",
       "      <th>mode</th>\n",
       "    </tr>\n",
       "  </thead>\n",
       "  <tbody>\n",
       "    <tr>\n",
       "      <th>0</th>\n",
       "      <td>TPEB</td>\n",
       "      <td>Air</td>\n",
       "    </tr>\n",
       "    <tr>\n",
       "      <th>1</th>\n",
       "      <td>TPEB</td>\n",
       "      <td>Air</td>\n",
       "    </tr>\n",
       "    <tr>\n",
       "      <th>2</th>\n",
       "      <td>TPEB</td>\n",
       "      <td>Air</td>\n",
       "    </tr>\n",
       "    <tr>\n",
       "      <th>3</th>\n",
       "      <td>TPEB</td>\n",
       "      <td>Ocean</td>\n",
       "    </tr>\n",
       "    <tr>\n",
       "      <th>4</th>\n",
       "      <td>TPEB</td>\n",
       "      <td>Ocean</td>\n",
       "    </tr>\n",
       "  </tbody>\n",
       "</table>\n",
       "</div>"
      ],
      "text/plain": [
       "  tradelane   mode\n",
       "0      TPEB    Air\n",
       "1      TPEB    Air\n",
       "2      TPEB    Air\n",
       "3      TPEB  Ocean\n",
       "4      TPEB  Ocean"
      ]
     },
     "metadata": {},
     "output_type": "display_data"
    }
   ],
   "source": [
    "# Isolate data to be used\n",
    "tradelane_mode_df = df[['tradelane', 'mode']]\n",
    "\n",
    "# Preview the data\n",
    "display(tradelane_mode_df.head())"
   ]
  },
  {
   "cell_type": "code",
   "execution_count": 5,
   "metadata": {
    "slideshow": {
     "slide_type": "subslide"
    }
   },
   "outputs": [
    {
     "name": "stdout",
     "output_type": "stream",
     "text": [
      "The data spans 200002 rows and 2 columns.\n",
      "Are there nulls anywhere in this dataframe? False\n"
     ]
    },
    {
     "data": {
      "text/plain": [
       "tradelane    12\n",
       "mode          4\n",
       "dtype: int64"
      ]
     },
     "metadata": {},
     "output_type": "display_data"
    },
    {
     "data": {
      "text/plain": [
       "Ocean                    150254\n",
       "Air                       41977\n",
       "Truck - Domestic           6611\n",
       "Truck - International      1160\n",
       "Name: mode, dtype: int64"
      ]
     },
     "metadata": {},
     "output_type": "display_data"
    },
    {
     "data": {
      "text/plain": [
       "TPEB                       132037\n",
       "FEWB                        27659\n",
       "TAWB                        10823\n",
       "ROW                          7241\n",
       "Domestic                     5590\n",
       "TAEB                         5589\n",
       "TPWB                         4913\n",
       "NA Export                    2976\n",
       "Latin NB                     2505\n",
       "FEEB                          456\n",
       "Oceania NB                    121\n",
       "Africa to North America        92\n",
       "Name: tradelane, dtype: int64"
      ]
     },
     "metadata": {},
     "output_type": "display_data"
    }
   ],
   "source": [
    "## TODO: Explore the data; some suggested questions to answer\n",
    "##       are listed below.\n",
    "\n",
    "# How big is the data?\n",
    "print(f\"The data spans {tradelane_mode_df.shape[0]} rows and {tradelane_mode_df.shape[1]} columns.\")\n",
    "\n",
    "# Checks that the data contains no nulls\n",
    "nulls_check = tradelane_mode_df.isnull().any(axis=1).any()\n",
    "print(f\"Are there nulls anywhere in this dataframe? {nulls_check}\")\n",
    "\n",
    "# How many unique values are in each columns?\n",
    "display(tradelane_mode_df.nunique())\n",
    "\n",
    "# What are the unique values in each column?\n",
    "unique_values = {col: tradelane_mode_df[col].value_counts() for col in tradelane_mode_df.columns}\n",
    "display(unique_values['mode'])\n",
    "display(unique_values['tradelane'])"
   ]
  },
  {
   "cell_type": "markdown",
   "metadata": {
    "slideshow": {
     "slide_type": "slide"
    }
   },
   "source": [
    "**Question**: Answer the following qualitatively based on what you see in the data (i.e., no need to perform statistical tests or calculations).\n",
    "\n",
    "> Is a shipment's tradelane independent of its mode?\n",
    "\n",
    "(Knowing each row in our dataframe is a shipment, what would you want to look for? How would you need to transform your data?)"
   ]
  },
  {
   "cell_type": "markdown",
   "metadata": {
    "slideshow": {
     "slide_type": "subslide"
    }
   },
   "source": [
    "Well, right now we have basically two lists with each row representing one data point. We should categorize the data based on the features/variables/attributes we have on hand! \n",
    "\n",
    "Let's _cross-tabulate_ this table so we have rows representing `tradelanes` and columns representing `mode`. The values in each cell will be the counts of shipments."
   ]
  },
  {
   "cell_type": "markdown",
   "metadata": {
    "slideshow": {
     "slide_type": "fragment"
    }
   },
   "source": [
    "Notice, by transforming our data this way, we've created a sample space consisting of disjoint events! Each cell is an event: its the _intersection_ of a particular `tradelane` and a particular `mode`.\n",
    "\n",
    "**TODO**: Transform our data into something workable by cross-tabulating our data with `tradelane`s as rows and `mode`s as columns."
   ]
  },
  {
   "cell_type": "code",
   "execution_count": 6,
   "metadata": {
    "slideshow": {
     "slide_type": "slide"
    }
   },
   "outputs": [
    {
     "data": {
      "text/html": [
       "<div>\n",
       "<style scoped>\n",
       "    .dataframe tbody tr th:only-of-type {\n",
       "        vertical-align: middle;\n",
       "    }\n",
       "\n",
       "    .dataframe tbody tr th {\n",
       "        vertical-align: top;\n",
       "    }\n",
       "\n",
       "    .dataframe thead th {\n",
       "        text-align: right;\n",
       "    }\n",
       "</style>\n",
       "<table border=\"1\" class=\"dataframe\">\n",
       "  <thead>\n",
       "    <tr style=\"text-align: right;\">\n",
       "      <th>mode</th>\n",
       "      <th>Air</th>\n",
       "      <th>Ocean</th>\n",
       "      <th>Truck - Domestic</th>\n",
       "      <th>Truck - International</th>\n",
       "    </tr>\n",
       "    <tr>\n",
       "      <th>tradelane</th>\n",
       "      <th></th>\n",
       "      <th></th>\n",
       "      <th></th>\n",
       "      <th></th>\n",
       "    </tr>\n",
       "  </thead>\n",
       "  <tbody>\n",
       "    <tr>\n",
       "      <th>Africa to North America</th>\n",
       "      <td>6</td>\n",
       "      <td>86</td>\n",
       "      <td>0</td>\n",
       "      <td>0</td>\n",
       "    </tr>\n",
       "    <tr>\n",
       "      <th>Domestic</th>\n",
       "      <td>51</td>\n",
       "      <td>320</td>\n",
       "      <td>5171</td>\n",
       "      <td>48</td>\n",
       "    </tr>\n",
       "    <tr>\n",
       "      <th>FEEB</th>\n",
       "      <td>225</td>\n",
       "      <td>231</td>\n",
       "      <td>0</td>\n",
       "      <td>0</td>\n",
       "    </tr>\n",
       "    <tr>\n",
       "      <th>FEWB</th>\n",
       "      <td>6381</td>\n",
       "      <td>21248</td>\n",
       "      <td>6</td>\n",
       "      <td>24</td>\n",
       "    </tr>\n",
       "    <tr>\n",
       "      <th>Latin NB</th>\n",
       "      <td>545</td>\n",
       "      <td>884</td>\n",
       "      <td>847</td>\n",
       "      <td>229</td>\n",
       "    </tr>\n",
       "    <tr>\n",
       "      <th>NA Export</th>\n",
       "      <td>131</td>\n",
       "      <td>2837</td>\n",
       "      <td>0</td>\n",
       "      <td>8</td>\n",
       "    </tr>\n",
       "    <tr>\n",
       "      <th>Oceania NB</th>\n",
       "      <td>46</td>\n",
       "      <td>75</td>\n",
       "      <td>0</td>\n",
       "      <td>0</td>\n",
       "    </tr>\n",
       "    <tr>\n",
       "      <th>ROW</th>\n",
       "      <td>2102</td>\n",
       "      <td>3788</td>\n",
       "      <td>568</td>\n",
       "      <td>783</td>\n",
       "    </tr>\n",
       "    <tr>\n",
       "      <th>TAEB</th>\n",
       "      <td>1526</td>\n",
       "      <td>4062</td>\n",
       "      <td>1</td>\n",
       "      <td>0</td>\n",
       "    </tr>\n",
       "    <tr>\n",
       "      <th>TAWB</th>\n",
       "      <td>2758</td>\n",
       "      <td>8062</td>\n",
       "      <td>2</td>\n",
       "      <td>1</td>\n",
       "    </tr>\n",
       "    <tr>\n",
       "      <th>TPEB</th>\n",
       "      <td>27340</td>\n",
       "      <td>104614</td>\n",
       "      <td>16</td>\n",
       "      <td>67</td>\n",
       "    </tr>\n",
       "    <tr>\n",
       "      <th>TPWB</th>\n",
       "      <td>866</td>\n",
       "      <td>4047</td>\n",
       "      <td>0</td>\n",
       "      <td>0</td>\n",
       "    </tr>\n",
       "  </tbody>\n",
       "</table>\n",
       "</div>"
      ],
      "text/plain": [
       "mode                       Air   Ocean  Truck - Domestic  \\\n",
       "tradelane                                                  \n",
       "Africa to North America      6      86                 0   \n",
       "Domestic                    51     320              5171   \n",
       "FEEB                       225     231                 0   \n",
       "FEWB                      6381   21248                 6   \n",
       "Latin NB                   545     884               847   \n",
       "NA Export                  131    2837                 0   \n",
       "Oceania NB                  46      75                 0   \n",
       "ROW                       2102    3788               568   \n",
       "TAEB                      1526    4062                 1   \n",
       "TAWB                      2758    8062                 2   \n",
       "TPEB                     27340  104614                16   \n",
       "TPWB                       866    4047                 0   \n",
       "\n",
       "mode                     Truck - International  \n",
       "tradelane                                       \n",
       "Africa to North America                      0  \n",
       "Domestic                                    48  \n",
       "FEEB                                         0  \n",
       "FEWB                                        24  \n",
       "Latin NB                                   229  \n",
       "NA Export                                    8  \n",
       "Oceania NB                                   0  \n",
       "ROW                                        783  \n",
       "TAEB                                         0  \n",
       "TAWB                                         1  \n",
       "TPEB                                        67  \n",
       "TPWB                                         0  "
      ]
     },
     "metadata": {},
     "output_type": "display_data"
    },
    {
     "data": {
      "text/html": [
       "<div>\n",
       "<style scoped>\n",
       "    .dataframe tbody tr th:only-of-type {\n",
       "        vertical-align: middle;\n",
       "    }\n",
       "\n",
       "    .dataframe tbody tr th {\n",
       "        vertical-align: top;\n",
       "    }\n",
       "\n",
       "    .dataframe thead th {\n",
       "        text-align: right;\n",
       "    }\n",
       "</style>\n",
       "<table border=\"1\" class=\"dataframe\">\n",
       "  <thead>\n",
       "    <tr style=\"text-align: right;\">\n",
       "      <th>mode</th>\n",
       "      <th>Air</th>\n",
       "      <th>Ocean</th>\n",
       "      <th>Truck - Domestic</th>\n",
       "      <th>Truck - International</th>\n",
       "      <th>All</th>\n",
       "    </tr>\n",
       "    <tr>\n",
       "      <th>tradelane</th>\n",
       "      <th></th>\n",
       "      <th></th>\n",
       "      <th></th>\n",
       "      <th></th>\n",
       "      <th></th>\n",
       "    </tr>\n",
       "  </thead>\n",
       "  <tbody>\n",
       "    <tr>\n",
       "      <th>Africa to North America</th>\n",
       "      <td>6</td>\n",
       "      <td>86</td>\n",
       "      <td>0</td>\n",
       "      <td>0</td>\n",
       "      <td>92</td>\n",
       "    </tr>\n",
       "    <tr>\n",
       "      <th>Domestic</th>\n",
       "      <td>51</td>\n",
       "      <td>320</td>\n",
       "      <td>5171</td>\n",
       "      <td>48</td>\n",
       "      <td>5590</td>\n",
       "    </tr>\n",
       "    <tr>\n",
       "      <th>FEEB</th>\n",
       "      <td>225</td>\n",
       "      <td>231</td>\n",
       "      <td>0</td>\n",
       "      <td>0</td>\n",
       "      <td>456</td>\n",
       "    </tr>\n",
       "    <tr>\n",
       "      <th>FEWB</th>\n",
       "      <td>6381</td>\n",
       "      <td>21248</td>\n",
       "      <td>6</td>\n",
       "      <td>24</td>\n",
       "      <td>27659</td>\n",
       "    </tr>\n",
       "    <tr>\n",
       "      <th>Latin NB</th>\n",
       "      <td>545</td>\n",
       "      <td>884</td>\n",
       "      <td>847</td>\n",
       "      <td>229</td>\n",
       "      <td>2505</td>\n",
       "    </tr>\n",
       "    <tr>\n",
       "      <th>NA Export</th>\n",
       "      <td>131</td>\n",
       "      <td>2837</td>\n",
       "      <td>0</td>\n",
       "      <td>8</td>\n",
       "      <td>2976</td>\n",
       "    </tr>\n",
       "    <tr>\n",
       "      <th>Oceania NB</th>\n",
       "      <td>46</td>\n",
       "      <td>75</td>\n",
       "      <td>0</td>\n",
       "      <td>0</td>\n",
       "      <td>121</td>\n",
       "    </tr>\n",
       "    <tr>\n",
       "      <th>ROW</th>\n",
       "      <td>2102</td>\n",
       "      <td>3788</td>\n",
       "      <td>568</td>\n",
       "      <td>783</td>\n",
       "      <td>7241</td>\n",
       "    </tr>\n",
       "    <tr>\n",
       "      <th>TAEB</th>\n",
       "      <td>1526</td>\n",
       "      <td>4062</td>\n",
       "      <td>1</td>\n",
       "      <td>0</td>\n",
       "      <td>5589</td>\n",
       "    </tr>\n",
       "    <tr>\n",
       "      <th>TAWB</th>\n",
       "      <td>2758</td>\n",
       "      <td>8062</td>\n",
       "      <td>2</td>\n",
       "      <td>1</td>\n",
       "      <td>10823</td>\n",
       "    </tr>\n",
       "    <tr>\n",
       "      <th>TPEB</th>\n",
       "      <td>27340</td>\n",
       "      <td>104614</td>\n",
       "      <td>16</td>\n",
       "      <td>67</td>\n",
       "      <td>132037</td>\n",
       "    </tr>\n",
       "    <tr>\n",
       "      <th>TPWB</th>\n",
       "      <td>866</td>\n",
       "      <td>4047</td>\n",
       "      <td>0</td>\n",
       "      <td>0</td>\n",
       "      <td>4913</td>\n",
       "    </tr>\n",
       "    <tr>\n",
       "      <th>All</th>\n",
       "      <td>41977</td>\n",
       "      <td>150254</td>\n",
       "      <td>6611</td>\n",
       "      <td>1160</td>\n",
       "      <td>200002</td>\n",
       "    </tr>\n",
       "  </tbody>\n",
       "</table>\n",
       "</div>"
      ],
      "text/plain": [
       "mode                       Air   Ocean  Truck - Domestic  \\\n",
       "tradelane                                                  \n",
       "Africa to North America      6      86                 0   \n",
       "Domestic                    51     320              5171   \n",
       "FEEB                       225     231                 0   \n",
       "FEWB                      6381   21248                 6   \n",
       "Latin NB                   545     884               847   \n",
       "NA Export                  131    2837                 0   \n",
       "Oceania NB                  46      75                 0   \n",
       "ROW                       2102    3788               568   \n",
       "TAEB                      1526    4062                 1   \n",
       "TAWB                      2758    8062                 2   \n",
       "TPEB                     27340  104614                16   \n",
       "TPWB                       866    4047                 0   \n",
       "All                      41977  150254              6611   \n",
       "\n",
       "mode                     Truck - International     All  \n",
       "tradelane                                               \n",
       "Africa to North America                      0      92  \n",
       "Domestic                                    48    5590  \n",
       "FEEB                                         0     456  \n",
       "FEWB                                        24   27659  \n",
       "Latin NB                                   229    2505  \n",
       "NA Export                                    8    2976  \n",
       "Oceania NB                                   0     121  \n",
       "ROW                                        783    7241  \n",
       "TAEB                                         0    5589  \n",
       "TAWB                                         1   10823  \n",
       "TPEB                                        67  132037  \n",
       "TPWB                                         0    4913  \n",
       "All                                       1160  200002  "
      ]
     },
     "metadata": {},
     "output_type": "display_data"
    }
   ],
   "source": [
    "## TODO: Cross-tabulate shipments\n",
    "# (Read docs for Pandas' crosstab function)\n",
    "\n",
    "# Use this variable to store cross-tabulation WITHOUT\n",
    "# marginal distributions (see 'margins' parameter)\n",
    "tradelane_mode_xt = pd.crosstab(index=tradelane_mode_df['tradelane'], \n",
    "                                columns=tradelane_mode_df['mode'])\n",
    "\n",
    "# Use this variable to store cross-tabulation WITH\n",
    "# marginal distributions (see 'margins' parameter)\n",
    "tradelane_mode_xt_marg = pd.crosstab(index=tradelane_mode_df['tradelane'], \n",
    "                                     columns=tradelane_mode_df['mode'], \n",
    "                                     margins=True)\n",
    "\n",
    "display(tradelane_mode_xt)\n",
    "display(tradelane_mode_xt_marg)"
   ]
  },
  {
   "cell_type": "markdown",
   "metadata": {
    "slideshow": {
     "slide_type": "subslide"
    }
   },
   "source": [
    "Below, I've provided a helper function that will plot a heatmap of the _joint distribution_."
   ]
  },
  {
   "cell_type": "code",
   "execution_count": 7,
   "metadata": {
    "slideshow": {
     "slide_type": "-"
    }
   },
   "outputs": [],
   "source": [
    "# Helper functions\n",
    "def heatmap(data: PandasDataFrame, \n",
    "            A: str,\n",
    "            B: str) -> None:\n",
    "    '''\n",
    "    Plots heatmap of bivariate frequency data, i.e., P(A|B) when supplied\n",
    "    data, A (as a string) and B (as a string)\n",
    "    '''\n",
    "    fig, ax = plt.subplots()\n",
    "    sns.heatmap(data, ax=ax, annot=True, fmt='.0%', \n",
    "                cmap='cividis', vmin=0, vmax=1)\n",
    "    ax.set_title(\"$P({0}\\,|\\,{1})$\".format(A, B), \n",
    "                 fontsize='x-large')\n",
    "    cbar = ax.collections[0].colorbar\n",
    "    cbar.ax.yaxis.set_major_formatter(PercentFormatter(1, 0))\n",
    "    plt.show()"
   ]
  },
  {
   "cell_type": "markdown",
   "metadata": {
    "slideshow": {
     "slide_type": "slide"
    }
   },
   "source": [
    "**TODO**: Let's condition on `mode` and see what the distribution looks like."
   ]
  },
  {
   "cell_type": "code",
   "execution_count": 8,
   "metadata": {
    "scrolled": false,
    "slideshow": {
     "slide_type": "subslide"
    }
   },
   "outputs": [
    {
     "data": {
      "image/png": "[encoded data removed]",
      "text/plain": [
       "<Figure size 432x288 with 2 Axes>"
      ]
     },
     "metadata": {
      "needs_background": "light"
     },
     "output_type": "display_data"
    },
    {
     "data": {
      "text/html": [
       "<style  type=\"text/css\" >\n",
       "    #T_6dfb3b40_96ca_11ea_a71d_acde48001122row0_col0 {\n",
       "            background-color:  #00224e;\n",
       "            color:  #f1f1f1;\n",
       "        }    #T_6dfb3b40_96ca_11ea_a71d_acde48001122row1_col0 {\n",
       "            background-color:  #002859;\n",
       "            color:  #f1f1f1;\n",
       "        }    #T_6dfb3b40_96ca_11ea_a71d_acde48001122row2_col0 {\n",
       "            background-color:  #00224e;\n",
       "            color:  #f1f1f1;\n",
       "        }    #T_6dfb3b40_96ca_11ea_a71d_acde48001122row3_col0 {\n",
       "            background-color:  #203a6f;\n",
       "            color:  #f1f1f1;\n",
       "        }    #T_6dfb3b40_96ca_11ea_a71d_acde48001122row4_col0 {\n",
       "            background-color:  #002553;\n",
       "            color:  #f1f1f1;\n",
       "        }    #T_6dfb3b40_96ca_11ea_a71d_acde48001122row5_col0 {\n",
       "            background-color:  #002553;\n",
       "            color:  #f1f1f1;\n",
       "        }    #T_6dfb3b40_96ca_11ea_a71d_acde48001122row6_col0 {\n",
       "            background-color:  #00224e;\n",
       "            color:  #f1f1f1;\n",
       "        }    #T_6dfb3b40_96ca_11ea_a71d_acde48001122row7_col0 {\n",
       "            background-color:  #00295d;\n",
       "            color:  #f1f1f1;\n",
       "        }    #T_6dfb3b40_96ca_11ea_a71d_acde48001122row8_col0 {\n",
       "            background-color:  #002859;\n",
       "            color:  #f1f1f1;\n",
       "        }    #T_6dfb3b40_96ca_11ea_a71d_acde48001122row9_col0 {\n",
       "            background-color:  #002c64;\n",
       "            color:  #f1f1f1;\n",
       "        }    #T_6dfb3b40_96ca_11ea_a71d_acde48001122row10_col0 {\n",
       "            background-color:  #a49b74;\n",
       "            color:  #000000;\n",
       "        }    #T_6dfb3b40_96ca_11ea_a71d_acde48001122row11_col0 {\n",
       "            background-color:  #002758;\n",
       "            color:  #f1f1f1;\n",
       "        }</style><table id=\"T_6dfb3b40_96ca_11ea_a71d_acde48001122\" ><thead>    <tr>        <th class=\"index_name level0\" >mode</th>        <th class=\"col_heading level0 col0\" >All</th>    </tr>    <tr>        <th class=\"index_name level0\" >tradelane</th>        <th class=\"blank\" ></th>    </tr></thead><tbody>\n",
       "                <tr>\n",
       "                        <th id=\"T_6dfb3b40_96ca_11ea_a71d_acde48001122level0_row0\" class=\"row_heading level0 row0\" >Africa to North America</th>\n",
       "                        <td id=\"T_6dfb3b40_96ca_11ea_a71d_acde48001122row0_col0\" class=\"data row0 col0\" >0%</td>\n",
       "            </tr>\n",
       "            <tr>\n",
       "                        <th id=\"T_6dfb3b40_96ca_11ea_a71d_acde48001122level0_row1\" class=\"row_heading level0 row1\" >Domestic</th>\n",
       "                        <td id=\"T_6dfb3b40_96ca_11ea_a71d_acde48001122row1_col0\" class=\"data row1 col0\" >3%</td>\n",
       "            </tr>\n",
       "            <tr>\n",
       "                        <th id=\"T_6dfb3b40_96ca_11ea_a71d_acde48001122level0_row2\" class=\"row_heading level0 row2\" >FEEB</th>\n",
       "                        <td id=\"T_6dfb3b40_96ca_11ea_a71d_acde48001122row2_col0\" class=\"data row2 col0\" >0%</td>\n",
       "            </tr>\n",
       "            <tr>\n",
       "                        <th id=\"T_6dfb3b40_96ca_11ea_a71d_acde48001122level0_row3\" class=\"row_heading level0 row3\" >FEWB</th>\n",
       "                        <td id=\"T_6dfb3b40_96ca_11ea_a71d_acde48001122row3_col0\" class=\"data row3 col0\" >14%</td>\n",
       "            </tr>\n",
       "            <tr>\n",
       "                        <th id=\"T_6dfb3b40_96ca_11ea_a71d_acde48001122level0_row4\" class=\"row_heading level0 row4\" >Latin NB</th>\n",
       "                        <td id=\"T_6dfb3b40_96ca_11ea_a71d_acde48001122row4_col0\" class=\"data row4 col0\" >1%</td>\n",
       "            </tr>\n",
       "            <tr>\n",
       "                        <th id=\"T_6dfb3b40_96ca_11ea_a71d_acde48001122level0_row5\" class=\"row_heading level0 row5\" >NA Export</th>\n",
       "                        <td id=\"T_6dfb3b40_96ca_11ea_a71d_acde48001122row5_col0\" class=\"data row5 col0\" >1%</td>\n",
       "            </tr>\n",
       "            <tr>\n",
       "                        <th id=\"T_6dfb3b40_96ca_11ea_a71d_acde48001122level0_row6\" class=\"row_heading level0 row6\" >Oceania NB</th>\n",
       "                        <td id=\"T_6dfb3b40_96ca_11ea_a71d_acde48001122row6_col0\" class=\"data row6 col0\" >0%</td>\n",
       "            </tr>\n",
       "            <tr>\n",
       "                        <th id=\"T_6dfb3b40_96ca_11ea_a71d_acde48001122level0_row7\" class=\"row_heading level0 row7\" >ROW</th>\n",
       "                        <td id=\"T_6dfb3b40_96ca_11ea_a71d_acde48001122row7_col0\" class=\"data row7 col0\" >4%</td>\n",
       "            </tr>\n",
       "            <tr>\n",
       "                        <th id=\"T_6dfb3b40_96ca_11ea_a71d_acde48001122level0_row8\" class=\"row_heading level0 row8\" >TAEB</th>\n",
       "                        <td id=\"T_6dfb3b40_96ca_11ea_a71d_acde48001122row8_col0\" class=\"data row8 col0\" >3%</td>\n",
       "            </tr>\n",
       "            <tr>\n",
       "                        <th id=\"T_6dfb3b40_96ca_11ea_a71d_acde48001122level0_row9\" class=\"row_heading level0 row9\" >TAWB</th>\n",
       "                        <td id=\"T_6dfb3b40_96ca_11ea_a71d_acde48001122row9_col0\" class=\"data row9 col0\" >5%</td>\n",
       "            </tr>\n",
       "            <tr>\n",
       "                        <th id=\"T_6dfb3b40_96ca_11ea_a71d_acde48001122level0_row10\" class=\"row_heading level0 row10\" >TPEB</th>\n",
       "                        <td id=\"T_6dfb3b40_96ca_11ea_a71d_acde48001122row10_col0\" class=\"data row10 col0\" >66%</td>\n",
       "            </tr>\n",
       "            <tr>\n",
       "                        <th id=\"T_6dfb3b40_96ca_11ea_a71d_acde48001122level0_row11\" class=\"row_heading level0 row11\" >TPWB</th>\n",
       "                        <td id=\"T_6dfb3b40_96ca_11ea_a71d_acde48001122row11_col0\" class=\"data row11 col0\" >2%</td>\n",
       "            </tr>\n",
       "    </tbody></table>"
      ],
      "text/plain": [
       "<pandas.io.formats.style.Styler at 0x137a91290>"
      ]
     },
     "execution_count": 8,
     "metadata": {},
     "output_type": "execute_result"
    }
   ],
   "source": [
    "## TODO: Convert to relative frequencies, conditioning on mode\n",
    "data = tradelane_mode_xt/tradelane_mode_xt.sum(axis=0)\n",
    "heatmap(data, 'tradelane', 'mode')\n",
    "\n",
    "# Compare to marginal frequency of tradelane\n",
    "mf_tradelane = pd.DataFrame(tradelane_mode_xt_marg/tradelane_mode_xt.sum().sum())\n",
    "mf_tradelane.loc[mf_tradelane.index[:-1], \n",
    "                 ['All']].style.format(\"{:.0%}\").background_gradient(cmap='cividis', \n",
    "                                                                 axis=1, \n",
    "                                                                 vmin=0, \n",
    "                                                                 vmax=1)"
   ]
  },
  {
   "cell_type": "markdown",
   "metadata": {
    "slideshow": {
     "slide_type": "subslide"
    }
   },
   "source": [
    "**TODO**: Compare the _marginal distribution_ (on the bottom) versus each column in the heatmap above. \n",
    "\n",
    "**Question**: \n",
    "\n",
    "> What does this tell you about independence?"
   ]
  },
  {
   "cell_type": "code",
   "execution_count": 9,
   "metadata": {
    "slideshow": {
     "slide_type": "subslide"
    }
   },
   "outputs": [
    {
     "data": {
      "image/png": "[encoded data removed]",
      "text/plain": [
       "<Figure size 432x288 with 2 Axes>"
      ]
     },
     "metadata": {
      "needs_background": "light"
     },
     "output_type": "display_data"
    },
    {
     "data": {
      "text/html": [
       "<style  type=\"text/css\" >\n",
       "    #T_6e355992_96ca_11ea_a71d_acde48001122row0_col0 {\n",
       "            background-color:  #38476c;\n",
       "            color:  #f1f1f1;\n",
       "        }    #T_6e355992_96ca_11ea_a71d_acde48001122row0_col1 {\n",
       "            background-color:  #bcae6c;\n",
       "            color:  #000000;\n",
       "        }    #T_6e355992_96ca_11ea_a71d_acde48001122row0_col2 {\n",
       "            background-color:  #00285b;\n",
       "            color:  #f1f1f1;\n",
       "        }    #T_6e355992_96ca_11ea_a71d_acde48001122row0_col3 {\n",
       "            background-color:  #00234f;\n",
       "            color:  #f1f1f1;\n",
       "        }</style><table id=\"T_6e355992_96ca_11ea_a71d_acde48001122\" ><thead>    <tr>        <th class=\"index_name level0\" >mode</th>        <th class=\"col_heading level0 col0\" >Air</th>        <th class=\"col_heading level0 col1\" >Ocean</th>        <th class=\"col_heading level0 col2\" >Truck - Domestic</th>        <th class=\"col_heading level0 col3\" >Truck - International</th>    </tr>    <tr>        <th class=\"index_name level0\" >tradelane</th>        <th class=\"blank\" ></th>        <th class=\"blank\" ></th>        <th class=\"blank\" ></th>        <th class=\"blank\" ></th>    </tr></thead><tbody>\n",
       "                <tr>\n",
       "                        <th id=\"T_6e355992_96ca_11ea_a71d_acde48001122level0_row0\" class=\"row_heading level0 row0\" >All</th>\n",
       "                        <td id=\"T_6e355992_96ca_11ea_a71d_acde48001122row0_col0\" class=\"data row0 col0\" >21%</td>\n",
       "                        <td id=\"T_6e355992_96ca_11ea_a71d_acde48001122row0_col1\" class=\"data row0 col1\" >75%</td>\n",
       "                        <td id=\"T_6e355992_96ca_11ea_a71d_acde48001122row0_col2\" class=\"data row0 col2\" >3%</td>\n",
       "                        <td id=\"T_6e355992_96ca_11ea_a71d_acde48001122row0_col3\" class=\"data row0 col3\" >1%</td>\n",
       "            </tr>\n",
       "    </tbody></table>"
      ],
      "text/plain": [
       "<pandas.io.formats.style.Styler at 0x135b49b90>"
      ]
     },
     "execution_count": 9,
     "metadata": {},
     "output_type": "execute_result"
    }
   ],
   "source": [
    "# Convert to relative frequencies, conditioning on tradelane\n",
    "data = tradelane_mode_xt.apply(lambda s: s/tradelane_mode_xt.sum(axis=1))\n",
    "heatmap(data, 'mode', 'tradelane')\n",
    "\n",
    "# Compare to marginal frequency of mode\n",
    "mf_mode = pd.DataFrame(tradelane_mode_xt_marg.T/tradelane_mode_xt.sum().sum())\n",
    "mf_mode.loc[mf_mode.index[:-1],\n",
    "            ['All']].T.style.format(\"{:.0%}\").background_gradient(cmap='cividis', \n",
    "                                                                  axis=1, \n",
    "                                                                  vmin=0, \n",
    "                                                                  vmax=1)"
   ]
  },
  {
   "cell_type": "markdown",
   "metadata": {
    "slideshow": {
     "slide_type": "fragment"
    }
   },
   "source": [
    "But you are all data analysts. You're supposed to measure things and tell us what they mean.\n",
    "\n",
    "**Question**: \n",
    "\n",
    "> How would I go about measuring the extent to which these variables are independent?"
   ]
  },
  {
   "cell_type": "markdown",
   "metadata": {
    "slideshow": {
     "slide_type": "subslide"
    }
   },
   "source": [
    "**Meta Question**: \n",
    "\n",
    "> How does ~Abhi~ someone answer a question they may not be prepared for?"
   ]
  },
  {
   "cell_type": "markdown",
   "metadata": {
    "slideshow": {
     "slide_type": "fragment"
    }
   },
   "source": [
    "**Meta Answer**: \n",
    "\n",
    "> Make something up and talk about it until it starts becoming believable!"
   ]
  },
  {
   "cell_type": "markdown",
   "metadata": {
    "slideshow": {
     "slide_type": "subslide"
    }
   },
   "source": [
    "That being said, back to the original question:\n",
    "\n",
    "> How would I go about measuring the extent to which these variables are independent?"
   ]
  },
  {
   "cell_type": "code",
   "execution_count": 10,
   "metadata": {
    "slideshow": {
     "slide_type": "subslide"
    }
   },
   "outputs": [
    {
     "name": "stdout",
     "output_type": "stream",
     "text": [
      "Observed Frequencies:\n"
     ]
    },
    {
     "data": {
      "text/html": [
       "<style  type=\"text/css\" >\n",
       "</style><table id=\"T_6e36325e_96ca_11ea_a71d_acde48001122\" ><thead>    <tr>        <th class=\"index_name level0\" >mode</th>        <th class=\"col_heading level0 col0\" >Air</th>        <th class=\"col_heading level0 col1\" >Ocean</th>        <th class=\"col_heading level0 col2\" >Truck - Domestic</th>        <th class=\"col_heading level0 col3\" >Truck - International</th>        <th class=\"col_heading level0 col4\" >All</th>    </tr>    <tr>        <th class=\"index_name level0\" >tradelane</th>        <th class=\"blank\" ></th>        <th class=\"blank\" ></th>        <th class=\"blank\" ></th>        <th class=\"blank\" ></th>        <th class=\"blank\" ></th>    </tr></thead><tbody>\n",
       "                <tr>\n",
       "                        <th id=\"T_6e36325e_96ca_11ea_a71d_acde48001122level0_row0\" class=\"row_heading level0 row0\" >Africa to North America</th>\n",
       "                        <td id=\"T_6e36325e_96ca_11ea_a71d_acde48001122row0_col0\" class=\"data row0 col0\" >6</td>\n",
       "                        <td id=\"T_6e36325e_96ca_11ea_a71d_acde48001122row0_col1\" class=\"data row0 col1\" >86</td>\n",
       "                        <td id=\"T_6e36325e_96ca_11ea_a71d_acde48001122row0_col2\" class=\"data row0 col2\" >0</td>\n",
       "                        <td id=\"T_6e36325e_96ca_11ea_a71d_acde48001122row0_col3\" class=\"data row0 col3\" >0</td>\n",
       "                        <td id=\"T_6e36325e_96ca_11ea_a71d_acde48001122row0_col4\" class=\"data row0 col4\" >92</td>\n",
       "            </tr>\n",
       "            <tr>\n",
       "                        <th id=\"T_6e36325e_96ca_11ea_a71d_acde48001122level0_row1\" class=\"row_heading level0 row1\" >Domestic</th>\n",
       "                        <td id=\"T_6e36325e_96ca_11ea_a71d_acde48001122row1_col0\" class=\"data row1 col0\" >51</td>\n",
       "                        <td id=\"T_6e36325e_96ca_11ea_a71d_acde48001122row1_col1\" class=\"data row1 col1\" >320</td>\n",
       "                        <td id=\"T_6e36325e_96ca_11ea_a71d_acde48001122row1_col2\" class=\"data row1 col2\" >5,171</td>\n",
       "                        <td id=\"T_6e36325e_96ca_11ea_a71d_acde48001122row1_col3\" class=\"data row1 col3\" >48</td>\n",
       "                        <td id=\"T_6e36325e_96ca_11ea_a71d_acde48001122row1_col4\" class=\"data row1 col4\" >5,590</td>\n",
       "            </tr>\n",
       "            <tr>\n",
       "                        <th id=\"T_6e36325e_96ca_11ea_a71d_acde48001122level0_row2\" class=\"row_heading level0 row2\" >FEEB</th>\n",
       "                        <td id=\"T_6e36325e_96ca_11ea_a71d_acde48001122row2_col0\" class=\"data row2 col0\" >225</td>\n",
       "                        <td id=\"T_6e36325e_96ca_11ea_a71d_acde48001122row2_col1\" class=\"data row2 col1\" >231</td>\n",
       "                        <td id=\"T_6e36325e_96ca_11ea_a71d_acde48001122row2_col2\" class=\"data row2 col2\" >0</td>\n",
       "                        <td id=\"T_6e36325e_96ca_11ea_a71d_acde48001122row2_col3\" class=\"data row2 col3\" >0</td>\n",
       "                        <td id=\"T_6e36325e_96ca_11ea_a71d_acde48001122row2_col4\" class=\"data row2 col4\" >456</td>\n",
       "            </tr>\n",
       "            <tr>\n",
       "                        <th id=\"T_6e36325e_96ca_11ea_a71d_acde48001122level0_row3\" class=\"row_heading level0 row3\" >FEWB</th>\n",
       "                        <td id=\"T_6e36325e_96ca_11ea_a71d_acde48001122row3_col0\" class=\"data row3 col0\" >6,381</td>\n",
       "                        <td id=\"T_6e36325e_96ca_11ea_a71d_acde48001122row3_col1\" class=\"data row3 col1\" >21,248</td>\n",
       "                        <td id=\"T_6e36325e_96ca_11ea_a71d_acde48001122row3_col2\" class=\"data row3 col2\" >6</td>\n",
       "                        <td id=\"T_6e36325e_96ca_11ea_a71d_acde48001122row3_col3\" class=\"data row3 col3\" >24</td>\n",
       "                        <td id=\"T_6e36325e_96ca_11ea_a71d_acde48001122row3_col4\" class=\"data row3 col4\" >27,659</td>\n",
       "            </tr>\n",
       "            <tr>\n",
       "                        <th id=\"T_6e36325e_96ca_11ea_a71d_acde48001122level0_row4\" class=\"row_heading level0 row4\" >Latin NB</th>\n",
       "                        <td id=\"T_6e36325e_96ca_11ea_a71d_acde48001122row4_col0\" class=\"data row4 col0\" >545</td>\n",
       "                        <td id=\"T_6e36325e_96ca_11ea_a71d_acde48001122row4_col1\" class=\"data row4 col1\" >884</td>\n",
       "                        <td id=\"T_6e36325e_96ca_11ea_a71d_acde48001122row4_col2\" class=\"data row4 col2\" >847</td>\n",
       "                        <td id=\"T_6e36325e_96ca_11ea_a71d_acde48001122row4_col3\" class=\"data row4 col3\" >229</td>\n",
       "                        <td id=\"T_6e36325e_96ca_11ea_a71d_acde48001122row4_col4\" class=\"data row4 col4\" >2,505</td>\n",
       "            </tr>\n",
       "            <tr>\n",
       "                        <th id=\"T_6e36325e_96ca_11ea_a71d_acde48001122level0_row5\" class=\"row_heading level0 row5\" >NA Export</th>\n",
       "                        <td id=\"T_6e36325e_96ca_11ea_a71d_acde48001122row5_col0\" class=\"data row5 col0\" >131</td>\n",
       "                        <td id=\"T_6e36325e_96ca_11ea_a71d_acde48001122row5_col1\" class=\"data row5 col1\" >2,837</td>\n",
       "                        <td id=\"T_6e36325e_96ca_11ea_a71d_acde48001122row5_col2\" class=\"data row5 col2\" >0</td>\n",
       "                        <td id=\"T_6e36325e_96ca_11ea_a71d_acde48001122row5_col3\" class=\"data row5 col3\" >8</td>\n",
       "                        <td id=\"T_6e36325e_96ca_11ea_a71d_acde48001122row5_col4\" class=\"data row5 col4\" >2,976</td>\n",
       "            </tr>\n",
       "            <tr>\n",
       "                        <th id=\"T_6e36325e_96ca_11ea_a71d_acde48001122level0_row6\" class=\"row_heading level0 row6\" >Oceania NB</th>\n",
       "                        <td id=\"T_6e36325e_96ca_11ea_a71d_acde48001122row6_col0\" class=\"data row6 col0\" >46</td>\n",
       "                        <td id=\"T_6e36325e_96ca_11ea_a71d_acde48001122row6_col1\" class=\"data row6 col1\" >75</td>\n",
       "                        <td id=\"T_6e36325e_96ca_11ea_a71d_acde48001122row6_col2\" class=\"data row6 col2\" >0</td>\n",
       "                        <td id=\"T_6e36325e_96ca_11ea_a71d_acde48001122row6_col3\" class=\"data row6 col3\" >0</td>\n",
       "                        <td id=\"T_6e36325e_96ca_11ea_a71d_acde48001122row6_col4\" class=\"data row6 col4\" >121</td>\n",
       "            </tr>\n",
       "            <tr>\n",
       "                        <th id=\"T_6e36325e_96ca_11ea_a71d_acde48001122level0_row7\" class=\"row_heading level0 row7\" >ROW</th>\n",
       "                        <td id=\"T_6e36325e_96ca_11ea_a71d_acde48001122row7_col0\" class=\"data row7 col0\" >2,102</td>\n",
       "                        <td id=\"T_6e36325e_96ca_11ea_a71d_acde48001122row7_col1\" class=\"data row7 col1\" >3,788</td>\n",
       "                        <td id=\"T_6e36325e_96ca_11ea_a71d_acde48001122row7_col2\" class=\"data row7 col2\" >568</td>\n",
       "                        <td id=\"T_6e36325e_96ca_11ea_a71d_acde48001122row7_col3\" class=\"data row7 col3\" >783</td>\n",
       "                        <td id=\"T_6e36325e_96ca_11ea_a71d_acde48001122row7_col4\" class=\"data row7 col4\" >7,241</td>\n",
       "            </tr>\n",
       "            <tr>\n",
       "                        <th id=\"T_6e36325e_96ca_11ea_a71d_acde48001122level0_row8\" class=\"row_heading level0 row8\" >TAEB</th>\n",
       "                        <td id=\"T_6e36325e_96ca_11ea_a71d_acde48001122row8_col0\" class=\"data row8 col0\" >1,526</td>\n",
       "                        <td id=\"T_6e36325e_96ca_11ea_a71d_acde48001122row8_col1\" class=\"data row8 col1\" >4,062</td>\n",
       "                        <td id=\"T_6e36325e_96ca_11ea_a71d_acde48001122row8_col2\" class=\"data row8 col2\" >1</td>\n",
       "                        <td id=\"T_6e36325e_96ca_11ea_a71d_acde48001122row8_col3\" class=\"data row8 col3\" >0</td>\n",
       "                        <td id=\"T_6e36325e_96ca_11ea_a71d_acde48001122row8_col4\" class=\"data row8 col4\" >5,589</td>\n",
       "            </tr>\n",
       "            <tr>\n",
       "                        <th id=\"T_6e36325e_96ca_11ea_a71d_acde48001122level0_row9\" class=\"row_heading level0 row9\" >TAWB</th>\n",
       "                        <td id=\"T_6e36325e_96ca_11ea_a71d_acde48001122row9_col0\" class=\"data row9 col0\" >2,758</td>\n",
       "                        <td id=\"T_6e36325e_96ca_11ea_a71d_acde48001122row9_col1\" class=\"data row9 col1\" >8,062</td>\n",
       "                        <td id=\"T_6e36325e_96ca_11ea_a71d_acde48001122row9_col2\" class=\"data row9 col2\" >2</td>\n",
       "                        <td id=\"T_6e36325e_96ca_11ea_a71d_acde48001122row9_col3\" class=\"data row9 col3\" >1</td>\n",
       "                        <td id=\"T_6e36325e_96ca_11ea_a71d_acde48001122row9_col4\" class=\"data row9 col4\" >10,823</td>\n",
       "            </tr>\n",
       "            <tr>\n",
       "                        <th id=\"T_6e36325e_96ca_11ea_a71d_acde48001122level0_row10\" class=\"row_heading level0 row10\" >TPEB</th>\n",
       "                        <td id=\"T_6e36325e_96ca_11ea_a71d_acde48001122row10_col0\" class=\"data row10 col0\" >27,340</td>\n",
       "                        <td id=\"T_6e36325e_96ca_11ea_a71d_acde48001122row10_col1\" class=\"data row10 col1\" >104,614</td>\n",
       "                        <td id=\"T_6e36325e_96ca_11ea_a71d_acde48001122row10_col2\" class=\"data row10 col2\" >16</td>\n",
       "                        <td id=\"T_6e36325e_96ca_11ea_a71d_acde48001122row10_col3\" class=\"data row10 col3\" >67</td>\n",
       "                        <td id=\"T_6e36325e_96ca_11ea_a71d_acde48001122row10_col4\" class=\"data row10 col4\" >132,037</td>\n",
       "            </tr>\n",
       "            <tr>\n",
       "                        <th id=\"T_6e36325e_96ca_11ea_a71d_acde48001122level0_row11\" class=\"row_heading level0 row11\" >TPWB</th>\n",
       "                        <td id=\"T_6e36325e_96ca_11ea_a71d_acde48001122row11_col0\" class=\"data row11 col0\" >866</td>\n",
       "                        <td id=\"T_6e36325e_96ca_11ea_a71d_acde48001122row11_col1\" class=\"data row11 col1\" >4,047</td>\n",
       "                        <td id=\"T_6e36325e_96ca_11ea_a71d_acde48001122row11_col2\" class=\"data row11 col2\" >0</td>\n",
       "                        <td id=\"T_6e36325e_96ca_11ea_a71d_acde48001122row11_col3\" class=\"data row11 col3\" >0</td>\n",
       "                        <td id=\"T_6e36325e_96ca_11ea_a71d_acde48001122row11_col4\" class=\"data row11 col4\" >4,913</td>\n",
       "            </tr>\n",
       "            <tr>\n",
       "                        <th id=\"T_6e36325e_96ca_11ea_a71d_acde48001122level0_row12\" class=\"row_heading level0 row12\" >All</th>\n",
       "                        <td id=\"T_6e36325e_96ca_11ea_a71d_acde48001122row12_col0\" class=\"data row12 col0\" >41,977</td>\n",
       "                        <td id=\"T_6e36325e_96ca_11ea_a71d_acde48001122row12_col1\" class=\"data row12 col1\" >150,254</td>\n",
       "                        <td id=\"T_6e36325e_96ca_11ea_a71d_acde48001122row12_col2\" class=\"data row12 col2\" >6,611</td>\n",
       "                        <td id=\"T_6e36325e_96ca_11ea_a71d_acde48001122row12_col3\" class=\"data row12 col3\" >1,160</td>\n",
       "                        <td id=\"T_6e36325e_96ca_11ea_a71d_acde48001122row12_col4\" class=\"data row12 col4\" >200,002</td>\n",
       "            </tr>\n",
       "    </tbody></table>"
      ],
      "text/plain": [
       "<pandas.io.formats.style.Styler at 0x13b445090>"
      ]
     },
     "metadata": {},
     "output_type": "display_data"
    }
   ],
   "source": [
    "# These are the observed frequencies\n",
    "print('Observed Frequencies:')\n",
    "display(tradelane_mode_xt_marg.style.format(\"{:,.0f}\"))"
   ]
  },
  {
   "cell_type": "markdown",
   "metadata": {
    "slideshow": {
     "slide_type": "fragment"
    }
   },
   "source": [
    "**Question**: \n",
    "\n",
    "> _If_ these two variables were independent, what values would I expect in each cell?"
   ]
  },
  {
   "cell_type": "code",
   "execution_count": 11,
   "metadata": {
    "slideshow": {
     "slide_type": "subslide"
    }
   },
   "outputs": [
    {
     "name": "stdout",
     "output_type": "stream",
     "text": [
      "Expected Frequencies:\n"
     ]
    },
    {
     "data": {
      "text/html": [
       "<style  type=\"text/css\" >\n",
       "</style><table id=\"T_6e3890da_96ca_11ea_a71d_acde48001122\" ><thead>    <tr>        <th class=\"index_name level0\" >mode</th>        <th class=\"col_heading level0 col0\" >Air</th>        <th class=\"col_heading level0 col1\" >Ocean</th>        <th class=\"col_heading level0 col2\" >Truck - Domestic</th>        <th class=\"col_heading level0 col3\" >Truck - International</th>        <th class=\"col_heading level0 col4\" >All</th>    </tr>    <tr>        <th class=\"index_name level0\" >tradelane</th>        <th class=\"blank\" ></th>        <th class=\"blank\" ></th>        <th class=\"blank\" ></th>        <th class=\"blank\" ></th>        <th class=\"blank\" ></th>    </tr></thead><tbody>\n",
       "                <tr>\n",
       "                        <th id=\"T_6e3890da_96ca_11ea_a71d_acde48001122level0_row0\" class=\"row_heading level0 row0\" >Africa to North America</th>\n",
       "                        <td id=\"T_6e3890da_96ca_11ea_a71d_acde48001122row0_col0\" class=\"data row0 col0\" >19</td>\n",
       "                        <td id=\"T_6e3890da_96ca_11ea_a71d_acde48001122row0_col1\" class=\"data row0 col1\" >69</td>\n",
       "                        <td id=\"T_6e3890da_96ca_11ea_a71d_acde48001122row0_col2\" class=\"data row0 col2\" >3</td>\n",
       "                        <td id=\"T_6e3890da_96ca_11ea_a71d_acde48001122row0_col3\" class=\"data row0 col3\" >1</td>\n",
       "                        <td id=\"T_6e3890da_96ca_11ea_a71d_acde48001122row0_col4\" class=\"data row0 col4\" >92</td>\n",
       "            </tr>\n",
       "            <tr>\n",
       "                        <th id=\"T_6e3890da_96ca_11ea_a71d_acde48001122level0_row1\" class=\"row_heading level0 row1\" >Domestic</th>\n",
       "                        <td id=\"T_6e3890da_96ca_11ea_a71d_acde48001122row1_col0\" class=\"data row1 col0\" >1,173</td>\n",
       "                        <td id=\"T_6e3890da_96ca_11ea_a71d_acde48001122row1_col1\" class=\"data row1 col1\" >4,200</td>\n",
       "                        <td id=\"T_6e3890da_96ca_11ea_a71d_acde48001122row1_col2\" class=\"data row1 col2\" >185</td>\n",
       "                        <td id=\"T_6e3890da_96ca_11ea_a71d_acde48001122row1_col3\" class=\"data row1 col3\" >32</td>\n",
       "                        <td id=\"T_6e3890da_96ca_11ea_a71d_acde48001122row1_col4\" class=\"data row1 col4\" >5,590</td>\n",
       "            </tr>\n",
       "            <tr>\n",
       "                        <th id=\"T_6e3890da_96ca_11ea_a71d_acde48001122level0_row2\" class=\"row_heading level0 row2\" >FEEB</th>\n",
       "                        <td id=\"T_6e3890da_96ca_11ea_a71d_acde48001122row2_col0\" class=\"data row2 col0\" >96</td>\n",
       "                        <td id=\"T_6e3890da_96ca_11ea_a71d_acde48001122row2_col1\" class=\"data row2 col1\" >343</td>\n",
       "                        <td id=\"T_6e3890da_96ca_11ea_a71d_acde48001122row2_col2\" class=\"data row2 col2\" >15</td>\n",
       "                        <td id=\"T_6e3890da_96ca_11ea_a71d_acde48001122row2_col3\" class=\"data row2 col3\" >3</td>\n",
       "                        <td id=\"T_6e3890da_96ca_11ea_a71d_acde48001122row2_col4\" class=\"data row2 col4\" >456</td>\n",
       "            </tr>\n",
       "            <tr>\n",
       "                        <th id=\"T_6e3890da_96ca_11ea_a71d_acde48001122level0_row3\" class=\"row_heading level0 row3\" >FEWB</th>\n",
       "                        <td id=\"T_6e3890da_96ca_11ea_a71d_acde48001122row3_col0\" class=\"data row3 col0\" >5,805</td>\n",
       "                        <td id=\"T_6e3890da_96ca_11ea_a71d_acde48001122row3_col1\" class=\"data row3 col1\" >20,779</td>\n",
       "                        <td id=\"T_6e3890da_96ca_11ea_a71d_acde48001122row3_col2\" class=\"data row3 col2\" >914</td>\n",
       "                        <td id=\"T_6e3890da_96ca_11ea_a71d_acde48001122row3_col3\" class=\"data row3 col3\" >160</td>\n",
       "                        <td id=\"T_6e3890da_96ca_11ea_a71d_acde48001122row3_col4\" class=\"data row3 col4\" >27,659</td>\n",
       "            </tr>\n",
       "            <tr>\n",
       "                        <th id=\"T_6e3890da_96ca_11ea_a71d_acde48001122level0_row4\" class=\"row_heading level0 row4\" >Latin NB</th>\n",
       "                        <td id=\"T_6e3890da_96ca_11ea_a71d_acde48001122row4_col0\" class=\"data row4 col0\" >526</td>\n",
       "                        <td id=\"T_6e3890da_96ca_11ea_a71d_acde48001122row4_col1\" class=\"data row4 col1\" >1,882</td>\n",
       "                        <td id=\"T_6e3890da_96ca_11ea_a71d_acde48001122row4_col2\" class=\"data row4 col2\" >83</td>\n",
       "                        <td id=\"T_6e3890da_96ca_11ea_a71d_acde48001122row4_col3\" class=\"data row4 col3\" >15</td>\n",
       "                        <td id=\"T_6e3890da_96ca_11ea_a71d_acde48001122row4_col4\" class=\"data row4 col4\" >2,505</td>\n",
       "            </tr>\n",
       "            <tr>\n",
       "                        <th id=\"T_6e3890da_96ca_11ea_a71d_acde48001122level0_row5\" class=\"row_heading level0 row5\" >NA Export</th>\n",
       "                        <td id=\"T_6e3890da_96ca_11ea_a71d_acde48001122row5_col0\" class=\"data row5 col0\" >625</td>\n",
       "                        <td id=\"T_6e3890da_96ca_11ea_a71d_acde48001122row5_col1\" class=\"data row5 col1\" >2,236</td>\n",
       "                        <td id=\"T_6e3890da_96ca_11ea_a71d_acde48001122row5_col2\" class=\"data row5 col2\" >98</td>\n",
       "                        <td id=\"T_6e3890da_96ca_11ea_a71d_acde48001122row5_col3\" class=\"data row5 col3\" >17</td>\n",
       "                        <td id=\"T_6e3890da_96ca_11ea_a71d_acde48001122row5_col4\" class=\"data row5 col4\" >2,976</td>\n",
       "            </tr>\n",
       "            <tr>\n",
       "                        <th id=\"T_6e3890da_96ca_11ea_a71d_acde48001122level0_row6\" class=\"row_heading level0 row6\" >Oceania NB</th>\n",
       "                        <td id=\"T_6e3890da_96ca_11ea_a71d_acde48001122row6_col0\" class=\"data row6 col0\" >25</td>\n",
       "                        <td id=\"T_6e3890da_96ca_11ea_a71d_acde48001122row6_col1\" class=\"data row6 col1\" >91</td>\n",
       "                        <td id=\"T_6e3890da_96ca_11ea_a71d_acde48001122row6_col2\" class=\"data row6 col2\" >4</td>\n",
       "                        <td id=\"T_6e3890da_96ca_11ea_a71d_acde48001122row6_col3\" class=\"data row6 col3\" >1</td>\n",
       "                        <td id=\"T_6e3890da_96ca_11ea_a71d_acde48001122row6_col4\" class=\"data row6 col4\" >121</td>\n",
       "            </tr>\n",
       "            <tr>\n",
       "                        <th id=\"T_6e3890da_96ca_11ea_a71d_acde48001122level0_row7\" class=\"row_heading level0 row7\" >ROW</th>\n",
       "                        <td id=\"T_6e3890da_96ca_11ea_a71d_acde48001122row7_col0\" class=\"data row7 col0\" >1,520</td>\n",
       "                        <td id=\"T_6e3890da_96ca_11ea_a71d_acde48001122row7_col1\" class=\"data row7 col1\" >5,440</td>\n",
       "                        <td id=\"T_6e3890da_96ca_11ea_a71d_acde48001122row7_col2\" class=\"data row7 col2\" >239</td>\n",
       "                        <td id=\"T_6e3890da_96ca_11ea_a71d_acde48001122row7_col3\" class=\"data row7 col3\" >42</td>\n",
       "                        <td id=\"T_6e3890da_96ca_11ea_a71d_acde48001122row7_col4\" class=\"data row7 col4\" >7,241</td>\n",
       "            </tr>\n",
       "            <tr>\n",
       "                        <th id=\"T_6e3890da_96ca_11ea_a71d_acde48001122level0_row8\" class=\"row_heading level0 row8\" >TAEB</th>\n",
       "                        <td id=\"T_6e3890da_96ca_11ea_a71d_acde48001122row8_col0\" class=\"data row8 col0\" >1,173</td>\n",
       "                        <td id=\"T_6e3890da_96ca_11ea_a71d_acde48001122row8_col1\" class=\"data row8 col1\" >4,199</td>\n",
       "                        <td id=\"T_6e3890da_96ca_11ea_a71d_acde48001122row8_col2\" class=\"data row8 col2\" >185</td>\n",
       "                        <td id=\"T_6e3890da_96ca_11ea_a71d_acde48001122row8_col3\" class=\"data row8 col3\" >32</td>\n",
       "                        <td id=\"T_6e3890da_96ca_11ea_a71d_acde48001122row8_col4\" class=\"data row8 col4\" >5,589</td>\n",
       "            </tr>\n",
       "            <tr>\n",
       "                        <th id=\"T_6e3890da_96ca_11ea_a71d_acde48001122level0_row9\" class=\"row_heading level0 row9\" >TAWB</th>\n",
       "                        <td id=\"T_6e3890da_96ca_11ea_a71d_acde48001122row9_col0\" class=\"data row9 col0\" >2,272</td>\n",
       "                        <td id=\"T_6e3890da_96ca_11ea_a71d_acde48001122row9_col1\" class=\"data row9 col1\" >8,131</td>\n",
       "                        <td id=\"T_6e3890da_96ca_11ea_a71d_acde48001122row9_col2\" class=\"data row9 col2\" >358</td>\n",
       "                        <td id=\"T_6e3890da_96ca_11ea_a71d_acde48001122row9_col3\" class=\"data row9 col3\" >63</td>\n",
       "                        <td id=\"T_6e3890da_96ca_11ea_a71d_acde48001122row9_col4\" class=\"data row9 col4\" >10,823</td>\n",
       "            </tr>\n",
       "            <tr>\n",
       "                        <th id=\"T_6e3890da_96ca_11ea_a71d_acde48001122level0_row10\" class=\"row_heading level0 row10\" >TPEB</th>\n",
       "                        <td id=\"T_6e3890da_96ca_11ea_a71d_acde48001122row10_col0\" class=\"data row10 col0\" >27,712</td>\n",
       "                        <td id=\"T_6e3890da_96ca_11ea_a71d_acde48001122row10_col1\" class=\"data row10 col1\" >99,194</td>\n",
       "                        <td id=\"T_6e3890da_96ca_11ea_a71d_acde48001122row10_col2\" class=\"data row10 col2\" >4,364</td>\n",
       "                        <td id=\"T_6e3890da_96ca_11ea_a71d_acde48001122row10_col3\" class=\"data row10 col3\" >766</td>\n",
       "                        <td id=\"T_6e3890da_96ca_11ea_a71d_acde48001122row10_col4\" class=\"data row10 col4\" >132,037</td>\n",
       "            </tr>\n",
       "            <tr>\n",
       "                        <th id=\"T_6e3890da_96ca_11ea_a71d_acde48001122level0_row11\" class=\"row_heading level0 row11\" >TPWB</th>\n",
       "                        <td id=\"T_6e3890da_96ca_11ea_a71d_acde48001122row11_col0\" class=\"data row11 col0\" >1,031</td>\n",
       "                        <td id=\"T_6e3890da_96ca_11ea_a71d_acde48001122row11_col1\" class=\"data row11 col1\" >3,691</td>\n",
       "                        <td id=\"T_6e3890da_96ca_11ea_a71d_acde48001122row11_col2\" class=\"data row11 col2\" >162</td>\n",
       "                        <td id=\"T_6e3890da_96ca_11ea_a71d_acde48001122row11_col3\" class=\"data row11 col3\" >28</td>\n",
       "                        <td id=\"T_6e3890da_96ca_11ea_a71d_acde48001122row11_col4\" class=\"data row11 col4\" >4,913</td>\n",
       "            </tr>\n",
       "            <tr>\n",
       "                        <th id=\"T_6e3890da_96ca_11ea_a71d_acde48001122level0_row12\" class=\"row_heading level0 row12\" >All</th>\n",
       "                        <td id=\"T_6e3890da_96ca_11ea_a71d_acde48001122row12_col0\" class=\"data row12 col0\" >41,977</td>\n",
       "                        <td id=\"T_6e3890da_96ca_11ea_a71d_acde48001122row12_col1\" class=\"data row12 col1\" >150,254</td>\n",
       "                        <td id=\"T_6e3890da_96ca_11ea_a71d_acde48001122row12_col2\" class=\"data row12 col2\" >6,611</td>\n",
       "                        <td id=\"T_6e3890da_96ca_11ea_a71d_acde48001122row12_col3\" class=\"data row12 col3\" >1,160</td>\n",
       "                        <td id=\"T_6e3890da_96ca_11ea_a71d_acde48001122row12_col4\" class=\"data row12 col4\" >200,002</td>\n",
       "            </tr>\n",
       "    </tbody></table>"
      ],
      "text/plain": [
       "<pandas.io.formats.style.Styler at 0x137f7b5d0>"
      ]
     },
     "execution_count": 11,
     "metadata": {},
     "output_type": "execute_result"
    }
   ],
   "source": [
    "# Useful function to get expected counts\n",
    "from scipy.stats import chi2_contingency\n",
    "\n",
    "# Get expected counts and make into dataframe matching our\n",
    "# previous cross-tab\n",
    "chi2_stat, p_value, dof, exp_counts = chi2_contingency(tradelane_mode_xt)\n",
    "exp_tradelane_mode_xt = pd.DataFrame(exp_counts)\n",
    "exp_tradelane_mode_xt.index = tradelane_mode_xt.index\n",
    "exp_tradelane_mode_xt.columns = tradelane_mode_xt.columns\n",
    "\n",
    "# Add 'All' total row & column\n",
    "exp_tradelane_mode_xt['All'] = exp_tradelane_mode_xt.sum(axis=1)\n",
    "exp_tradelane_mode_xt = exp_tradelane_mode_xt.append(\n",
    "    exp_tradelane_mode_xt.sum(axis=0).rename('All'))\n",
    "\n",
    "# These are the expected frequencies (if tradelane and mode were independent)\n",
    "print('Expected Frequencies:')\n",
    "exp_tradelane_mode_xt.style.format(\"{:,.0f}\")\n"
   ]
  },
  {
   "cell_type": "markdown",
   "metadata": {
    "slideshow": {
     "slide_type": "subslide"
    }
   },
   "source": [
    "**TODO**: Now, look at the differences between what we _observed_ and what we _expected_ to see."
   ]
  },
  {
   "cell_type": "code",
   "execution_count": 12,
   "metadata": {
    "slideshow": {
     "slide_type": "fragment"
    }
   },
   "outputs": [
    {
     "data": {
      "text/html": [
       "<style  type=\"text/css\" >\n",
       "</style><table id=\"T_6e3a227e_96ca_11ea_a71d_acde48001122\" ><thead>    <tr>        <th class=\"index_name level0\" >mode</th>        <th class=\"col_heading level0 col0\" >Air</th>        <th class=\"col_heading level0 col1\" >Ocean</th>        <th class=\"col_heading level0 col2\" >Truck - Domestic</th>        <th class=\"col_heading level0 col3\" >Truck - International</th>        <th class=\"col_heading level0 col4\" >All</th>    </tr>    <tr>        <th class=\"index_name level0\" >tradelane</th>        <th class=\"blank\" ></th>        <th class=\"blank\" ></th>        <th class=\"blank\" ></th>        <th class=\"blank\" ></th>        <th class=\"blank\" ></th>    </tr></thead><tbody>\n",
       "                <tr>\n",
       "                        <th id=\"T_6e3a227e_96ca_11ea_a71d_acde48001122level0_row0\" class=\"row_heading level0 row0\" >Africa to North America</th>\n",
       "                        <td id=\"T_6e3a227e_96ca_11ea_a71d_acde48001122row0_col0\" class=\"data row0 col0\" >-13</td>\n",
       "                        <td id=\"T_6e3a227e_96ca_11ea_a71d_acde48001122row0_col1\" class=\"data row0 col1\" >17</td>\n",
       "                        <td id=\"T_6e3a227e_96ca_11ea_a71d_acde48001122row0_col2\" class=\"data row0 col2\" >-3</td>\n",
       "                        <td id=\"T_6e3a227e_96ca_11ea_a71d_acde48001122row0_col3\" class=\"data row0 col3\" >-1</td>\n",
       "                        <td id=\"T_6e3a227e_96ca_11ea_a71d_acde48001122row0_col4\" class=\"data row0 col4\" >0</td>\n",
       "            </tr>\n",
       "            <tr>\n",
       "                        <th id=\"T_6e3a227e_96ca_11ea_a71d_acde48001122level0_row1\" class=\"row_heading level0 row1\" >Domestic</th>\n",
       "                        <td id=\"T_6e3a227e_96ca_11ea_a71d_acde48001122row1_col0\" class=\"data row1 col0\" >-1122</td>\n",
       "                        <td id=\"T_6e3a227e_96ca_11ea_a71d_acde48001122row1_col1\" class=\"data row1 col1\" >-3880</td>\n",
       "                        <td id=\"T_6e3a227e_96ca_11ea_a71d_acde48001122row1_col2\" class=\"data row1 col2\" >4986</td>\n",
       "                        <td id=\"T_6e3a227e_96ca_11ea_a71d_acde48001122row1_col3\" class=\"data row1 col3\" >16</td>\n",
       "                        <td id=\"T_6e3a227e_96ca_11ea_a71d_acde48001122row1_col4\" class=\"data row1 col4\" >0</td>\n",
       "            </tr>\n",
       "            <tr>\n",
       "                        <th id=\"T_6e3a227e_96ca_11ea_a71d_acde48001122level0_row2\" class=\"row_heading level0 row2\" >FEEB</th>\n",
       "                        <td id=\"T_6e3a227e_96ca_11ea_a71d_acde48001122row2_col0\" class=\"data row2 col0\" >129</td>\n",
       "                        <td id=\"T_6e3a227e_96ca_11ea_a71d_acde48001122row2_col1\" class=\"data row2 col1\" >-112</td>\n",
       "                        <td id=\"T_6e3a227e_96ca_11ea_a71d_acde48001122row2_col2\" class=\"data row2 col2\" >-15</td>\n",
       "                        <td id=\"T_6e3a227e_96ca_11ea_a71d_acde48001122row2_col3\" class=\"data row2 col3\" >-3</td>\n",
       "                        <td id=\"T_6e3a227e_96ca_11ea_a71d_acde48001122row2_col4\" class=\"data row2 col4\" >0</td>\n",
       "            </tr>\n",
       "            <tr>\n",
       "                        <th id=\"T_6e3a227e_96ca_11ea_a71d_acde48001122level0_row3\" class=\"row_heading level0 row3\" >FEWB</th>\n",
       "                        <td id=\"T_6e3a227e_96ca_11ea_a71d_acde48001122row3_col0\" class=\"data row3 col0\" >576</td>\n",
       "                        <td id=\"T_6e3a227e_96ca_11ea_a71d_acde48001122row3_col1\" class=\"data row3 col1\" >469</td>\n",
       "                        <td id=\"T_6e3a227e_96ca_11ea_a71d_acde48001122row3_col2\" class=\"data row3 col2\" >-908</td>\n",
       "                        <td id=\"T_6e3a227e_96ca_11ea_a71d_acde48001122row3_col3\" class=\"data row3 col3\" >-136</td>\n",
       "                        <td id=\"T_6e3a227e_96ca_11ea_a71d_acde48001122row3_col4\" class=\"data row3 col4\" >0</td>\n",
       "            </tr>\n",
       "            <tr>\n",
       "                        <th id=\"T_6e3a227e_96ca_11ea_a71d_acde48001122level0_row4\" class=\"row_heading level0 row4\" >Latin NB</th>\n",
       "                        <td id=\"T_6e3a227e_96ca_11ea_a71d_acde48001122row4_col0\" class=\"data row4 col0\" >19</td>\n",
       "                        <td id=\"T_6e3a227e_96ca_11ea_a71d_acde48001122row4_col1\" class=\"data row4 col1\" >-998</td>\n",
       "                        <td id=\"T_6e3a227e_96ca_11ea_a71d_acde48001122row4_col2\" class=\"data row4 col2\" >764</td>\n",
       "                        <td id=\"T_6e3a227e_96ca_11ea_a71d_acde48001122row4_col3\" class=\"data row4 col3\" >214</td>\n",
       "                        <td id=\"T_6e3a227e_96ca_11ea_a71d_acde48001122row4_col4\" class=\"data row4 col4\" >-0</td>\n",
       "            </tr>\n",
       "            <tr>\n",
       "                        <th id=\"T_6e3a227e_96ca_11ea_a71d_acde48001122level0_row5\" class=\"row_heading level0 row5\" >NA Export</th>\n",
       "                        <td id=\"T_6e3a227e_96ca_11ea_a71d_acde48001122row5_col0\" class=\"data row5 col0\" >-494</td>\n",
       "                        <td id=\"T_6e3a227e_96ca_11ea_a71d_acde48001122row5_col1\" class=\"data row5 col1\" >601</td>\n",
       "                        <td id=\"T_6e3a227e_96ca_11ea_a71d_acde48001122row5_col2\" class=\"data row5 col2\" >-98</td>\n",
       "                        <td id=\"T_6e3a227e_96ca_11ea_a71d_acde48001122row5_col3\" class=\"data row5 col3\" >-9</td>\n",
       "                        <td id=\"T_6e3a227e_96ca_11ea_a71d_acde48001122row5_col4\" class=\"data row5 col4\" >0</td>\n",
       "            </tr>\n",
       "            <tr>\n",
       "                        <th id=\"T_6e3a227e_96ca_11ea_a71d_acde48001122level0_row6\" class=\"row_heading level0 row6\" >Oceania NB</th>\n",
       "                        <td id=\"T_6e3a227e_96ca_11ea_a71d_acde48001122row6_col0\" class=\"data row6 col0\" >21</td>\n",
       "                        <td id=\"T_6e3a227e_96ca_11ea_a71d_acde48001122row6_col1\" class=\"data row6 col1\" >-16</td>\n",
       "                        <td id=\"T_6e3a227e_96ca_11ea_a71d_acde48001122row6_col2\" class=\"data row6 col2\" >-4</td>\n",
       "                        <td id=\"T_6e3a227e_96ca_11ea_a71d_acde48001122row6_col3\" class=\"data row6 col3\" >-1</td>\n",
       "                        <td id=\"T_6e3a227e_96ca_11ea_a71d_acde48001122row6_col4\" class=\"data row6 col4\" >-0</td>\n",
       "            </tr>\n",
       "            <tr>\n",
       "                        <th id=\"T_6e3a227e_96ca_11ea_a71d_acde48001122level0_row7\" class=\"row_heading level0 row7\" >ROW</th>\n",
       "                        <td id=\"T_6e3a227e_96ca_11ea_a71d_acde48001122row7_col0\" class=\"data row7 col0\" >582</td>\n",
       "                        <td id=\"T_6e3a227e_96ca_11ea_a71d_acde48001122row7_col1\" class=\"data row7 col1\" >-1652</td>\n",
       "                        <td id=\"T_6e3a227e_96ca_11ea_a71d_acde48001122row7_col2\" class=\"data row7 col2\" >329</td>\n",
       "                        <td id=\"T_6e3a227e_96ca_11ea_a71d_acde48001122row7_col3\" class=\"data row7 col3\" >741</td>\n",
       "                        <td id=\"T_6e3a227e_96ca_11ea_a71d_acde48001122row7_col4\" class=\"data row7 col4\" >0</td>\n",
       "            </tr>\n",
       "            <tr>\n",
       "                        <th id=\"T_6e3a227e_96ca_11ea_a71d_acde48001122level0_row8\" class=\"row_heading level0 row8\" >TAEB</th>\n",
       "                        <td id=\"T_6e3a227e_96ca_11ea_a71d_acde48001122row8_col0\" class=\"data row8 col0\" >353</td>\n",
       "                        <td id=\"T_6e3a227e_96ca_11ea_a71d_acde48001122row8_col1\" class=\"data row8 col1\" >-137</td>\n",
       "                        <td id=\"T_6e3a227e_96ca_11ea_a71d_acde48001122row8_col2\" class=\"data row8 col2\" >-184</td>\n",
       "                        <td id=\"T_6e3a227e_96ca_11ea_a71d_acde48001122row8_col3\" class=\"data row8 col3\" >-32</td>\n",
       "                        <td id=\"T_6e3a227e_96ca_11ea_a71d_acde48001122row8_col4\" class=\"data row8 col4\" >0</td>\n",
       "            </tr>\n",
       "            <tr>\n",
       "                        <th id=\"T_6e3a227e_96ca_11ea_a71d_acde48001122level0_row9\" class=\"row_heading level0 row9\" >TAWB</th>\n",
       "                        <td id=\"T_6e3a227e_96ca_11ea_a71d_acde48001122row9_col0\" class=\"data row9 col0\" >486</td>\n",
       "                        <td id=\"T_6e3a227e_96ca_11ea_a71d_acde48001122row9_col1\" class=\"data row9 col1\" >-69</td>\n",
       "                        <td id=\"T_6e3a227e_96ca_11ea_a71d_acde48001122row9_col2\" class=\"data row9 col2\" >-356</td>\n",
       "                        <td id=\"T_6e3a227e_96ca_11ea_a71d_acde48001122row9_col3\" class=\"data row9 col3\" >-62</td>\n",
       "                        <td id=\"T_6e3a227e_96ca_11ea_a71d_acde48001122row9_col4\" class=\"data row9 col4\" >0</td>\n",
       "            </tr>\n",
       "            <tr>\n",
       "                        <th id=\"T_6e3a227e_96ca_11ea_a71d_acde48001122level0_row10\" class=\"row_heading level0 row10\" >TPEB</th>\n",
       "                        <td id=\"T_6e3a227e_96ca_11ea_a71d_acde48001122row10_col0\" class=\"data row10 col0\" >-372</td>\n",
       "                        <td id=\"T_6e3a227e_96ca_11ea_a71d_acde48001122row10_col1\" class=\"data row10 col1\" >5420</td>\n",
       "                        <td id=\"T_6e3a227e_96ca_11ea_a71d_acde48001122row10_col2\" class=\"data row10 col2\" >-4348</td>\n",
       "                        <td id=\"T_6e3a227e_96ca_11ea_a71d_acde48001122row10_col3\" class=\"data row10 col3\" >-699</td>\n",
       "                        <td id=\"T_6e3a227e_96ca_11ea_a71d_acde48001122row10_col4\" class=\"data row10 col4\" >0</td>\n",
       "            </tr>\n",
       "            <tr>\n",
       "                        <th id=\"T_6e3a227e_96ca_11ea_a71d_acde48001122level0_row11\" class=\"row_heading level0 row11\" >TPWB</th>\n",
       "                        <td id=\"T_6e3a227e_96ca_11ea_a71d_acde48001122row11_col0\" class=\"data row11 col0\" >-165</td>\n",
       "                        <td id=\"T_6e3a227e_96ca_11ea_a71d_acde48001122row11_col1\" class=\"data row11 col1\" >356</td>\n",
       "                        <td id=\"T_6e3a227e_96ca_11ea_a71d_acde48001122row11_col2\" class=\"data row11 col2\" >-162</td>\n",
       "                        <td id=\"T_6e3a227e_96ca_11ea_a71d_acde48001122row11_col3\" class=\"data row11 col3\" >-28</td>\n",
       "                        <td id=\"T_6e3a227e_96ca_11ea_a71d_acde48001122row11_col4\" class=\"data row11 col4\" >0</td>\n",
       "            </tr>\n",
       "            <tr>\n",
       "                        <th id=\"T_6e3a227e_96ca_11ea_a71d_acde48001122level0_row12\" class=\"row_heading level0 row12\" >All</th>\n",
       "                        <td id=\"T_6e3a227e_96ca_11ea_a71d_acde48001122row12_col0\" class=\"data row12 col0\" >0</td>\n",
       "                        <td id=\"T_6e3a227e_96ca_11ea_a71d_acde48001122row12_col1\" class=\"data row12 col1\" >0</td>\n",
       "                        <td id=\"T_6e3a227e_96ca_11ea_a71d_acde48001122row12_col2\" class=\"data row12 col2\" >0</td>\n",
       "                        <td id=\"T_6e3a227e_96ca_11ea_a71d_acde48001122row12_col3\" class=\"data row12 col3\" >0</td>\n",
       "                        <td id=\"T_6e3a227e_96ca_11ea_a71d_acde48001122row12_col4\" class=\"data row12 col4\" >0</td>\n",
       "            </tr>\n",
       "    </tbody></table>"
      ],
      "text/plain": [
       "<pandas.io.formats.style.Styler at 0x139fa5210>"
      ]
     },
     "execution_count": 12,
     "metadata": {},
     "output_type": "execute_result"
    }
   ],
   "source": [
    "# TODO: Subtract the expected from the observed frequencies\n",
    "tradelane_mode_xt_diff = tradelane_mode_xt_marg - exp_tradelane_mode_xt\n",
    "tradelane_mode_xt_diff.style.format(\"{:.0f}\")"
   ]
  },
  {
   "cell_type": "markdown",
   "metadata": {
    "slideshow": {
     "slide_type": "subslide"
    }
   },
   "source": [
    "**Question**: \n",
    "\n",
    "> The errors are positive and negative. How can we generalize this _algorithm_ so the metric it produces is consistent?"
   ]
  },
  {
   "cell_type": "markdown",
   "metadata": {
    "slideshow": {
     "slide_type": "fragment"
    }
   },
   "source": [
    "**Answer**: \n",
    "\n",
    "> Let's square the differences!\n",
    ">\n",
    "> $$\n",
    " (O_{i,j}-E_{i,j})^2\n",
    " $$"
   ]
  },
  {
   "cell_type": "markdown",
   "metadata": {
    "slideshow": {
     "slide_type": "subslide"
    }
   },
   "source": [
    "**Question**: \n",
    "\n",
    "> But how do we deal with the absolute magnitude of these numbers? \n",
    "\n",
    "(We wouldn't want our metric to be bigger just because we have more counts of stuff.)"
   ]
  },
  {
   "cell_type": "markdown",
   "metadata": {
    "slideshow": {
     "slide_type": "fragment"
    }
   },
   "source": [
    "**Answer**: \n",
    "\n",
    "> We can normalize by the expected count in each cell!\n",
    "> \n",
    "> $$\n",
    "\\frac{(O_{i,j}-E_{i,j})^2}{E_{i,j}}\n",
    "$$"
   ]
  },
  {
   "cell_type": "markdown",
   "metadata": {
    "slideshow": {
     "slide_type": "subslide"
    }
   },
   "source": [
    "Great! So now we have the difference between observed and expected -- our _error_. \n",
    "\n",
    "But there are lots of numbers here, one for each cell, in fact.\n",
    "\n",
    "**Question**: \n",
    "\n",
    "> How can we summarize this in one number?"
   ]
  },
  {
   "cell_type": "markdown",
   "metadata": {
    "slideshow": {
     "slide_type": "fragment"
    }
   },
   "source": [
    "**Answer**: \n",
    "\n",
    "> Let's just add it all up!\n",
    "> \n",
    "> $$\n",
    "\\sum_{i,j}^{}\\frac{(O_{i,j}-E_{i,j})^2}{E_{i,j}}\n",
    "$$"
   ]
  },
  {
   "cell_type": "markdown",
   "metadata": {
    "slideshow": {
     "slide_type": "subslide"
    }
   },
   "source": [
    "Let's call our newly concocted metric something: how about the \"$\\chi^{2}$ statistic\"?\n",
    "\n",
    "**TODO**: Implement this statistic. "
   ]
  },
  {
   "cell_type": "code",
   "execution_count": 13,
   "metadata": {
    "slideshow": {
     "slide_type": "fragment"
    }
   },
   "outputs": [
    {
     "name": "stdout",
     "output_type": "stream",
     "text": [
      "Our Chi-Square statistic:            172597.65\n",
      "SciPy's Chi-Square statistic:        172597.65\n"
     ]
    }
   ],
   "source": [
    "# TODO: Implement our metric so it matches the out-of-box calculation\n",
    "our_chi2 = (tradelane_mode_xt_diff**2).div(exp_tradelane_mode_xt).sum().sum()\n",
    "\n",
    "print(f\"Our Chi-Square statistic: {our_chi2:>20.2f}\")\n",
    "print(f\"SciPy's Chi-Square statistic: {chi2_stat:>16.2f}\")\n"
   ]
  },
  {
   "cell_type": "markdown",
   "metadata": {
    "slideshow": {
     "slide_type": "subslide"
    }
   },
   "source": [
    "![Nice](https://media.giphy.com/media/8xgqLTTgWqHWU/giphy.gif)\n",
    "\n",
    "Nice. We just invented some math that's somewhat legit."
   ]
  },
  {
   "cell_type": "markdown",
   "metadata": {
    "slideshow": {
     "slide_type": "fragment"
    }
   },
   "source": [
    "Look familiar? This was in the prompt of the last question on the diagnostic quiz re: interpreting $p$-values)!"
   ]
  },
  {
   "cell_type": "markdown",
   "metadata": {
    "slideshow": {
     "slide_type": "subslide"
    }
   },
   "source": [
    "Later, once we have the fundamentals down, we'll get to statistical hypothesis testing. But let's look at the $p$-value for our test statistic here:"
   ]
  },
  {
   "cell_type": "code",
   "execution_count": 14,
   "metadata": {},
   "outputs": [
    {
     "data": {
      "text/plain": [
       "33"
      ]
     },
     "metadata": {},
     "output_type": "display_data"
    },
    {
     "data": {
      "text/plain": [
       "0.0"
      ]
     },
     "metadata": {},
     "output_type": "display_data"
    }
   ],
   "source": [
    "display(dof)\n",
    "display(p_value)"
   ]
  },
  {
   "cell_type": "markdown",
   "metadata": {
    "slideshow": {
     "slide_type": "subslide"
    }
   },
   "source": [
    "As we will explore much later (we should work to get the fundamentals down first), **the $p$-value is a _conditional_ probability itself**!\n",
    "\n",
    "**Question**: \n",
    "\n",
    "> Under what condition is the $p$-value?"
   ]
  },
  {
   "cell_type": "markdown",
   "metadata": {
    "slideshow": {
     "slide_type": "fragment"
    }
   },
   "source": [
    "<img src=\"https://upload.wikimedia.org/wikipedia/commons/thumb/3/3a/P-value_in_statistical_significance_testing.svg/1024px-P-value_in_statistical_significance_testing.svg.png\" width=500/>"
   ]
  },
  {
   "cell_type": "markdown",
   "metadata": {
    "slideshow": {
     "slide_type": "slide"
    }
   },
   "source": [
    "## Combining Events 🌗 🌓 🌕\n",
    "\n",
    "An **event** is just a subset of the **sample space**. So when we _union_ or _intersect_ events, we're just doing normal set operations."
   ]
  },
  {
   "cell_type": "markdown",
   "metadata": {
    "slideshow": {
     "slide_type": "subslide"
    }
   },
   "source": [
    "### Intersection of Events $\\cap$\n",
    "\n",
    "$$\n",
    "P(A \\cap B) = P(B)P(A|B) = P(A)P(B|A)\n",
    "$$\n",
    "\n",
    "Why is this true?\n",
    "\n",
    "![Conditional Probability in \"Pebble World\"](./pebble_world_conditioning.png)"
   ]
  },
  {
   "cell_type": "markdown",
   "metadata": {
    "slideshow": {
     "slide_type": "subslide"
    }
   },
   "source": [
    "### Union of Disjoint Events\n",
    "\n",
    "When events are *disjoint*, taking their union is straightforward since there is no overlap in events. All we do is sum up the disjoint events (like we did with the shipments-tradelane problem last time). \n",
    "\n",
    "![Third Axiom of Probability](https://wikimedia.org/api/rest_v1/media/math/render/svg/47f22fe03df467b1d20785e5026bac39fabd9edc)\n",
    "\n",
    "In fact, this is one of the [Axioms of Probability](https://en.wikipedia.org/wiki/Probability_axioms)!\n",
    "\n",
    "...but things get trickier when events do overlap (read: intersect)!"
   ]
  },
  {
   "cell_type": "markdown",
   "metadata": {
    "slideshow": {
     "slide_type": "subslide"
    }
   },
   "source": [
    "### Union of Events $\\cup$\n",
    "\n",
    "**Question**\n",
    "\n",
    "> So, what do we do when events overlap?\n",
    "\n",
    "![2 overlapping events](https://www.probabilitycourse.com/images/chapter1/union_b.png)\n",
    "\n",
    "<img src=\"https://www.conceptdraw.com/How-To-Guide/picture/3-circle-venn.png\" width=700 />"
   ]
  },
  {
   "cell_type": "markdown",
   "metadata": {
    "slideshow": {
     "slide_type": "subslide"
    }
   },
   "source": [
    "**Answer**: \n",
    "\n",
    "> Principle of Inclusion-Exclusion\n",
    ">\n",
    ">![PIE](https://wikimedia.org/api/rest_v1/media/math/render/svg/c14e130250afb7484a5162c7fc76fab425397279)\n",
    "\n",
    "This isn't as crazy as it looks. Sit and think about what it's doing: try some simple examples, try to explain it to a roommate, or even write some Python if you have to!"
   ]
  },
  {
   "cell_type": "markdown",
   "metadata": {
    "slideshow": {
     "slide_type": "slide"
    }
   },
   "source": [
    "**Homework**:\n",
    "\n",
    "> Let's say SF Flexporters return to a post-COVID working arrangement wherein each of the 20 DAs are \"buddied up\" with one other DA. Effectively, there are two shifts: a Monday shift (10 DAs) and a Friday shift consisting of the other 10 DAs (i.e., the buddies of those in the first shift). \n",
    ">\n",
    "> Assume that seating is random and independent (i.e., no coordination of seats between buddies or among those in a shift) -- people just show up and sit somewhere.\n",
    ">\n",
    "> **What's the probability that no one in the Friday shift is sitting in the same seat as their \\[Monday shift\\] buddy?**\n",
    "\n",
    "(Remember, you have a computer. Try to simulate this if the analytical solution isn't coming to you. **Work together!**)"
   ]
  },
  {
   "cell_type": "markdown",
   "metadata": {
    "slideshow": {
     "slide_type": "slide"
    }
   },
   "source": [
    "## Independence ⫫\n",
    "\n",
    "Now we can introduce, more formally, what **independence** means among events. Later we'll extend this notion to random variables."
   ]
  },
  {
   "cell_type": "markdown",
   "metadata": {
    "slideshow": {
     "slide_type": "subslide"
    }
   },
   "source": [
    "### Definition of Independence\n",
    "\n",
    "<br>\n",
    "\n",
    "$A$ and $B$ are **independent** of one another if and only if $P(A \\cap B) = P(A)P(B)$. (Sometimes this is written as $P(A,B) = P(A)P(B)$.)"
   ]
  },
  {
   "cell_type": "markdown",
   "metadata": {
    "slideshow": {
     "slide_type": "fragment"
    }
   },
   "source": [
    "Said another way, $A$ and $B$ are **independent** of one another if and only if $P(A\\,|\\,B) = P(A)$, which is equivalent to $P(B\\,|\\,A) = P(B)$."
   ]
  },
  {
   "cell_type": "markdown",
   "metadata": {
    "slideshow": {
     "slide_type": "fragment"
    }
   },
   "source": [
    "In plain-speak, this just says that having information about one event occurring (or not*) doesn't change the probability of the other event."
   ]
  },
  {
   "cell_type": "markdown",
   "metadata": {
    "slideshow": {
     "slide_type": "subslide"
    }
   },
   "source": [
    "<div>\n",
    "<img src=\"https://courses.cs.cornell.edu/cs2800/wiki/images/thumb/3/3b/Conditional-probability.svg/445px-Conditional-probability.svg.png\" width=\"800\"/>\n",
    "</div>\n",
    "\n",
    "<br>\n",
    "\n",
    "As mentioned before, **conditioning just re-normalizes our set of possible outcomes given new information**. This provides the basis for translating between unconditional probabilities and conditional probabilities.\n"
   ]
  },
  {
   "cell_type": "markdown",
   "metadata": {
    "slideshow": {
     "slide_type": "slide"
    }
   },
   "source": [
    "Going back to our diagnostic quiz question about ocean and air shipments, we can use this formalization to calculate the probabilities of each scenario directly:"
   ]
  },
  {
   "cell_type": "markdown",
   "metadata": {
    "slideshow": {
     "slide_type": "fragment"
    }
   },
   "source": [
    "_Scenario A_\n",
    "\n",
    "$$\n",
    "\\begin{align}\n",
    "P(\\text{both shipments are air}\\,|\\,\\text{at least one shipment is air}) &= \\\\\n",
    "\\frac{P(\\text{both shipments are air} \\cap \\text{at least one shipment is air})}{P(\\text{at least one shipment is air})} &= \\frac{P(\\text{both shipments are air})}{P(\\text{at least one shipment is air})} \\\\\n",
    "&= \\frac{\\frac{1}{4}}{\\frac{3}{4}} \\\\\n",
    "&= \\frac{1}{3}\n",
    "\\end{align}\n",
    "$$"
   ]
  },
  {
   "cell_type": "markdown",
   "metadata": {
    "slideshow": {
     "slide_type": "fragment"
    }
   },
   "source": [
    "_Scenario B_\n",
    "\n",
    "$$\n",
    "\\begin{align}\n",
    "P(\\text{both shipments are air}\\,|\\,\\text{the second shipment is air}) &=\\\\ \n",
    "\\frac{P(\\text{both shipments are air} \\cap \\text{the second shipment is air})}{P(\\text{the second shipment is air})} &= \\frac{P(\\text{both shipments are air})}{P(\\text{the second shipment is air})} \\\\\n",
    "&= \\frac{\\frac{1}{4}}{\\frac{1}{2}} \\\\\n",
    "&= \\frac{1}{2}\n",
    "\\end{align}\n",
    "$$"
   ]
  },
  {
   "cell_type": "markdown",
   "metadata": {
    "slideshow": {
     "slide_type": "subslide"
    }
   },
   "source": [
    "So, are the events in the two scenarios here independent?\n",
    "\n",
    "**Questions**:\n",
    "\n",
    "> Is the event \"both shipments are air\" independent of \"at least one shipment is air\"?\n",
    "\n",
    "> Is the event \"both shipments are air\" independent of \"the second shipment is air\"?\n"
   ]
  },
  {
   "cell_type": "markdown",
   "metadata": {
    "slideshow": {
     "slide_type": "fragment"
    }
   },
   "source": [
    "**Answers**:\n",
    "\n",
    "> No. The events in the first scenario are NOT independent, nor are the events in the second scenario."
   ]
  },
  {
   "cell_type": "markdown",
   "metadata": {
    "slideshow": {
     "slide_type": "subslide"
    }
   },
   "source": [
    "**Homework**:\n",
    "\n",
    "> \\* Prove that $P(A, B) = P(A)P(B) \\implies P(A\\,|\\,B^c) = P(A)$. \n",
    "\n",
    "In plain-speak, I'm asking you to prove that if an event is indepedent of another event having occurring, it is also indepedent of the other event not occurring.\n",
    "\n",
    "Intuitively, it should make sense that if two things are independent, whether one of them happens _or not_ shouldn't affect the other, vice versa.\n",
    "\n",
    "(Hint: Use what you already know about complements.)\n"
   ]
  },
  {
   "cell_type": "markdown",
   "metadata": {
    "slideshow": {
     "slide_type": "slide"
    }
   },
   "source": [
    "## The Law of Total Probability 📜\n",
    "\n",
    "Now we need connect conditional and unconditional probabilities. We do this with **the Law of Total Probability** (LOTP). \n",
    "\n",
    "<br>\n",
    "\n",
    "Once we understand this, we will have all the required tools to prove the all-important identity: **Bayes' Theorem**, which we'll leave for next time. \n",
    "\n",
    "<br>\n",
    "\n",
    "You'll also have the tools to deal with conditioning on multiple events/pieces of information since the concepts translate generally.\n",
    "\n"
   ]
  },
  {
   "cell_type": "markdown",
   "metadata": {
    "slideshow": {
     "slide_type": "subslide"
    }
   },
   "source": [
    "**The Law of Total Probability** is an incredibly useful problem solving tool. Formally stated, it says:\n",
    "\n",
    "$$\n",
    "\\text{If }A_i,...,A_n \\text{ is a partition of the sample space }S \\text{, then }P(B) = \\sum_{i=1}^{n}{P(B|A_i)P(A_i)}.\n",
    "$$"
   ]
  },
  {
   "cell_type": "markdown",
   "metadata": {
    "slideshow": {
     "slide_type": "fragment"
    }
   },
   "source": [
    "But this is likely better illustrated with a picture:\n",
    "\n",
    "![Partition of B by A](./LOTP.png)"
   ]
  },
  {
   "cell_type": "markdown",
   "metadata": {
    "slideshow": {
     "slide_type": "slide"
    }
   },
   "source": [
    "Okay, your turn to practice!\n",
    "\n",
    "**Question**: \n",
    "\n",
    "> What's $P(\\text{TPEB})$. \n",
    "\n",
    "Partition the data and use LOTP so you can calculate it. Check against the data directly."
   ]
  },
  {
   "cell_type": "code",
   "execution_count": 15,
   "metadata": {
    "slideshow": {
     "slide_type": "subslide"
    }
   },
   "outputs": [
    {
     "name": "stdout",
     "output_type": "stream",
     "text": [
      "Our Answer: 66.01784%\n",
      "Expected Answer: 66.01784%\n"
     ]
    }
   ],
   "source": [
    "## TODO: Demonstrate LOTP on our data; start with tradelane_mode_xt\n",
    "\n",
    "# This is the denominator to convert cardinality of sets to probabilities\n",
    "# (per the naïve Definition of Probability)\n",
    "S = tradelane_mode_xt.sum().sum()\n",
    "\n",
    "# Show that p_TPEB_by_LTOP == p_TPEB\n",
    "p_TPEB = tradelane_mode_xt.loc['TPEB',:].sum()/S\n",
    "\n",
    "p_Air = tradelane_mode_xt.loc[:,'Air'].sum()/S\n",
    "\n",
    "p_not_Air = 1 - p_Air\n",
    "\n",
    "p_TPEB_given_Air = (tradelane_mode_xt.loc['TPEB', \n",
    "                                         'Air'\n",
    "                            ].sum()/S) / p_Air\n",
    "\n",
    "p_TPEB_given_not_Air = (tradelane_mode_xt.loc['TPEB', \n",
    "                                             tradelane_mode_xt.columns != 'Air'\n",
    "                            ].sum()/S) / p_not_Air\n",
    "\n",
    "\n",
    "p_TPEB_by_LOTP = (p_TPEB_given_Air * p_Air) + (p_TPEB_given_not_Air * p_not_Air)\n",
    "\n",
    "# Check if our answer is right   \n",
    "print(f\"Our Answer: {p_TPEB_by_LOTP:.5%}\")\n",
    "print(f\"Expected Answer: {p_TPEB:.5%}\")"
   ]
  },
  {
   "cell_type": "markdown",
   "metadata": {
    "slideshow": {
     "slide_type": "slide"
    }
   },
   "source": [
    "**Homework**: \n",
    "\n",
    "> How would I get $P(\\text{Ocean} \\cup \\text{Truck - Domestic}\\,|\\,\\text{TAWB}\\cup\\text{Latin NB})$? \n",
    "\n",
    "> What can you say when you compare this with the unconditional probability, $P(\\text{Ocean} \\cup \\text{Truck - Domestic})$?\n",
    "\n",
    "> Is this the same thing as $P(\\text{TAWB}\\cup\\text{Latin NB}\\,|\\,\\text{Ocean} \\cup \\text{Truck - Domestic})$? Why or why not?\n",
    "\n",
    "Oh, yeah...**work together**!"
   ]
  },
  {
   "cell_type": "code",
   "execution_count": 16,
   "metadata": {
    "slideshow": {
     "slide_type": "skip"
    }
   },
   "outputs": [
    {
     "name": "stdout",
     "output_type": "stream",
     "text": [
      "P(Ocean or Truck - Domestic | TAWB or Latin NB) = 73.49%\n",
      "P(Ocean or Truck - Domestic) = 78.43%\n"
     ]
    }
   ],
   "source": [
    "## TODO: P(Ocean or Truck - Domestic | TAWB or Latin NB) = ?\n",
    "# Not that its necessarily useful, but notice the unions are of \n",
    "# disjoint events (a shipment cannot be TAWB and Latin NB)\n",
    "\n",
    "# Let A = Ocean or Truck - Domestic\n",
    "# P(A)\n",
    "p_A = tradelane_mode_xt.loc[:,['Ocean', 'Truck - Domestic']].sum().sum() / S\n",
    "\n",
    "# Let B = TAWB or Latin NB\n",
    "# P(B)\n",
    "p_B = tradelane_mode_xt.loc[[\"TAWB\", \"Latin NB\"]].sum().sum() / S\n",
    "\n",
    "# P(A, B)\n",
    "p_A_and_B = tradelane_mode_xt.loc[[\"TAWB\", \"Latin NB\"],\n",
    "                                  ['Ocean', 'Truck - Domestic']].sum().sum() / S\n",
    "\n",
    "print(f\"P(Ocean or Truck - Domestic | TAWB or Latin NB) = {p_A_and_B/p_B:.2%}\")\n",
    "print(f\"P(Ocean or Truck - Domestic) = {p_A:.2%}\")"
   ]
  }
 ],
 "metadata": {
  "celltoolbar": "Slideshow",
  "kernelspec": {
   "display_name": "Python 3",
   "language": "python",
   "name": "python3"
  },
  "language_info": {
   "codemirror_mode": {
    "name": "ipython",
    "version": 3
   },
   "file_extension": ".py",
   "mimetype": "text/x-python",
   "name": "python",
   "nbconvert_exporter": "python",
   "pygments_lexer": "ipython3",
   "version": "3.7.6"
  },
  "rise": {
   "enable_chalkboard": true,
   "scroll": true
  }
 },
 "nbformat": 4,
 "nbformat_minor": 4
}
