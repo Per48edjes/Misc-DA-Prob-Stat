{
 "cells": [
  {
   "cell_type": "markdown",
   "metadata": {
    "slideshow": {
     "slide_type": "slide"
    }
   },
   "source": [
    "# Data Visualization in Python \n",
    "DA Probability & Statistics Learning Series • Python Lesson 2\n",
    "\n",
    "<img src=\"https://pyxis.nymag.com/v1/imgs/0c1/267/38d1f78b4d3b94bd1b630ed7f810f3504b-07-softbank-group-05.2x.rhorizontal.w700.jpg\" align=\"center\" height=\"400\" width=\"600\"/>\n",
    "\n",
    "There's always something to learn from our fellow Vision Fund portfolio companies...\n",
    "\n",
    "*See **#da_prob_stat** for discussion during and after this tutorial.*\n"
   ]
  },
  {
   "cell_type": "markdown",
   "metadata": {
    "slideshow": {
     "slide_type": "slide"
    }
   },
   "source": [
    "## Goals\n",
    "\n",
    "- Understand the basic tools available to visualize data in Python\n",
    "- Learn to be resourceful while using Python\n",
    "- Get resources to simplify future visualizations\n",
    "- Give Shreyas a shot at being the TA he never was"
   ]
  },
  {
   "cell_type": "markdown",
   "metadata": {
    "slideshow": {
     "slide_type": "slide"
    }
   },
   "source": [
    "## Setup ⚙️"
   ]
  },
  {
   "cell_type": "code",
   "execution_count": 1,
   "metadata": {
    "slideshow": {
     "slide_type": "fragment"
    }
   },
   "outputs": [],
   "source": [
    "# Import dependencies\n",
    "from db_utils import get_connection, get_data\n",
    "import pandas as pd\n",
    "import numpy as np\n",
    "from datetime import datetime\n",
    "\n",
    "# Data viz\n",
    "%matplotlib inline\n",
    "import matplotlib.pyplot as plt\n",
    "from matplotlib import figure, axes\n",
    "from matplotlib.ticker import PercentFormatter, FormatStrFormatter\n",
    "import matplotlib.dates as mdates\n",
    "import seaborn as sns"
   ]
  },
  {
   "cell_type": "markdown",
   "metadata": {},
   "source": [
    "_Note that we are importing a new function called `get_data()` from `db_utils`. This is a wrapper around the the `pd.read_sql()` function you've seen before. Type `get_data()` and hit `Shift+Tab` to see how it works._"
   ]
  },
  {
   "cell_type": "markdown",
   "metadata": {},
   "source": [
    "**WARM UP:** Complete `custom_get_data()` function to refresh how context managers work"
   ]
  },
  {
   "cell_type": "code",
   "execution_count": 3,
   "metadata": {},
   "outputs": [],
   "source": [
    "def custom_get_data(input_source, input_type, conn):\n",
    "    \"\"\"\n",
    "    Function to get data from a .sql file or SQL query string input\n",
    "\n",
    "    Parameters\n",
    "    ---\n",
    "    input_source\n",
    "        Either a string with a valid SQL query or a .sql file\n",
    "\n",
    "    input_type\n",
    "        'file' if input is a .sql file; 'text' if input is  a string\n",
    "\n",
    "    conn\n",
    "        Connector object returned by get_connection() function\n",
    "    \"\"\"\n",
    "\n",
    "#     if input_type == 'text':\n",
    "        # Use the read_sql method to get the data from Snowflake into a Pandas dataframe\n",
    "#         df = \n",
    "\n",
    "#     if input_type == 'file':\n",
    "        # Open the input_source file using the 'with' clause\n",
    "        # Remember, you need to 'r'ead\n",
    "#         with open() as q:\n",
    "\n",
    "            # Save contents of input_source as a string in query_str\n",
    "#             query_str = q.read()\n",
    "\n",
    "            # Use the read_sql method to get the data from Snowflake into a Pandas dataframe\n",
    "#             df = \n",
    "\n",
    "    # Make all the columns of the dataframe lowercase\n",
    "#     df.columns = map(str.lower, df.columns)\n",
    "\n",
    "#     return df"
   ]
  },
  {
   "cell_type": "markdown",
   "metadata": {},
   "source": [
    "### Throwback ⏪\n",
    "\n",
    "In the homework from the previous Python lesson, we calculated the OTP of Air shipments in March 2020"
   ]
  },
  {
   "cell_type": "code",
   "execution_count": 4,
   "metadata": {},
   "outputs": [
    {
     "name": "stdout",
     "output_type": "stream",
     "text": [
      "Initiating login request with your identity provider. A browser window should have opened for you to complete the login. If you can't see it, check existing browser windows, or your OS settings. Press CTRL+C to abort and try again...\n"
     ]
    }
   ],
   "source": [
    "# Get the database connection and cursor objects\n",
    "conn, cur = get_connection()\n",
    "\n",
    "# Get data from the otp.sql file\n",
    "hw_df = get_data('otp.sql', 'file', conn)\n",
    "\n",
    "# Rename column headers\n",
    "hw_df.columns = [\n",
    "    'shipment_id', \n",
    "    'completion_date', \n",
    "    'mode_blended', \n",
    "    'transit_on_time', \n",
    "    'all_transit_milestones_completed'\n",
    "]"
   ]
  },
  {
   "cell_type": "code",
   "execution_count": 5,
   "metadata": {},
   "outputs": [],
   "source": [
    "# Create an int version of transit_on_time and convert completion date from string to date\n",
    "hw_df['transit_on_time'] = hw_df['transit_on_time'].apply(lambda x: x == 'True')\n",
    "hw_df['transit_on_time_int'] = hw_df['transit_on_time'].apply(lambda x: int(x))\n",
    "\n",
    "hw_df['completion_dt'] = [datetime.strptime(i, '%Y-%m-%d') for i in hw_df['completion_date']]\n",
    "hw_df['completion_month'] = hw_df['completion_dt'].dt.month\n",
    "hw_df['completion_year'] = hw_df['completion_dt'].dt.year"
   ]
  },
  {
   "cell_type": "code",
   "execution_count": 6,
   "metadata": {},
   "outputs": [
    {
     "name": "stdout",
     "output_type": "stream",
     "text": [
      "Air Shipments OTP - March 2020: 36.0%\n"
     ]
    }
   ],
   "source": [
    "air_march_otp = \\\n",
    "hw_df[\n",
    "    (hw_df['all_transit_milestones_completed'] == 'Yes') &\n",
    "    (hw_df['completion_month'] == 3) &\n",
    "    (hw_df['completion_year'] == 2020) &\n",
    "    (hw_df['mode_blended'] == 'Air')\n",
    "].\\\n",
    "groupby(by=['mode_blended', 'completion_month', 'completion_year']).\\\n",
    "agg({'transit_on_time_int' : 'mean'}).\\\n",
    "reset_index()\n",
    "\n",
    "air_march_otp.columns = ['mode', 'month', 'year', 'otp_percent']\n",
    "\n",
    "print(f'Air Shipments OTP - March 2020: {air_march_otp.loc[0,\"otp_percent\"]*100}%')"
   ]
  },
  {
   "cell_type": "markdown",
   "metadata": {},
   "source": [
    "## Motivating Question 🤔\n",
    "\n",
    "> What has OTP looked like for Air shipments over the course of 2020? Have things gotten better since Nate joined the team?"
   ]
  },
  {
   "cell_type": "markdown",
   "metadata": {},
   "source": [
    "**TODO**: Create dataframe for overtime plot"
   ]
  },
  {
   "cell_type": "code",
   "execution_count": 7,
   "metadata": {},
   "outputs": [],
   "source": [
    "# air_otp = \\\n",
    "# hw_df[\n",
    "#     (hw_df['all_transit_milestones_completed'] == 'Yes') &\n",
    "#     (hw_df['mode_blended'] == 'Air')\n",
    "# ].\\\n",
    "# groupby(by= # INSERT LIST).\\\n",
    "# AGGREGATE MEAN .\\\n",
    "# reset_index()\n",
    "\n",
    "# air_otp.columns = ['mode', 'month', 'year', 'otp_percent']"
   ]
  },
  {
   "cell_type": "code",
   "execution_count": 8,
   "metadata": {},
   "outputs": [
    {
     "data": {
      "text/plain": [
       "<matplotlib.axes._subplots.AxesSubplot at 0x11619e290>"
      ]
     },
     "execution_count": 8,
     "metadata": {},
     "output_type": "execute_result"
    },
    {
     "data": {
      "image/png": "[encoded data removed]",
      "text/plain": [
       "<Figure size 432x288 with 1 Axes>"
      ]
     },
     "metadata": {
      "needs_background": "light"
     },
     "output_type": "display_data"
    }
   ],
   "source": [
    "air_otp.plot('month', 'otp_percent')"
   ]
  },
  {
   "cell_type": "markdown",
   "metadata": {},
   "source": [
    "And there's our first chart! It's not a pretty chart but it's a chart nonetheless... Also, Nate has evidently had a **HUGE** impact on the team in just a few months of being here."
   ]
  },
  {
   "cell_type": "markdown",
   "metadata": {},
   "source": [
    "### Open Questions ❓\n",
    "- How does `.plot()` work?\n",
    "- Shreyas can you **please** label your axes for me?\n",
    "- Why does this chart look so 💩?\n",
    "\n",
    "Let's dive in!"
   ]
  },
  {
   "cell_type": "markdown",
   "metadata": {},
   "source": [
    "## Tools for Data Visualization 📈\n",
    "\n",
    "> Great leaders don't blame the tools they are given. They work to sharpen them. - _Simon Sinek_\n",
    "\n",
    "There are several tools we could use for data viz in Python, including `matplotlib`, `seaborn`, `plotly`, and `bokeh`. They're all quriky in their own ways though, and as analysts, we need to know how to make them work for us.\n",
    "\n",
    "In this session, we will grapple with the the `matplotlib` package."
   ]
  },
  {
   "cell_type": "markdown",
   "metadata": {},
   "source": [
    "_Aside: I personally always get confused between `Module`, `Package`, and `Library`. Here's what the [internet](https://www.quora.com/What-is-the-difference-between-Python-modules-packages-libraries-and-frameworks) says:_\n",
    "- **Module**: Any `.py` file that contains functions, Classes, global variables, etc. is considered a _module_. We've seen these before a lot: `pandas`, `numpy`, `datetime`, and even the custom created `db_utils` are all _modules_.\n",
    "- **Package/Library**: In Python, these are synonymous. They are directories of other _packages/libraries_ and _modules_ that consolidate related tools and files in the same place. \n",
    "    - We can use the command `import library_name` to get all the _packages_ residing within `library_name`\n",
    "    - We can also use the command `import library_name.module_name` or `from library_name import module_name` to access a specific _module_ in a _library_"
   ]
  },
  {
   "cell_type": "markdown",
   "metadata": {},
   "source": [
    "## Matplotlib 📚\n",
    "\n",
    "`matplotlib` is arguably the most popular and versatile visualization library in Python. It's built off `numpy` and is ideal for 2D plotting. It takes an object oriented approach to visualizing data, similar to how `pandas` uses object oriented methods to create tables."
   ]
  },
  {
   "cell_type": "markdown",
   "metadata": {},
   "source": [
    "In `pandas`, we instantiate an object of class `DataFrame` each time we want to create a table from a dictionary ro `csv` file or `sql` query. We then call functions on that object to manipulate and analyze the data."
   ]
  },
  {
   "cell_type": "markdown",
   "metadata": {},
   "source": [
    "In `matplotlib`, different classes are used to create different layers of a visualization. It's like drawing on a canvas! However, there are two fundamental ways in which you can use these classes to 'create your picture':\n",
    "1. You can use an 'object oriented' approach by creating individual objects as you need them; **add to your canvas piece by piece**.\n",
    "2. You can use convenience wrappers that automatically do some of the object creation *for you*; **start with a shell and go from there**.\n",
    "\n",
    "We'll walk through both approaches."
   ]
  },
  {
   "cell_type": "markdown",
   "metadata": {},
   "source": [
    "### Matplotlib Strucutre 🧱"
   ]
  },
  {
   "cell_type": "markdown",
   "metadata": {},
   "source": [
    "**Figure:** The base layer that contains one or more charts is called a `Figure`. If you are an artist, the `Figure` is your canvas.\n",
    "- The `Figure` class lives in the module `matplotlib.figure`"
   ]
  },
  {
   "cell_type": "code",
   "execution_count": 9,
   "metadata": {},
   "outputs": [
    {
     "data": {
      "text/plain": [
       "<Figure size 576x288 with 0 Axes>"
      ]
     },
     "execution_count": 9,
     "metadata": {},
     "output_type": "execute_result"
    }
   ],
   "source": [
    "## OBJECT ORIENTED\n",
    "\n",
    "# Create an object of class figure\n",
    "object_my_fig = figure.Figure(figsize=(8,4))\n",
    "object_my_fig"
   ]
  },
  {
   "cell_type": "code",
   "execution_count": 10,
   "metadata": {},
   "outputs": [
    {
     "data": {
      "text/plain": [
       "<Figure size 576x288 with 0 Axes>"
      ]
     },
     "metadata": {},
     "output_type": "display_data"
    }
   ],
   "source": [
    "## PYPLOT WRAPPER\n",
    "\n",
    "# More standard way of creating a figure using pyplot\n",
    "fig = plt.figure(figsize=(8,4))"
   ]
  },
  {
   "cell_type": "markdown",
   "metadata": {},
   "source": [
    "**Axes:** A figure is nothing without the data we want to visualize - it's blank. Objects of class `Axes` contain the data we want to plot.\n",
    "- `Axes` can be best thought of as, well, axes\n",
    "- A figure can have multiple axes arranged in different ways\n",
    "- Each `Axes` object is a chart that you want to plot\n",
    "- You can provide an `Axes` object with a title, set the number of axis ticks, add a legend, choose the type of chart, and all that good stuff"
   ]
  },
  {
   "cell_type": "code",
   "execution_count": 11,
   "metadata": {},
   "outputs": [
    {
     "data": {
      "image/png": "[encoded data removed]",
      "text/plain": [
       "<Figure size 576x288 with 1 Axes>"
      ]
     },
     "execution_count": 11,
     "metadata": {},
     "output_type": "execute_result"
    }
   ],
   "source": [
    "## OBJECT ORIENTED\n",
    "\n",
    "# Recreating figure because we don't want to add an infinite number of axes to it each time we run this cell\n",
    "object_my_fig = figure.Figure(figsize=(8,4))\n",
    "\n",
    "# 1,1,1 says that you want to split the figure into 1 row and 1 column, and you want the axes at index 1\n",
    "# Can also use add_axes(): takes a sequence of [left, bottom, width, height] quantities and fill the entire canvas\n",
    "object_ax = object_my_fig.add_subplot(1,1,1)\n",
    "\n",
    "object_my_fig"
   ]
  },
  {
   "cell_type": "code",
   "execution_count": 12,
   "metadata": {
    "scrolled": false
   },
   "outputs": [
    {
     "data": {
      "image/png": "[encoded data removed]",
      "text/plain": [
       "<Figure size 576x288 with 1 Axes>"
      ]
     },
     "metadata": {
      "needs_background": "light"
     },
     "output_type": "display_data"
    }
   ],
   "source": [
    "## PYPLOT WRAPPER\n",
    "\n",
    "# Recreate figure to avoid adding too many axes\n",
    "fig = plt.figure(figsize=(8,4))\n",
    "\n",
    "# Add axes to figure using pyplot\n",
    "# Can do this with plt.axes or plt.subplot\n",
    "# .axes is a wrapper around fig.add_axes() and .subplot is a wrapper around fig.add_subplot()\n",
    "# 1,1,1 says that you want to split the figure into 1 row and 1 column, and you want the axes at index 1\n",
    "\n",
    "ax = plt.subplot(1, 1, 1)\n"
   ]
  },
  {
   "cell_type": "code",
   "execution_count": 13,
   "metadata": {},
   "outputs": [
    {
     "data": {
      "image/png": "[encoded data removed]",
      "text/plain": [
       "<Figure size 576x288 with 2 Axes>"
      ]
     },
     "metadata": {
      "needs_background": "light"
     },
     "output_type": "display_data"
    }
   ],
   "source": [
    "## TODO\n",
    "\n",
    "# Recreate figure to avoid adding too many axes\n",
    "fig = plt.figure(figsize=(8,4))\n",
    "\n",
    "# Create 2 pairs of axes either stacked on top of, or adjacent to, each other\n",
    "# ax1 = \n",
    "# ax2 = "
   ]
  },
  {
   "cell_type": "markdown",
   "metadata": {},
   "source": [
    "**Plot:** Now that you have the skeleton of your chart, you can start adding data to it!\n",
    "- Charts can come in various forms, but for now, we will just stick with a basic line plot"
   ]
  },
  {
   "cell_type": "code",
   "execution_count": 18,
   "metadata": {},
   "outputs": [
    {
     "data": {
      "image/png": "[encoded data removed]",
      "text/plain": [
       "<Figure size 576x288 with 1 Axes>"
      ]
     },
     "execution_count": 18,
     "metadata": {},
     "output_type": "execute_result"
    }
   ],
   "source": [
    "## OBJECT ORIENTED\n",
    "\n",
    "# Recreate figure to avoid adding too many axes\n",
    "object_my_fig = figure.Figure(figsize=(8,4))\n",
    "object_ax = object_my_fig.add_subplot(1,1,1)\n",
    "\n",
    "# Plot OTP over time by calling .plot() on your axes object\n",
    "object_ax.plot(air_otp['month'], air_otp['otp_percent'])\n",
    "\n",
    "# Add a legend by calling .legend() with 'labels' on your axes object\n",
    "object_ax.legend(labels=['OTP %'], loc=0)\n",
    "\n",
    "# Display the figure\n",
    "object_my_fig"
   ]
  },
  {
   "cell_type": "code",
   "execution_count": 19,
   "metadata": {},
   "outputs": [
    {
     "data": {
      "image/png": "[encoded data removed]",
      "text/plain": [
       "<Figure size 576x288 with 1 Axes>"
      ]
     },
     "metadata": {
      "needs_background": "light"
     },
     "output_type": "display_data"
    }
   ],
   "source": [
    "# PYPLOT WRAPPER\n",
    "\n",
    "# Recreate figure to avoid adding too many axes\n",
    "fig = plt.figure(figsize=(8,4))\n",
    "ax = plt.subplot(1,1,1)\n",
    "\n",
    "# Plot OTP over time by calling .plot() using plt\n",
    "plt.plot(air_otp['month'], air_otp['otp_percent'])\n",
    "\n",
    "# Add a legend by calling .legend() with 'labels' using plt\n",
    "plt.legend(labels=['OTP %'], loc=0)\n",
    "\n",
    "# Display the plot\n",
    "plt.show()"
   ]
  },
  {
   "cell_type": "markdown",
   "metadata": {},
   "source": [
    "You might have already figured it out by now, but both `matplotlib.pyplot` and [`pandas.DataFrame.plot()`](https://pandas.pydata.org/pandas-docs/stable/reference/api/pandas.DataFrame.plot.html) are convenience wrappers around underlying `matplotlib` objects!"
   ]
  },
  {
   "cell_type": "markdown",
   "metadata": {},
   "source": [
    "### Joining Forces 🔗"
   ]
  },
  {
   "cell_type": "markdown",
   "metadata": {},
   "source": [
    "In reality, the `matplotlib` object-oriented paradigm and convenience wrappers don't function in isolation. Some wrappers help speed things up, and some `Axes` and `Figure` level functionality is necessary to create what you want."
   ]
  },
  {
   "cell_type": "markdown",
   "metadata": {},
   "source": [
    "Here are some high level steps to jazz up the chart a little."
   ]
  },
  {
   "cell_type": "code",
   "execution_count": 17,
   "metadata": {},
   "outputs": [
    {
     "data": {
      "image/png": "[encoded data removed]",
      "text/plain": [
       "<Figure size 576x288 with 1 Axes>"
      ]
     },
     "metadata": {
      "needs_background": "light"
     },
     "output_type": "display_data"
    }
   ],
   "source": [
    "# Initialize 1 figure with one pair of axes together\n",
    "# this is the same as fig, ax = plt.subplots(1, 1, figsize=(8,4))\n",
    "fig1, ax1 = plt.subplots(figsize=(8,4))\n",
    "\n",
    "# Format Fields\n",
    "shipment_month = \\\n",
    "air_otp.apply(\n",
    "    lambda x: datetime.strptime(str(x['month']) + '-' + str(x['year']), '%m-%Y'), \n",
    "    axis=1\n",
    ")\n",
    "otp_percent = air_otp['otp_percent']\n",
    "\n",
    "# Plot\n",
    "ax1.plot(shipment_month, otp_percent, label='OTP %', color='#FA5959', linewidth=2)\n",
    "\n",
    "# Legend\n",
    "ax1.legend(loc=0)\n",
    "\n",
    "# Title\n",
    "ax1.set_title(\n",
    "    'Air Shipments OTP 2020', \n",
    "    loc='left', \n",
    "    fontdict = {'fontsize':16, 'fontweight':'bold'}\n",
    ")\n",
    "\n",
    "# Axis formatting\n",
    "ax1.set_xlabel('Month', fontdict={'fontweight':'bold', 'fontsize':12})\n",
    "ax1.set_ylabel('OTP %', fontdict={'fontweight':'bold', 'fontsize':12})\n",
    "ax1.tick_params(axis='both', labelsize=10)\n",
    "\n",
    "# X Ticks\n",
    "ax1.xaxis.set_major_locator(mdates.MonthLocator())\n",
    "ax1.xaxis.set_major_formatter(mdates.DateFormatter('%b-%y'))\n",
    "\n",
    "# Y Ticks\n",
    "ax1.yaxis.set_ticks(\n",
    "    np.linspace(\n",
    "        np.round(min(otp_percent) - (0.2*min(otp_percent)), 1), \n",
    "        np.round(max(otp_percent) + (0.1*max(otp_percent)), 1),\n",
    "        num=4\n",
    "    )\n",
    ")\n",
    "\n",
    "ax1.yaxis.set_major_formatter(PercentFormatter(xmax=1.0, decimals=0)) # xmax is the max percent\n",
    "\n",
    "# Show plot\n",
    "plt.show()"
   ]
  },
  {
   "cell_type": "markdown",
   "metadata": {},
   "source": [
    "Spend some time looking at that code and how this chart is made to be 👀\n",
    "\n",
    "This should set you up well to crush the DIY project now!"
   ]
  },
  {
   "cell_type": "markdown",
   "metadata": {},
   "source": [
    "## Project Time ⏰"
   ]
  },
  {
   "cell_type": "markdown",
   "metadata": {},
   "source": [
    "`matplotlib`, as you've seen, is highly customizable. Now here's a pretty customized chart we'd like you to recreate.\n",
    "\n",
    "To give you a few hints you'll need to ensure you add the following via the matplotlib api\n",
    "<ul>\n",
    "    <li>Title</li>\n",
    "    <li>Axis Labels</li>\n",
    "    <li>Gridlines</li>\n",
    "    <li>Two Line Plots with Filled in Areas</li>\n",
    "    <li>Legend With Labeled Values</li>\n",
    "    <li>Annotations With Text</li>\n",
    "    <li>Holistic Formatting</li>\n",
    "</ul>\n",
    "\n",
    "I'd suggest splitting up into individuals or small groups to grab the individual parts before pulling it together as a group. Shreyas and I will be around to help and provide insights. After 20 minutes or so we'll come back together and talk through the solutions!\n",
    "    "
   ]
  },
  {
   "cell_type": "markdown",
   "metadata": {},
   "source": [
    "![image](challenge_chart.png)"
   ]
  },
  {
   "cell_type": "markdown",
   "metadata": {},
   "source": [
    "### Knock yourself out 🥊"
   ]
  },
  {
   "cell_type": "code",
   "execution_count": 2,
   "metadata": {},
   "outputs": [],
   "source": [
    "dateparser = lambda x: datetime.strptime(x, \"%m/%d/%y\")\n",
    "floatparser = lambda x:  float(x.replace(',','')[2:])\n",
    "df = get_data('capital_collateral.sql', 'file', conn)\n",
    "df.columns = ['date', 'in_transit_ci_value', 'outstanding_principal']\n",
    "\n",
    "# Color Codes You'll Need\n",
    "flexport_black = '#24313e'\n",
    "flexport_red = '#fb5858'\n",
    "flexport_green = '#47dabe'"
   ]
  },
  {
   "cell_type": "markdown",
   "metadata": {},
   "source": [
    "## Homework and Next Steps\n",
    "\n",
    "Rather than provide homework we encourage all of you to finish this chart if you didn't already, otherwise take some time to familiarize yourself with plotting in matplotlib. Most other plotting libraries will behave similarly although not identical. \n",
    "\n",
    "To aid in future Flexport Plots you'll find a file titled `flxtdark.mplstyle` in this repository. This will allow you to load a stylesheet of most of the plot styles we used above. Feel free to edit, improve, or share it.\n",
    "to use this you'll simply need to call the file at the top of your notebook.\n",
    "`plt.style.use('<path_to_file>')`"
   ]
  },
  {
   "cell_type": "code",
   "execution_count": null,
   "metadata": {},
   "outputs": [],
   "source": []
  }
 ],
 "metadata": {
  "kernelspec": {
   "display_name": "Python 3",
   "language": "python",
   "name": "python3"
  },
  "language_info": {
   "codemirror_mode": {
    "name": "ipython",
    "version": 3
   },
   "file_extension": ".py",
   "mimetype": "text/x-python",
   "name": "python",
   "nbconvert_exporter": "python",
   "pygments_lexer": "ipython3",
   "version": "3.7.7"
  }
 },
 "nbformat": 4,
 "nbformat_minor": 4
}
