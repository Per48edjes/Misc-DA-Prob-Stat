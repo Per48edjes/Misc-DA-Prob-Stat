{
 "cells": [
  {
   "cell_type": "markdown",
   "metadata": {
    "slideshow": {
     "slide_type": "slide"
    }
   },
   "source": [
    "# Thinking Conditionally: Tradelanes and Modes\n",
    "DA Probability & Statistics Learning Series • Lesson 2\n",
    "\n",
    "<img src=\"https://imgs.xkcd.com/comics/conditionals.png\" align=\"center\"/>\n",
    "\n",
    "Welcome, again!\n",
    "\n",
    "*See **#da_prob_stat** for discussion during and after this tutorial.*\n"
   ]
  },
  {
   "cell_type": "markdown",
   "metadata": {
    "slideshow": {
     "slide_type": "slide"
    }
   },
   "source": [
    "## Goals\n",
    "\n",
    "**You**: Develop an intuition around conditional vs. unconditional probabilities\n",
    "<br>\n",
    "**You**: Invent some math to answer questions. Sorta feel badass about it.\n",
    "<br>\n",
    "**You**: Understand independence of events.\n",
    "<br>\n",
    "**You**: Get feet wet regarding the Law of Total Probability (LOTP).\n",
    "\n",
    "\n",
    "---\n",
    "\n",
    "\n",
    "**Me**: Do a better job of managing time!\n",
    "<br>\n",
    "**Me**: Take more time to explain code.\n",
    "<br>\n",
    "**Me**: Be explicit about what's to be done now vs. later for homework.\n",
    "<br>\n",
    "**Me**: Cold call more! 😈\n"
   ]
  },
  {
   "cell_type": "markdown",
   "metadata": {
    "slideshow": {
     "slide_type": "slide"
    }
   },
   "source": [
    "Let's get started by bringing in the stuff we're going to need for this lesson."
   ]
  },
  {
   "cell_type": "code",
   "execution_count": null,
   "metadata": {
    "slideshow": {
     "slide_type": "fragment"
    }
   },
   "outputs": [],
   "source": [
    "# Import dependencies\n",
    "import sys\n",
    "sys.path.insert(0, '..')\n",
    "from db_utils import get_connection\n",
    "import pandas as pd\n",
    "\n",
    "# Object typing\n",
    "from typing import TypeVar\n",
    "PandasSeries = TypeVar('pd.core.series.Series')\n",
    "PandasDataFrame = TypeVar('pd.core.frame.DataFrame')\n",
    "\n",
    "# Data viz\n",
    "import matplotlib.pyplot as plt\n",
    "from matplotlib.ticker import PercentFormatter\n",
    "import seaborn as sns"
   ]
  },
  {
   "cell_type": "code",
   "execution_count": null,
   "metadata": {
    "slideshow": {
     "slide_type": "subslide"
    }
   },
   "outputs": [],
   "source": [
    "# Get the database connection and cursor objects\n",
    "conn, cur = get_connection()\n",
    "\n",
    "# Use a context manager to open and close connection and files\n",
    "with conn:\n",
    "    \n",
    "    # Open the query.sql file\n",
    "    with open('query.sql', 'r') as q:\n",
    "\n",
    "        # Save contents of query.sql as string\n",
    "        query_str = q.read()\n",
    "    \n",
    "    # Use the read_sql method to get the data from Snowflake into a \n",
    "    # Pandas dataframe\n",
    "    df = pd.read_sql(query_str, conn)\n",
    "    \n",
    "    # Make all the columns lowercase\n",
    "    df.columns = map(str.lower, df.columns)\n",
    "\n",
    "# Preview the data\n",
    "df.sample(3)"
   ]
  },
  {
   "cell_type": "markdown",
   "metadata": {
    "slideshow": {
     "slide_type": "slide"
    }
   },
   "source": [
    "## Motivating Question 🤔\n",
    "\n",
    "> Are shipments' tradelanes and modes independent of one another?"
   ]
  },
  {
   "cell_type": "markdown",
   "metadata": {
    "slideshow": {
     "slide_type": "slide"
    }
   },
   "source": [
    "\n",
    "## Quick Review ⏪\n",
    "\n",
    "We've already seen how to use counting and the Naïve Definition of Probability to calculate the probability of events in a discrete setting.\n",
    "\n",
    "To calculate the $P(A)$, the probability of some event $A$ occurring, we just need to count the number of **outcomes** in **event** $A$ and divide this by the total number of outcomes found in the **sample space**, $S$."
   ]
  },
  {
   "cell_type": "markdown",
   "metadata": {
    "slideshow": {
     "slide_type": "slide"
    }
   },
   "source": [
    "### Conditional Probability\n",
    "\n",
    "Let's start with a pretty straightforward example taken from the diagnostic quiz awhile back.\n",
    "\n",
    "**Question**:\n",
    "\n",
    "> Imagine a client makes exactly two shipments. Assume that for this client, any given shipment is transported either via ocean (event O) or by air (event A) with equal probability (i.e., P(O) = P(A) = 0.5) and that the choice of transportation for one shipment is independent of that of another.\n",
    ">\n",
    "> **Which of the following scenarios is more probable?**\n",
    "\n",
    "\n",
    "A. Both shipments are air if we know at least one shipment is air.\n",
    "<br>\n",
    "B. Both shipments are air if we know the second shipment is air.\n",
    "<br>\n",
    "C. Both scenarios are equally probable.\n",
    "<br>"
   ]
  },
  {
   "cell_type": "markdown",
   "metadata": {
    "slideshow": {
     "slide_type": "slide"
    }
   },
   "source": [
    "Remember \"pebble world\" from last time?"
   ]
  },
  {
   "cell_type": "markdown",
   "metadata": {
    "slideshow": {
     "slide_type": "-"
    }
   },
   "source": [
    "We know that each outcome (\"pebble\") is equally likely (\"weighs the same\"). Now all we have to do is consider how each event differs.\n",
    "\n",
    "![Quiz Question Sample Space](quiz_question_sample_space.png)"
   ]
  },
  {
   "cell_type": "markdown",
   "metadata": {
    "slideshow": {
     "slide_type": "fragment"
    }
   },
   "source": [
    "- The <font color='orange'>orange box</font> is the **event** that _at least one shipment is air_.\n",
    "- The <font color='red'>red box</font> is the **event** that _the second shipment is air_. \n",
    "- The <font color='teal'>teal oval</font> is the **event** that _both shipments are air_. (Note, that this event only consists of one **outcome**.)"
   ]
  },
  {
   "cell_type": "markdown",
   "metadata": {
    "slideshow": {
     "slide_type": "fragment"
    }
   },
   "source": [
    "If we formalize this using the notation we learned last time and the naïve definition of probability, we have:\n",
    "\n",
    "$$\n",
    "\\begin{align}\n",
    "P(\\text{at least one shipment is air}) &= \\frac{3}{4}\\\\\n",
    "P(\\text{the second shipment is air}) &= \\frac{1}{2}\n",
    "\\end{align}\n",
    "$$"
   ]
  },
  {
   "cell_type": "markdown",
   "metadata": {
    "slideshow": {
     "slide_type": "slide"
    }
   },
   "source": [
    "When we **condition** on evidence or information or what we observe, we need to update our probabilities to incorporate what we've learned. \n",
    "\n",
    "Said another way, we need to **adjust our our sample space (i.e., the denominator of the probability fraction) to include only the events (or outcomes) that meet the condition**."
   ]
  },
  {
   "cell_type": "markdown",
   "metadata": {
    "slideshow": {
     "slide_type": "subslide"
    }
   },
   "source": [
    "The way we notationally represent this is by using a \"|\" to separate what we want to know (an event or events) from what we are conditioning on (another event or events). For this problem, the answer choices expressed in this notation are:"
   ]
  },
  {
   "cell_type": "markdown",
   "metadata": {
    "slideshow": {
     "slide_type": "fragment"
    }
   },
   "source": [
    "A. $P(\\text{both air shipments}\\,|\\,\\text{at least one shipment is air})$<br>\n",
    "B. $P(\\text{both air shipments}\\,|\\,\\text{the second shipment is air})$<br>"
   ]
  },
  {
   "cell_type": "markdown",
   "metadata": {
    "slideshow": {
     "slide_type": "subslide"
    }
   },
   "source": [
    "How do we take the information we have from what we know (unconditionally) and use it to get these conditional probabilities?"
   ]
  },
  {
   "cell_type": "markdown",
   "metadata": {
    "slideshow": {
     "slide_type": "fragment"
    }
   },
   "source": [
    "...by redefining what we consider \"possible\" outcomes!"
   ]
  },
  {
   "cell_type": "markdown",
   "metadata": {
    "slideshow": {
     "slide_type": "subslide"
    }
   },
   "source": [
    "Let's tackle $P(\\text{both air shipments}\\,|\\,\\text{at least one shipment is air})$. We are **conditioning** on the event that *at least one shipment is air*, so let's update what we consider possible outcomes under this condition:\n",
    "\n",
    "![Quiz Question Choice A](quiz_question_choice_A.png)"
   ]
  },
  {
   "cell_type": "markdown",
   "metadata": {
    "slideshow": {
     "slide_type": "fragment"
    }
   },
   "source": [
    "Then is becomes immediately obvious that $P(\\text{both air shipments}\\,|\\,\\text{at least one shipment is air}) = \\frac{1}{3}$.\n",
    "\n",
    "Similarly, $P(\\text{both air shipments}\\,|\\,\\text{the second shipment is air}) = \\frac{1}{2}$.\n",
    "\n",
    "![Quiz Question Choice B](quiz_question_choice_B.png)"
   ]
  },
  {
   "cell_type": "markdown",
   "metadata": {
    "slideshow": {
     "slide_type": "subslide"
    }
   },
   "source": [
    "From here, we can see that knowing more information about which shipment was air increases our belief that both shipments are air:\n",
    "\n",
    "- **Unconditionally**, we assigned a 25% probability that both shipments were air, $P(\\text{both shipments are air}) = \\frac{1}{4}$.<br>\n",
    "- If we knew that *at least one shipment was air*, we could update our priors and **condition on this information**, leading us to increase our belief to 33% that both shipments were air: $P(\\text{both shipments are air}\\,|\\,\\text{at least one shipment is air}) = \\frac{1}{3}$.<br>\n",
    "- If we knew that *the second shipment in particular was air*, we can **update our priors even more**, which leads to a stronger belief of 50% that both shipments were air: $P(\\text{both shipments are air}\\,|\\,\\text{at least one shipment is air}) = \\frac{1}{2}$.\n",
    "\n",
    "A _Bayesian_ statistician would say that we've **updated our prior beliefs** (i.e., our *priors*)."
   ]
  },
  {
   "cell_type": "markdown",
   "metadata": {
    "slideshow": {
     "slide_type": "slide"
    }
   },
   "source": [
    "## Warm-up 💻\n",
    "\n",
    "We're going to try our hand at determining the independence of events using simple data visualizations and a little logic. If we're lucky we'll have stumbled upon our first test statistic.\n",
    "\n",
    "**TODO**: Explore the data a little. Try to illustrate the relationship between tradelane and mode."
   ]
  },
  {
   "cell_type": "code",
   "execution_count": null,
   "metadata": {
    "slideshow": {
     "slide_type": "subslide"
    }
   },
   "outputs": [],
   "source": [
    "## TODO: Drop duplicate rows\n",
    "# (Read docs for Pandas' duplicated and drop_duplicates functions)\n",
    "\n",
    "# Inspect duplicates\n",
    "display(df[df.duplicated(subset=['shipment_id'], keep=False)])\n",
    "\n",
    "# Dedupe dataframe\n",
    "df = \n",
    "\n",
    "# Show that there aren't duplicated left\n"
   ]
  },
  {
   "cell_type": "code",
   "execution_count": null,
   "metadata": {
    "slideshow": {
     "slide_type": "subslide"
    }
   },
   "outputs": [],
   "source": [
    "## TODO: Drop duplicate rows\n",
    "# (Read docs for Pandas' duplicated and drop_duplicates functions)\n",
    "\n",
    "# Inspect duplicates\n",
    "display(df[df.duplicated(subset=['shipment_id'], keep=False)])\n",
    "\n",
    "# Dedupe dataframe\n",
    "df = \n",
    "\n",
    "# Show that there aren't duplicated left\n"
   ]
  },
  {
   "cell_type": "code",
   "execution_count": null,
   "metadata": {
    "slideshow": {
     "slide_type": "fragment"
    }
   },
   "outputs": [],
   "source": [
    "# Isolate data to be used\n",
    "tradelane_mode_df = df[['tradelane', 'mode']]\n",
    "\n",
    "# Preview the data\n",
    "display(tradelane_mode_df.head())"
   ]
  },
  {
   "cell_type": "code",
   "execution_count": null,
   "metadata": {
    "slideshow": {
     "slide_type": "subslide"
    }
   },
   "outputs": [],
   "source": [
    "## TODO: Explore the data; some suggested questions to answer\n",
    "#        are listed below.\n",
    "\n",
    "# How big is the data?\n",
    "\n",
    "\n",
    "# Check that the data contains no nulls\n",
    "\n",
    "\n",
    "# How many unique values are in each columns?\n",
    "\n",
    "\n",
    "# What are the unique values in each column?\n"
   ]
  },
  {
   "cell_type": "markdown",
   "metadata": {
    "slideshow": {
     "slide_type": "slide"
    }
   },
   "source": [
    "**Question**: Answer the following qualitatively based on what you see in the data (i.e., no need to perform statistical tests or calculations).\n",
    "\n",
    "> Is a shipment's tradelane independent of its mode?\n",
    "\n",
    "(Knowing each row in our dataframe is a shipment, what would you want to look for? How would you need to transform your data?)"
   ]
  },
  {
   "cell_type": "markdown",
   "metadata": {
    "slideshow": {
     "slide_type": "subslide"
    }
   },
   "source": [
    "Well, right now we have basically two lists with each row representing one data point. We should categorize the data based on the features/variables/attributes we have on hand! \n",
    "\n",
    "Let's _cross-tabulate_ this table so we have rows representing `tradelanes` and columns representing `mode`. The values in each cell will be the counts of shipments."
   ]
  },
  {
   "cell_type": "markdown",
   "metadata": {
    "slideshow": {
     "slide_type": "fragment"
    }
   },
   "source": [
    "Notice, by transforming our data this way, we've created a sample space consisting of disjoint events! Each cell is an event: its the _intersection_ of a particular `tradelane` and a particular `mode`.\n",
    "\n",
    "**TODO**: Transform our data into something workable by cross-tabulating our data with `tradelane`s as rows and `mode`s as columns."
   ]
  },
  {
   "cell_type": "code",
   "execution_count": null,
   "metadata": {
    "slideshow": {
     "slide_type": "slide"
    }
   },
   "outputs": [],
   "source": [
    "## TODO: Cross-tabulate shipments\n",
    "# (Read docs for Pandas' crosstab function)\n",
    "\n",
    "# Use this variable to store cross-tabulation WITHOUT\n",
    "# marginal distributions (see 'margins' parameter)\n",
    "tradelane_mode_xt = \n",
    "\n",
    "# Use this variable to store cross-tabulation WITH\n",
    "# marginal distributions (see 'margins' parameter)\n",
    "tradelane_mode_xt_marg = \n",
    "\n",
    "display(tradelane_mode_xt)\n",
    "display(tradelane_mode_xt_marg)"
   ]
  },
  {
   "cell_type": "markdown",
   "metadata": {
    "slideshow": {
     "slide_type": "subslide"
    }
   },
   "source": [
    "Below, I've provided a helper function that will plot a heatmap of the _joint distribution_."
   ]
  },
  {
   "cell_type": "code",
   "execution_count": null,
   "metadata": {
    "slideshow": {
     "slide_type": "-"
    }
   },
   "outputs": [],
   "source": [
    "# Helper functions\n",
    "def heatmap(data: PandasDataFrame, \n",
    "            A: str,\n",
    "            B: str) -> None:\n",
    "    '''\n",
    "    Plots heatmap of bivariate frequency data, i.e., P(A|B) when supplied\n",
    "    data, A (as a string) and B (as a string)\n",
    "    '''\n",
    "    fig, ax = plt.subplots()\n",
    "    sns.heatmap(data, ax=ax, annot=True, fmt='.0%', \n",
    "                cmap='cividis', vmin=0, vmax=1)\n",
    "    ax.set_title(\"$P({0}\\,|\\,{1})$\".format(A, B), \n",
    "                 fontsize='x-large')\n",
    "    cbar = ax.collections[0].colorbar\n",
    "    cbar.ax.yaxis.set_major_formatter(PercentFormatter(1, 0))\n",
    "    plt.show()"
   ]
  },
  {
   "cell_type": "markdown",
   "metadata": {
    "slideshow": {
     "slide_type": "slide"
    }
   },
   "source": [
    "**TODO**: Let's condition on `mode` and see what the distribution looks like."
   ]
  },
  {
   "cell_type": "code",
   "execution_count": null,
   "metadata": {
    "scrolled": false,
    "slideshow": {
     "slide_type": "subslide"
    }
   },
   "outputs": [],
   "source": [
    "## TODO: Convert to relative frequencies, conditioning on mode\n",
    "data = \n",
    "heatmap(data, 'tradelane', 'mode')\n",
    "\n",
    "# Compare to marginal frequency of tradelane\n",
    "mf_tradelane = pd.DataFrame(tradelane_mode_xt_marg/tradelane_mode_xt.sum().sum())\n",
    "mf_tradelane.loc[mf_tradelane.index[:-1], \n",
    "                 ['All']].style.format(\"{:.0%}\").background_gradient(cmap='cividis', \n",
    "                                                                 axis=1, \n",
    "                                                                 vmin=0, \n",
    "                                                                 vmax=1)"
   ]
  },
  {
   "cell_type": "markdown",
   "metadata": {
    "slideshow": {
     "slide_type": "subslide"
    }
   },
   "source": [
    "**TODO**: Compare the _marginal distribution_ (on the bottom) versus each column in the heatmap above. \n",
    "\n",
    "**Question**: \n",
    "\n",
    "> What does this tell you about independence?"
   ]
  },
  {
   "cell_type": "code",
   "execution_count": null,
   "metadata": {
    "slideshow": {
     "slide_type": "subslide"
    }
   },
   "outputs": [],
   "source": [
    "# Convert to relative frequencies, conditioning on tradelane\n",
    "data = tradelane_mode_xt.apply(lambda s: s/tradelane_mode_xt.sum(axis=1))\n",
    "heatmap(data, 'mode', 'tradelane')\n",
    "\n",
    "# Compare to marginal frequency of mode\n",
    "mf_mode = pd.DataFrame(tradelane_mode_xt_marg.T/tradelane_mode_xt.sum().sum())\n",
    "mf_mode.loc[mf_mode.index[:-1],\n",
    "            ['All']].T.style.format(\"{:.0%}\").background_gradient(cmap='cividis', \n",
    "                                                                  axis=1, \n",
    "                                                                  vmin=0, \n",
    "                                                                  vmax=1)"
   ]
  },
  {
   "cell_type": "markdown",
   "metadata": {
    "slideshow": {
     "slide_type": "fragment"
    }
   },
   "source": [
    "But you are all data analysts. You're supposed to measure things and tell us what they mean.\n",
    "\n",
    "**Question**: \n",
    "\n",
    "> How would I go about measuring the extent to which these variables are independent?"
   ]
  },
  {
   "cell_type": "markdown",
   "metadata": {
    "slideshow": {
     "slide_type": "subslide"
    }
   },
   "source": [
    "**Meta Question**: \n",
    "\n",
    "> How does ~Abhi~ someone answer a question they may not be prepared for?"
   ]
  },
  {
   "cell_type": "markdown",
   "metadata": {
    "slideshow": {
     "slide_type": "fragment"
    }
   },
   "source": [
    "**Meta Answer**: \n",
    "\n",
    "> Make something up and talk about it until it starts becoming believable!"
   ]
  },
  {
   "cell_type": "markdown",
   "metadata": {
    "slideshow": {
     "slide_type": "subslide"
    }
   },
   "source": [
    "That being said, back to the original question:\n",
    "\n",
    "> How would I go about measuring the extent to which these variables are independent?"
   ]
  },
  {
   "cell_type": "code",
   "execution_count": null,
   "metadata": {
    "slideshow": {
     "slide_type": "subslide"
    }
   },
   "outputs": [],
   "source": [
    "# These are the observed frequencies\n",
    "print('Observed Frequencies:')\n",
    "display(tradelane_mode_xt_marg.style.format(\"{:,.0f}\"))"
   ]
  },
  {
   "cell_type": "markdown",
   "metadata": {
    "slideshow": {
     "slide_type": "fragment"
    }
   },
   "source": [
    "**Question**: \n",
    "\n",
    "> _If_ these two variables were independent, what values would I expect in each cell?"
   ]
  },
  {
   "cell_type": "code",
   "execution_count": null,
   "metadata": {
    "slideshow": {
     "slide_type": "subslide"
    }
   },
   "outputs": [],
   "source": [
    "# Useful function to get expected counts\n",
    "from scipy.stats import chi2_contingency\n",
    "\n",
    "# Get expected counts and make into dataframe matching our\n",
    "# previous cross-tab\n",
    "chi2_stat, p_value, dof, exp_counts = chi2_contingency(tradelane_mode_xt)\n",
    "exp_tradelane_mode_xt = pd.DataFrame(exp_counts)\n",
    "exp_tradelane_mode_xt.index = tradelane_mode_xt.index\n",
    "exp_tradelane_mode_xt.columns = tradelane_mode_xt.columns\n",
    "\n",
    "# Add 'All' total row & column\n",
    "exp_tradelane_mode_xt['All'] = exp_tradelane_mode_xt.sum(axis=1)\n",
    "exp_tradelane_mode_xt = exp_tradelane_mode_xt.append(\n",
    "    exp_tradelane_mode_xt.sum(axis=0).rename('All'))\n",
    "\n",
    "# These are the expected frequencies (if tradelane and mode were independent)\n",
    "print('Expected Frequencies:')\n",
    "exp_tradelane_mode_xt.style.format(\"{:,.0f}\")\n"
   ]
  },
  {
   "cell_type": "markdown",
   "metadata": {
    "slideshow": {
     "slide_type": "subslide"
    }
   },
   "source": [
    "**TODO**: Now, look at the differences between what we _observed_ and what we _expected_ to see."
   ]
  },
  {
   "cell_type": "code",
   "execution_count": null,
   "metadata": {
    "slideshow": {
     "slide_type": "fragment"
    }
   },
   "outputs": [],
   "source": [
    "# TODO: Subtract the expected from the observed frequencies\n",
    "tradelane_mode_xt_diff = \n",
    "tradelane_mode_xt_diff.style.format(\"{:.0f}\")"
   ]
  },
  {
   "cell_type": "markdown",
   "metadata": {
    "slideshow": {
     "slide_type": "subslide"
    }
   },
   "source": [
    "**Question**: \n",
    "\n",
    "> The errors are positive and negative. How can we generalize this _algorithm_ so the metric it produces is consistent?"
   ]
  },
  {
   "cell_type": "markdown",
   "metadata": {
    "slideshow": {
     "slide_type": "subslide"
    }
   },
   "source": [
    "**Question**: \n",
    "\n",
    "> But how do we deal with the absolute magnitude of these numbers? \n",
    "\n",
    "(We wouldn't want our metric to be bigger just because we have more counts of stuff.)"
   ]
  },
  {
   "cell_type": "markdown",
   "metadata": {
    "slideshow": {
     "slide_type": "subslide"
    }
   },
   "source": [
    "Great! So now we have the difference between observed and expected -- our _error_. \n",
    "\n",
    "But there are lots of numbers here, one for each cell, in fact.\n",
    "\n",
    "**Question**: \n",
    "\n",
    "> How can we summarize this in one number?"
   ]
  },
  {
   "cell_type": "markdown",
   "metadata": {
    "slideshow": {
     "slide_type": "subslide"
    }
   },
   "source": [
    "Let's call our newly concocted metric something: how about the \"$\\chi^{2}$ statistic\"?\n",
    "\n",
    "**TODO**: Implement this statistic. "
   ]
  },
  {
   "cell_type": "code",
   "execution_count": null,
   "metadata": {
    "slideshow": {
     "slide_type": "fragment"
    }
   },
   "outputs": [],
   "source": [
    "# TODO: Implement our metric so it matches the out-of-box calculation\n",
    "our_chi2 =\n",
    "\n",
    "print(f\"Our Chi-Square statistic: {our_chi2:>20.2f}\")\n",
    "print(f\"SciPy's Chi-Square statistic: {chi2_stat:>16.2f}\")\n"
   ]
  },
  {
   "cell_type": "markdown",
   "metadata": {
    "slideshow": {
     "slide_type": "subslide"
    }
   },
   "source": [
    "![Nice](https://media.giphy.com/media/8xgqLTTgWqHWU/giphy.gif)\n",
    "\n",
    "Nice. We just invented some math that's somewhat legit."
   ]
  },
  {
   "cell_type": "markdown",
   "metadata": {
    "slideshow": {
     "slide_type": "fragment"
    }
   },
   "source": [
    "Look familiar? This was in the prompt of the last question on the diagnostic quiz re: interpreting $p$-values)!"
   ]
  },
  {
   "cell_type": "markdown",
   "metadata": {
    "slideshow": {
     "slide_type": "subslide"
    }
   },
   "source": [
    "Later, once we have the fundamentals down, we'll get to statistical hypothesis testing. But let's look at the $p$-value for our test statistic here:"
   ]
  },
  {
   "cell_type": "code",
   "execution_count": null,
   "metadata": {},
   "outputs": [],
   "source": [
    "display(dof)\n",
    "display(p_value)"
   ]
  },
  {
   "cell_type": "markdown",
   "metadata": {
    "slideshow": {
     "slide_type": "subslide"
    }
   },
   "source": [
    "As we will explore much later (we should work to get the fundamentals down first), **the $p$-value is a _conditional_ probability itself**!\n",
    "\n",
    "**Question**: \n",
    "\n",
    "> Under what condition is the $p$-value?"
   ]
  },
  {
   "cell_type": "markdown",
   "metadata": {
    "slideshow": {
     "slide_type": "fragment"
    }
   },
   "source": [
    "<img src=\"https://upload.wikimedia.org/wikipedia/commons/thumb/3/3a/P-value_in_statistical_significance_testing.svg/1024px-P-value_in_statistical_significance_testing.svg.png\" width=500/>"
   ]
  },
  {
   "cell_type": "markdown",
   "metadata": {
    "slideshow": {
     "slide_type": "slide"
    }
   },
   "source": [
    "## Combining Events 🌗 🌓 🌕\n",
    "\n",
    "An **event** is just a subset of the **sample space**. So when we _union_ or _intersect_ events, we're just doing normal set operations."
   ]
  },
  {
   "cell_type": "markdown",
   "metadata": {
    "slideshow": {
     "slide_type": "subslide"
    }
   },
   "source": [
    "### Intersection of Events $\\cap$\n",
    "\n",
    "$$\n",
    "P(A \\cap B) = P(B)P(A|B) = P(A)P(B|A)\n",
    "$$\n",
    "\n",
    "Why is this true?\n",
    "\n",
    "![Conditional Probability in \"Pebble World\"](./pebble_world_conditioning.png)"
   ]
  },
  {
   "cell_type": "markdown",
   "metadata": {
    "slideshow": {
     "slide_type": "subslide"
    }
   },
   "source": [
    "### Union of Disjoint Events\n",
    "\n",
    "When events are *disjoint*, taking their union is straightforward since there is no overlap in events. All we do is sum up the disjoint events (like we did with the shipments-tradelane problem last time). \n",
    "\n",
    "![Third Axiom of Probability](https://wikimedia.org/api/rest_v1/media/math/render/svg/47f22fe03df467b1d20785e5026bac39fabd9edc)\n",
    "\n",
    "In fact, this is one of the [Axioms of Probability](https://en.wikipedia.org/wiki/Probability_axioms)!\n",
    "\n",
    "...but things get trickier when events do overlap (read: intersect)!"
   ]
  },
  {
   "cell_type": "markdown",
   "metadata": {
    "slideshow": {
     "slide_type": "subslide"
    }
   },
   "source": [
    "### Union of Events $\\cup$\n",
    "\n",
    "**Question**\n",
    "\n",
    "> So, what do we do when events overlap?\n",
    "\n",
    "![2 overlapping events](https://www.probabilitycourse.com/images/chapter1/union_b.png)\n",
    "\n",
    "<img src=\"https://www.conceptdraw.com/How-To-Guide/picture/3-circle-venn.png\" width=700 />"
   ]
  },
  {
   "cell_type": "markdown",
   "metadata": {
    "slideshow": {
     "slide_type": "subslide"
    }
   },
   "source": [
    "**Answer**: \n",
    "\n",
    "> Principle of Inclusion-Exclusion\n",
    ">\n",
    "> ![PIE](https://wikimedia.org/api/rest_v1/media/math/render/svg/c14e130250afb7484a5162c7fc76fab425397279)\n",
    "\n",
    "This isn't as crazy as it looks. Sit and think about what it's doing: try some simple examples, try to explain it to a roommate, or even write some Python if you have to!"
   ]
  },
  {
   "cell_type": "markdown",
   "metadata": {
    "slideshow": {
     "slide_type": "slide"
    }
   },
   "source": [
    "**Homework**:\n",
    "\n",
    "> Let's say SF Flexporters return to a post-COVID working arrangement wherein each of the 20 DAs are \"buddied up\" with one other DA. Effectively, there are two shifts: a Monday shift (10 DAs) and a Friday shift consisting of the other 10 DAs (i.e., the buddies of those in the first shift). \n",
    ">\n",
    "> Assume that seating is random and independent (i.e., no coordination of seats between buddies or among those in a shift) -- people just show up and sit somewhere.\n",
    ">\n",
    "> **What's the probability that no one in the Friday shift is sitting in the same seat as their \\[Monday shift\\] buddy?**\n",
    "\n",
    "(Remember, you have a computer. Try to simulate this if the analytical solution isn't coming to you. **Work together!**)"
   ]
  },
  {
   "cell_type": "markdown",
   "metadata": {
    "slideshow": {
     "slide_type": "slide"
    }
   },
   "source": [
    "## Independence ⫫\n",
    "\n",
    "Now we can introduce, more formally, what **independence** means among events. Later we'll extend this notion to random variables."
   ]
  },
  {
   "cell_type": "markdown",
   "metadata": {
    "slideshow": {
     "slide_type": "subslide"
    }
   },
   "source": [
    "### Definition of Independence\n",
    "\n",
    "<br>\n",
    "\n",
    "$A$ and $B$ are **independent** of one another if and only if $P(A \\cap B) = P(A)P(B)$. (Sometimes this is written as $P(A,B) = P(A)P(B)$.)"
   ]
  },
  {
   "cell_type": "markdown",
   "metadata": {
    "slideshow": {
     "slide_type": "fragment"
    }
   },
   "source": [
    "Said another way, $A$ and $B$ are **independent** of one another if and only if $P(A\\,|\\,B) = P(A)$, which is equivalent to $P(B\\,|\\,A) = P(B)$."
   ]
  },
  {
   "cell_type": "markdown",
   "metadata": {
    "slideshow": {
     "slide_type": "fragment"
    }
   },
   "source": [
    "In plain-speak, this just says that having information about one event occurring (or not*) doesn't change the probability of the other event."
   ]
  },
  {
   "cell_type": "markdown",
   "metadata": {
    "slideshow": {
     "slide_type": "subslide"
    }
   },
   "source": [
    "<div>\n",
    "<img src=\"https://courses.cs.cornell.edu/cs2800/wiki/images/thumb/3/3b/Conditional-probability.svg/445px-Conditional-probability.svg.png\" width=\"800\"/>\n",
    "</div>\n",
    "\n",
    "<br>\n",
    "\n",
    "As mentioned before, **conditioning just re-normalizes our set of possible outcomes given new information**. This provides the basis for translating between unconditional probabilities and conditional probabilities.\n"
   ]
  },
  {
   "cell_type": "markdown",
   "metadata": {
    "slideshow": {
     "slide_type": "slide"
    }
   },
   "source": [
    "Going back to our diagnostic quiz question about ocean and air shipments, we can use this formalization to calculate the probabilities of each scenario directly:"
   ]
  },
  {
   "cell_type": "markdown",
   "metadata": {
    "slideshow": {
     "slide_type": "fragment"
    }
   },
   "source": [
    "_Scenario A_\n",
    "\n",
    "$$\n",
    "\\begin{align}\n",
    "P(\\text{both shipments are air}\\,|\\,\\text{at least one shipment is air}) &= \\\\\n",
    "\\frac{P(\\text{both shipments are air} \\cap \\text{at least one shipment is air})}{P(\\text{at least one shipment is air})} &= \\frac{P(\\text{both shipments are air})}{P(\\text{at least one shipment is air})} \\\\\n",
    "&= \\frac{\\frac{1}{4}}{\\frac{3}{4}} \\\\\n",
    "&= \\frac{1}{3}\n",
    "\\end{align}\n",
    "$$"
   ]
  },
  {
   "cell_type": "markdown",
   "metadata": {
    "slideshow": {
     "slide_type": "fragment"
    }
   },
   "source": [
    "_Scenario B_\n",
    "\n",
    "$$\n",
    "\\begin{align}\n",
    "P(\\text{both shipments are air}\\,|\\,\\text{the second shipment is air}) &=\\\\ \n",
    "\\frac{P(\\text{both shipments are air} \\cap \\text{the second shipment is air})}{P(\\text{the second shipment is air})} &= \\frac{P(\\text{both shipments are air})}{P(\\text{the second shipment is air})} \\\\\n",
    "&= \\frac{\\frac{1}{4}}{\\frac{1}{2}} \\\\\n",
    "&= \\frac{1}{2}\n",
    "\\end{align}\n",
    "$$"
   ]
  },
  {
   "cell_type": "markdown",
   "metadata": {
    "slideshow": {
     "slide_type": "subslide"
    }
   },
   "source": [
    "So, are the events in the two scenarios here independent?\n",
    "\n",
    "**Questions**:\n",
    "\n",
    "> Is the event \"both shipments are air\" independent of \"at least one shipment is air\"?\n",
    "\n",
    "> Is the event \"both shipments are air\" independent of \"the second shipment is air\"?\n"
   ]
  },
  {
   "cell_type": "markdown",
   "metadata": {
    "slideshow": {
     "slide_type": "subslide"
    }
   },
   "source": [
    "**Homework**:\n",
    "\n",
    "> \\* Prove that $P(A, B) = P(A)P(B) \\implies P(A\\,|\\,B^c) = P(A)$. \n",
    "\n",
    "In plain-speak, I'm asking you to prove that if an event is indepedent of another event having occurring, it is also indepedent of the other event not occurring.\n",
    "\n",
    "Intuitively, it should make sense that if two things are independent, whether one of them happens _or not_ shouldn't affect the other, vice versa.\n",
    "\n",
    "(Hint: Use what you already know about complements.)\n"
   ]
  },
  {
   "cell_type": "markdown",
   "metadata": {
    "slideshow": {
     "slide_type": "slide"
    }
   },
   "source": [
    "## The Law of Total Probability 📜\n",
    "\n",
    "Now we need connect conditional and unconditional probabilities. We do this with **the Law of Total Probability** (LOTP). \n",
    "\n",
    "<br>\n",
    "\n",
    "Once we understand this, we will have all the required tools to prove the all-important identity: **Bayes' Theorem**, which we'll leave for next time. \n",
    "\n",
    "<br>\n",
    "\n",
    "You'll also have the tools to deal with conditioning on multiple events/pieces of information since the concepts translate generally.\n",
    "\n"
   ]
  },
  {
   "cell_type": "markdown",
   "metadata": {
    "slideshow": {
     "slide_type": "subslide"
    }
   },
   "source": [
    "**The Law of Total Probability** is an incredibly useful problem solving tool. Formally stated, it says:\n",
    "\n",
    "$$\n",
    "\\text{If }A_i,...,A_n \\text{ is a partition of the sample space }S \\text{, then }P(B) = \\sum_{i=1}^{n}{P(B|A_i)P(A_i)}.\n",
    "$$"
   ]
  },
  {
   "cell_type": "markdown",
   "metadata": {
    "slideshow": {
     "slide_type": "fragment"
    }
   },
   "source": [
    "But this is likely better illustrated with a picture:\n",
    "\n",
    "![Partition of B by A](./LOTP.png)"
   ]
  },
  {
   "cell_type": "markdown",
   "metadata": {
    "slideshow": {
     "slide_type": "slide"
    }
   },
   "source": [
    "Okay, your turn to practice!\n",
    "\n",
    "**Question**: \n",
    "\n",
    "> What's $P(\\text{TPEB})$. \n",
    "\n",
    "Partition the data and use LOTP so you can calculate it. Check against the data directly."
   ]
  },
  {
   "cell_type": "code",
   "execution_count": null,
   "metadata": {
    "slideshow": {
     "slide_type": "subslide"
    }
   },
   "outputs": [],
   "source": [
    "## TODO: Demonstrate LOTP on our data; start with tradelane_mode_xt\n",
    "\n",
    "# This is the denominator to convert cardinality of sets to probabilities\n",
    "# (per the Naive Definition of Probability)\n",
    "S = tradelane_mode_xt.sum().sum()\n",
    "\n",
    "# Show that p_TPEB_by_LTOP == p_TPEB\n",
    "p_TPEB = tradelane_mode_xt.loc['TPEB',:].sum()/S\n",
    "\n",
    "p_Air = \n",
    "\n",
    "p_not_Air = 1 - p_Air\n",
    "\n",
    "p_TPEB_given_Air = \n",
    "\n",
    "p_TPEB_given_not_Air = \n",
    "\n",
    "\n",
    "p_TPEB_by_LOTP = \n",
    "\n",
    "# Check if our answer is right   \n",
    "print(f\"Our Answer: {p_TPEB_by_LOTP:.5%}\")\n",
    "print(f\"Expected Answer: {p_TPEB:.5%}\")"
   ]
  },
  {
   "cell_type": "markdown",
   "metadata": {
    "slideshow": {
     "slide_type": "slide"
    }
   },
   "source": [
    "**Homework**: \n",
    "\n",
    "> How would I get $P(\\text{Ocean} \\cup \\text{Truck - Domestic}\\,|\\,\\text{TAWB}\\cup\\text{Latin NB})$? \n",
    "\n",
    "> What can you say when you compare this with the unconditional probability, $P(\\text{Ocean} \\cup \\text{Truck - Domestic})$?\n",
    "\n",
    "> Is this the same thing as $P(\\text{TAWB}\\cup\\text{Latin NB}\\,|\\,\\text{Ocean} \\cup \\text{Truck - Domestic})$? Why or why not?\n",
    "\n",
    "Oh, yeah...**work together**!"
   ]
  },
  {
   "cell_type": "code",
   "execution_count": null,
   "metadata": {
    "slideshow": {
     "slide_type": "skip"
    }
   },
   "outputs": [],
   "source": [
    "## TODO: P(Ocean or Truck - Domestic | TAWB or Latin NB) = ?\n",
    "# Not that its necessarily useful, but notice the unions are of \n",
    "# disjoint events (a shipment cannot be TAWB and Latin NB)\n",
    "\n",
    "# Let A = Ocean or Truck - Domestic\n",
    "# P(A)\n",
    "p_A = \n",
    "\n",
    "# Let B = TAWB or Latin NB\n",
    "# P(B)\n",
    "p_B = \n",
    "\n",
    "# P(A, B)\n",
    "p_A_and_B = \n",
    "\n",
    "print(f\"P(Ocean or Truck - Domestic | TAWB or Latin NB) = {p_A_and_B/p_B:.2%}\")\n",
    "print(f\"P(Ocean or Truck - Domestic) = {p_A:.2%}\")"
   ]
  }
 ],
 "metadata": {
  "celltoolbar": "Slideshow",
  "kernelspec": {
   "display_name": "Python 3",
   "language": "python",
   "name": "python3"
  },
  "language_info": {
   "codemirror_mode": {
    "name": "ipython",
    "version": 3
   },
   "file_extension": ".py",
   "mimetype": "text/x-python",
   "name": "python",
   "nbconvert_exporter": "python",
   "pygments_lexer": "ipython3",
   "version": "3.7.6"
  },
  "rise": {
   "enable_chalkboard": true,
   "scroll": true
  }
 },
 "nbformat": 4,
 "nbformat_minor": 4
}
