{
 "cells": [
  {
   "cell_type": "markdown",
   "metadata": {},
   "source": [
    "# Defendant's Fallacy\n",
    "\n",
    "For more, see this very thorough [treatment](https://www.untrammeledmind.com/2018/12/defense-attorneys-fallacy-a-conditional-probability-problem/) of this problem."
   ]
  },
  {
   "cell_type": "code",
   "execution_count": 1,
   "metadata": {},
   "outputs": [],
   "source": [
    "%load_ext autoreload\n",
    "%autoreload 2"
   ]
  },
  {
   "cell_type": "markdown",
   "metadata": {},
   "source": [
    "*Note to the Reader*: The above code leverages a \"magic\" function native to IPython that allows the changes to imported modules to be immediately reflected in the notebook environment. It need only be run once per session."
   ]
  },
  {
   "cell_type": "code",
   "execution_count": 2,
   "metadata": {},
   "outputs": [],
   "source": [
    "import numpy as np\n",
    "import pandas as pd\n",
    "from custom.defendants_fallacy import data_generator, data_tests"
   ]
  },
  {
   "cell_type": "code",
   "execution_count": 3,
   "metadata": {},
   "outputs": [
    {
     "name": "stdout",
     "output_type": "stream",
     "text": [
      "No errors!\n"
     ]
    }
   ],
   "source": [
    "# Generate and load data\n",
    "df = data_generator()\n",
    "data_tests(df)"
   ]
  },
  {
   "cell_type": "markdown",
   "metadata": {},
   "source": [
    "Note, we fabricated data on a number of couples, $N = 5,000,000$, and assume that the unconditional probability of a wife being murdered to be $P(M) = 0.0005$."
   ]
  },
  {
   "cell_type": "markdown",
   "metadata": {},
   "source": [
    "## Motivation 👨🏼‍⚖️"
   ]
  },
  {
   "cell_type": "markdown",
   "metadata": {},
   "source": [
    "Consider this quote from *Calculated Risks: How to Know When Numbers Deceive You* (Gigerenzer, 2002) regarding the proceedings of the infamous trial of OJ Simpson: \n",
    "    \n",
    "> …the prosecution presented evidence that Simpson had been violent toward his wife, while the defense argued that there was only one woman murdered for every 2,500 women who were subjected to spousal abuse, and that any history of Simpson being violent toward his wife was irrelevant to the trial.\n",
    "\n",
    "### Question\n",
    "\n",
    "*Should* the fact that OJ had been violent toward his wife be thrown out on the grounds of irrelevance (i.e., what the defense asserts)? "
   ]
  },
  {
   "cell_type": "markdown",
   "metadata": {},
   "source": [
    "To answer this question, let's use data. Here's what we know using the data on hand and what's been said in court:\n",
    "\n",
    "- A woman has been murdered, and her husband is accused of having committed the murder. \n",
    "- It is known that the man abused his wife repeatedly in the past, and the prosecution argues that this is important evidence pointing towards the man’s guilt. The defense attorney says that the history of abuse is irrelevant, as only 1-in-2500 men who beat their wives end up murdering them.\n",
    "- Assume that the defense attorney is not committing perjury and the 1-in-2500 figure is correct.\n",
    "- Our data tell us that half of men who murder their wives previously abused them. \n",
    "- Our data also tell us that 20% of murdered married women were killed by their husbands, and that if a woman is murdered and the husband is not guilty, then there is only a 10% chance that the husband abused her. "
   ]
  },
  {
   "cell_type": "markdown",
   "metadata": {},
   "source": [
    "## Analysis\n",
    "\n",
    "Below, we start down the path of trying to figure out whether it matters that the husband abused his wife or not. "
   ]
  },
  {
   "cell_type": "markdown",
   "metadata": {},
   "source": [
    "### Step 0\n",
    "\n",
    "We need to define some events. (Hint: Look at the column headers in our data.) Begin to think about Bayes' Rule...🤔"
   ]
  },
  {
   "cell_type": "code",
   "execution_count": 4,
   "metadata": {},
   "outputs": [
    {
     "data": {
      "text/plain": [
       "Index(['M', 'G', 'A'], dtype='object')"
      ]
     },
     "execution_count": 4,
     "metadata": {},
     "output_type": "execute_result"
    }
   ],
   "source": [
    "df.columns"
   ]
  },
  {
   "cell_type": "code",
   "execution_count": 5,
   "metadata": {},
   "outputs": [
    {
     "data": {
      "text/plain": [
       "array([0, 1])"
      ]
     },
     "metadata": {},
     "output_type": "display_data"
    },
    {
     "data": {
      "text/plain": [
       "array([0, 1])"
      ]
     },
     "metadata": {},
     "output_type": "display_data"
    },
    {
     "data": {
      "text/plain": [
       "array([1, 0])"
      ]
     },
     "metadata": {},
     "output_type": "display_data"
    }
   ],
   "source": [
    "for col in df:\n",
    "    display(df[col].unique())"
   ]
  },
  {
   "cell_type": "markdown",
   "metadata": {},
   "source": [
    "These columns all look like *indicator* random variables. We can also look at the relative frequencies, or the *probabilities*, of each of these events:"
   ]
  },
  {
   "cell_type": "code",
   "execution_count": 6,
   "metadata": {},
   "outputs": [
    {
     "data": {
      "text/plain": [
       "M    0.0005\n",
       "G    0.0001\n",
       "A    0.1250\n",
       "dtype: float64"
      ]
     },
     "execution_count": 6,
     "metadata": {},
     "output_type": "execute_result"
    }
   ],
   "source": [
    "df.mean()"
   ]
  },
  {
   "cell_type": "code",
   "execution_count": 7,
   "metadata": {},
   "outputs": [],
   "source": [
    "## TODO: Explore the data on your more if you desire."
   ]
  },
  {
   "cell_type": "markdown",
   "metadata": {},
   "source": [
    "### Step 1 \n",
    "\n",
    "Inspect the data. What does it mean? Can you confirm the facts drawn from our data (see above)?\n",
    "\n",
    "- Show that the defense attorney is correct, i.e., $P(G|A) = \\frac{1}{2500}$.\n",
    "- Show that half of men who murder their wives previously abused them. \n",
    "- Show that 20% of murdered married women were killed by their husbands\n",
    "- Show that if a woman is murdered and the husband is not guilty, then there is only a 10% chance that the husband abused her. "
   ]
  },
  {
   "cell_type": "code",
   "execution_count": 8,
   "metadata": {},
   "outputs": [],
   "source": [
    "## TODO: Confirm the facts of the case using the data.\n",
    "\n",
    "p_G_given_A = df.query(\"A == 1\")['G'].mean()\n",
    "\n",
    "p_A_given_G_and_M = df.query(\"G == 1 and M == 1\")['A'].mean()\n",
    "\n",
    "p_G_given_M = df.query(\"M == 1\")['G'].mean()\n",
    "\n",
    "p_A_given_notG_and_M = df.query(\"G == 0 and M == 1\")['A'].mean()"
   ]
  },
  {
   "cell_type": "code",
   "execution_count": 9,
   "metadata": {},
   "outputs": [
    {
     "name": "stdout",
     "output_type": "stream",
     "text": [
      "P(G|A) = 0.00040\n",
      "P(A|G,M) = 0.50000\n",
      "P(G|M) = 0.20000\n",
      "P(A|¬G,M) = 0.10000\n"
     ]
    }
   ],
   "source": [
    "print(f\"P(G|A) = {p_G_given_A:.5f}\")\n",
    "print(f\"P(A|G,M) = {p_A_given_G_and_M:.5f}\")\n",
    "print(f\"P(G|M) = {p_G_given_M:.5f}\")\n",
    "print(f\"P(A|¬G,M) = {p_A_given_notG_and_M:.5f}\")"
   ]
  },
  {
   "cell_type": "markdown",
   "metadata": {},
   "source": [
    "### Step 2 \n",
    "\n",
    "Hope you've been pondering Bayes' Theorem. What is the _prior_ probability that the husband is guilty of murdering his wife?\n",
    "\n",
    "- Calculate $P(G|M)$."
   ]
  },
  {
   "cell_type": "code",
   "execution_count": 10,
   "metadata": {},
   "outputs": [],
   "source": [
    "## TODO: Calculate the prior probability of guilt given the wife has been murdered.\n",
    "##       Ask yourself if you've already done this calculation..."
   ]
  },
  {
   "cell_type": "markdown",
   "metadata": {},
   "source": [
    "We will need to compare our *posterior* to this to see if the husband is more likely of guilt. If so, that implies that the defense attorney is trying to pull the wool over the jury's eyes!"
   ]
  },
  {
   "cell_type": "markdown",
   "metadata": {},
   "source": [
    "### Step 3\n",
    "\n",
    "Figure out what the posterior probability of guilt is.\n",
    "\n",
    "- You know that the posterior probability is $P(G|...)$. \n",
    "- Think about what event(s) to condition on (i.e., what evidence do we have?).\n",
    "- Drawing a tree diagram might help."
   ]
  },
  {
   "cell_type": "code",
   "execution_count": 11,
   "metadata": {},
   "outputs": [],
   "source": [
    "## TODO: Calculate the posterior probability of guilt. \n",
    "##       Do this either analytically or numerically (directly on the data)"
   ]
  },
  {
   "cell_type": "markdown",
   "metadata": {},
   "source": [
    "## Solution"
   ]
  },
  {
   "cell_type": "markdown",
   "metadata": {},
   "source": [
    "The grave error the defense is making is that they are not considering *all* of the available evidence: namely, that the wife was murdered!"
   ]
  },
  {
   "cell_type": "markdown",
   "metadata": {},
   "source": [
    "### Analytical\n",
    "\n",
    "Let $A$, $G$, and $M$ be the events that that wife was abused, the husband is guilty, and that the wife was murdered, respectively. \n",
    "\n",
    "Given:\n",
    "\n",
    "$P(G|A) = \\frac{1}{2500}$, provided by the defense<br>\n",
    "$P(G|M) = 0.2$, provided by our data<br>\n",
    "$P(A|G,M) = 0.5$, provided by our data<br>\n",
    "$P(A|G^{c},M) = 0.1$, provided by our data<br>\n",
    "\n",
    "We can directly use Bayes' Thereom with \"extra\" conditioning:\n",
    "\n",
    "\\begin{align}\n",
    "P(G|A,M) & = \\frac{P(A|G,M)P(G|M)}{P(A|G,M)P(G|M) + P(A|G^{c},M)P(G^{c}|M)} \\\\\n",
    "P(G|A,M) & = \\frac{(0.5 \\cdot 0.2)}{(0.5 \\cdot 0.2) + (0.1 \\cdot 0.8)} \\\\\n",
    "P(G|A,M) & = \\frac{5}{9}\n",
    "\\end{align}"
   ]
  },
  {
   "cell_type": "code",
   "execution_count": 12,
   "metadata": {},
   "outputs": [
    {
     "data": {
      "text/plain": [
       "0.5555555555555555"
      ]
     },
     "execution_count": 12,
     "metadata": {},
     "output_type": "execute_result"
    }
   ],
   "source": [
    "# Events\n",
    "G_and_M = \"G == 1 and M == 1\"\n",
    "notG_and_M = \"G == 0 and M == 1\"\n",
    "M = \"M == 1\"\n",
    "G = \"G == 1\"\n",
    "\n",
    "# Terms in Bayes Rule\n",
    "p_A_given_G_and_M = df.query(G_and_M)['A'].mean()\n",
    "p_G_given_M = df.query(M)['G'].mean()\n",
    "p_A_given_notG_and_M = df.query(notG_and_M)['A'].mean()\n",
    "p_notG_given_M = 1 - p_G_given_M\n",
    "\n",
    "# Answer \n",
    "p_G_given_A_and_M =\\\n",
    "    (p_A_given_G_and_M * p_G_given_M) /\\\n",
    "    ((p_A_given_G_and_M * p_G_given_M) + (p_A_given_notG_and_M * p_notG_given_M))\n",
    "\n",
    "p_G_given_A_and_M"
   ]
  },
  {
   "cell_type": "markdown",
   "metadata": {},
   "source": [
    "Notice that when we incorporate *all* of the evidence available to us, our *posterior* belief that the husband is guilty rises to over 50% (versus our *prior* belief of 20%).\n",
    "\n",
    "Notice that we also *never used* the defense attorney's information in our calculation -- we don't care about the proportion of abusive husbands who murder their wives (i.e., $P(G|A)$)...instead, we care about the proportion of abusive husbands who murder their wives taken from the group of abusive husbands whose wives were murdered (i.e., $P(G|A,M)$)!\n",
    "\n",
    "**While most cases of spousal abuse do not end in murder, most cases of murder when there is a history of spousal abuse can be attributed to the spouse.**"
   ]
  },
  {
   "cell_type": "markdown",
   "metadata": {},
   "source": [
    "Of course, since we had a comprehensive view of the sample space via the data on hand, we also could've conditioned on $A$ first, then applied Bayes Theorem under that condition:\n",
    "\n",
    "\\begin{align}\n",
    "P(G|A,M) & = \\frac{P(M|G,A)P(G|A)}{P(M|G,A)P(G|A) + P(M|G^{c},A)P(G^{c}|A)} \\\\\n",
    "P(G|A,M) & = \\frac{(1 \\cdot 0.0004)}{(1 \\cdot 0.0004) + (0.000320128 \\cdot 0.9996)} \\\\\n",
    "P(G|A,M) & = \\frac{5}{9}\n",
    "\\end{align}\n",
    "\n",
    "However, the facts of the case, as presented, didn't supply $P(M|G^c,A)$. In fact, if you look at how Ravi implemented the `data_generator()` function, you can decide on any \"small\" $P(G|A)$ and $P(M)$ and get the same result: $P(M|G^c, A)$ will adjust to changes in choice of $P(G|A)$ and $P(M)$ and the conditions stipulated above, yielding the same ratio $\\frac{5}{9}$."
   ]
  },
  {
   "cell_type": "code",
   "execution_count": 13,
   "metadata": {},
   "outputs": [
    {
     "data": {
      "text/plain": [
       "0.5555555555555556"
      ]
     },
     "execution_count": 13,
     "metadata": {},
     "output_type": "execute_result"
    }
   ],
   "source": [
    "# Events\n",
    "G_and_A = \"G == 1 and A == 1\"\n",
    "notG_and_A = \"G == 0 and A == 1\"\n",
    "A = \"A == 1\"\n",
    "G = \"G == 1\"\n",
    "\n",
    "# Terms in Bayes Rule\n",
    "p_M_given_G_and_A = df.query(G_and_A)['M'].mean()\n",
    "p_G_given_A = df.query(A)['G'].mean()\n",
    "p_M_given_notG_and_A = df.query(notG_and_A)['M'].mean()\n",
    "p_notG_given_A = 1 - p_G_given_A\n",
    "\n",
    "# Answer \n",
    "p_G_given_A_and_M =\\\n",
    "    (p_M_given_G_and_A * p_G_given_A) /\\\n",
    "    ((p_M_given_G_and_A * p_G_given_A) + (p_M_given_notG_and_A * p_notG_given_A))\n",
    "\n",
    "p_G_given_A_and_M"
   ]
  },
  {
   "cell_type": "markdown",
   "metadata": {},
   "source": [
    "The conclusion is the same: the evidence that OJ abused his wife is not irrelevent...it's _very_ relevant and should not be thrown out (despite the protestations of the defense)! What's irrelevant is the number cited by the defense that makes it seem that being an abusive husband is not important."
   ]
  },
  {
   "cell_type": "markdown",
   "metadata": {},
   "source": [
    "### Numerical"
   ]
  },
  {
   "cell_type": "markdown",
   "metadata": {},
   "source": [
    "We can get the same solution directly from the data:"
   ]
  },
  {
   "cell_type": "code",
   "execution_count": 14,
   "metadata": {},
   "outputs": [
    {
     "data": {
      "text/plain": [
       "0.5555555555555556"
      ]
     },
     "execution_count": 14,
     "metadata": {},
     "output_type": "execute_result"
    }
   ],
   "source": [
    "A_and_M = \"A == 1 and M == 1\"\n",
    "\n",
    "# Answer\n",
    "df.query(A_and_M)['G'].mean()"
   ]
  }
 ],
 "metadata": {
  "kernelspec": {
   "display_name": "Python 3",
   "language": "python",
   "name": "python3"
  },
  "language_info": {
   "codemirror_mode": {
    "name": "ipython",
    "version": 3
   },
   "file_extension": ".py",
   "mimetype": "text/x-python",
   "name": "python",
   "nbconvert_exporter": "python",
   "pygments_lexer": "ipython3",
   "version": "3.7.6"
  }
 },
 "nbformat": 4,
 "nbformat_minor": 4
}
