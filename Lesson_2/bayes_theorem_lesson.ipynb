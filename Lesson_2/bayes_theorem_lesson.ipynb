{
 "cells": [
  {
   "cell_type": "markdown",
   "metadata": {
    "slideshow": {
     "slide_type": "slide"
    }
   },
   "source": [
    "# Bayes Theorem\n",
    "DA Probability & Statistics Learning Series • Lesson 3\n",
    "\n",
    "<img src=\"https://imgs.xkcd.com/comics/frequentists_vs_bayesians_2x.png\" align=\"center\" height=\"600\" width=\"300\"/>\n",
    "\n",
    "Welcome, again!\n",
    "\n",
    "*See **#da_prob_stat** for discussion during and after this tutorial.*"
   ]
  },
  {
   "cell_type": "markdown",
   "metadata": {
    "slideshow": {
     "slide_type": "subslide"
    }
   },
   "source": [
    "## Goals\n",
    "- Understand how to relate conditional probabilities to each other\n",
    "- Define and apply the Law of Total Probability\n",
    "- Incorporate new information to update your prior beliefs of an event\n",
    "- Learn and practice Bayes Theorem in a complex setting"
   ]
  },
  {
   "cell_type": "code",
   "execution_count": null,
   "metadata": {
    "slideshow": {
     "slide_type": "subslide"
    }
   },
   "outputs": [],
   "source": [
    "# Import dependencies \n",
    "import sys\n",
    "from custom.db_utils import get_connection, get_data\n",
    "import pandas as pd\n",
    "\n",
    "# Object typing\n",
    "from typing import TypeVar\n",
    "PandasSeries = TypeVar('pd.core.series.Series')\n",
    "PandasDataFrame = TypeVar('pd.core.frame.DataFrame')\n",
    "\n",
    "# Data viz\n",
    "import matplotlib.pyplot as plt\n",
    "from matplotlib.ticker import PercentFormatter\n",
    "import seaborn as sns\n",
    "import numpy as np"
   ]
  },
  {
   "cell_type": "markdown",
   "metadata": {
    "slideshow": {
     "slide_type": "slide"
    }
   },
   "source": [
    "## Motivating Context 🤔"
   ]
  },
  {
   "cell_type": "markdown",
   "metadata": {
    "slideshow": {
     "slide_type": "subslide"
    }
   },
   "source": [
    "Between 1996-98, Sally Clark, a British woman, lost her two infant children under similarly mysterious circumstances. The defence argued that the children had died of *SIDS* - sudden infant death syndrome. However, the prosecution claimed that the probability of children from an affluent family, like Clark's, suffering from SIDS was 1 in 73 million. They used this to *prove* that she *must* be guilty of killing her children; in 1999, Clark was, in fact, convicted of murdering them."
   ]
  },
  {
   "cell_type": "markdown",
   "metadata": {
    "slideshow": {
     "slide_type": "subslide"
    }
   },
   "source": [
    "**TODO:** How would you structure this as events?"
   ]
  },
  {
   "cell_type": "markdown",
   "metadata": {
    "slideshow": {
     "slide_type": "subslide"
    }
   },
   "source": [
    "> Sally Clark is guilty of killing her two children **because** it is *so* unlikely for them to have died mysteriously if she were innocent.\n",
    "\n",
    "Sounds like a pretty reasonable statement right? It's inaccurate though!"
   ]
  },
  {
   "cell_type": "markdown",
   "metadata": {
    "slideshow": {
     "slide_type": "subslide"
    }
   },
   "source": [
    "**TODO:** What do you think makes this case funky?"
   ]
  },
  {
   "cell_type": "markdown",
   "metadata": {
    "slideshow": {
     "slide_type": "subslide"
    }
   },
   "source": [
    "The prosecution argued the following:\n",
    "\n",
    "$$\n",
    "\\begin{split}\n",
    "P(\\text{innocence | evidence}) & = P(\\text{evidence | innocence}) \\\\\n",
    "P(\\text{I | E}) & = P(\\text{E | I})\n",
    "\\end{split}\n",
    "$$\n",
    "\n",
    "As we saw above, in plain English, that comparison sounds pretty normal. Mathematically though, it's really not."
   ]
  },
  {
   "cell_type": "markdown",
   "metadata": {
    "slideshow": {
     "slide_type": "subslide"
    }
   },
   "source": [
    "From our lesson on conditional probability, we can infer:\n",
    "\n",
    "$$\n",
    "\\begin{split}\n",
    "P(I | E) & = \\frac{P(I \\cap E)}{P(E)} \\\\\n",
    "\\implies P(I \\cap E) & = P(I | E)P(E)\n",
    "\\end{split}\n",
    "$$"
   ]
  },
  {
   "cell_type": "markdown",
   "metadata": {
    "slideshow": {
     "slide_type": "subslide"
    }
   },
   "source": [
    "**and the other way too...**\n",
    "\n",
    "$$\n",
    "\\begin{split}\n",
    "P(E | I) & = \\frac{P(I \\cap E)}{P(I)} \\\\\n",
    "\\implies P(I \\cap E) & = P(E | I)P(I)\n",
    "\\end{split}\n",
    "$$"
   ]
  },
  {
   "cell_type": "markdown",
   "metadata": {
    "slideshow": {
     "slide_type": "subslide"
    }
   },
   "source": [
    "**thus**\n",
    "\n",
    "$$\n",
    "\\begin{split}\n",
    "P(I | E)P(E) & = P(E | I)P(I) \\\\ \\\\\n",
    "\\implies P(I | E) & = \\frac{P(E | I)P(I)}{P(E)} \\\\ \\\\\n",
    "\\implies P(I | E) & \\neq P(E | I)\n",
    "\\end{split}\n",
    "$$"
   ]
  },
  {
   "cell_type": "markdown",
   "metadata": {
    "slideshow": {
     "slide_type": "subslide"
    }
   },
   "source": [
    "**CONCLUSIONS:**\n",
    "- Equating a conditional to its inverse is incorrect.\n",
    "-  When you are offered evidence, you don't want to throw out your prior belief entirely; you want to incorporate the new evidence to update your prior beliefs. Not doing so is the base rate fallacy."
   ]
  },
  {
   "cell_type": "markdown",
   "metadata": {
    "slideshow": {
     "slide_type": "subslide"
    }
   },
   "source": [
    "The Sally Clark case was a statistical blunder. But the mistakes made by the prosecution in this case aren't exclusive to the courtroom."
   ]
  },
  {
   "cell_type": "markdown",
   "metadata": {
    "slideshow": {
     "slide_type": "subslide"
    }
   },
   "source": [
    "A more trivial version of the [**Prosecutor's Fallacy**](https://towardsdatascience.com/the-prosecutors-fallacy-cb0da4e9c039) is saying:\n",
    "\n",
    ">My partner hasn't texted me in 3 hours - they probably don't love me.\n",
    "\n",
    "- $P(\\text{doesn't love you | late text}) \\neq P(\\text{late text | doesn't love you})$\n",
    "- The latter would understandably be very high, but the former is likely because they are either busy or are fed up of sheltering in place with you. Relax a little 😉"
   ]
  },
  {
   "cell_type": "markdown",
   "metadata": {
    "slideshow": {
     "slide_type": "slide"
    }
   },
   "source": [
    "## Intro to Bayes"
   ]
  },
  {
   "cell_type": "code",
   "execution_count": null,
   "metadata": {
    "slideshow": {
     "slide_type": "subslide"
    }
   },
   "outputs": [],
   "source": [
    "# Get the database connection and cursor objects\n",
    "conn, cur = get_connection()\n",
    "\n",
    "# Use a context manager to open and close connection and files\n",
    "df = get_data('query.sql', 'file', conn)\n",
    "\n",
    "# Preview the data\n",
    "df.sample(3)"
   ]
  },
  {
   "cell_type": "code",
   "execution_count": null,
   "metadata": {
    "slideshow": {
     "slide_type": "subslide"
    }
   },
   "outputs": [],
   "source": [
    "# Isolate data to be used\n",
    "tradelane_mode_df = df[['tradelane', 'mode']]\n",
    "tradelane_mode_df\n",
    "\n",
    "# Call Crosstab function from last time to get sums of tradelane and mode pairs.\n",
    "tradelane_mode_xt = pd.crosstab(index=tradelane_mode_df['tradelane'], \n",
    "                               columns=tradelane_mode_df['mode'])\n",
    "\n",
    "tradelane_mode_xt.head(3)"
   ]
  },
  {
   "cell_type": "markdown",
   "metadata": {
    "slideshow": {
     "slide_type": "slide"
    }
   },
   "source": [
    "## Classification with Conditional Probability ✈️🚢\n",
    "\n",
    "Let's introduce this with an example (motivated from a lesson at UC Berkeley):\n",
    "\n",
    "Let's say we know that: \n",
    "- 60% of shipments are Ocean and the remaining 40% are Air\n",
    "- 50% of Ocean Shipments are on TPEB\n",
    "- 80% of Air Shipments are on TPEB"
   ]
  },
  {
   "cell_type": "markdown",
   "metadata": {
    "slideshow": {
     "slide_type": "subslide"
    }
   },
   "source": [
    "Now suppose I pick a shipment at random. \n",
    "\n",
    "**TODO** Can you classify the shipment as Air or Ocean?"
   ]
  },
  {
   "cell_type": "markdown",
   "metadata": {
    "slideshow": {
     "slide_type": "subslide"
    }
   },
   "source": [
    "<b> You probably guessed ocean ... </b>\n",
    "\n",
    "The shipment is picked at random and so you know that the chance that the shipment is Ocean is 60%. That's greater than the 40% chance of being an Air shipment, so you would classify the shipment as Ocean.\n",
    "\n",
    "The information about the tradelane is irrelevant, as we already know the proportions of mode. \n",
    "\n",
    "We have a pretty simple classifier! "
   ]
  },
  {
   "cell_type": "markdown",
   "metadata": {
    "slideshow": {
     "slide_type": "subslide"
    }
   },
   "source": [
    "But now suppose I give you some additional information about the shipment that was picked:\n",
    "\n",
    "<b>The Shipment was on TPEB. </b>"
   ]
  },
  {
   "cell_type": "markdown",
   "metadata": {
    "slideshow": {
     "slide_type": "fragment"
    }
   },
   "source": [
    "**TODO:** Would this knowledge change your classification?"
   ]
  },
  {
   "cell_type": "markdown",
   "metadata": {
    "slideshow": {
     "slide_type": "subslide"
    }
   },
   "source": [
    "<b>Updating the Prediction Based on New Information </b>\n",
    "\n",
    "Now that we know the shipment is on TPEB, it becomes important to look at the relation between shipment and mode."
   ]
  },
  {
   "cell_type": "code",
   "execution_count": null,
   "metadata": {
    "slideshow": {
     "slide_type": "subslide"
    }
   },
   "outputs": [],
   "source": [
    "mode = np.array(['Ocean']*60 + ['Air']*40)\n",
    "tradelane = np.array(['Not TPEB']*30+['TPEB']*30+['Not TPEB']*8+['TPEB']*32)\n",
    "df = {'Mode':mode,'Tradelane':tradelane}\n",
    "df = pd.DataFrame(df, columns=['Mode','Tradelane'])\n",
    "\n",
    "df.head()"
   ]
  },
  {
   "cell_type": "code",
   "execution_count": null,
   "metadata": {
    "slideshow": {
     "slide_type": "subslide"
    }
   },
   "outputs": [],
   "source": [
    "pd.crosstab(index=df['Tradelane'], columns=df['Mode'])"
   ]
  },
  {
   "cell_type": "markdown",
   "metadata": {
    "slideshow": {
     "slide_type": "fragment"
    }
   },
   "source": [
    "- The total count of shipments is 100 - 60 Ocean and 40 Air\n",
    "- Since we know the shipment is on TPEB, though, our sample space is reduced to the 62 shipments in TPEB\n",
    "- In TPEB, 32 of the 62 shipments are Air - that's over 50%!\n",
    "- So, in the light of the new information about the tradelane, **we would update our prediction and classify the shipment as Air.**"
   ]
  },
  {
   "cell_type": "markdown",
   "metadata": {
    "slideshow": {
     "slide_type": "slide"
    }
   },
   "source": [
    "The method that we have just used above is due to the Reverend [Thomas Bayes](https://en.wikipedia.org/wiki/Thomas_Bayes) (1701-1761). His method solved what was called an \"inverse probability\" problem: given new data, how can you update chances you had found earlier? Though Bayes lived three centuries ago, his method is widely used now in machine learning."
   ]
  },
  {
   "cell_type": "markdown",
   "metadata": {
    "slideshow": {
     "slide_type": "slide"
    }
   },
   "source": [
    "## Conditional Probability -> Bayes Theorem"
   ]
  },
  {
   "cell_type": "markdown",
   "metadata": {
    "slideshow": {
     "slide_type": "subslide"
    }
   },
   "source": [
    "Let's mathematically build up the intuition behind Bayes Theorem.\n",
    "\n",
    "- Lets say Event A is Shipment is on Air. \n",
    "- Lets say Event B is Shipment being on TPEB. "
   ]
  },
  {
   "cell_type": "markdown",
   "metadata": {
    "slideshow": {
     "slide_type": "subslide"
    }
   },
   "source": [
    "**From last time we know:**\n",
    "\n",
    "The probability of two events A and B happening can be represented in two ways: \n",
    "\n",
    "$$\n",
    "P(A \\cap B) = P(A)P(B \\mid A) = P(B)P(A \\mid B)\n",
    "$$"
   ]
  },
  {
   "cell_type": "markdown",
   "metadata": {
    "slideshow": {
     "slide_type": "subslide"
    }
   },
   "source": [
    "That is, we now have:\n",
    "\n",
    "$$\n",
    "P(B)P(A \\mid B) = P(A)P(B \\mid A)\n",
    "$$"
   ]
  },
  {
   "cell_type": "markdown",
   "metadata": {
    "slideshow": {
     "slide_type": "fragment"
    }
   },
   "source": [
    "And that's actually it. Moving $P(B)$ to the other side, we have Bayes Theorem for the two event case:\n",
    "\n",
    "$$\n",
    "P(A \\mid B) = \\frac{P(A) P(B \\mid A)} {P(B)}\n",
    "$$"
   ]
  },
  {
   "cell_type": "markdown",
   "metadata": {
    "slideshow": {
     "slide_type": "subslide"
    }
   },
   "source": [
    "This formula is useful, but we might not always know $P(B)$. The Law of Total Probability gives us a way to compute it."
   ]
  },
  {
   "cell_type": "markdown",
   "metadata": {
    "slideshow": {
     "slide_type": "slide"
    }
   },
   "source": [
    "## The Law of Total Probability 📜\n",
    "\n",
    "Now we need connect conditional and unconditional probabilities. We do this with **the Law of Total Probability** (LOTP). \n",
    "\n",
    "\n",
    "You'll also have the tools to deal with conditioning on multiple events/pieces of information since the concepts translate generally.\n",
    "\n"
   ]
  },
  {
   "cell_type": "markdown",
   "metadata": {
    "slideshow": {
     "slide_type": "subslide"
    }
   },
   "source": [
    "**The Law of Total Probability** is an incredibly useful problem solving tool. Formally stated, it says:\n",
    "\n",
    "$$\n",
    "\\text{If }A_i,...,A_n \\text{ is a partition of the sample space }S \\text{, then } \\\\ \\\\\n",
    "P(B) = \\sum_{i=1}^{n}{P(B|A_i)P(A_i)}\n",
    "$$"
   ]
  },
  {
   "cell_type": "markdown",
   "metadata": {
    "slideshow": {
     "slide_type": "subslide"
    }
   },
   "source": [
    "But this is likely better illustrated with a picture:\n",
    "\n",
    "<img src=\"./LOTP.png\" width=\"600\" height=\"400\"/>"
   ]
  },
  {
   "cell_type": "markdown",
   "metadata": {
    "slideshow": {
     "slide_type": "subslide"
    }
   },
   "source": [
    "Okay, your turn to practice!\n",
    "\n",
    "**Question**: \n",
    "\n",
    "> What's $P(\\text{TPEB})$. \n",
    "\n",
    "Partition the data and use LOTP so you can calculate it. Check against the data directly."
   ]
  },
  {
   "cell_type": "code",
   "execution_count": null,
   "metadata": {
    "slideshow": {
     "slide_type": "subslide"
    }
   },
   "outputs": [],
   "source": [
    "## TODO: Demonstrate LOTP on our data; start with tradelane_mode_xt\n",
    "tradelane_mode_xt.head()"
   ]
  },
  {
   "cell_type": "code",
   "execution_count": null,
   "metadata": {
    "slideshow": {
     "slide_type": "subslide"
    }
   },
   "outputs": [],
   "source": [
    "# This is the denominator to convert cardinality of sets to probabilities\n",
    "# (per the Naive Definition of Probability)\n",
    "S = tradelane_mode_xt.sum().sum()\n",
    "\n",
    "# Show that p_TPEB_by_LTOP == p_TPEB\n",
    "p_TPEB = tradelane_mode_xt.loc['TPEB',:].sum()/S\n",
    "\n",
    "p_Air = tradelane_mode_xt.loc[:,'Air'].sum()/S\n",
    "\n",
    "p_not_Air = 1 - p_Air\n",
    "\n",
    "p_TPEB_given_Air = \n",
    "\n",
    "p_TPEB_given_not_Air = \n",
    "\n",
    "p_TPEB_by_LOTP = \n",
    "\n",
    "# # Check if our answer is right   \n",
    "# print(f\"Our Answer: {p_TPEB_by_LOTP:.5%}\")\n",
    "# print(f\"Expected Answer: {p_TPEB:.5%}\")"
   ]
  },
  {
   "cell_type": "markdown",
   "metadata": {
    "slideshow": {
     "slide_type": "skip"
    }
   },
   "source": [
    "### Definition Glossary"
   ]
  },
  {
   "cell_type": "markdown",
   "metadata": {
    "slideshow": {
     "slide_type": "skip"
    }
   },
   "source": [
    "$$\n",
    "P(A \\mid B) = \\frac{P(A) P(B \\mid A)} {P(B)}\n",
    "$$\n",
    "\n",
    "- **Marginal Probability**: Unconditional probability of an event. eg. $P(A)$ and $P(B)$\n",
    "- **Prior Probability**: A type of marginal probability relevant to Bayes Theorem. It is the probability of an event based on our prior beliefs about that event. Here, $P(A)$ is the prior. The posterior is the updated probability of the prior given new information from event $B$.\n",
    "- **Posterior Probability**: The conditional probability we are trying to compute - $P(A \\mid B)$\n",
    "- **Likelihood**: This is the inverse of the conditional probablity we are trying to compute. If we are interested in $P(A \\mid B)$, likelihood refers to $P(B \\mid A)$"
   ]
  },
  {
   "cell_type": "markdown",
   "metadata": {
    "slideshow": {
     "slide_type": "slide"
    }
   },
   "source": [
    "## Updating Priors ☝🏽"
   ]
  },
  {
   "cell_type": "markdown",
   "metadata": {
    "slideshow": {
     "slide_type": "subslide"
    }
   },
   "source": [
    "Bayes Theorem, and conditional probability in general, can be framed in multiple ways:\n",
    "- $P(A|B)$ = Probability that event $A$ occurs *given* that event $B$ has occured\n",
    "- $P(A|E)$ = Probability of hypothesis $A$ being true *given* certain evidence $E$\n",
    "- $P(A|B)$ = Updated probability of event $A$ occurring *given* additional information from event $B$"
   ]
  },
  {
   "cell_type": "markdown",
   "metadata": {
    "slideshow": {
     "slide_type": "subslide"
    }
   },
   "source": [
    "In each of these s scenarios, we:\n",
    "1. take an event $A$ that has some probabilty of ocurrring in isolation - $P(A)$\n",
    "2. we update that probability $P(A)$ by incorporating information from event $B$ ocurring: that gives us $P(A|B)$"
   ]
  },
  {
   "cell_type": "markdown",
   "metadata": {
    "slideshow": {
     "slide_type": "subslide"
    }
   },
   "source": [
    "We've seen that Bayes Theorem helps us relate conditional probabilities to one another. Now let's look at how it can be leveraged to update our prior beliefs about certain events."
   ]
  },
  {
   "cell_type": "markdown",
   "metadata": {
    "slideshow": {
     "slide_type": "slide"
    }
   },
   "source": [
    "### Ravi Goes to Disneyland 🏰"
   ]
  },
  {
   "cell_type": "markdown",
   "metadata": {
    "slideshow": {
     "slide_type": "subslide"
    }
   },
   "source": [
    "Ravi is excited that Disneyland has finally opened up and he has taken the day off to go to LA and enjoy Goofy's Sky School after months of waiting. However, for him to be able to enter Disneyland, the management needs to be certain that he doesn't have COVID-19; he's got to get tested."
   ]
  },
  {
   "cell_type": "markdown",
   "metadata": {
    "slideshow": {
     "slide_type": "subslide"
    }
   },
   "source": [
    "Nervous about his fate, Ravi goes to the Disneyland clinic and waits for the doctor. When the doctor arrives, she makes an initial assessment of him. She comments that since Ravi looks asymptomatic and generally quite energized, he probably does not have COVID. However, since he took a flight to LA, it's quite possible that he might have contracted the virus while not social distancing on board. She thinks for a few minutes, notes down some stuff, and concludes that Ravi's prior (*pre-test*) probability of having COVID is:\n",
    "\n",
    "$$\n",
    "P(D) = 0.3 = 30\\%\n",
    "$$\n",
    "\n",
    "She then prepares to test him."
   ]
  },
  {
   "cell_type": "markdown",
   "metadata": {
    "slideshow": {
     "slide_type": "subslide"
    }
   },
   "source": [
    "The doctor's test, **Test 1**, is 90% accurate. If someone has COVID, the test correctly returns 'positive' 90% of the time; if they don't have COVID, the test correctly returns 'negative' 90% of the time. \n",
    "\n",
    "Said another way, both the false positive and false negative rates are 10% respectively. (Later we'll talk about _sensitivity_ and _specificity_.)"
   ]
  },
  {
   "cell_type": "markdown",
   "metadata": {
    "slideshow": {
     "slide_type": "subslide"
    }
   },
   "source": [
    "Ravi is administered the test and his results come out **negative**! Let $T_1$ be the event that Ravi tests positive with **Test 1**; $T_1^c$ is the event that he tests negative. Then,"
   ]
  },
  {
   "cell_type": "markdown",
   "metadata": {
    "slideshow": {
     "slide_type": "subslide"
    }
   },
   "source": [
    "$$\n",
    "\\begin{split}\n",
    "P(D \\mid T_1^c) & & & = \\frac{P(T_1^c \\mid D)P(D)}{P(T_1^c)} \\\\ \\\\\n",
    "& & & = \\frac{P(T_1^c \\mid D)P(D)}{P(T_1^c \\mid D)P(D) + P(T_1^c \\mid D^c)P(D^c)} \\\\ \\\\\n",
    "& & & = \\frac{(0.1)(0.3)}{(0.1)(0.3) + (0.9)(0.7)} \\\\ \\\\\n",
    "& & & = 0.045 = 4.5\\%\n",
    "\\end{split}\n",
    "$$"
   ]
  },
  {
   "cell_type": "markdown",
   "metadata": {
    "slideshow": {
     "slide_type": "subslide"
    }
   },
   "source": [
    "The posterior probability of Ravi having COVID (remember, that's $P(D|T_1^c$) is 4.5% — a significant decrease from the prior probability of 30% that the doctor assumed when Ravi came in. \n",
    "\n",
    "In this way, we've 'updated our priors' using the information that the first test came back negative!"
   ]
  },
  {
   "cell_type": "markdown",
   "metadata": {
    "slideshow": {
     "slide_type": "subslide"
    }
   },
   "source": [
    "**Note:** We didn't entirely discard the original assessment of 30% that Ravi has COVID. Instead, we simply updated that assessment using the results of a test."
   ]
  },
  {
   "cell_type": "markdown",
   "metadata": {
    "slideshow": {
     "slide_type": "subslide"
    }
   },
   "source": [
    "Unfortunately, even a test with 90% accuracy can't confirm that Ravi does not have COVID. A 4.5% chance is above the **strict threshold of 2%** that Disney is enforcing on its visitors and Ravi doesn't meet that cut. Sorry bud ☹️"
   ]
  },
  {
   "cell_type": "markdown",
   "metadata": {
    "slideshow": {
     "slide_type": "subslide"
    }
   },
   "source": [
    "**TODO:**\n",
    "- What if the doctor felt differently during her initial evaluation of Ravi's health? \n",
    "- Or what if Ravi was both corrupt and desperate and offered the doctor $1000 for a 'better' initial evaluation?\n",
    "\n",
    "Would that alter the posterior probability?"
   ]
  },
  {
   "cell_type": "markdown",
   "metadata": {
    "slideshow": {
     "slide_type": "fragment"
    }
   },
   "source": [
    "Try for yourself!"
   ]
  },
  {
   "cell_type": "code",
   "execution_count": null,
   "metadata": {
    "slideshow": {
     "slide_type": "skip"
    }
   },
   "outputs": [],
   "source": [
    "## TODO\n",
    "# Loop through a few values of using the compute_bayes_posterior function to see for yourself!\n",
    "\n",
    "# calculate P(A|B) when provided P(A), P(B|A), P(B|not A)\n",
    "def compute_posterior(p_a, p_b_given_a, p_b_given_not_a):\n",
    "    # calculate P(not A)\n",
    "    not_a = 1 - p_a\n",
    "    # calculate P(B)\n",
    "    p_b = p_b_given_a * p_a + p_b_given_not_a * not_a\n",
    "    # calculate P(A|B)\n",
    "    p_a_given_b = (p_b_given_a * p_a) / p_b\n",
    "    return p_a_given_b\n",
    "\n",
    "# P(T1_c | D) = P(Tests Negative GIVEN Has COVID)\n",
    "p_T1_c_given_D = 0.1\n",
    "\n",
    "# P(T1_c | not D) = P(Tests Negative GIVEN Does Not Have COVID)\n",
    "p_T1_c_given_not_D = 0.9\n",
    "\n",
    "print('Question 1\\n---')\n",
    "# Calculate P(D | T1_c) for various values of P(D)\n",
    "\n",
    "\n",
    "print('\\nQuestion 2\\n---')\n",
    "# Use a while loop to figure out the first value of P(c) for which P(C|Nx) is less than 1%\n",
    "pD = 0.3\n",
    "while pD > 0:\n",
    "    p_D_given_T1_c = compute_posterior(pD, p_T1_c_given_D, p_T1_c_given_not_D)\n",
    "    if p_D_given_T1_c < 0.02:\n",
    "        print(f'Had the doctor\\'s initial assessment been P(D) = {pD:.0%} or less, P(D | T1_c) would have been less than 2%')\n",
    "        break\n",
    "    pD -= 0.01\n",
    "else:\n",
    "    print('Given the effectiveness of the test, there is no prior probability of COVID that can bring the posterior probability less than 2%')"
   ]
  },
  {
   "cell_type": "markdown",
   "metadata": {
    "slideshow": {
     "slide_type": "slide"
    }
   },
   "source": [
    "## Multiple Conditions"
   ]
  },
  {
   "cell_type": "markdown",
   "metadata": {
    "slideshow": {
     "slide_type": "subslide"
    }
   },
   "source": [
    "Fortunately, bribing the doc isn't necessarily Ravi's only solution to entering Disneyland."
   ]
  },
  {
   "cell_type": "markdown",
   "metadata": {
    "slideshow": {
     "slide_type": "subslide"
    }
   },
   "source": [
    "The doctor says she has a second test, **Test 2** that is **conditionally independent** of the results of **Test 1** given that the patient has/doesn't have COVID. It's also not as good as **Test 1** with an accuracy of just 70%."
   ]
  },
  {
   "cell_type": "markdown",
   "metadata": {
    "slideshow": {
     "slide_type": "subslide"
    }
   },
   "source": [
    "**TODO:** What is the doctor's latest assessment of Ravi's likelihood of having COVID? Is it different from her initial assessment?"
   ]
  },
  {
   "cell_type": "markdown",
   "metadata": {
    "slideshow": {
     "slide_type": "subslide"
    }
   },
   "source": [
    "**TODO:** Given that we know Ravi tested negative on **Test 1**, is the second test more or less likely to be negative? What can we say about $P(T_2^c \\mid T_1^c)$?"
   ]
  },
  {
   "cell_type": "markdown",
   "metadata": {
    "slideshow": {
     "slide_type": "subslide"
    }
   },
   "source": [
    "Ravi tests negative on **Test 2**, but we still don't know for sure if he has the virus or not. We need to update our prior beliefs once again and this time, we need to compute:\n",
    "\n",
    "$$\n",
    "P(D \\mid T_1^c, T_2^c)\n",
    "$$"
   ]
  },
  {
   "cell_type": "markdown",
   "metadata": {
    "slideshow": {
     "slide_type": "fragment"
    }
   },
   "source": [
    "Well, how?.. Let's learn a new concept to help us out."
   ]
  },
  {
   "cell_type": "markdown",
   "metadata": {
    "slideshow": {
     "slide_type": "slide"
    }
   },
   "source": [
    "## Conditional Independence"
   ]
  },
  {
   "cell_type": "markdown",
   "metadata": {
    "slideshow": {
     "slide_type": "subslide"
    }
   },
   "source": [
    "Events refresher:\n",
    "\n",
    "$D$ = Event that Ravi has COVID\n",
    "<br>\n",
    "$T_1$ = Event that Ravi tests positive in **Test 1**\n",
    "<br>\n",
    "$T_1^c$ = Event that Ravi tests negative in **Test 1**\n",
    "<br>\n",
    "$T_2$ = Event that Ravi tests positive in **Test 2**\n",
    "<br>\n",
    "$T_2^c $= Event that Ravi tests negative in **Test 2**"
   ]
  },
  {
   "cell_type": "markdown",
   "metadata": {
    "slideshow": {
     "slide_type": "subslide"
    }
   },
   "source": [
    "If Ravi tests negative on **Test 1**, that reveals something about him as a person. After the test, Ravi isn't a random person we've picked off the street anymore, and we have some additional info about him going into **Test 2**. Thus,\n",
    "\n",
    "$$\n",
    "P(T_2^c \\mid T_1^c) \\neq P(T_2^c)\n",
    "$$\n",
    "\n",
    "Events $T_1^c$ and $T_2^c$ are **not independent**. Let's visualize this."
   ]
  },
  {
   "cell_type": "markdown",
   "metadata": {
    "slideshow": {
     "slide_type": "subslide"
    }
   },
   "source": [
    "Our entire event space is paritioned by the event of testing either positive or negative with **Test 1**"
   ]
  },
  {
   "cell_type": "markdown",
   "metadata": {
    "slideshow": {
     "slide_type": "fragment"
    }
   },
   "source": [
    "<img src=\"conditional_independence_t1_partition.jpg\" width=\"500\" height=\"400\"/>"
   ]
  },
  {
   "cell_type": "markdown",
   "metadata": {
    "slideshow": {
     "slide_type": "subslide"
    }
   },
   "source": [
    "The events associated with **Test 2** also partition our event space."
   ]
  },
  {
   "cell_type": "markdown",
   "metadata": {
    "slideshow": {
     "slide_type": "fragment"
    }
   },
   "source": [
    "<img src=\"conditional_independence_t1_t2.png\" width=\"500\" height=\"400\"/>"
   ]
  },
  {
   "cell_type": "markdown",
   "metadata": {
    "slideshow": {
     "slide_type": "subslide"
    }
   },
   "source": [
    "Without doing the math behind this and just going off our intuition so far, the dependence of events $T_1^c$ and $T_2^c$ is represented by $P(T_2^c \\mid T_1^c)$ being greater than $P(T_2^c \\mid T_1)$. \n",
    "\n",
    "We get these probabilities by **zooming** into the areas that we are conditioning on."
   ]
  },
  {
   "cell_type": "markdown",
   "metadata": {
    "slideshow": {
     "slide_type": "subslide"
    }
   },
   "source": [
    "$P(• \\mid T_1^c)$\n",
    "\n",
    "Given Ravi tests negative on **Test 1**, the probability that he tests negative on **Test 2** is **larger** than the probability that he tests positive on it.\n",
    "\n",
    "<img src=\"conditional_independence_t1_c.jpg\" width=\"500\" height=\"400\"/>"
   ]
  },
  {
   "cell_type": "markdown",
   "metadata": {
    "slideshow": {
     "slide_type": "subslide"
    }
   },
   "source": [
    "$P(• \\mid T_1)$\n",
    "\n",
    "If Ravi were to test positive on **Test 1**, the probability that he will test negative on **Test 2** will be **smaller** than the probability that he will test positive on it.\n",
    "\n",
    "<img src=\"conditional_independence_t1.jpg\" width=\"500\" height=\"400\"/>"
   ]
  },
  {
   "cell_type": "markdown",
   "metadata": {
    "slideshow": {
     "slide_type": "subslide"
    }
   },
   "source": [
    "Now, let's introduce the event of Ravi having COVID. Not testing positive or negative for it, but *actually having it*"
   ]
  },
  {
   "cell_type": "markdown",
   "metadata": {
    "slideshow": {
     "slide_type": "fragment"
    }
   },
   "source": [
    "<img src=\"conditional_independence_all.jpg\" width=\"500\" height=\"400\"/>"
   ]
  },
  {
   "cell_type": "markdown",
   "metadata": {
    "slideshow": {
     "slide_type": "subslide"
    }
   },
   "source": [
    "As stated earlier, after the negative results on both **Test 1** and **Test 2**, we want to know $P(D \\mid T_1^c, T_2^c)$. Diagrammatically, this is the <span style=\"color:red; font-weight:800\">red</span> area divided by the <span style=\"color:green; font-weight:800\">green</span> area:"
   ]
  },
  {
   "cell_type": "markdown",
   "metadata": {
    "slideshow": {
     "slide_type": "fragment"
    }
   },
   "source": [
    "<img src=\"conditional_independence_d_given_t1_c_t2_c.png\" width=\"500\" height=\"400\"/>"
   ]
  },
  {
   "cell_type": "markdown",
   "metadata": {
    "slideshow": {
     "slide_type": "subslide"
    }
   },
   "source": [
    "Mathematically, that proportion is:\n",
    "\n",
    "$$\n",
    "\\begin{split}\n",
    "P(D \\mid T_1^c, T_2^c) = & \\frac{P(D \\cap T_1^c \\cap T_2^c)}{P(T_1^c \\cap T_2^c)} \\\\ \\\\\n",
    "= & \\frac{P(T_1^c \\cap T_2^c \\cap D)}{P(T_1^c \\cap T_2^c)} \\\\ \\\\\n",
    "= & \\frac{P(T_1^c \\cap T_2^c \\mid D) P(D)}{P(T_1^c \\cap T_2^c)} \\\\ \\\\\n",
    "= & \\frac{P(T_1^c, T_2^c \\mid D) P(D)}{P(T_1^c, T_2^c)}\n",
    "\\end{split}\n",
    "$$"
   ]
  },
  {
   "cell_type": "markdown",
   "metadata": {
    "slideshow": {
     "slide_type": "subslide"
    }
   },
   "source": [
    "Both the drawing and the math *seem* hard to compute. But, since $T_1^c$ and $T_2^c$ are **conditionally independent** give event $D$, we can simplify the following from the numerator:\n",
    "\n",
    "$$\n",
    "P(T_1^c, T_2^c \\mid D) = P(T_1^c \\mid D)P(T_2^c \\mid D)\n",
    "$$"
   ]
  },
  {
   "cell_type": "markdown",
   "metadata": {
    "slideshow": {
     "slide_type": "subslide"
    }
   },
   "source": [
    "Conditional independence says that, given that $D$ occurs (Ravi has COVID), $T_1^c$ and $T_2^c$ are independent. That is, if we know whether or not Ravi has COVID, the results of Test 2 aren't \"influenced\" by Test 1 (vice versa).\n",
    "\n",
    "Note that this is NOT the saying that Test 2 isn't \"influenced\" by Test 1 if we didn't know whether Ravi had COVID or not — to make this statement (i.e., that Test 1 and T2 are \\[unconditionally\\] independent) would be incorrect."
   ]
  },
  {
   "cell_type": "markdown",
   "metadata": {
    "slideshow": {
     "slide_type": "subslide"
    }
   },
   "source": [
    "Visually it says that, given $D$ occurs (we zoom into $D$), $T_1^c$ and $T_2^c$ are independent. That is, given $D$, $P(T_2^c \\mid T_1^c) = P(T_2^c)$"
   ]
  },
  {
   "cell_type": "markdown",
   "metadata": {
    "slideshow": {
     "slide_type": "fragment"
    }
   },
   "source": [
    "<img src=\"conditional_independence_t2_c_given_d.png\" width=\"500\" height=\"400\"/>"
   ]
  },
  {
   "cell_type": "markdown",
   "metadata": {
    "slideshow": {
     "slide_type": "subslide"
    }
   },
   "source": [
    "The ratio $X:Y$ from above is maintained even when we *zoom into* both $D$ and $T_1^c$"
   ]
  },
  {
   "cell_type": "markdown",
   "metadata": {
    "slideshow": {
     "slide_type": "fragment"
    }
   },
   "source": [
    "<img src=\"conditional_independence_given_d.png\" width=\"500\" height=\"400\"/>"
   ]
  },
  {
   "cell_type": "markdown",
   "metadata": {
    "slideshow": {
     "slide_type": "subslide"
    }
   },
   "source": [
    "So, tying a few things together:\n",
    "\n",
    "$$\n",
    "P(D \\mid T_1^c, T_2^c) = \n",
    "    \\frac{P(T_1^c, T_2^c \\mid D) P(D)}{P(T_1^c, T_2^c)} =\n",
    "    \\frac{P(T_1^c \\mid D)P(T_2^c \\mid D) P(D)}{P(T_1^c, T_2^c)}\n",
    "$$"
   ]
  },
  {
   "cell_type": "markdown",
   "metadata": {
    "slideshow": {
     "slide_type": "fragment"
    }
   },
   "source": [
    "We know all the values in the numerator and you can see how to use LOTP on the denominator in the appendix. But long story short, negative results on both **Test 1** and **Test 2** bring down the probability that Ravi has COVID to less than 2% and he **is able to go to Disneyland** 🙃"
   ]
  },
  {
   "cell_type": "markdown",
   "metadata": {
    "slideshow": {
     "slide_type": "skip"
    }
   },
   "source": [
    "### Appendix"
   ]
  },
  {
   "cell_type": "markdown",
   "metadata": {
    "slideshow": {
     "slide_type": "skip"
    }
   },
   "source": [
    "**The challenge of $P(C \\mid N_X \\cap N_Y)$**\n",
    "\n",
    "$P(C \\mid N_X \\cap N_Y)$ relies on computing $P(N_X \\mid N_Y)$ or $P(N_Y \\mid N_X)$. Those are kind of tricky. Using LOTP, here's what they expand into:\n",
    "\n",
    "$$\n",
    "P(N_Y \\mid N_X) = P(N_Y \\mid C \\cap N_X)P(C \\mid N_X) + P(N_Y \\mid C^c \\cap N_X)P(C^c \\mid N_X)\n",
    "$$\n",
    "\n",
    "Try to draw out the set to explain to yourself why that expansion makes sense!"
   ]
  },
  {
   "cell_type": "markdown",
   "metadata": {
    "slideshow": {
     "slide_type": "skip"
    }
   },
   "source": [
    "# Homework"
   ]
  },
  {
   "cell_type": "code",
   "execution_count": null,
   "metadata": {
    "slideshow": {
     "slide_type": "skip"
    }
   },
   "outputs": [],
   "source": [
    "import numpy as np\n",
    "import pandas as pd\n",
    "from custom.defendants_fallacy import data_generator, data_tests"
   ]
  },
  {
   "cell_type": "code",
   "execution_count": null,
   "metadata": {
    "slideshow": {
     "slide_type": "skip"
    }
   },
   "outputs": [],
   "source": [
    "# Generate and load data\n",
    "df = data_generator()\n",
    "data_tests(df)"
   ]
  },
  {
   "cell_type": "markdown",
   "metadata": {
    "slideshow": {
     "slide_type": "skip"
    }
   },
   "source": [
    "Note, we fabricated data on a number of couples, $N = 5,000,000$, and assume that the unconditional probability of a wife being murdered to be $P(M) = 0.0005$."
   ]
  },
  {
   "cell_type": "markdown",
   "metadata": {
    "slideshow": {
     "slide_type": "skip"
    }
   },
   "source": [
    "## Motivation 👨🏼‍⚖️"
   ]
  },
  {
   "cell_type": "markdown",
   "metadata": {
    "slideshow": {
     "slide_type": "skip"
    }
   },
   "source": [
    "Consider this quote from *Calculated Risks: How to Know When Numbers Deceive You* (Gigerenzer, 2002) regarding the proceedings of the infamous trial of OJ Simpson: \n",
    "    \n",
    "> …the prosecution presented evidence that Simpson had been violent toward his wife, while the defense argued that there was only one woman murdered for every 2,500 women who were subjected to spousal abuse, and that any history of Simpson being violent toward his wife was irrelevant to the trial.\n",
    "\n",
    "### Question\n",
    "\n",
    "*Should* the fact that Simpson had been violent toward his wife be thrown out on the grounds of irrelevance (i.e., what the defense asserts)? "
   ]
  },
  {
   "cell_type": "markdown",
   "metadata": {
    "slideshow": {
     "slide_type": "skip"
    }
   },
   "source": [
    "To answer this question, let's use data. Here's what we know using the data on hand and what's been said in court:\n",
    "\n",
    "- A woman has been murdered, and her husband is accused of having committed the murder. \n",
    "- It is known that the man abused his wife repeatedly in the past, and the prosecution argues that this is important evidence pointing towards the man’s guilt. The defense attorney says that the history of abuse is irrelevant, as only 1-in-2500 men who beat their wives end up murdering them.\n",
    "- Assume that the defense attorney is not committing perjury and the 1-in-2500 figure is correct.\n",
    "- Our data tell us that half of men who murder their wives previously abused them. \n",
    "- Our data also tell us that 20% of murdered married women were killed by their husbands, and that if a woman is murdered and the husband is not guilty, then there is only a 10% chance that the husband abused her. "
   ]
  },
  {
   "cell_type": "markdown",
   "metadata": {
    "slideshow": {
     "slide_type": "skip"
    }
   },
   "source": [
    "## Analysis 🔬\n",
    "\n",
    "Below, we start down the path of trying to figure out whether it matters that the husband abused his wife or not. "
   ]
  },
  {
   "cell_type": "markdown",
   "metadata": {
    "slideshow": {
     "slide_type": "skip"
    }
   },
   "source": [
    "### Step 0\n",
    "\n",
    "We need to define some events. (Hint: Look at the column headers in our data.) Begin to think about Bayes' Rule...🤔"
   ]
  },
  {
   "cell_type": "code",
   "execution_count": null,
   "metadata": {
    "slideshow": {
     "slide_type": "skip"
    }
   },
   "outputs": [],
   "source": [
    "df.columns"
   ]
  },
  {
   "cell_type": "code",
   "execution_count": null,
   "metadata": {
    "slideshow": {
     "slide_type": "skip"
    }
   },
   "outputs": [],
   "source": [
    "for col in df:\n",
    "    display(df[col].unique())"
   ]
  },
  {
   "cell_type": "markdown",
   "metadata": {
    "slideshow": {
     "slide_type": "skip"
    }
   },
   "source": [
    "These columns all look like *indicator* random variables. We can also look at the relative frequencies, or the *probabilities*, of each of these events:"
   ]
  },
  {
   "cell_type": "code",
   "execution_count": null,
   "metadata": {
    "slideshow": {
     "slide_type": "skip"
    }
   },
   "outputs": [],
   "source": [
    "df.mean()"
   ]
  },
  {
   "cell_type": "code",
   "execution_count": null,
   "metadata": {
    "slideshow": {
     "slide_type": "skip"
    }
   },
   "outputs": [],
   "source": [
    "## TODO: Explore the data on your more if you desire."
   ]
  },
  {
   "cell_type": "markdown",
   "metadata": {
    "slideshow": {
     "slide_type": "skip"
    }
   },
   "source": [
    "### Step 1 \n",
    "\n",
    "Inspect the data. What does it mean? Can you confirm the facts drawn from our data (see above)?\n",
    "\n",
    "- Show that the defense attorney is correct, i.e., $P(G|A) = \\frac{1}{2500}$.\n",
    "- Show that half of men who murder their wives previously abused them. \n",
    "- Show that 20% of murdered married women were killed by their husbands\n",
    "- Show that if a woman is murdered and the husband is not guilty, then there is only a 10% chance that the husband abused her. "
   ]
  },
  {
   "cell_type": "code",
   "execution_count": null,
   "metadata": {
    "slideshow": {
     "slide_type": "skip"
    }
   },
   "outputs": [],
   "source": [
    "## TODO: Confirm the facts of the case using the data.\n",
    "\n",
    "# p_G_given_A = \n",
    "\n",
    "# p_A_given_G_and_M = \n",
    "\n",
    "# p_G_given_M = \n",
    "\n",
    "# p_A_given_notG_and_M = "
   ]
  },
  {
   "cell_type": "markdown",
   "metadata": {
    "slideshow": {
     "slide_type": "skip"
    }
   },
   "source": [
    "### Step 2 \n",
    "\n",
    "Hope you've been pondering Bayes' Theorem. What is the _prior_ probability that the husband is guilty of murdering his wife?\n",
    "\n",
    "- Calculate $P(G|M)$."
   ]
  },
  {
   "cell_type": "code",
   "execution_count": null,
   "metadata": {
    "slideshow": {
     "slide_type": "skip"
    }
   },
   "outputs": [],
   "source": [
    "## TODO: Calculate the prior probability of guilt given the wife has been murdered.\n",
    "##       Ask yourself if you've already done this calculation..."
   ]
  },
  {
   "cell_type": "markdown",
   "metadata": {
    "slideshow": {
     "slide_type": "skip"
    }
   },
   "source": [
    "We will need to compare our *posterior* to this to see if the husband is more likely of guilt. If so, that implies that the defense attorney is trying to pull the wool over the jury's eyes!"
   ]
  },
  {
   "cell_type": "markdown",
   "metadata": {
    "slideshow": {
     "slide_type": "skip"
    }
   },
   "source": [
    "### Step 3\n",
    "\n",
    "Figure out what the posterior probability of guilt is.\n",
    "\n",
    "- You know that the posterior probability is $P(G|...)$. \n",
    "- Think about what event(s) to condition on (i.e., what evidence do we have?).\n",
    "- Drawing a tree diagram might help."
   ]
  },
  {
   "cell_type": "code",
   "execution_count": null,
   "metadata": {
    "slideshow": {
     "slide_type": "skip"
    }
   },
   "outputs": [],
   "source": [
    "## TODO: Calculate the posterior probability of guilt. \n",
    "##       Do this either analytically or numerically (directly on the data)"
   ]
  }
 ],
 "metadata": {
  "celltoolbar": "Slideshow",
  "kernelspec": {
   "display_name": "Python 3",
   "language": "python",
   "name": "python3"
  },
  "language_info": {
   "codemirror_mode": {
    "name": "ipython",
    "version": 3
   },
   "file_extension": ".py",
   "mimetype": "text/x-python",
   "name": "python",
   "nbconvert_exporter": "python",
   "pygments_lexer": "ipython3",
   "version": "3.7.6"
  }
 },
 "nbformat": 4,
 "nbformat_minor": 4
}
