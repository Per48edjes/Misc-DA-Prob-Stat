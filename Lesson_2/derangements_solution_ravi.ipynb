{
 "cells": [
  {
   "cell_type": "markdown",
   "metadata": {
    "colab_type": "text",
    "id": "JeJ-wGHP7YTa",
    "slideshow": {
     "slide_type": "slide"
    }
   },
   "source": [
    "# SF DAs in the post-COVID Office\n",
    "\n",
    "This homework question is a reskinned version of the famous [hat-check problem](https://proofwiki.org/wiki/Hat-Check_Problem).\n",
    "\n",
    "<img src=\"https://upload.wikimedia.org/wikipedia/commons/thumb/f/f1/Derangement4.png/1280px-Derangement4.png\" width=\"600 px\"/>"
   ]
  },
  {
   "cell_type": "markdown",
   "metadata": {
    "colab_type": "text",
    "id": "JeJ-wGHP7YTa",
    "slideshow": {
     "slide_type": "slide"
    }
   },
   "source": [
    "## Question\n",
    "\n",
    "> Let's say SF Flexporters return to a post-COVID working arrangement wherein each of the 20 DAs are \"buddied up\" with one other DA. Effectively, there are two shifts: a Monday shift (10 DAs) and a Friday shift consisting of the other 10 DAs (i.e., the buddies of those in the first shift). \n",
    ">\n",
    "> Assume that seating is random and independent (i.e., no coordination of seats between buddies or among those in a shift) -- people just show up and sit somewhere.\n",
    ">\n",
    "> **What's the probability that no one in the Friday shift is sitting in the same seat as their \\[Monday shift\\] buddy?**"
   ]
  },
  {
   "cell_type": "markdown",
   "metadata": {
    "colab_type": "text",
    "id": "2aZDQHAPue7L",
    "slideshow": {
     "slide_type": "slide"
    }
   },
   "source": [
    "## Numerical Solution\n",
    "\n",
    "The following cells approach this problem from the perspective of the *frequentist* asking, \"What is the long-run average proportion of times we would not see any pair of buddies sitting in the same seat?\""
   ]
  },
  {
   "cell_type": "code",
   "execution_count": 1,
   "metadata": {
    "colab": {},
    "colab_type": "code",
    "id": "1iJwZ99Wj0mR",
    "slideshow": {
     "slide_type": "subslide"
    }
   },
   "outputs": [],
   "source": [
    "import numpy as np\n",
    "import pandas as pd\n",
    "import matplotlib.pyplot as plt\n",
    "from matplotlib.ticker import StrMethodFormatter"
   ]
  },
  {
   "cell_type": "markdown",
   "metadata": {
    "colab_type": "text",
    "id": "J2HkhOQwmjK_",
    "slideshow": {
     "slide_type": "subslide"
    }
   },
   "source": [
    "First, let's write a function that simulates many weeks of seating outcomes and count those that match the event we care about (i.e., no one sits in the same seat as his/her buddy)."
   ]
  },
  {
   "cell_type": "code",
   "execution_count": 2,
   "metadata": {
    "colab": {},
    "colab_type": "code",
    "id": "Aq3E2UBQj9bD",
    "slideshow": {
     "slide_type": "subslide"
    }
   },
   "outputs": [],
   "source": [
    "num_trials = 1_000_000\n",
    "def derange_simulator(num_trials, num_DAs=10):\n",
    "  \n",
    "  results = []\n",
    "\n",
    "  # Instantiate random number generator\n",
    "  rng = np.random.default_rng()\n",
    "  \n",
    "  for _ in range(num_trials):\n",
    "\n",
    "    # Model seating arrangements for each shift\n",
    "    monday_crew = rng.choice(num_DAs, num_DAs, replace=False)\n",
    "    friday_crew = rng.choice(num_DAs, num_DAs, replace=False)\n",
    "\n",
    "    # Check if pairs of buddies are in same seat\n",
    "    any_matches = (monday_crew == friday_crew).any()\n",
    "\n",
    "    # Return 1 (one) if NO pair of buddies sat in the same seat\n",
    "    results.append(1 - int(any_matches))\n",
    "  \n",
    "  return results"
   ]
  },
  {
   "cell_type": "code",
   "execution_count": 3,
   "metadata": {
    "colab": {
     "base_uri": "https://localhost:8080/",
     "height": 51
    },
    "colab_type": "code",
    "id": "cvYBc1GikirO",
    "outputId": "bfa98a1e-25a1-4068-99b8-dd0df7bdb655",
    "slideshow": {
     "slide_type": "subslide"
    }
   },
   "outputs": [
    {
     "data": {
      "text/html": [
       "<div>\n",
       "<style scoped>\n",
       "    .dataframe tbody tr th:only-of-type {\n",
       "        vertical-align: middle;\n",
       "    }\n",
       "\n",
       "    .dataframe tbody tr th {\n",
       "        vertical-align: top;\n",
       "    }\n",
       "\n",
       "    .dataframe thead th {\n",
       "        text-align: right;\n",
       "    }\n",
       "</style>\n",
       "<table border=\"1\" class=\"dataframe\">\n",
       "  <thead>\n",
       "    <tr style=\"text-align: right;\">\n",
       "      <th></th>\n",
       "      <th>results</th>\n",
       "      <th>cumulative_occurrences</th>\n",
       "      <th>cumulative_trials</th>\n",
       "      <th>p_no_match</th>\n",
       "    </tr>\n",
       "  </thead>\n",
       "  <tbody>\n",
       "    <tr>\n",
       "      <th>999995</th>\n",
       "      <td>1</td>\n",
       "      <td>368415</td>\n",
       "      <td>999996</td>\n",
       "      <td>0.368416</td>\n",
       "    </tr>\n",
       "    <tr>\n",
       "      <th>999996</th>\n",
       "      <td>1</td>\n",
       "      <td>368416</td>\n",
       "      <td>999997</td>\n",
       "      <td>0.368417</td>\n",
       "    </tr>\n",
       "    <tr>\n",
       "      <th>999997</th>\n",
       "      <td>0</td>\n",
       "      <td>368416</td>\n",
       "      <td>999998</td>\n",
       "      <td>0.368417</td>\n",
       "    </tr>\n",
       "    <tr>\n",
       "      <th>999998</th>\n",
       "      <td>0</td>\n",
       "      <td>368416</td>\n",
       "      <td>999999</td>\n",
       "      <td>0.368416</td>\n",
       "    </tr>\n",
       "    <tr>\n",
       "      <th>999999</th>\n",
       "      <td>0</td>\n",
       "      <td>368416</td>\n",
       "      <td>1000000</td>\n",
       "      <td>0.368416</td>\n",
       "    </tr>\n",
       "  </tbody>\n",
       "</table>\n",
       "</div>"
      ],
      "text/plain": [
       "        results  cumulative_occurrences  cumulative_trials  p_no_match\n",
       "999995        1                  368415             999996    0.368416\n",
       "999996        1                  368416             999997    0.368417\n",
       "999997        0                  368416             999998    0.368417\n",
       "999998        0                  368416             999999    0.368416\n",
       "999999        0                  368416            1000000    0.368416"
      ]
     },
     "execution_count": 3,
     "metadata": {},
     "output_type": "execute_result"
    }
   ],
   "source": [
    "# Create dataframe\n",
    "df = pd.DataFrame(data=derange_simulator(num_trials), \n",
    "                  columns=['results'])\n",
    "\n",
    "# Calculate probabilities as we amass trials\n",
    "df['cumulative_occurrences'] = df['results'].cumsum()\n",
    "df['cumulative_trials'] = df.index + 1\n",
    "df['p_no_match'] = df['cumulative_occurrences'] / df['cumulative_trials']\n",
    "\n",
    "# Preview last 5 trials\n",
    "df.tail(5)"
   ]
  },
  {
   "cell_type": "markdown",
   "metadata": {
    "colab_type": "text",
    "id": "sSgDUnmWupTo",
    "slideshow": {
     "slide_type": "subslide"
    }
   },
   "source": [
    "Let's see how the probability converges as we increase our sample size (i.e., the \"frequentist\" interpretation):"
   ]
  },
  {
   "cell_type": "code",
   "execution_count": 4,
   "metadata": {
    "colab": {
     "base_uri": "https://localhost:8080/",
     "height": 519
    },
    "colab_type": "code",
    "id": "t4AV1B3UumTm",
    "outputId": "6f91ad1a-d38a-4511-b6bf-a9f7fb948384",
    "slideshow": {
     "slide_type": "fragment"
    }
   },
   "outputs": [
    {
     "data": {
      "image/png": "[encoded data removed]",
      "text/plain": [
       "<Figure size 1080x576 with 1 Axes>"
      ]
     },
     "metadata": {
      "needs_background": "light"
     },
     "output_type": "display_data"
    }
   ],
   "source": [
    "# Plot\n",
    "plt.figure(figsize=(15,8))\n",
    "plt.plot(df['cumulative_trials'], df['p_no_match'])\n",
    "ax = plt.gca()\n",
    "\n",
    "ax.spines['right'].set_color('none')\n",
    "ax.spines['top'].set_color('none')\n",
    "ax.set_xlim(0,df.shape[0])\n",
    "ax.set_ylim(0, 1)\n",
    "ax.xaxis.set_major_formatter(StrMethodFormatter('{x:,.0f}'))\n",
    "\n",
    "ax.set_xlabel('Trial Number')\n",
    "ax.set_ylabel('Probability')\n",
    "\n",
    "plt.title('$P( $No Pair of Buddies in Same Seat$ )$', fontsize=18)\n",
    "\n",
    "plt.show()"
   ]
  },
  {
   "cell_type": "markdown",
   "metadata": {},
   "source": [
    "*Aside*: The **Law of Large Numbers** (LoLN) is what allows us to make this kind of numerical approximation!"
   ]
  },
  {
   "cell_type": "code",
   "execution_count": 5,
   "metadata": {
    "colab": {
     "base_uri": "https://localhost:8080/",
     "height": 102
    },
    "colab_type": "code",
    "id": "nPhxO3Y0ty16",
    "outputId": "eca88775-b8f9-4c4d-f4d6-001b502b19bb",
    "slideshow": {
     "slide_type": "fragment"
    }
   },
   "outputs": [
    {
     "data": {
      "text/plain": [
       "results                         0.000000\n",
       "cumulative_occurrences     368416.000000\n",
       "cumulative_trials         1000000.000000\n",
       "p_no_match                      0.368416\n",
       "Name: 999999, dtype: float64"
      ]
     },
     "execution_count": 5,
     "metadata": {},
     "output_type": "execute_result"
    }
   ],
   "source": [
    "# Numerical answer\n",
    "df.iloc[-1]"
   ]
  },
  {
   "cell_type": "markdown",
   "metadata": {
    "colab_type": "text",
    "id": "bTwaHhCJmUpX",
    "slideshow": {
     "slide_type": "slide"
    }
   },
   "source": [
    "## Analytical Solution\n",
    "\n",
    "Recall the **Principle of Inclusion-Exclusion** when performing an arbitrary number of unions:\n",
    "\n",
    "$$\n",
    "\\left|\\bigcup_{i=1}^n A_i\\right| = \\sum_{i=1}^n|A_i| -\\sum_{1 \\leq i \\lt j \\leq n} |A_i \\cap A_j| + \\sum_{1 \\leq i \\lt j \\lt k \\leq n} |A_i\\cap A_j\\cap A_k| - \\ \\cdots\\ + \\left(-1\\right)^{n-1} \\left|A_1 \\cap \\cdots \\cap A_n\\right|\n",
    "$$"
   ]
  },
  {
   "cell_type": "markdown",
   "metadata": {
    "colab_type": "text",
    "id": "bTwaHhCJmUpX",
    "slideshow": {
     "slide_type": "fragment"
    }
   },
   "source": [
    "We can leverage this fact directly if we define our events properly. \n",
    "\n",
    "If you're thinking Venn diagrams, all that this crazy looking thing does is perform the computation of the area of a symmetric Venn diagram with $n$ sets...and the area of the sets in a Venn diagram *is* the union!\n",
    "\n",
    "**Note**: Once you get past 4 sets, Venn diagrams get *incredibly* difficult to draw. In fact, a [symmetric 11-set Venn diagram](https://www.newscientist.com/article/dn22159-logic-blooms-with-new-11-set-venn-diagram/) was only discovered / proven to exist in 2012. So, if you find yourself trying to draw something complicated, save yourself some time and think of a different approach."
   ]
  },
  {
   "cell_type": "markdown",
   "metadata": {
    "colab_type": "text",
    "id": "bTwaHhCJmUpX",
    "slideshow": {
     "slide_type": "subslide"
    }
   },
   "source": [
    "Let $A_i$ be the event that the $i^\\text{th}$ pair of buddies sit in the same seat. Then, $\\left|\\bigcup_{i=1}^{10} A_i\\right|$ counts all of the cases where at least one pair of buddies is in the same seat!\n",
    "\n",
    "However, we want the *complement* of the probability of the event that at least one pair of buddies is in the same seat, i.e., $P(\\bigcap_{i=1}^{10} A_{i}^{C}) = 1 - P(\\bigcup_{i=1}^{10} A_i)$."
   ]
  },
  {
   "cell_type": "markdown",
   "metadata": {
    "colab_type": "text",
    "id": "Atxn1UL01HLY",
    "slideshow": {
     "slide_type": "subslide"
    }
   },
   "source": [
    "Because events are just sets, we can compute the probabilities of these sets/events, directly, using the principle of inclusion-exclusion:\n",
    "\n",
    "$$\n",
    "P\\left(\\bigcup_{i=1}^n A_i\\right) = \\sum_{i=1}^n P(A_i) -\\sum_{1 \\leq i \\lt j \\leq n} P(A_i \\cap A_j) + \\sum_{1 \\leq i \\lt j \\lt k \\leq n} P(A_i\\cap A_j\\cap A_k) - \\ \\cdots\\ + \\left(-1\\right)^{n-1} P\\left(A_1 \\cap \\cdots \\cap A_n\\right)\n",
    "$$\n",
    "\n",
    "And the assumptions work in our favor: we can use the **naive definition of probability** since seating is done randomly and independently (read: no DA, within and between the shifts, has any reason to favor one set more than another). This means once we count the \"pebbles\" we care about, we can divide by $10!$ to convert to a probability."
   ]
  },
  {
   "cell_type": "markdown",
   "metadata": {
    "colab_type": "text",
    "id": "KRKmNgXqm_f-",
    "slideshow": {
     "slide_type": "subslide"
    }
   },
   "source": [
    "### Counting, Redux 🔢\n",
    "\n",
    "<br>\n",
    "<br>\n",
    "\n",
    "> There is only one way to eat an elephant: a bite at a time.\n",
    ">\n",
    "> **Desmond Tutu**\n",
    "\n",
    "Let's try to tackle our problem using the **principle of inclusion-exclusion** term-by-term."
   ]
  },
  {
   "cell_type": "markdown",
   "metadata": {
    "slideshow": {
     "slide_type": "subslide"
    }
   },
   "source": [
    "The very first term just asks us to \"add up\" all the \"circles\" in our notional Venn diagram:\n",
    "\n",
    "$$\n",
    "P\\left(\\bigcup_{i=1}^n A_i\\right) = \\sum_{i=1}^n P(A_i) + \\cdots\n",
    "$$\n",
    "\n",
    "\n",
    "First notice the *symmetry* of this problem: no DA buddy-pair behaves differently than another pair. So, if we start with the first pair (i.e., $i=1$), and we let them sit in the same seat (i.e., $A_{1}$), how many ways can we arrange the other $(10-1)$ Friday DAs? \n",
    "\n",
    "**Question**: \n",
    "\n",
    "> How do I arrange $n-1$ unique things?"
   ]
  },
  {
   "cell_type": "markdown",
   "metadata": {
    "slideshow": {
     "slide_type": "fragment"
    }
   },
   "source": [
    "**Answer**: \n",
    "\n",
    "> $$(n-1)!$$\n",
    "\n",
    "That means we know that if we guarantee that one buddy-pair sits in the same seat, the other $(10-1) = 9$ Friday DAs can arrange themselves in $(10-1)! = 9!$ ways."
   ]
  },
  {
   "cell_type": "markdown",
   "metadata": {
    "slideshow": {
     "slide_type": "subslide"
    }
   },
   "source": [
    "Ok, but that's if we explicitly choose the first DA buddy-pair (read: $A_{1}$, the first buddy-pair sat in the same seat). \n",
    "\n",
    "But we need the events that (in addition to the first buddy-pair) the second buddy-pair sits in the same seat (i.e., $A_{2}$), the third buddy-pair sits in the same seat (i.e., $A_{3}$), $\\dots$, and the tenth buddy-pair sits in the same seat (i.e., $A_{10}$).\n",
    "\n",
    "**Question**: \n",
    "\n",
    "> How many ways can I choose $k$ things from $n$ things?"
   ]
  },
  {
   "cell_type": "markdown",
   "metadata": {
    "slideshow": {
     "slide_type": "fragment"
    }
   },
   "source": [
    "**Answer**: \n",
    "\n",
    "> $$\\binom{n}{k}=\\frac{n!}{k!(n-k)!}$$"
   ]
  },
  {
   "cell_type": "markdown",
   "metadata": {
    "slideshow": {
     "slide_type": "subslide"
    }
   },
   "source": [
    "So for all $A_{i}$, there are $\\binom{10}{1} = 10$ ways to choose which one particular pair sat in the same seat.\n",
    "\n",
    "Notice, however, that an outcome in $A_{4}$ (read: the fourth DA buddy-pair sat in the same seat) could also fall into the event $A_{7}$ (read: the seventh DA buddy-pair sat in the same seat). That is, this outcome is in the event $A_{4} \\cap A_{7}$.\n",
    "\n",
    "How're we going to deal with the fact that a given \"pebble\" could be in multiple $A_{i}$?"
   ]
  },
  {
   "cell_type": "markdown",
   "metadata": {
    "slideshow": {
     "slide_type": "subslide"
    }
   },
   "source": [
    "No need to worry! The principle of inclusion-exlusion takes this into account with the alternating signs:\n",
    "\n",
    "$$\n",
    "P\\left(\\bigcup_{i=1}^n A_i\\right) = \\sum_{i=1}^n P(A_i) - \\sum_{1 \\leq i \\lt j \\leq n} P(A_i \\cap A_j) + \\sum_{1 \\leq i \\lt j \\lt k \\leq n} P(A_i\\cap A_j\\cap A_k) - \\ \\cdots\\ + \\left(-1\\right)^{n-1} P\\left(A_1 \\cap \\cdots \\cap A_n\\right)\n",
    "$$"
   ]
  },
  {
   "cell_type": "markdown",
   "metadata": {
    "slideshow": {
     "slide_type": "fragment"
    }
   },
   "source": [
    "Alright, so we have all the info we need to get the first term:\n",
    "\n",
    "$$\n",
    "\\sum_{i=1}^{10} P(A_i) = \\binom{10}{1}\\frac{(10-1)!}{10!}\n",
    "$$"
   ]
  },
  {
   "cell_type": "markdown",
   "metadata": {
    "slideshow": {
     "slide_type": "subslide"
    }
   },
   "source": [
    "Let's just use the same logic to get the second term, which accounts for all the pairwise intersections. \n",
    "\n",
    "Remember, we pointed out one such event earlier: e.g., $A_{4} \\cap A_{7}$. But how many of these \\[pairwise\\] events are there?\n",
    "\n",
    "**Question**: \n",
    "\n",
    "> How many pairwise intersections are there among 10 events? Said another way, how many ways can we choose 2 buddy-pairs from 10 pairs in total?"
   ]
  },
  {
   "cell_type": "markdown",
   "metadata": {
    "slideshow": {
     "slide_type": "fragment"
    }
   },
   "source": [
    "**Answer**: \n",
    "\n",
    "> $$\\binom{10}{2}=\\frac{10!}{2!(10-2)!}$$\n",
    "\n",
    "Okay, so now we have all the ways that an outcome can be a member of 2 events, but for each of these intersections, how many outcomes are there?"
   ]
  },
  {
   "cell_type": "markdown",
   "metadata": {
    "slideshow": {
     "slide_type": "subslide"
    }
   },
   "source": [
    "Let's just use $A_{1} \\cap A_{2}$ for concreteness. How many outcomes are there when we know that the Friday-shift DAs from the first and second pair sat in the same seat as their buddies?\n",
    "\n",
    "**Question**: \n",
    "\n",
    "> If we know buddy-pairs 1 and 2 sat in the same seat (i.e., $A_{1} \\cap A_{2}$), how many ways can we arrange the other $(10-2)$ Friday-shift DAs?"
   ]
  },
  {
   "cell_type": "markdown",
   "metadata": {
    "slideshow": {
     "slide_type": "fragment"
    }
   },
   "source": [
    "**Answer**: \n",
    "\n",
    "> $$(10-2)!$$\n",
    "\n",
    "We're onto something here!"
   ]
  },
  {
   "cell_type": "markdown",
   "metadata": {
    "slideshow": {
     "slide_type": "subslide"
    }
   },
   "source": [
    "Now we can just multiply the $\\binom{10}{2}$ ways of choosing 2 buddy-pairs sitting in the same seat with the number of ways to arrange the other $10-2=8$ Friday DAs to get our second term:\n",
    "\n",
    "$$\n",
    "\\sum_{1 \\leq i \\lt j \\leq 10} P(A_i \\cap A_j) = \\binom{10}{2}\\frac{(10-2)!}{10!}\n",
    "$$"
   ]
  },
  {
   "cell_type": "markdown",
   "metadata": {
    "slideshow": {
     "slide_type": "fragment"
    }
   },
   "source": [
    "Sticking this into our equation we have, thus far, the following:\n",
    "\n",
    "$$\n",
    "P\\left(\\bigcup_{i=1}^{10} A_i\\right) = \\binom{10}{1}\\frac{(10-1)!}{10!} - \\binom{10}{2}\\frac{(10-2)!}{10!} + \\sum_{1 \\leq i \\lt j \\lt k \\leq n} P(A_i\\cap A_j\\cap A_k) - \\ \\cdots\\ + \\left(-1\\right)^{n-1} P\\left(A_1 \\cap \\cdots \\cap A_n\\right)\n",
    "$$\n",
    "\n",
    "But by now, you should see a pattern emerge. And you can verify this on your own that this pattern stays consistent."
   ]
  },
  {
   "cell_type": "markdown",
   "metadata": {
    "colab_type": "text",
    "id": "KRKmNgXqm_f-",
    "slideshow": {
     "slide_type": "subslide"
    }
   },
   "source": [
    "Putting it all together, we get:\n",
    "\n",
    "$$\n",
    "P\\left(\\bigcup_{i=1}^{10} A_i\\right) = \\binom{10}{1}\\frac{(10-1)!}{10!} - \\binom{10}{2}\\frac{(10-2)!}{10!} + \\binom{10}{3}\\frac{(10-3)!}{10!} - \\ \\cdots\\ + \\left(-1\\right)^{10-1} \\binom{10}{10}\\frac{(10-10)!}{10!}\n",
    "$$"
   ]
  },
  {
   "cell_type": "markdown",
   "metadata": {
    "colab_type": "text",
    "id": "KRKmNgXqm_f-",
    "slideshow": {
     "slide_type": "fragment"
    }
   },
   "source": [
    "Number crunching this (and taking the complement) will certainly yield the answer, but we can simplify things some more. Notice the form our solution takes:\n",
    "\n",
    "$$\n",
    "P\\left(\\bigcup_{i=1}^{10} A_i\\right) = \\sum_{k=1}^{10} \\left(-1\\right)^{k-1}\\binom{10}{k}\\frac{(10-k)!}{10!} = \\sum_{k=1}^{10} \\frac{\\left(-1\\right)^{k-1}}{k!}\n",
    "$$"
   ]
  },
  {
   "cell_type": "markdown",
   "metadata": {
    "colab_type": "text",
    "id": "KRKmNgXqm_f-",
    "slideshow": {
     "slide_type": "fragment"
    }
   },
   "source": [
    "Since we want the complement (i.e., the probability that *no* one sits in the same seat as his/her buddy, we subtract what we've calculated thus far from 1:\n",
    "\n",
    "$$\n",
    "P\\left(\\bigcap_{i=1}^{10} A_i^C\\right) = 1 - P\\left(\\bigcup_{i=1}^{10} A_i\\right) = 1 - \\sum_{k=1}^{10} \\frac{\\left(-1\\right)^{k-1}}{k!} = \\sum_{k=0}^{10} \\frac{\\left(-1\\right)^{k}}{k!}\n",
    "$$"
   ]
  },
  {
   "cell_type": "markdown",
   "metadata": {
    "colab_type": "text",
    "id": "KRKmNgXqm_f-",
    "slideshow": {
     "slide_type": "subslide"
    }
   },
   "source": [
    "Below, we can confirm this matches our numerical solution by calculating this sum using Python."
   ]
  },
  {
   "cell_type": "code",
   "execution_count": 6,
   "metadata": {
    "colab": {
     "base_uri": "https://localhost:8080/",
     "height": 34
    },
    "colab_type": "code",
    "id": "bYMoCtgWrqrx",
    "outputId": "458e676b-9ee4-4747-ba31-078f5d546a08",
    "slideshow": {
     "slide_type": "fragment"
    }
   },
   "outputs": [
    {
     "data": {
      "text/plain": [
       "0.3678794642857144"
      ]
     },
     "execution_count": 6,
     "metadata": {},
     "output_type": "execute_result"
    }
   ],
   "source": [
    "from math import factorial\n",
    "\n",
    "# Python is a zero-indexed language, but because we simplified and brought\n",
    "# the one into the sum, we can set index at 0 and count to 10, inclusively.\n",
    "answer = 0\n",
    "for k in range(10+1):\n",
    "  answer += (-1)**k / factorial(k)\n",
    "\n",
    "answer"
   ]
  },
  {
   "cell_type": "markdown",
   "metadata": {
    "colab_type": "text",
    "id": "KjYgIthcwkUB",
    "slideshow": {
     "slide_type": "subslide"
    }
   },
   "source": [
    "If you don't believe the simplification you did, you can also just compute directly once you've figured out the analytical approach (i.e., leveraging symmetry and counting) to make sure you simplified correctly."
   ]
  },
  {
   "cell_type": "code",
   "execution_count": 7,
   "metadata": {
    "colab": {
     "base_uri": "https://localhost:8080/",
     "height": 34
    },
    "colab_type": "code",
    "id": "1MX950rAu9h5",
    "outputId": "b5d93255-5729-4a22-ca02-06a10240e96f",
    "slideshow": {
     "slide_type": "fragment"
    }
   },
   "outputs": [
    {
     "data": {
      "text/plain": [
       "0.3678794642857143"
      ]
     },
     "execution_count": 7,
     "metadata": {},
     "output_type": "execute_result"
    }
   ],
   "source": [
    "def comb(n, k):\n",
    "  return factorial(n) / (factorial(k) * factorial(n-k))\n",
    "\n",
    "union_Ai = 0\n",
    "for i in range (1, 10+1):\n",
    "  union_Ai += (-1)**(i-1) * comb(10, i) * factorial(10-i) / factorial(10)\n",
    "\n",
    "1 - union_Ai"
   ]
  },
  {
   "cell_type": "markdown",
   "metadata": {
    "slideshow": {
     "slide_type": "slide"
    }
   },
   "source": [
    "## Poisson Paradigm\n",
    "\n",
    "### A teaser...\n",
    "\n",
    "The simplified answer should look eerily familiar to you...\n",
    "\n",
    "$$\n",
    "\\sum_{k=0}^{n} \\frac{\\left(-1\\right)^{k}}{k!}\n",
    "$$"
   ]
  },
  {
   "cell_type": "markdown",
   "metadata": {
    "slideshow": {
     "slide_type": "slide"
    }
   },
   "source": [
    "Were it not for the minus in front of the 1, this would be the Taylor series approximation for $e$ (for $n \\xrightarrow{}{\\infty}$)!\n",
    "\n",
    "$$\n",
    "e^x = 1 + \\frac{x}{1!} + \\frac{x^2}{2!} + \\frac{x^3}{3!} + \\cdots = \\lim_{n \\to \\infty} \\sum_{k=0}^{n} \\frac{x^{k}}{k!}\n",
    "$$"
   ]
  },
  {
   "cell_type": "markdown",
   "metadata": {
    "slideshow": {
     "slide_type": "slide"
    }
   },
   "source": [
    "Hmmmm...this \"feels\" like $e$ is hidden somewhere in this problem, but where?\n",
    "\n",
    "Furthermore, this is so weird. We're dealing with discrete things (e.g., DAs, seats, seating arrangements) and yet there are echoes of $e$, which we generally associate with continuous things like *continuously* compounding growth, exponential decay, etc. "
   ]
  },
  {
   "cell_type": "markdown",
   "metadata": {
    "slideshow": {
     "slide_type": "fragment"
    }
   },
   "source": [
    "To figure this out, we turn to one of the most, if not *the* most, important discrete distributions: the **Poisson**. But first, we need to get comfortable with random variables, expectation, and the Bernoulli distribution -- stay tuned. 😇"
   ]
  },
  {
   "cell_type": "markdown",
   "metadata": {
    "slideshow": {
     "slide_type": "subslide"
    }
   },
   "source": [
    "### ...for the eager!\n",
    "\n",
    "*Note*: Don't worry if none of this makes sense to you right now...this is purely to see how powerful even the simple tools we are developing are!"
   ]
  },
  {
   "cell_type": "markdown",
   "metadata": {
    "slideshow": {
     "slide_type": "subslide"
    }
   },
   "source": [
    "The **Poisson Paradigm** allows us to approximate the distribution of the number of events that occur by a Poisson distribution. Concretely, for our problem, we can use the fact that there are reasonably many DAs (large $n$ assumption), the probability a DA sits in the same seat as his/her buddy is relatively small (small $p_{i}$ assumption), and each of the $A_{i}$ are independent or weakly dependent.\n",
    "\n",
    "If we feel good about this problem not violating those assumptions, then we can say:\n",
    "\n",
    "$$\n",
    "X = \\sum_{i=1}^{n} I(A_{i})\\text{, where $I$ is an indicator random variable}\n",
    "$$\n",
    "\n",
    "Thus, $X$ counts how many of the $A_{i}$ occur. By the Poisson Paradigm, we can say that $X \\sim \\text{Pois($\\lambda$)}$ where $\\lambda = \\sum_{i=1}^{n} p_{i}$ is the rate parameter of a Poisson distribution by **linearity of expectation** and the fact that the $E(X) = \\lambda$ since $X \\sim \\text{Pois($\\lambda$)}$."
   ]
  },
  {
   "cell_type": "markdown",
   "metadata": {
    "slideshow": {
     "slide_type": "subslide"
    }
   },
   "source": [
    "We haven't touched on this yet, but the **probability mass function** for a random variable $X$ that is distributed Poisson with a rate parameter $\\lambda$ is:\n",
    "\n",
    "$$\n",
    "P\\left(X=x \\right) = \\frac{{e^{ - \\lambda } \\lambda ^x }}{{x!}}\n",
    "$$\n",
    "\n",
    "Here's where $e$ shows up!\n",
    "\n",
    "So let's figure out what our rate parameter, $\\lambda$ is to model the number of matching DA buddy-pairs using a Poisson distribution according to the Poisson Paradigm:"
   ]
  },
  {
   "cell_type": "code",
   "execution_count": 8,
   "metadata": {
    "slideshow": {
     "slide_type": "-"
    }
   },
   "outputs": [
    {
     "data": {
      "text/plain": [
       "0.9999999999999999"
      ]
     },
     "execution_count": 8,
     "metadata": {},
     "output_type": "execute_result"
    }
   ],
   "source": [
    "# By symmetry, the probability any DA sits in his/her buddy's seat is the same\n",
    "# regardless of the DA buddy-pair\n",
    "p_A_i = 1/10\n",
    "\n",
    "# We sum up all the P(A_i)\n",
    "rate_param = 0\n",
    "for i in range(1,10+1):\n",
    "    rate_param += p_A_i\n",
    "    \n",
    "rate_param"
   ]
  },
  {
   "cell_type": "markdown",
   "metadata": {
    "slideshow": {
     "slide_type": "fragment"
    }
   },
   "source": [
    "Knowing $\\lambda = 1$, we can plot the PMF of $X \\sim \\text{Pois($1$)}$ and see what the probability is when $X = 0$, i.e., no DA buddy-pair sits in the same seat."
   ]
  },
  {
   "cell_type": "code",
   "execution_count": 9,
   "metadata": {
    "slideshow": {
     "slide_type": "subslide"
    }
   },
   "outputs": [
    {
     "data": {
      "image/png": "[encoded data removed]",
      "text/plain": [
       "<Figure size 1080x576 with 1 Axes>"
      ]
     },
     "metadata": {
      "needs_background": "light"
     },
     "output_type": "display_data"
    }
   ],
   "source": [
    "from scipy.stats import poisson\n",
    "\n",
    "# Random variable X is distributed Poisson(rate_param)  \n",
    "X = poisson(rate_param)\n",
    "granularity = 1e-7\n",
    "x = np.arange(X.ppf(granularity),\n",
    "              X.ppf(1-granularity))\n",
    "\n",
    "# We care about P(X = 0), the probability no DAs sit in the same seat\n",
    "# as their buddies'; let's start with plot\n",
    "fig, ax = plt.subplots(1, 1, figsize=(15,8))\n",
    "\n",
    "# Plot the PMF\n",
    "ax.plot(x, X.pmf(x), 'bo', ms=8, label='PMF of X')\n",
    "ax.vlines(x, 0, X.pmf(x), colors='b', lw=5, alpha=0.5)\n",
    "\n",
    "ax.spines['right'].set_color('none')\n",
    "ax.spines['top'].set_color('none')\n",
    "ax.set_ylim(0, 1)\n",
    "ax.xaxis.set_major_locator(plt.MultipleLocator(1))\n",
    "ax.set_xlim(right=10)\n",
    "\n",
    "# Plot labels for P(X=x)\n",
    "for x, y in enumerate(X.pmf(x)):\n",
    "    ax.text(x, y + .02, \"%.4f\" %y, ha=\"center\")\n",
    "    \n",
    "# Annotate the P(X=0), what we care about\n",
    "prop = dict(facecolor='black',\n",
    "            shrink=0.05)\n",
    "ax.annotate(r'An $\\it{awesome}$ approximation!', \n",
    "            xy=(0.2, .4), xytext=(4, .8),\n",
    "            fontsize=18, arrowprops=prop)\n",
    "\n",
    "ax.set_xlabel('Number of DA Buddy-Pairs Sitting in Same Seat')\n",
    "ax.set_ylabel('Probability')\n",
    "\n",
    "ax.legend(loc='best', frameon=False, fontsize=14)\n",
    "\n",
    "plt.show()"
   ]
  }
 ],
 "metadata": {
  "celltoolbar": "Slideshow",
  "colab": {
   "collapsed_sections": [],
   "name": "derangements.ipynb",
   "provenance": []
  },
  "kernelspec": {
   "display_name": "Python 3",
   "language": "python",
   "name": "python3"
  },
  "language_info": {
   "codemirror_mode": {
    "name": "ipython",
    "version": 3
   },
   "file_extension": ".py",
   "mimetype": "text/x-python",
   "name": "python",
   "nbconvert_exporter": "python",
   "pygments_lexer": "ipython3",
   "version": "3.7.6"
  },
  "rise": {
   "enable_chalkboard": true,
   "scroll": true
  }
 },
 "nbformat": 4,
 "nbformat_minor": 1
}
