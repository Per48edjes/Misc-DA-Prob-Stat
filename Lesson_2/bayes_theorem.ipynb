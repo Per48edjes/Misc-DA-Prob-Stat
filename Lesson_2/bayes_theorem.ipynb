{
 "cells": [
  {
   "cell_type": "markdown",
   "metadata": {
    "slideshow": {
     "slide_type": "slide"
    }
   },
   "source": [
    "# Bayes Theorem\n",
    "DA Probability & Statistics Learning Series • Lesson 3\n",
    "\n",
    "<!-- <img src=\"https://imgs.xkcd.com/comics/conditionals.png\" align=\"center\"/> -->\n",
    "\n",
    "Welcome, again!\n",
    "\n",
    "*See **#da_prob_stat** for discussion during and after this tutorial.*"
   ]
  },
  {
   "cell_type": "markdown",
   "metadata": {
    "slideshow": {
     "slide_type": "subslide"
    }
   },
   "source": [
    "## Goals\n",
    "- Understand how to relate conditional probabilities to each other\n",
    "- \n",
    "- "
   ]
  },
  {
   "cell_type": "code",
   "execution_count": null,
   "metadata": {},
   "outputs": [],
   "source": [
    "# Import dependencies \n",
    "import sys\n",
    "from custom.db_utils import get_connection, get_data\n",
    "import pandas as pd\n",
    "\n",
    "# Object typing\n",
    "from typing import TypeVar\n",
    "PandasSeries = TypeVar('pd.core.series.Series')\n",
    "PandasDataFrame = TypeVar('pd.core.frame.DataFrame')\n",
    "\n",
    "# Data viz\n",
    "import matplotlib.pyplot as plt\n",
    "from matplotlib.ticker import PercentFormatter\n",
    "import seaborn as sns\n",
    "import numpy as np"
   ]
  },
  {
   "cell_type": "markdown",
   "metadata": {},
   "source": [
    "## Motivating Context 🤔\n",
    "\n",
    "Between 1996-98, Sally Clark, a British woman, lost her two infant children under similarly mysterious circumstances. The defence argued that the children had died of *SIDS* - sudden infant death syndrome. However, the prosecution claimed that the probability of children from an affluent family, like Clark's, suffering from SIDS was 1 in 73 million. They used this to *prove* that she *must* be guilty of killing her children; in 1999, Clark was, in fact, convicted of murdering them."
   ]
  },
  {
   "cell_type": "markdown",
   "metadata": {},
   "source": [
    "**TODO:** How would you structure this as events?"
   ]
  },
  {
   "cell_type": "markdown",
   "metadata": {},
   "source": [
    "> Sally Clark is guilty of killing her two children **because** it is *so* unlikely for them to have died mysteriously if she were innocent.\n",
    "\n",
    "Sounds like a pretty reasonable statement right? It's inaccurate though!"
   ]
  },
  {
   "cell_type": "markdown",
   "metadata": {},
   "source": [
    "**TODO:** What do you think makes this case funky?"
   ]
  },
  {
   "cell_type": "markdown",
   "metadata": {},
   "source": [
    "The prosecution argued the following:\n",
    "\n",
    "$$\n",
    "\\begin{split}\n",
    "P(\\text{innocence | evidence}) & = P(\\text{evidence | innocence}) \\\\\n",
    "P(\\text{I | E}) & = P(\\text{E | I})\n",
    "\\end{split}\n",
    "$$\n",
    "\n",
    "As we saw above, in plain English, that comparison sounds pretty normal. Mathematically though, it's really not."
   ]
  },
  {
   "cell_type": "markdown",
   "metadata": {},
   "source": [
    "From our lesson on conditional probability, we can infer:\n",
    "\n",
    "$$\n",
    "\\begin{split}\n",
    "P(I | E) & = \\frac{P(I \\cap E)}{P(E)} \\\\\n",
    "\\implies P(I \\cap E) & = P(I | E)P(E)\n",
    "\\end{split}\n",
    "$$\n",
    "\n",
    "**and the other way too...**\n",
    "\n",
    "$$\n",
    "\\begin{split}\n",
    "P(E | I) & = \\frac{P(I \\cap E)}{P(I)} \\\\\n",
    "\\implies P(I \\cap E) & = P(E | I)P(I)\n",
    "\\end{split}\n",
    "$$\n",
    "\n",
    "**thus**\n",
    "\n",
    "$$\n",
    "\\begin{split}\n",
    "P(I | E)P(E) & = P(E | I)P(I) \\\\ \\\\\n",
    "\\implies P(I | E) & = \\frac{P(E | I)P(I)}{P(E)} \\\\ \\\\\n",
    "\\implies P(I | E) & \\neq P(E | I)\n",
    "\\end{split}\n",
    "$$"
   ]
  },
  {
   "cell_type": "markdown",
   "metadata": {},
   "source": [
    "**CONCLUSIONS:**\n",
    "- Equating a conditional to its inverse is incorrect.\n",
    "-  When you are offered evidence, you don't want to throw out your prior belief entirely; you want to incorporate the new evidenec to update your prior beliefs. That's the base rate fallacy\n",
    "- The prosecution was wrong to convict Sally Clark. It ignored the base rate of the innocence, i.e. the base rate of a mother actually kiling her two infants. That rarely happens."
   ]
  },
  {
   "cell_type": "markdown",
   "metadata": {},
   "source": [
    "The Sally Clark case was a statistical blunder. But the mistakes made by the prosecution in this case aren't exclusive to the courtroom.\n",
    "\n",
    "A more trivial version of the [**Prosecutor's Fallacy**](https://towardsdatascience.com/the-prosecutors-fallacy-cb0da4e9c039) is saying:\n",
    "\n",
    ">My partner hasn't texted me in 3 hours - they probably don't love me.\n",
    "\n",
    "  - $P(\\text{don't love you | late text}) \\neq P(\\text{late text | don't love you})$\n",
    "  - The latter would understandably be very high, but the former is likely because they are either busy or are fed up of sheltering in place with you. Relax a little 😉"
   ]
  },
  {
   "cell_type": "markdown",
   "metadata": {},
   "source": [
    "## Intro to Bayes"
   ]
  },
  {
   "cell_type": "code",
   "execution_count": null,
   "metadata": {},
   "outputs": [],
   "source": [
    "# Get the database connection and cursor objects\n",
    "conn, cur = get_connection()\n",
    "\n",
    "# Use a context manager to open and close connection and files\n",
    "df = get_data('query.sql', 'file', conn)\n",
    "\n",
    "# Preview the data\n",
    "df.sample(3)"
   ]
  },
  {
   "cell_type": "code",
   "execution_count": null,
   "metadata": {},
   "outputs": [],
   "source": [
    "# Isolate data to be used\n",
    "tradelane_mode_df = df[['tradelane', 'mode']]\n",
    "tradelane_mode_df\n",
    "\n",
    "# Call Crosstab function from last time to get sums of tradelane and mode pairs.\n",
    "tradelane_mode_xt = pd.crosstab(index=tradelane_mode_df['tradelane'], \n",
    "                               columns=tradelane_mode_df['mode'])"
   ]
  },
  {
   "cell_type": "markdown",
   "metadata": {},
   "source": [
    "# Binary Classification with Bayes\n",
    "\n",
    "Let's introduce this with an example (motivated from a lesson at UC Berkeley):\n",
    "\n",
    "Let's Say we know that: \n",
    "- 60% of shipments are Ocean and the remaining 40% are Ocean\n",
    "- 50% of Ocean Shipments are on TPEB\n",
    "- 80% of Air Shipments are on TPEB\n",
    "\n",
    "\n",
    "Now suppose I pick a shipment at random. Can you classify the shipment as Air or Ocean? We can do this by predicting which is more likely to happen. \n",
    "\n"
   ]
  },
  {
   "cell_type": "markdown",
   "metadata": {},
   "source": [
    "<b> You probably guessed ocean ... </b>\n",
    "\n",
    "The shipment is picked at random and so you know that the chance that the shipment is Ocean is 60%. That's greater than the 40% chance of being an Air shipment, so you would classify the shipment as Ocean.\n",
    "\n",
    "The information about the tradelane is irrelevant, as we already know the proportions of mode. \n",
    "\n",
    "We have a pretty simple classifier! "
   ]
  },
  {
   "cell_type": "markdown",
   "metadata": {},
   "source": [
    "But now suppose I give you some additional information about the shipment that was picked:\n",
    "\n",
    "<b>The Shipment was on TPEB. </b>\n",
    "\n",
    "**TODO:** Would this knowledge change your classification?\n",
    "\n",
    "<b>Updating the Prediction Based on New Information </b>\n",
    "\n",
    "Now that we know the shipment is on TPEB, it becomes important to look at the relation between shipment and mode. It's still true that more shipments are ocean than air. But it's also true that among the ocean shipments, a much higher percent are on TPEB. Our classification has to take both of these observations into account.\n",
    "\n",
    "To visualize this, we will use a table that consists of one row for each of 100 shipments whose mode and tradelane have the same proportions as given in the data.\n"
   ]
  },
  {
   "cell_type": "code",
   "execution_count": null,
   "metadata": {},
   "outputs": [],
   "source": [
    "mode = np.array(['Ocean']*60 + ['Air']*40)\n",
    "tradelane = np.array(['Not TPEB']*30+['TPEB']*30+['Not TPEB']*8+['TPEB']*32)\n",
    "df = {'Mode':mode,'Tradelane':tradelane}\n",
    "df = pd.DataFrame(df, columns=['Mode','Tradelane'])\n",
    "\n",
    "df.head()"
   ]
  },
  {
   "cell_type": "code",
   "execution_count": null,
   "metadata": {},
   "outputs": [],
   "source": [
    "pd.crosstab(index=df['Tradelane'], columns=df['Mode'])"
   ]
  },
  {
   "cell_type": "markdown",
   "metadata": {},
   "source": [
    "The total count is 100 shipments, of which 60 are Ocean and 40 are Air. Among the Ocean, 50% are in each of the tradelane choices. Among the 40 Air Shipments, 20% are not on TPEB and 80% are. \n",
    "\n",
    "Coming back to the example, we have to pick which row the shipment is most likely to be in. When we knew nothing more about the shipment, and therefore were more likely to be in the second column (Ocean) because that contains more shipments.\n",
    "\n",
    "But now we know that the student is on TPEB, so the space of possible outcomes has decreased: now the shipment can only be in one of the two TPEB cells. \n",
    "\n",
    "There are 62 shipments in those cells, and 32 out of the 62 are Air. That's more than half, even though not by much. \n",
    "\n",
    "So, in the light of the new information about the tradelane, <b> we have to update our prediction and now classify the shipment as Air. </b>\n"
   ]
  },
  {
   "cell_type": "markdown",
   "metadata": {},
   "source": [
    "The method that we have just used above is due to the Reverend [Thomas Bayes](https://en.wikipedia.org/wiki/Thomas_Bayes) (1701-1761). His method solved what was called an \"inverse probability\" problem: given new data, how can you update chances you had found earlier? Though Bayes lived three centuries ago, his method is widely used now in machine learning."
   ]
  },
  {
   "cell_type": "markdown",
   "metadata": {},
   "source": [
    "## Conditional Probability!  \n",
    "\n",
    "Let's mathematically build up the intuition behind Bayes Theorem.\n",
    "\n",
    "- Lets say Event A is Shipment is on Air. \n",
    "- Lets say Event B is Shipment being on TPEB. \n",
    "\n",
    "<b>From last time we know: </b>\n",
    "\n",
    "The probability of two events A and B happening, $P(A \\cap B)$ , is the probability of $A$, $P(A)$, times the probability of B given that A has occurred, $P(B \\mid A)$. \n",
    "\n",
    "$$\n",
    "P(A \\cap B) = P(A)P(B \\mid A)\n",
    "$$\n",
    "\n",
    "On the other hand, the probability of A and B is also equal to the probability\n",
    "of B times the probability of A given B.\n",
    "\n",
    "$$\n",
    "P(A \\cap B) = P(B)P(A \\mid B)\n",
    "$$\n",
    "\n",
    "Equating the two yields:\n",
    "\n",
    "$$\n",
    "P(B)P(A \\mid B) = P(A)P(B \\mid A)\n",
    "$$\n",
    "\n",
    "and thus\n",
    "\n",
    "$$\n",
    "P(A \\mid B) = \\frac{P(A) P(B \\mid A)} {P(B)}\n",
    "$$"
   ]
  },
  {
   "cell_type": "markdown",
   "metadata": {},
   "source": [
    "This formula is useful, but we might not always know $P(B)$. The Law of Total Probability gives us a way to compute it."
   ]
  },
  {
   "cell_type": "markdown",
   "metadata": {},
   "source": [
    "## The Law of Total Probability 📜\n",
    "\n",
    "Now we need connect conditional and unconditional probabilities. We do this with **the Law of Total Probability** (LOTP). \n",
    "\n",
    "\n",
    "You'll also have the tools to deal with conditioning on multiple events/pieces of information since the concepts translate generally.\n",
    "\n"
   ]
  },
  {
   "cell_type": "markdown",
   "metadata": {},
   "source": [
    "**The Law of Total Probability** is an incredibly useful problem solving tool. Formally stated, it says:\n",
    "\n",
    "$$\n",
    "\\text{If }A_i,...,A_n \\text{ is a partition of the sample space }S \\text{, then }P(B) = \\sum_{i=1}^{n}{P(B|A_i)P(A_i)}.\n",
    "$$"
   ]
  },
  {
   "cell_type": "markdown",
   "metadata": {},
   "source": [
    "But this is likely better illustrated with a picture:\n",
    "\n",
    "<img src=\"./LOTP.png\" width=\"600\" height=\"400\"/>"
   ]
  },
  {
   "cell_type": "markdown",
   "metadata": {},
   "source": [
    "Okay, your turn to practice!\n",
    "\n",
    "**Question**: \n",
    "\n",
    "> What's $P(\\text{TPEB})$. \n",
    "\n",
    "Partition the data and use LOTP so you can calculate it. Check against the data directly."
   ]
  },
  {
   "cell_type": "code",
   "execution_count": null,
   "metadata": {},
   "outputs": [],
   "source": [
    "## TODO: Demonstrate LOTP on our data; start with tradelane_mode_xt\n",
    "tradelane_mode_xt.head()"
   ]
  },
  {
   "cell_type": "code",
   "execution_count": null,
   "metadata": {},
   "outputs": [],
   "source": [
    "# This is the denominator to convert cardinality of sets to probabilities\n",
    "# (per the Naive Definition of Probability)\n",
    "S = tradelane_mode_xt.sum().sum()\n",
    "\n",
    "# Show that p_TPEB_by_LTOP == p_TPEB\n",
    "p_TPEB = tradelane_mode_xt.loc['TPEB',:].sum()/S\n",
    "\n",
    "p_Air = tradelane_mode_xt.loc[:,'Air'].sum()/S\n",
    "\n",
    "p_not_Air = 1 - p_Air\n",
    "\n",
    "p_TPEB_given_Air = \n",
    "\n",
    "p_TPEB_given_not_Air = \n",
    "\n",
    "p_TPEB_by_LOTP = \n",
    "\n",
    "# # Check if our answer is right   \n",
    "# print(f\"Our Answer: {p_TPEB_by_LOTP:.5%}\")\n",
    "# print(f\"Expected Answer: {p_TPEB:.5%}\")"
   ]
  },
  {
   "cell_type": "markdown",
   "metadata": {},
   "source": [
    "### Definition Glossary\n",
    "\n",
    "$$\n",
    "P(A \\mid B) = \\frac{P(A) P(B \\mid A)} {P(B)}\n",
    "$$\n",
    "\n",
    "- **Marginal Probability**: Unconditional probability of an event. eg. $P(A)$ and $P(B)$\n",
    "- **Prior Probability**: A type of marginal probability relevant to Bayes Theorem. It is the probability of an event based on our prior beliefs about that event. Here, $P(A)$ is the prior. The posterior is the updated probability of the prior given new information from event $B$.\n",
    "- **Posterior Probability**: The conditional probability we are trying to compute - $P(A \\mid B)$\n",
    "- **Likelihood**: This is the inverse of the conditional probablity we are trying to compute. If we are interested in $P(A \\mid B)$, likelihood refers to $P(B \\mid A)$"
   ]
  },
  {
   "cell_type": "markdown",
   "metadata": {},
   "source": [
    "## Updating Priors ☝🏽"
   ]
  },
  {
   "cell_type": "markdown",
   "metadata": {},
   "source": [
    "Bayes Theorem, and conditional probability in general, can be framed in multiple ways:\n",
    "- $P(A|B)$ = Probability that event $A$ occurs *given* that event $B$ has occured\n",
    "- $P(A|E)$ = Probability of hypothesis $A$ being true *given* certain evidence $E$\n",
    "- $P(A|B)$ = Updated probability of event $A$ occurring *given* additional information from event $B$"
   ]
  },
  {
   "cell_type": "markdown",
   "metadata": {},
   "source": [
    "In each of these s scenarios, we:\n",
    "1. take an event $A$ that has some probabilty of ocurrring in isolation - $P(A)$\n",
    "2. we update that probability to some new probability based on new information obtained from another event ocurring $P(A|B)$"
   ]
  },
  {
   "cell_type": "markdown",
   "metadata": {},
   "source": [
    "We've seen that Bayes Theorem helps us relate conditional probabilities to one another. Now let's look at how it can be leveraged to update our prior beliefs about certain events."
   ]
  },
  {
   "cell_type": "markdown",
   "metadata": {},
   "source": [
    "### Ravi Goes to Disneyland 🏰"
   ]
  },
  {
   "cell_type": "markdown",
   "metadata": {},
   "source": [
    "Ravi is excited that Disneyland has finally opened up and he has taken the day off to go to LA and enjoy Goofy's Sky School after months of waiting. However, for Ravi to be able to enter Disneyland, the management needs to be certain that he doesn't have COVID-19; he needs to be tested.\n",
    "\n",
    "Nervous about his fate, Ravi goes to the Disneyland clinic and waits for the doctor. When the doctor arrives, she makes an initial assessment of him. She comments that since Ravi looks asymptomatic and generally quite energized, he probably doesn not have COVID. However, he took a flight to LA and that increases the chance that he might have contracted it more recently. She thinks for a few minutes, notes down some stuff, and concludes that Ravi's prior (*pre-test*) probability of having COVID is:\n",
    "\n",
    "$P(C) = 0.3 = 30\\%$"
   ]
  },
  {
   "cell_type": "markdown",
   "metadata": {},
   "source": [
    "The doctor's test, **Test X**, is 90% accurate. If someone tests positive, we are 90% certain that they have COVID; if they test negative, we are 90% sure that they don't. Both the false positive and false negative rates are 10% respectively.\n",
    "\n",
    "Ravi is administered the test and his results come out **negative**! If $N_X$ is the event that Ravi tests negative with **Test X**, then\n",
    "\n",
    "$$\n",
    "P(C | N_X) = \\frac{P(N_X | C)P(C)}{P(N_X)} \n",
    "           = \\frac{P(N_X | C)P(C)}{P(N_X | C)P(C) + P(N_X | C^c)P(C^c)} \n",
    "           = \\frac{(0.1)(0.3)}{(0.1)(0.3) + (0.9)(0.7)}\n",
    "           = 0.045\n",
    "           = 4.5\\%\n",
    "$$\n",
    "\n",
    "The posterior probability of Ravi having COVID given a negative test result is 4.5% - a significant decrease from the prior probability of 30% that the doctor assumed when Ravi came in. In this way, we've 'updated our priors'."
   ]
  },
  {
   "cell_type": "markdown",
   "metadata": {},
   "source": [
    "Unfortunately, even a test with 90% accuracy can't confirm that Ravi does not have COVID for sure. A 4.5% chance is above the **strict threshold of 2%** that Disney is enforcing on its visitors and Ravi doesn't meet that cut. Sorry bud ☹️"
   ]
  },
  {
   "cell_type": "code",
   "execution_count": null,
   "metadata": {},
   "outputs": [],
   "source": [
    "## TODO\n",
    "# What if the doctor felt differently during her initial evaluation of Ravi's health? \n",
    "# Or what if Ravi was both corrupt and desperate and offered the doctor $1000 for a 'better' initial evaluation?\n",
    "# Would that alter the posterior probability?\n",
    "# Loop through a few values of using the compute_bayes_posterior function to see for yourself!\n",
    "\n",
    "# calculate P(A|B) when provided P(A), P(B|A), P(B|not A)\n",
    "def compute_posterior(p_a, p_b_given_a, p_b_given_not_a):\n",
    "    # calculate P(not A)\n",
    "    not_a = 1 - p_a\n",
    "    # calculate P(B)\n",
    "    p_b = p_b_given_a * p_a + p_b_given_not_a * not_a\n",
    "    # calculate P(A|B)\n",
    "    p_a_given_b = (p_b_given_a * p_a) / p_b\n",
    "    return p_a_given_b\n",
    "\n",
    "# P(Nx|C) = P(Tests Negative given Has COVID)\n",
    "p_Nx_given_C = 0.1\n",
    "\n",
    "# P(Nx|not C) = P(Tests Negative given Does Not Have COVID)\n",
    "p_Nx_given_not_C = 0.9\n",
    "\n",
    "print('Question 1\\n---')\n",
    "# Calculate P(C|Nx) for various values of P(C)\n",
    "for c in [0.01, 0.05, 0.1, 0.4]:\n",
    "    print('If P(C) = {0}, then P(C | Nx) = {1:.2%}'.format(c, compute_posterior(c, p_Nx_given_C, p_Nx_given_not_C)))\n",
    "\n",
    "print('\\nQuestion 2\\n---')\n",
    "# Use a while loop to figure out the first value of P(c) for which P(C|Nx) is less than 1%\n",
    "c = 0.3\n",
    "while c > 0:\n",
    "    p_C_given_Nx = compute_posterior(c, p_Nx_given_C, p_Nx_given_not_C)\n",
    "    if p_C_given_Nx < 0.02:\n",
    "        print(f'P(C | Nx) is less than 2% when P(C) = {c:.2}')\n",
    "        break\n",
    "    c -= 0.01\n",
    "else:\n",
    "    print('Given the effectiveness of the test, there is no prior probability of COVID that can bring the posterior probability less than 2%')"
   ]
  },
  {
   "cell_type": "markdown",
   "metadata": {},
   "source": [
    "## Multiple Conditions"
   ]
  },
  {
   "cell_type": "markdown",
   "metadata": {},
   "source": [
    "Fortunately, bribing the doc isn't necessarily Ravi's only solution to entering Disneyland."
   ]
  },
  {
   "cell_type": "markdown",
   "metadata": {},
   "source": [
    "The doctor sympathizes with Ravi and says that she might be able to help him out. She tells Ravi about a second test, **Test Y**, made by a different drug company than that of **Test X**. It wasn't as good as **Test X** with a accuracy of just 70%, but it might just be what Ravi needs."
   ]
  },
  {
   "cell_type": "markdown",
   "metadata": {},
   "source": [
    "**TODO:** What is the doctor's latest assessment of Ravi's likelihood of having COVID? i.e. what is the new prior $P(F)$? "
   ]
  },
  {
   "cell_type": "markdown",
   "metadata": {},
   "source": [
    "The doctor administers **Test Y** and Ravi tests negative again!"
   ]
  },
  {
   "cell_type": "code",
   "execution_count": null,
   "metadata": {},
   "outputs": [],
   "source": [
    "## TODO\n",
    "# What is the probability that Ravi has COVID after the results of Test Y?\n",
    "\n",
    "# P(F) = P(C | Nx) = New prior probability that Ravi has COVID-19\n",
    "p_F = 0.045\n",
    "\n",
    "# P(Ny|F) = P(Tests Negative given Has COVID and Tested Negative to Test X)\n",
    "p_Ny_given_F = 0.3\n",
    "\n",
    "# P(Ny|not F) = P(Tests Negative given Does Not Have COVID and Tested Negative to Test X)\n",
    "p_Ny_given_not_F = 0.7\n",
    "\n",
    "print('With P(F) = {0:.2%}, P(F | Ny) = {1:.2%}'.format(p_F, compute_posterior(p_F, p_Ny_given_C, p_Ny_given_not_C)))"
   ]
  },
  {
   "cell_type": "markdown",
   "metadata": {},
   "source": [
    "### Analytical Approach"
   ]
  },
  {
   "cell_type": "markdown",
   "metadata": {},
   "source": [
    "What we did here with **Test X** and **Test Y** is update the prior probability of Ravi having COVID twice over. The tests were administered sequentially and we also updated the priors sequentially:\n",
    "- First we updated $P(C)$ to $P(C | N_X)$ = $P(F)$\n",
    "- **Then** we updated $P(F)$ to $P(F | N_Y)$\n",
    "\n",
    "This, however, need not be the case. We can update $P(C)$ to incorporate the results of **Test X** and **Test Y** simultaneously. Given two negative test results like before, we want the following:"
   ]
  },
  {
   "cell_type": "markdown",
   "metadata": {},
   "source": [
    "$$\n",
    "P(F | N_Y) = P(C | N_X, N_Y)\n",
    "$$"
   ]
  },
  {
   "cell_type": "markdown",
   "metadata": {},
   "source": [
    "That looks funky though.. How do we do that???"
   ]
  },
  {
   "cell_type": "markdown",
   "metadata": {},
   "source": [
    "#### TODO: Complete the Derivation"
   ]
  },
  {
   "cell_type": "markdown",
   "metadata": {},
   "source": [
    "$$\n",
    "\\begin{split}\n",
    "& P(C | N_X \\cap N_Y) & & = \\frac{P(C \\cap N_X \\cap N_Y)}{P(N_X \\cap N_Y)} \\\\ \\\\\n",
    "& & & = \\frac{P(C \\cap N_X \\cap N_Y)}{P(N_X | N_Y)•P(N_Y)} \\\\ \\\\\n",
    "& & & = \\frac{P(N_X \\cap C \\cap N_Y)}{P(N_X | N_Y)•P(N_Y)} \\\\ \\\\\n",
    "& & & \\vdots \\\\ \\\\\n",
    "& & & = \\frac{P(N_X | C \\cap N_Y)•P(C | N_Y)}{P(N_X | N_Y)} \\\\ \\\\\n",
    "& & & = \\frac{P(N_Y | C \\cap N_X)•P(C | N_X)}{P(N_Y | N_X)} \\\\ \\\\\n",
    "\\end{split}\n",
    "$$"
   ]
  },
  {
   "cell_type": "markdown",
   "metadata": {},
   "source": [
    "#### TODO: Derivation Solution"
   ]
  },
  {
   "cell_type": "markdown",
   "metadata": {},
   "source": [
    "$$\n",
    "\\begin{split}\n",
    "& P(C | N_X \\cap N_Y) & & = \\frac{P(C \\cap N_X \\cap N_Y)}{P(N_X \\cap N_Y)} \\\\ \\\\\n",
    "& & & = \\frac{P(C \\cap N_X \\cap N_Y)}{P(N_X | N_Y)•P(N_Y)} \\\\ \\\\\n",
    "& & & = \\frac{P(N_X \\cap C \\cap N_Y)}{P(N_X | N_Y)•P(N_Y)} \\\\ \\\\\n",
    "& & & = \\frac{P(N_X | C \\cap N_Y)•P(C \\cap N_Y)}{P(N_X | N_Y)•P(N_Y)} \\\\ \\\\\n",
    "& & & = \\frac{P(N_X | C \\cap N_Y)•P(C | N_Y)•P(N_Y)}{P(N_X | N_Y)•P(N_Y)} \\\\ \\\\\n",
    "& & & = \\frac{P(N_X | C \\cap N_Y)•P(C | N_Y)}{P(N_X | N_Y)} \\\\ \\\\\n",
    "& & & = \\frac{P(N_Y | C \\cap N_X)•P(C | N_X)}{P(N_Y | N_X)} \\\\ \\\\\n",
    "\\end{split}\n",
    "$$"
   ]
  },
  {
   "cell_type": "markdown",
   "metadata": {},
   "source": [
    "$$\n",
    "\\frac{P(N_Y | C)•P(C | N_X)}{P(N_Y|C \\cap N_X)P(C|N_X) + P(N_Y|C^c \\cap N_X)P(C^c|N_X)} \\\\ \\\\\n",
    "$$"
   ]
  },
  {
   "cell_type": "markdown",
   "metadata": {},
   "source": [
    "# Homework"
   ]
  },
  {
   "cell_type": "code",
   "execution_count": null,
   "metadata": {},
   "outputs": [],
   "source": [
    "import numpy as np\n",
    "import pandas as pd\n",
    "from defendants_fallacy import data_generator, data_tests"
   ]
  },
  {
   "cell_type": "code",
   "execution_count": null,
   "metadata": {},
   "outputs": [],
   "source": [
    "# Generate and load data\n",
    "df = data_generator()\n",
    "data_tests(df)"
   ]
  },
  {
   "cell_type": "markdown",
   "metadata": {},
   "source": [
    "Note, we fabricated data on a number of couples, $N = 5,000,000$, and assume that the unconditional probability of a wife being murdered to be $P(M) = 0.0005$."
   ]
  },
  {
   "cell_type": "markdown",
   "metadata": {},
   "source": [
    "## Motivation 👨🏼‍⚖️"
   ]
  },
  {
   "cell_type": "markdown",
   "metadata": {},
   "source": [
    "Consider this quote from *Calculated Risks: How to Know When Numbers Deceive You* (Gigerenzer, 2002) regarding the proceedings of the infamous trial of OJ Simpson: \n",
    "    \n",
    "> …the prosecution presented evidence that Simpson had been violent toward his wife, while the defense argued that there was only one woman murdered for every 2,500 women who were subjected to spousal abuse, and that any history of Simpson being violent toward his wife was irrelevant to the trial.\n",
    "\n",
    "### Question\n",
    "\n",
    "*Should* the fact that Simpson had been violent toward his wife be thrown out on the grounds of irrelevance (i.e., what the defense asserts)? "
   ]
  },
  {
   "cell_type": "markdown",
   "metadata": {},
   "source": [
    "To answer this question, let's use data. Here's what we know using the data on hand and what's been said in court:\n",
    "\n",
    "- A woman has been murdered, and her husband is accused of having committed the murder. \n",
    "- It is known that the man abused his wife repeatedly in the past, and the prosecution argues that this is important evidence pointing towards the man’s guilt. The defense attorney says that the history of abuse is irrelevant, as only 1-in-2500 men who beat their wives end up murdering them.\n",
    "- Assume that the defense attorney is not committing perjury and the 1-in-2500 figure is correct.\n",
    "- Our data tell us that half of men who murder their wives previously abused them. \n",
    "- Our data also tell us that 20% of murdered married women were killed by their husbands, and that if a woman is murdered and the husband is not guilty, then there is only a 10% chance that the husband abused her. "
   ]
  },
  {
   "cell_type": "markdown",
   "metadata": {},
   "source": [
    "## Analysis 🔬\n",
    "\n",
    "Below, we start down the path of trying to figure out whether it matters that the husband abused his wife or not. "
   ]
  },
  {
   "cell_type": "markdown",
   "metadata": {},
   "source": [
    "### Step 0\n",
    "\n",
    "We need to define some events. (Hint: Look at the column headers in our data.) Begin to think about Bayes' Rule...🤔"
   ]
  },
  {
   "cell_type": "code",
   "execution_count": null,
   "metadata": {},
   "outputs": [],
   "source": [
    "df.columns"
   ]
  },
  {
   "cell_type": "code",
   "execution_count": null,
   "metadata": {},
   "outputs": [],
   "source": [
    "for col in df:\n",
    "    display(df[col].unique())"
   ]
  },
  {
   "cell_type": "markdown",
   "metadata": {},
   "source": [
    "These columns all look like *indicator* random variables. We can also look at the relative frequencies, or the *probabilities*, of each of these events:"
   ]
  },
  {
   "cell_type": "code",
   "execution_count": null,
   "metadata": {},
   "outputs": [],
   "source": [
    "df.mean()"
   ]
  },
  {
   "cell_type": "code",
   "execution_count": null,
   "metadata": {},
   "outputs": [],
   "source": [
    "## TODO: Explore the data on your more if you desire."
   ]
  },
  {
   "cell_type": "markdown",
   "metadata": {},
   "source": [
    "### Step 1 \n",
    "\n",
    "Inspect the data. What does it mean? Can you confirm the facts drawn from our data (see above)?\n",
    "\n",
    "- Show that the defense attorney is correct, i.e., $P(G|A) = \\frac{1}{2500}$.\n",
    "- Show that half of men who murder their wives previously abused them. \n",
    "- Show that 20% of murdered married women were killed by their husbands\n",
    "- Show that if a woman is murdered and the husband is not guilty, then there is only a 10% chance that the husband abused her. "
   ]
  },
  {
   "cell_type": "code",
   "execution_count": null,
   "metadata": {},
   "outputs": [],
   "source": [
    "## TODO: Confirm the facts of the case using the data.\n",
    "\n",
    "# p_G_given_A = \n",
    "\n",
    "# p_A_given_G_and_M = \n",
    "\n",
    "# p_G_given_M = \n",
    "\n",
    "# p_A_given_notG_and_M = "
   ]
  },
  {
   "cell_type": "markdown",
   "metadata": {},
   "source": [
    "### Step 2 \n",
    "\n",
    "Hope you've been pondering Bayes' Theorem. What is the _prior_ probability that the husband is guilty of murdering his wife?\n",
    "\n",
    "- Calculate $P(G|M)$."
   ]
  },
  {
   "cell_type": "code",
   "execution_count": null,
   "metadata": {},
   "outputs": [],
   "source": [
    "## TODO: Calculate the prior probability of guilt given the wife has been murdered.\n",
    "##       Ask yourself if you've already done this calculation..."
   ]
  },
  {
   "cell_type": "markdown",
   "metadata": {},
   "source": [
    "We will need to compare our *posterior* to this to see if the husband is more likely of guilt. If so, that implies that the defense attorney is trying to pull the wool over the jury's eyes!"
   ]
  },
  {
   "cell_type": "markdown",
   "metadata": {},
   "source": [
    "### Step 3\n",
    "\n",
    "Figure out what the posterior probability of guilt is.\n",
    "\n",
    "- You know that the posterior probability is $P(G|...)$. \n",
    "- Think about what event(s) to condition on (i.e., what evidence do we have?).\n",
    "- Drawing a tree diagram might help."
   ]
  },
  {
   "cell_type": "code",
   "execution_count": null,
   "metadata": {},
   "outputs": [],
   "source": [
    "## TODO: Calculate the posterior probability of guilt. \n",
    "##       Do this either analytically or numerically (directly on the data)"
   ]
  },
  {
   "cell_type": "code",
   "execution_count": null,
   "metadata": {},
   "outputs": [],
   "source": []
  }
 ],
 "metadata": {
  "celltoolbar": "Slideshow",
  "kernelspec": {
   "display_name": "Python 3",
   "language": "python",
   "name": "python3"
  },
  "language_info": {
   "codemirror_mode": {
    "name": "ipython",
    "version": 3
   },
   "file_extension": ".py",
   "mimetype": "text/x-python",
   "name": "python",
   "nbconvert_exporter": "python",
   "pygments_lexer": "ipython3",
   "version": "3.7.5"
  }
 },
 "nbformat": 4,
 "nbformat_minor": 4
}
