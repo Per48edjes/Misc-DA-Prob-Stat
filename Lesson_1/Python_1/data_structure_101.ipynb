{
 "cells": [
  {
   "cell_type": "markdown",
   "metadata": {
    "slideshow": {
     "slide_type": "slide"
    }
   },
   "source": [
    "# 🐍 Data Structures 101\n",
    "DA Probability & Statistics Learning Series • Self-Guided Lesson 1\n",
    "\n",
    "<ol>\n",
    "    <li>Basic Data Structures</li>\n",
    "    <li>Advanced Data Structures</li>\n",
    "    <li>Intro to Object-Oriented Programming</li>\n",
    "    <li>Application of Object Data Structures</li>\n",
    "    <li>Challenge: Putting it All Together</li>\n",
    "</ol>\n",
    "\n",
    "Welcome!\n",
    "\n",
    "See #da_prob_stat for discussion during and after this session."
   ]
  },
  {
   "cell_type": "markdown",
   "metadata": {
    "slideshow": {
     "slide_type": "subslide"
    }
   },
   "source": [
    "<h2>Goals</h2>\n",
    "\n",
    "<ul>\n",
    "    <li>Develop Comfort Using and Converting between Python Data Structures</li>\n",
    "    <li>Learn the 'Pythonic' way to leverage object-oriented programming principles</li>\n",
    "    <li>Connect to a database, extract sql query to a dataframe, and manipulate results</li>\n",
    "</ul>"
   ]
  },
  {
   "cell_type": "markdown",
   "metadata": {
    "slideshow": {
     "slide_type": "slide"
    }
   },
   "source": [
    "<h3>The Basic Data structures we see in SQL/Looker can be used in Python as well</h3>\n",
    "\n",
    "<ul>\n",
    "    <li>Boolean</li>\n",
    "    <li>String</li>\n",
    "    <li>Int</li>\n",
    "    <li>Float</li>\n",
    "</ul>\n",
    "    "
   ]
  },
  {
   "cell_type": "code",
   "execution_count": 3,
   "metadata": {
    "slideshow": {
     "slide_type": "subslide"
    }
   },
   "outputs": [
    {
     "name": "stdout",
     "output_type": "stream",
     "text": [
      " Boolean: False \n",
      " String: A Full String \n",
      " Integer: 42 \n",
      " Float: 3.1415927\n",
      "--------------------------------------------\n"
     ]
    }
   ],
   "source": [
    "# Let's define and print a few different data types\n",
    "myBoolean = False\n",
    "myString = 'A Full String'\n",
    "myInt = 42\n",
    "myFloat = 3.1415927\n",
    "print(' Boolean: %s \\n String: %s \\n Integer: %s \\n Float: %s'  %(myBoolean, myString, myInt, myFloat))\n",
    "print('--------------------------------------------')\n",
    "\n",
    "# We (you) can also convert among these values\n",
    "#print(' myFloat to String: %s' %#PUT CONVERSION HERE)\n",
    "#print(' myFloat to Int: %s' %#PUT CONVERSION HERE)\n",
    "#print(' myBoolean to Int: %s' %#PUT CONVERSION HERE)\n",
    "#print(' myInt to Boolean: %s' %#PUT CONVERSION HERE)"
   ]
  },
  {
   "cell_type": "markdown",
   "metadata": {
    "slideshow": {
     "slide_type": "slide"
    }
   },
   "source": [
    "<h3>Some <em>Intermediate</em> Data Structure In Python </h3>\n",
    "\n",
    "Array <em>ex [1,2,3,4]</em> can be used to hold lists of information, this does not all have to be the same type but it should be. \n",
    "\n",
    "Tuple <em>ex (1,2,3)<em> used to hold immutable structured information\n",
    "    \n",
    "Dictionary <em>ex {'author': 'Ernest Hemmingway', 'book': 'Islands in the Stream'}</em> Used to hold key-value pairs of information"
   ]
  },
  {
   "cell_type": "markdown",
   "metadata": {
    "slideshow": {
     "slide_type": "subslide"
    }
   },
   "source": [
    "### Why do we use these structures?\n",
    "\n",
    "> Easier to model complex data or store complicated relationships\n",
    "\n",
    "> We can leverage properties of these structures to automate work\n",
    "\n",
    "Let's dive into a few examples using lists, tuples, and dictionaries"
   ]
  },
  {
   "cell_type": "code",
   "execution_count": 5,
   "metadata": {
    "slideshow": {
     "slide_type": "subslide"
    }
   },
   "outputs": [
    {
     "name": "stdout",
     "output_type": "stream",
     "text": [
      "['Nate', 'David', 'Ravi', 'Niharika'] \n",
      "\n",
      "['Nate', 'David', 'Ravi', 'Niharika'] \n",
      "\n",
      "Nate is a good teammate!\n",
      "David is a good teammate!\n",
      "Ravi is a good teammate!\n",
      "Niharika is a good teammate!\n"
     ]
    }
   ],
   "source": [
    "# We should use lists to hold homogenous information of arbitrary length.\n",
    "# We can easily add, remove, reference, and loop through information in an array\n",
    "dataTeam = ['Nate', 'David', 'Ravi', 'Niharika']\n",
    "print(dataTeam, '\\n')\n",
    "\n",
    "# Let's Reference the first and last teammates in this list, then add a new teammate using list.append()\n",
    "#print(#Teammate1, ' & ', #Teammate4, '\\n')\n",
    "#add a new teammate to the list\n",
    "print(dataTeam, '\\n')\n",
    "\n",
    "# We can use our list to loop through items\n",
    "for person in dataTeam:\n",
    "    print(person + ' is a good teammate!')"
   ]
  },
  {
   "cell_type": "code",
   "execution_count": 21,
   "metadata": {
    "slideshow": {
     "slide_type": "subslide"
    }
   },
   "outputs": [],
   "source": [
    "# Import dependency we'll need\n",
    "\n",
    "import math\n",
    "\n",
    "def haversine(origin, destination):\n",
    "    lat1, lon1 = origin\n",
    "    lat2, lon2 = destination\n",
    "    radius = 6371 # km\n",
    "\n",
    "    dlat = math.radians(lat2-lat1)\n",
    "    dlon = math.radians(lon2-lon1)\n",
    "    a = math.sin(dlat/2) * math.sin(dlat/2) + math.cos(math.radians(lat1)) \\\n",
    "        * math.cos(math.radians(lat2)) * math.sin(dlon/2) * math.sin(dlon/2)\n",
    "    c = 2 * math.atan2(math.sqrt(a), math.sqrt(1-a))\n",
    "    d = radius * c\n",
    "\n",
    "    return d"
   ]
  },
  {
   "cell_type": "code",
   "execution_count": 28,
   "metadata": {
    "slideshow": {
     "slide_type": "subslide"
    }
   },
   "outputs": [
    {
     "name": "stdout",
     "output_type": "stream",
     "text": [
      " ORD to LAX: 2801.93 Mi\n",
      "lat_of_ord: 41.9742 degrees\n"
     ]
    }
   ],
   "source": [
    "# We should use tuples to hold homogenous information of fixed length and location reference.\n",
    "# We should use this for structured information such as lat/lon coordinates where the order gives us implicit information\n",
    "ord = (41.9742, 87.9073)\n",
    "lax = (33.9416,118.4085)\n",
    "\n",
    "# Haversine is a formula that takes a tuple of lat/lon for given locations and calculates the distance between them\n",
    "miles = haversine(ord, lax)\n",
    "print('ORD to LAX: %.2f Mi' %miles)\n",
    "\n",
    "# We can also reference values by their index, similar to lists\n",
    "print('lat_of_ord: %s degrees' %ord[0])\n"
   ]
  },
  {
   "cell_type": "code",
   "execution_count": 7,
   "metadata": {},
   "outputs": [],
   "source": [
    "# We should use dictionaries to hold unstructured information of arbitrary length.\n",
    "# We may use this to hold a wide variety of information to easily reference later\n",
    "\n",
    "shipment = {\n",
    "    'id' : 777177,\n",
    "    'incoterms' : 'EXW',\n",
    "    'Port of Loading': 'Shenzen',\n",
    "    'Carriers': ['Shipco', 'CH Robinson']\n",
    "}\n",
    "\n",
    "# To reference a value simply pass it's key as the index\n",
    "#print('Port of Loading is: %s \\n' %#Put port of loading here)\n",
    "\n",
    "# We can remap values by changing the value referenced at a key\n",
    "shipment['incoterms'] = 'FOB'\n",
    "#print('Incoterm is: %s \\n' %#Put incoterms here)\n",
    "\n",
    "# We can also add new information to a dictionary\n",
    "shipment['Arrival Port'] = 'Los Angeles'\n",
    "#print('Arrival Port is: %s \\n' %#Put arrival port here)"
   ]
  },
  {
   "cell_type": "markdown",
   "metadata": {
    "slideshow": {
     "slide_type": "subslide"
    }
   },
   "source": [
    "This should be enough to get you started, with basic data structures, for some deep dive problems I suggest checking out <a href=\"https://learning.oreilly.com/library/view/python-cookbook-3rd/9781449357337/ch01.html\">chapter 1 of Python Cookbook.</a>"
   ]
  },
  {
   "cell_type": "markdown",
   "metadata": {
    "slideshow": {
     "slide_type": "slide"
    }
   },
   "source": [
    "<h3>Advanced Data Structures</h3>\n",
    "\n",
    "We're going to introduce a few more advanced data structures we'll frequently encounter Python when manpulating data\n",
    "\n",
    "<ul>\n",
    "    <li>Objects</li>\n",
    "    <li>Dataframes</li>\n",
    "</ul>"
   ]
  },
  {
   "cell_type": "markdown",
   "metadata": {
    "slideshow": {
     "slide_type": "subslide"
    }
   },
   "source": [
    "### Objects\n",
    "\n",
    "Objects are an encapsulation of variables and functions into a single entity. Objects get their variables and functions from classes. Classes are like a blueprint to create your objects, defining what fields can exists and what functions are native to them.\n",
    "\n",
    "We can use objects to normalize/group data into useable formats and define methods (functions of an objects) that will cut down on our work. We'll also find ways to leverage some of the past data structures we've learned.\n",
    "\n",
    "We'll define and use a simple object next, read through the comments to understand how we create this class"
   ]
  },
  {
   "cell_type": "code",
   "execution_count": 30,
   "metadata": {
    "slideshow": {
     "slide_type": "subslide"
    }
   },
   "outputs": [],
   "source": [
    "# We First need to develop a blueprint for a Terminal Object\n",
    "# We determine a Terminal has a name, latitude and longitude\n",
    "# Note the proper syntax is to begin classes as Upper Case\n",
    "class Terminal:\n",
    "    # a function we should include in all objects is an __init__() function for creating\n",
    "    # it defines what fields we pass and save to the object when initalizing.\n",
    "    # we also must always be cognizant to reference 'self' when defining object properties\n",
    "    def __init__(self, iata, latitude, longitude):\n",
    "\n",
    "        self.name = iata\n",
    "        self.lat = latitude\n",
    "        self.lng = longitude\n",
    "    \n",
    "    # a nice-to-have field is __str__() which defines how we output this object when we print it\n",
    "    def __str__(self):\n",
    "        return self.name.upper()"
   ]
  },
  {
   "cell_type": "markdown",
   "metadata": {
    "slideshow": {
     "slide_type": "fragment"
    }
   },
   "source": [
    "> Now that we have a `class` created we can reference this to create a set of objects by calling the implied `__init__` function of our class\n",
    "\n",
    "> Let's create a few instances of our object below"
   ]
  },
  {
   "cell_type": "code",
   "execution_count": 31,
   "metadata": {
    "slideshow": {
     "slide_type": "subslide"
    }
   },
   "outputs": [
    {
     "name": "stdout",
     "output_type": "stream",
     "text": [
      "ORD\n",
      "LGA\n",
      "LAX\n"
     ]
    }
   ],
   "source": [
    "ohare = Terminal('ord', 41.9742, 87.9073)\n",
    "print(ohare)\n",
    "\n",
    "laguardia = Terminal('lga', 40.7769, 73.8740)\n",
    "print(laguardia)\n",
    "\n",
    "# in the first two examples we passed \n",
    "losangeles = Terminal('lax', 33.9416, 118.4085)\n",
    "print(losangeles)\n",
    "    "
   ]
  },
  {
   "cell_type": "markdown",
   "metadata": {
    "slideshow": {
     "slide_type": "fragment"
    }
   },
   "source": [
    "### Challenge\n",
    "\n",
    "Now we remember from earlier that `haversine` formula allowed us to pass two tuples representing the distance between points. Let's modify our blueprint so that create `method` for outputting a lat/lng tuple from our Terminal to work easily with this formula\n"
   ]
  },
  {
   "cell_type": "code",
   "execution_count": 32,
   "metadata": {},
   "outputs": [],
   "source": [
    "# Below follows the previous code from our class, can you modify it to add a get_coords method?\n",
    "# Then uncomment the lines below to test\n",
    "\n",
    "class Terminal:\n",
    "    def __init__(self, iata, latitude, longitude, **kwargs):\n",
    "        self.name = iata\n",
    "        self.lat = latitude\n",
    "        self.lng = longitude\n",
    "    def __str__(self):\n",
    "        return self.name.upper()\n",
    "    \n",
    "    # Lets define our method here to output a tuple of lat/lng coordinates\n",
    "    def get_coords():\n",
    "        # Your code here\n",
    "        return\n",
    "\n",
    "\n",
    "# ohare = Terminal('ord', 41.9742, 87.9073)\n",
    "# laguardia = Terminal('lga', 40.7769, 73.8740)\n",
    "\n",
    "# Lets call our method to print the coordinates lat/lng\n",
    "# print(\"Ohare: \" + str(ohare.get_coords()))\n",
    "# print(\"LaGuardia: \" + str(laguardia.get_coords()))\n",
    "\n",
    "# Lets call our method on both objects to run the haversine formula\n",
    "# distance = haversine(ohare.get_coords(), laguardia.get_coords())\n",
    "# print(\"Distance %s to %s: %.2f mi\" %(ohare, laguardia, distance))  #good opportunity to look into formatted printing\n"
   ]
  },
  {
   "cell_type": "markdown",
   "metadata": {
    "slideshow": {
     "slide_type": "slide"
    }
   },
   "source": [
    "# Debrief\n",
    "\n",
    ">So why the deep dive into objects?\n",
    "\n",
    "Most of the advanced data structures we'll encounter are classes that have been defined for us. We'll be leveraging the pre-defined blueprints to better manipulate data"
   ]
  },
  {
   "cell_type": "markdown",
   "metadata": {
    "slideshow": {
     "slide_type": "slide"
    }
   },
   "source": [
    "## Dataframes\n",
    "\n",
    "Dataframes are the 🔑 class of Pandas (you'll also see them in R). They allow us to structure, store, and manipulate data in a variety of ways. Dataframes have a TON of methods so we'll start with a gentle introduction and close with a challenge of connecting to snowflake to load a sql file into a dataframe and manipulate it. I like to think of DataFrames as sql tables but more powerful.\n",
    "\n",
    "If you'd like to read google around but here's a great link to start: https://towardsdatascience.com/introduction-to-pandas-dataframes-b1b61d2cec35"
   ]
  },
  {
   "cell_type": "code",
   "execution_count": 45,
   "metadata": {
    "slideshow": {
     "slide_type": "subslide"
    }
   },
   "outputs": [
    {
     "data": {
      "text/html": [
       "<div>\n",
       "<style scoped>\n",
       "    .dataframe tbody tr th:only-of-type {\n",
       "        vertical-align: middle;\n",
       "    }\n",
       "\n",
       "    .dataframe tbody tr th {\n",
       "        vertical-align: top;\n",
       "    }\n",
       "\n",
       "    .dataframe thead th {\n",
       "        text-align: right;\n",
       "    }\n",
       "</style>\n",
       "<table border=\"1\" class=\"dataframe\">\n",
       "  <thead>\n",
       "    <tr style=\"text-align: right;\">\n",
       "      <th></th>\n",
       "      <th>shipment_id</th>\n",
       "      <th>mode_blended</th>\n",
       "      <th>gross_weight</th>\n",
       "      <th>volume</th>\n",
       "    </tr>\n",
       "  </thead>\n",
       "  <tbody>\n",
       "    <tr>\n",
       "      <th>0</th>\n",
       "      <td>774404</td>\n",
       "      <td>Air</td>\n",
       "      <td>79.00</td>\n",
       "      <td>0.504</td>\n",
       "    </tr>\n",
       "    <tr>\n",
       "      <th>1</th>\n",
       "      <td>774228</td>\n",
       "      <td>Air</td>\n",
       "      <td>418.50</td>\n",
       "      <td>1.914</td>\n",
       "    </tr>\n",
       "    <tr>\n",
       "      <th>2</th>\n",
       "      <td>773512</td>\n",
       "      <td>Air</td>\n",
       "      <td>3677.34</td>\n",
       "      <td>32.096</td>\n",
       "    </tr>\n",
       "    <tr>\n",
       "      <th>3</th>\n",
       "      <td>773061</td>\n",
       "      <td>Air</td>\n",
       "      <td>122.00</td>\n",
       "      <td>0.823</td>\n",
       "    </tr>\n",
       "    <tr>\n",
       "      <th>4</th>\n",
       "      <td>773029</td>\n",
       "      <td>Air</td>\n",
       "      <td>144.00</td>\n",
       "      <td>1.539</td>\n",
       "    </tr>\n",
       "  </tbody>\n",
       "</table>\n",
       "</div>"
      ],
      "text/plain": [
       "   shipment_id mode_blended  gross_weight  volume\n",
       "0       774404          Air         79.00   0.504\n",
       "1       774228          Air        418.50   1.914\n",
       "2       773512          Air       3677.34  32.096\n",
       "3       773061          Air        122.00   0.823\n",
       "4       773029          Air        144.00   1.539"
      ]
     },
     "execution_count": 45,
     "metadata": {},
     "output_type": "execute_result"
    }
   ],
   "source": [
    "# First let's import pandas (usually done as pd) and it's helper numpy (usually np)\n",
    "import pandas as pd\n",
    "import numpy as np\n",
    "\n",
    "# Next we'll walk through a few ways of generating a dataframe\n",
    "\n",
    "# From a dictionary\n",
    "mydata = {\n",
    "    'shipment_id': [774404,774228,773512,773061,773029,772943,772806,772777],\n",
    "    'mode_blended':['Air','Air','Air','Air','Air','Air','Air','Ocean FCL'],\n",
    "    'gross_weight': [79, 418.5, 3677.34, 122, 144, 601.2, 304, 268],\n",
    "    'volume': [0.504, 1.914, 32.096, 0.823, 1.539, 2.016, 1.267, 0.96]\n",
    "}\n",
    "\n",
    "#Create a dataframe from this dictionary, and then print the header and the first 5 rows"
   ]
  },
  {
   "cell_type": "code",
   "execution_count": 46,
   "metadata": {},
   "outputs": [
    {
     "data": {
      "text/html": [
       "<div>\n",
       "<style scoped>\n",
       "    .dataframe tbody tr th:only-of-type {\n",
       "        vertical-align: middle;\n",
       "    }\n",
       "\n",
       "    .dataframe tbody tr th {\n",
       "        vertical-align: top;\n",
       "    }\n",
       "\n",
       "    .dataframe thead th {\n",
       "        text-align: right;\n",
       "    }\n",
       "</style>\n",
       "<table border=\"1\" class=\"dataframe\">\n",
       "  <thead>\n",
       "    <tr style=\"text-align: right;\">\n",
       "      <th></th>\n",
       "      <th>shipment_id</th>\n",
       "      <th>mode_blended</th>\n",
       "      <th>gross_weight</th>\n",
       "      <th>volume</th>\n",
       "    </tr>\n",
       "  </thead>\n",
       "  <tbody>\n",
       "    <tr>\n",
       "      <th>0</th>\n",
       "      <td>774404</td>\n",
       "      <td>Air</td>\n",
       "      <td>79.00</td>\n",
       "      <td>0.504</td>\n",
       "    </tr>\n",
       "    <tr>\n",
       "      <th>1</th>\n",
       "      <td>774228</td>\n",
       "      <td>Air</td>\n",
       "      <td>418.50</td>\n",
       "      <td>1.914</td>\n",
       "    </tr>\n",
       "    <tr>\n",
       "      <th>2</th>\n",
       "      <td>773512</td>\n",
       "      <td>Air</td>\n",
       "      <td>3677.34</td>\n",
       "      <td>32.096</td>\n",
       "    </tr>\n",
       "    <tr>\n",
       "      <th>3</th>\n",
       "      <td>773061</td>\n",
       "      <td>Air</td>\n",
       "      <td>122.00</td>\n",
       "      <td>0.823</td>\n",
       "    </tr>\n",
       "    <tr>\n",
       "      <th>4</th>\n",
       "      <td>773029</td>\n",
       "      <td>Air</td>\n",
       "      <td>144.00</td>\n",
       "      <td>1.539</td>\n",
       "    </tr>\n",
       "  </tbody>\n",
       "</table>\n",
       "</div>"
      ],
      "text/plain": [
       "   shipment_id mode_blended  gross_weight  volume\n",
       "0       774404          Air         79.00   0.504\n",
       "1       774228          Air        418.50   1.914\n",
       "2       773512          Air       3677.34  32.096\n",
       "3       773061          Air        122.00   0.823\n",
       "4       773029          Air        144.00   1.539"
      ]
     },
     "execution_count": 46,
     "metadata": {},
     "output_type": "execute_result"
    }
   ],
   "source": [
    "# From a CSV file (alternatively from excel)\n",
    "\n",
    "#Create a dataframe from the csv \"df_example.csv\", and then print the first 5 rows"
   ]
  },
  {
   "cell_type": "markdown",
   "metadata": {
    "slideshow": {
     "slide_type": "fragment"
    }
   },
   "source": [
    "You'll notice in the above example we used two very different methods to generate a df. In the first we initialized the object by calling the class and passing `__init__` values to it as a dictionary. In the second we used the `read_csv` function of the pandas library that outputs a dataframe.\n",
    "\n",
    "Now that we have a dataframe we can show a few examples of data manipulation, these are all using methods of the DataFrame object"
   ]
  },
  {
   "cell_type": "code",
   "execution_count": 47,
   "metadata": {
    "slideshow": {
     "slide_type": "subslide"
    }
   },
   "outputs": [
    {
     "data": {
      "text/html": [
       "<div>\n",
       "<style scoped>\n",
       "    .dataframe tbody tr th:only-of-type {\n",
       "        vertical-align: middle;\n",
       "    }\n",
       "\n",
       "    .dataframe tbody tr th {\n",
       "        vertical-align: top;\n",
       "    }\n",
       "\n",
       "    .dataframe thead th {\n",
       "        text-align: right;\n",
       "    }\n",
       "</style>\n",
       "<table border=\"1\" class=\"dataframe\">\n",
       "  <thead>\n",
       "    <tr style=\"text-align: right;\">\n",
       "      <th></th>\n",
       "      <th>shipment_id</th>\n",
       "      <th>mode_blended</th>\n",
       "      <th>gross_weight</th>\n",
       "      <th>volume</th>\n",
       "      <th>transit_on_time</th>\n",
       "      <th>density</th>\n",
       "    </tr>\n",
       "  </thead>\n",
       "  <tbody>\n",
       "    <tr>\n",
       "      <th>7</th>\n",
       "      <td>772777</td>\n",
       "      <td>Ocean FCL</td>\n",
       "      <td>268.0</td>\n",
       "      <td>0.96</td>\n",
       "      <td>False</td>\n",
       "      <td>279.166667</td>\n",
       "    </tr>\n",
       "  </tbody>\n",
       "</table>\n",
       "</div>"
      ],
      "text/plain": [
       "   shipment_id mode_blended  gross_weight  volume  transit_on_time     density\n",
       "7       772777    Ocean FCL         268.0    0.96            False  279.166667"
      ]
     },
     "execution_count": 47,
     "metadata": {},
     "output_type": "execute_result"
    }
   ],
   "source": [
    "# using the [ ] operaters we can filter and slice our DF\n",
    "df_slice = myDataFrame[myDataFrame['mode_blended'] == 'Ocean FCL']\n",
    "df_slice"
   ]
  },
  {
   "cell_type": "markdown",
   "metadata": {
    "slideshow": {
     "slide_type": "slide"
    }
   },
   "source": [
    "### An Aside on Memory\n",
    "Up until now we haven't talked about how memory is handled in python. \n",
    "In general python does a great job of abstracting this away us.\n",
    "But should be roughly aware of what's happening under the hood!"
   ]
  },
  {
   "cell_type": "markdown",
   "metadata": {
    "slideshow": {
     "slide_type": "subslide"
    }
   },
   "source": [
    "When we assign a variable x = 1, what we do is assign that variable as a reference to a point in memory. We can see where this exists by doing id()\n",
    "\n",
    "When we reference that in a different value we simply reference the underlying memory location. Notice if we set y = x, the id of y is really the same underlying memory location of x."
   ]
  },
  {
   "cell_type": "code",
   "execution_count": 6,
   "metadata": {
    "slideshow": {
     "slide_type": "subslide"
    }
   },
   "outputs": [
    {
     "name": "stdout",
     "output_type": "stream",
     "text": [
      "4469140384\n",
      "4469140384\n",
      "WOW\n"
     ]
    }
   ],
   "source": [
    "x = 1\n",
    "print(id(x))\n",
    "y = x\n",
    "print(id(y))\n",
    "print(\"WOW\")"
   ]
  },
  {
   "cell_type": "markdown",
   "metadata": {
    "slideshow": {
     "slide_type": "subslide"
    }
   },
   "source": [
    "Ints and most basic structures are immutable, changing their value assigns a new memory location.\n",
    "But Lists, Dicts, and Objects are not immutable, so we may run into assignment/copy issues!\n",
    "\n",
    "Let's take that slice from before and see what happens when we alter the underlying values."
   ]
  },
  {
   "cell_type": "code",
   "execution_count": 18,
   "metadata": {},
   "outputs": [
    {
     "name": "stderr",
     "output_type": "stream",
     "text": [
      "/Users/nrobinson/.local/share/virtualenvs/da_prob_stat-tr7t3bpH/lib/python3.7/site-packages/ipykernel_launcher.py:1: SettingWithCopyWarning: \n",
      "A value is trying to be set on a copy of a slice from a DataFrame.\n",
      "Try using .loc[row_indexer,col_indexer] = value instead\n",
      "\n",
      "See the caveats in the documentation: https://pandas.pydata.org/pandas-docs/stable/user_guide/indexing.html#returning-a-view-versus-a-copy\n",
      "  \"\"\"Entry point for launching an IPython kernel.\n"
     ]
    },
    {
     "data": {
      "text/html": [
       "<div>\n",
       "<style scoped>\n",
       "    .dataframe tbody tr th:only-of-type {\n",
       "        vertical-align: middle;\n",
       "    }\n",
       "\n",
       "    .dataframe tbody tr th {\n",
       "        vertical-align: top;\n",
       "    }\n",
       "\n",
       "    .dataframe thead th {\n",
       "        text-align: right;\n",
       "    }\n",
       "</style>\n",
       "<table border=\"1\" class=\"dataframe\">\n",
       "  <thead>\n",
       "    <tr style=\"text-align: right;\">\n",
       "      <th></th>\n",
       "      <th>shipment_id</th>\n",
       "      <th>mode_blended</th>\n",
       "      <th>gross_weight</th>\n",
       "      <th>volume</th>\n",
       "    </tr>\n",
       "  </thead>\n",
       "  <tbody>\n",
       "    <tr>\n",
       "      <th>0</th>\n",
       "      <td>774404</td>\n",
       "      <td>Air</td>\n",
       "      <td>79.00</td>\n",
       "      <td>0.504</td>\n",
       "    </tr>\n",
       "    <tr>\n",
       "      <th>1</th>\n",
       "      <td>774228</td>\n",
       "      <td>Air</td>\n",
       "      <td>418.50</td>\n",
       "      <td>1.914</td>\n",
       "    </tr>\n",
       "    <tr>\n",
       "      <th>2</th>\n",
       "      <td>773512</td>\n",
       "      <td>Air</td>\n",
       "      <td>3677.34</td>\n",
       "      <td>32.096</td>\n",
       "    </tr>\n",
       "    <tr>\n",
       "      <th>3</th>\n",
       "      <td>773061</td>\n",
       "      <td>Air</td>\n",
       "      <td>122.00</td>\n",
       "      <td>0.823</td>\n",
       "    </tr>\n",
       "    <tr>\n",
       "      <th>4</th>\n",
       "      <td>773029</td>\n",
       "      <td>Air</td>\n",
       "      <td>144.00</td>\n",
       "      <td>1.539</td>\n",
       "    </tr>\n",
       "    <tr>\n",
       "      <th>5</th>\n",
       "      <td>772943</td>\n",
       "      <td>Air</td>\n",
       "      <td>601.20</td>\n",
       "      <td>2.016</td>\n",
       "    </tr>\n",
       "    <tr>\n",
       "      <th>6</th>\n",
       "      <td>772806</td>\n",
       "      <td>Air</td>\n",
       "      <td>304.00</td>\n",
       "      <td>1.267</td>\n",
       "    </tr>\n",
       "    <tr>\n",
       "      <th>7</th>\n",
       "      <td>772777</td>\n",
       "      <td>Ocean FCL</td>\n",
       "      <td>268.00</td>\n",
       "      <td>0.960</td>\n",
       "    </tr>\n",
       "  </tbody>\n",
       "</table>\n",
       "</div>"
      ],
      "text/plain": [
       "   shipment_id mode_blended  gross_weight  volume\n",
       "0       774404          Air         79.00   0.504\n",
       "1       774228          Air        418.50   1.914\n",
       "2       773512          Air       3677.34  32.096\n",
       "3       773061          Air        122.00   0.823\n",
       "4       773029          Air        144.00   1.539\n",
       "5       772943          Air        601.20   2.016\n",
       "6       772806          Air        304.00   1.267\n",
       "7       772777    Ocean FCL        268.00   0.960"
      ]
     },
     "execution_count": 18,
     "metadata": {},
     "output_type": "execute_result"
    }
   ],
   "source": [
    "df_slice[\"gross_weight\"] = 0\n",
    "myDataFrame"
   ]
  },
  {
   "cell_type": "markdown",
   "metadata": {
    "slideshow": {
     "slide_type": "subslide"
    }
   },
   "source": [
    "Luckly Jupyter is giving us a nice error message, but this leadsThis leads us to .copy() \n",
    "\n",
    "This function allows to copy the items in one objects, and place them in another as new memory addresses. Updating one won't update the underlying values. In some cases copying a value won't solve your problems, what if you have a list of lists? In that case you need to perform a deep copy, effectively recursively copying items out of your objects. \n",
    "\n",
    "For more reading check out this link! https://realpython.com/copying-python-objects/"
   ]
  },
  {
   "cell_type": "code",
   "execution_count": null,
   "metadata": {},
   "outputs": [],
   "source": [
    "### Back to our regularly scheduled programming"
   ]
  },
  {
   "cell_type": "code",
   "execution_count": 48,
   "metadata": {
    "slideshow": {
     "slide_type": "subslide"
    }
   },
   "outputs": [
    {
     "data": {
      "text/html": [
       "<div>\n",
       "<style scoped>\n",
       "    .dataframe tbody tr th:only-of-type {\n",
       "        vertical-align: middle;\n",
       "    }\n",
       "\n",
       "    .dataframe tbody tr th {\n",
       "        vertical-align: top;\n",
       "    }\n",
       "\n",
       "    .dataframe thead th {\n",
       "        text-align: right;\n",
       "    }\n",
       "</style>\n",
       "<table border=\"1\" class=\"dataframe\">\n",
       "  <thead>\n",
       "    <tr style=\"text-align: right;\">\n",
       "      <th></th>\n",
       "      <th>shipment_id</th>\n",
       "      <th>mode_blended</th>\n",
       "      <th>gross_weight</th>\n",
       "      <th>volume</th>\n",
       "      <th>transit_on_time</th>\n",
       "      <th>density</th>\n",
       "    </tr>\n",
       "  </thead>\n",
       "  <tbody>\n",
       "    <tr>\n",
       "      <th>0</th>\n",
       "      <td>774404</td>\n",
       "      <td>Air</td>\n",
       "      <td>79.00</td>\n",
       "      <td>0.504</td>\n",
       "      <td>True</td>\n",
       "      <td>156.746032</td>\n",
       "    </tr>\n",
       "    <tr>\n",
       "      <th>1</th>\n",
       "      <td>774228</td>\n",
       "      <td>Air</td>\n",
       "      <td>418.50</td>\n",
       "      <td>1.914</td>\n",
       "      <td>False</td>\n",
       "      <td>218.652038</td>\n",
       "    </tr>\n",
       "    <tr>\n",
       "      <th>2</th>\n",
       "      <td>773512</td>\n",
       "      <td>Air</td>\n",
       "      <td>3677.34</td>\n",
       "      <td>32.096</td>\n",
       "      <td>True</td>\n",
       "      <td>114.573156</td>\n",
       "    </tr>\n",
       "    <tr>\n",
       "      <th>3</th>\n",
       "      <td>773061</td>\n",
       "      <td>Air</td>\n",
       "      <td>122.00</td>\n",
       "      <td>0.823</td>\n",
       "      <td>True</td>\n",
       "      <td>148.238153</td>\n",
       "    </tr>\n",
       "    <tr>\n",
       "      <th>4</th>\n",
       "      <td>773029</td>\n",
       "      <td>Air</td>\n",
       "      <td>144.00</td>\n",
       "      <td>1.539</td>\n",
       "      <td>False</td>\n",
       "      <td>93.567251</td>\n",
       "    </tr>\n",
       "  </tbody>\n",
       "</table>\n",
       "</div>"
      ],
      "text/plain": [
       "   shipment_id mode_blended  gross_weight  volume  transit_on_time     density\n",
       "0       774404          Air         79.00   0.504             True  156.746032\n",
       "1       774228          Air        418.50   1.914            False  218.652038\n",
       "2       773512          Air       3677.34  32.096             True  114.573156\n",
       "3       773061          Air        122.00   0.823             True  148.238153\n",
       "4       773029          Air        144.00   1.539            False   93.567251"
      ]
     },
     "execution_count": 48,
     "metadata": {},
     "output_type": "execute_result"
    }
   ],
   "source": [
    "# we can add a new column by referencing (like a dictionary) it and passing an array\n",
    "\n",
    "myDataFrame['transit_on_time'] = [True, False, True, True, False, True, True, False]\n",
    "myDataFrame.head()"
   ]
  },
  {
   "cell_type": "code",
   "execution_count": 49,
   "metadata": {
    "slideshow": {
     "slide_type": "subslide"
    }
   },
   "outputs": [
    {
     "name": "stdout",
     "output_type": "stream",
     "text": [
      "62.50 OTP\n"
     ]
    }
   ],
   "source": [
    "# Lets say we now want calculate what percentage of our shipments were on time?\n",
    "# We can use the shape formula that gives us how many items are in an index, 0 being rows, 1 being columns\n",
    "\n",
    "#otp = calculate OTP here\n",
    "#print(\"%.2f OTP\" %(otp*100))"
   ]
  },
  {
   "cell_type": "code",
   "execution_count": 50,
   "metadata": {
    "slideshow": {
     "slide_type": "subslide"
    }
   },
   "outputs": [
    {
     "name": "stdout",
     "output_type": "stream",
     "text": [
      "Max Density: 298.21\n"
     ]
    },
    {
     "data": {
      "text/html": [
       "<div>\n",
       "<style scoped>\n",
       "    .dataframe tbody tr th:only-of-type {\n",
       "        vertical-align: middle;\n",
       "    }\n",
       "\n",
       "    .dataframe tbody tr th {\n",
       "        vertical-align: top;\n",
       "    }\n",
       "\n",
       "    .dataframe thead th {\n",
       "        text-align: right;\n",
       "    }\n",
       "</style>\n",
       "<table border=\"1\" class=\"dataframe\">\n",
       "  <thead>\n",
       "    <tr style=\"text-align: right;\">\n",
       "      <th></th>\n",
       "      <th>shipment_id</th>\n",
       "      <th>mode_blended</th>\n",
       "      <th>gross_weight</th>\n",
       "      <th>volume</th>\n",
       "      <th>transit_on_time</th>\n",
       "      <th>density</th>\n",
       "    </tr>\n",
       "  </thead>\n",
       "  <tbody>\n",
       "    <tr>\n",
       "      <th>5</th>\n",
       "      <td>772943</td>\n",
       "      <td>Air</td>\n",
       "      <td>601.2</td>\n",
       "      <td>2.016</td>\n",
       "      <td>True</td>\n",
       "      <td>298.214286</td>\n",
       "    </tr>\n",
       "  </tbody>\n",
       "</table>\n",
       "</div>"
      ],
      "text/plain": [
       "   shipment_id mode_blended  gross_weight  volume  transit_on_time     density\n",
       "5       772943          Air         601.2   2.016             True  298.214286"
      ]
     },
     "execution_count": 50,
     "metadata": {},
     "output_type": "execute_result"
    }
   ],
   "source": [
    "# An extremely useful method is apply() function. It allows us to apply a lambda function to all rows of df at once\n",
    "# This is extremly fast written in cpython (compiled in c) and 10x or more faster than looping through rows in a df\n",
    "\n",
    "# Lets say we wanted to get the most-dense shipment, we need to create a column and determine the max\n",
    "# Great read for more info: https://towardsdatascience.com/apply-and-lambda-usage-in-pandas-b13a1ea037f7\n",
    "\n",
    "#myDataFrame['density'] = #write a lambda function to calculate density\n",
    "#print(\"Max Density: %.2f\" %max(myDataFrame['density']))\n",
    "\n",
    "# We can also use the value of this item get the whole row from the dataframe\n",
    "#row_of_max_value = myDataFrame[myDataFrame['density'] == max(myDataFrame['density'])]\n",
    "#row_of_max_value"
   ]
  },
  {
   "cell_type": "code",
   "execution_count": 8,
   "metadata": {
    "slideshow": {
     "slide_type": "subslide"
    }
   },
   "outputs": [
    {
     "ename": "NameError",
     "evalue": "name 'myDataFrame' is not defined",
     "output_type": "error",
     "traceback": [
      "\u001b[0;31m---------------------------------------------------------------------------\u001b[0m",
      "\u001b[0;31mNameError\u001b[0m                                 Traceback (most recent call last)",
      "\u001b[0;32m<ipython-input-8-139d557dad71>\u001b[0m in \u001b[0;36m<module>\u001b[0;34m\u001b[0m\n\u001b[1;32m      1\u001b[0m \u001b[0;31m# Lastly lets say we want to output a row to an array, this will be helpful later\u001b[0m\u001b[0;34m\u001b[0m\u001b[0;34m\u001b[0m\u001b[0;34m\u001b[0m\u001b[0m\n\u001b[1;32m      2\u001b[0m \u001b[0;34m\u001b[0m\u001b[0m\n\u001b[0;32m----> 3\u001b[0;31m \u001b[0mgross_weight\u001b[0m \u001b[0;34m=\u001b[0m \u001b[0mlist\u001b[0m\u001b[0;34m(\u001b[0m\u001b[0mmyDataFrame\u001b[0m\u001b[0;34m[\u001b[0m\u001b[0;34m'gross_weight'\u001b[0m\u001b[0;34m]\u001b[0m\u001b[0;34m)\u001b[0m\u001b[0;34m\u001b[0m\u001b[0;34m\u001b[0m\u001b[0m\n\u001b[0m\u001b[1;32m      4\u001b[0m \u001b[0mgross_weight\u001b[0m\u001b[0;34m\u001b[0m\u001b[0;34m\u001b[0m\u001b[0m\n",
      "\u001b[0;31mNameError\u001b[0m: name 'myDataFrame' is not defined"
     ]
    }
   ],
   "source": [
    "# Lastly lets say we want to output a row to an array, this will be helpful later\n",
    "\n",
    "gross_weight = list(myDataFrame['gross_weight'])\n",
    "gross_weight"
   ]
  },
  {
   "cell_type": "markdown",
   "metadata": {
    "slideshow": {
     "slide_type": "slide"
    }
   },
   "source": [
    "## Bringing It All Together\n",
    "\n",
    "Now that we've worked throught the specifics of how objects work and how we can manipulate dataframes let's put this all togther in a challenge. We're going to create a database connection (an object!) and use that to execute a sql query and dump our results in a dataframe and using that to learn a bit of information about some shipments."
   ]
  },
  {
   "cell_type": "code",
   "execution_count": 1,
   "metadata": {
    "slideshow": {
     "slide_type": "subslide"
    }
   },
   "outputs": [
    {
     "name": "stdout",
     "output_type": "stream",
     "text": [
      "nrobinson@flexport.com\n",
      "4.14.4\n"
     ]
    }
   ],
   "source": [
    "# We're introducing some boilerplate code for accessing our snowflake db, you can all reuse this!\n",
    "\n",
    "import os\n",
    "import snowflake.connector\n",
    "\n",
    "# Wrapper for snowflake.connector.connect\n",
    "def get_connection():\n",
    "    \"\"\"\n",
    "    Returns a connection to Snowflake provided you have credentials in shell config\n",
    "    \"\"\"\n",
    "    account = 'flexport'\n",
    "    user = os.getenv('SNOWFLAKE_USERNAME')\n",
    "    print(user)\n",
    "    authenticator = 'externalbrowser'\n",
    "    conn = snowflake.connector.connect(user=user,\n",
    "                                       account=account,\n",
    "                                       authenticator=authenticator,\n",
    "                                      role=\"DATA_ANALYTICS_ROLE\",\n",
    "                                      warehouse=\"REPORTING_WH\",\n",
    "                                      database=\"ANALYTICS\")\n",
    "    cur = conn.cursor()\n",
    "    return conn, cur\n",
    "\n",
    "\n",
    "def validate_connection(conn, cur):\n",
    "    \"\"\"\n",
    "    Function that validates connection by connecting and printing\n",
    "    Snowflake version\n",
    "    \"\"\"\n",
    "    try:\n",
    "        cur.execute(\"SELECT current_version()\")\n",
    "        one_row = cur.fetchone()\n",
    "        print(one_row[0])\n",
    "    finally:\n",
    "        cur.close()\n",
    "#     conn.close()\n",
    "\n",
    "conn, cur = get_connection()\n",
    "validate_connection(conn, cur)"
   ]
  },
  {
   "cell_type": "code",
   "execution_count": 40,
   "metadata": {
    "scrolled": true,
    "slideshow": {
     "slide_type": "subslide"
    }
   },
   "outputs": [
    {
     "data": {
      "text/html": [
       "<div>\n",
       "<style scoped>\n",
       "    .dataframe tbody tr th:only-of-type {\n",
       "        vertical-align: middle;\n",
       "    }\n",
       "\n",
       "    .dataframe tbody tr th {\n",
       "        vertical-align: top;\n",
       "    }\n",
       "\n",
       "    .dataframe thead th {\n",
       "        text-align: right;\n",
       "    }\n",
       "</style>\n",
       "<table border=\"1\" class=\"dataframe\">\n",
       "  <thead>\n",
       "    <tr style=\"text-align: right;\">\n",
       "      <th></th>\n",
       "      <th>QUOTE_ACCEPTED_WEEK</th>\n",
       "      <th>SHIPMENT_TYPE</th>\n",
       "      <th>COUNT_OF_SHIPMENTS_BOOKED</th>\n",
       "    </tr>\n",
       "  </thead>\n",
       "  <tbody>\n",
       "    <tr>\n",
       "      <th>0</th>\n",
       "      <td>2020-02-10</td>\n",
       "      <td>plus</td>\n",
       "      <td>2</td>\n",
       "    </tr>\n",
       "    <tr>\n",
       "      <th>1</th>\n",
       "      <td>2020-02-24</td>\n",
       "      <td>plus</td>\n",
       "      <td>1</td>\n",
       "    </tr>\n",
       "    <tr>\n",
       "      <th>2</th>\n",
       "      <td>2020-03-02</td>\n",
       "      <td>plus</td>\n",
       "      <td>4</td>\n",
       "    </tr>\n",
       "    <tr>\n",
       "      <th>3</th>\n",
       "      <td>2020-03-09</td>\n",
       "      <td>plus</td>\n",
       "      <td>2</td>\n",
       "    </tr>\n",
       "    <tr>\n",
       "      <th>4</th>\n",
       "      <td>2020-03-16</td>\n",
       "      <td>plus</td>\n",
       "      <td>3</td>\n",
       "    </tr>\n",
       "  </tbody>\n",
       "</table>\n",
       "</div>"
      ],
      "text/plain": [
       "  QUOTE_ACCEPTED_WEEK SHIPMENT_TYPE  COUNT_OF_SHIPMENTS_BOOKED\n",
       "0          2020-02-10          plus                          2\n",
       "1          2020-02-24          plus                          1\n",
       "2          2020-03-02          plus                          4\n",
       "3          2020-03-09          plus                          2\n",
       "4          2020-03-16          plus                          3"
      ]
     },
     "execution_count": 40,
     "metadata": {},
     "output_type": "execute_result"
    }
   ],
   "source": [
    "# the syntax for this part is a bit new, by using 'with' we are opening a file as an object\n",
    "# and defering closing the file till the end of the block.\n",
    "# This ensures we don't forget close the file and leave in local memory.\n",
    "# Since we need to pass a text query to read_sql() we need to apply the read() method on our file object.\n",
    "\n",
    "with open('sql_example.sql', 'r') as sqlfile:\n",
    "    file_text = sqlfile.read()\n",
    "    # now that we've read the file we execute it against our db connection object\n",
    "    df = pd.read_sql(file_text, conn)\n",
    "df.head()"
   ]
  },
  {
   "cell_type": "markdown",
   "metadata": {
    "slideshow": {
     "slide_type": "slide"
    }
   },
   "source": [
    "# Homework\n",
    "If you'd like to dive deeper I suggest this additional interactive site: https://www.learnbyexample.org/\n",
    "\n",
    "Now that we've given you an example you're going to put this all together, we'd like you to do the following. Execute the sql file call `otp.sql` in this repo against a database connection. Then use what we've learned to retrieve a query to a dataframe, modify the data to your needs including applying lambda functions, and then using a `group_by` to determine the OTP of Air Shipments in March of 2020\n",
    "\n",
    "Let's answer some basic question, and then calculate OTP of Air Shipments in March 2020\n",
    "<ul>\n",
    "    <li>How many rows and columns are in the resulting dataframe? What are 2 ways to find this?</li>\n",
    "    <li>How would you rename the columns to more useable headers?</li>\n",
    "        <li>You may have to parse dates!</li>\n",
    "<li>What is the OTP of Air Shipments in March of 2020? Remember lambda functions and the group_by operation!</li>\n",
    "</ul>"
   ]
  },
  {
   "cell_type": "code",
   "execution_count": null,
   "metadata": {},
   "outputs": [],
   "source": []
  }
 ],
 "metadata": {
  "celltoolbar": "Slideshow",
  "kernelspec": {
   "display_name": "Python 3",
   "language": "python",
   "name": "python3"
  },
  "language_info": {
   "codemirror_mode": {
    "name": "ipython",
    "version": 3
   },
   "file_extension": ".py",
   "mimetype": "text/x-python",
   "name": "python",
   "nbconvert_exporter": "python",
   "pygments_lexer": "ipython3",
   "version": "3.7.7"
  }
 },
 "nbformat": 4,
 "nbformat_minor": 4
}
