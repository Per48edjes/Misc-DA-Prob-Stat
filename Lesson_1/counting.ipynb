{
 "cells": [
  {
   "cell_type": "markdown",
   "metadata": {
    "slideshow": {
     "slide_type": "slide"
    }
   },
   "source": [
    "# Counting Tradelanes & Shipments\n",
    "DA Probability & Statistics Learning Series • Pilot Lesson\n",
    "\n",
    "<br>\n",
    "<br>\n",
    "<br>\n",
    "<br>\n",
    "<br>\n",
    "\n",
    "Welcome!\n",
    "\n",
    "*See **#da_prob_stat** for discussion during and after this tutorial.*"
   ]
  },
  {
   "cell_type": "markdown",
   "metadata": {
    "slideshow": {
     "slide_type": "subslide"
    }
   },
   "source": [
    "### Goals\n",
    "\n",
    "- **You**: Learn how to use multiple techniques to solve a problem, think analytically by decomposing a problem, ask good questions, count\n",
    "- **You**: Familiarize yourself with Python's data stack\n",
    "- **You**: Work collaboratively with your team during the breakouts\n",
    "- **You**: Not give up, be humble, ask \\[and give\\] help"
   ]
  },
  {
   "cell_type": "markdown",
   "metadata": {
    "slideshow": {
     "slide_type": "fragment"
    }
   },
   "source": [
    "---\n",
    "- **Me**: Listen and manage the tempo of the lesson during the hour\n",
    "- **Me**: Make sure I know what I'm talking about\n",
    "- **Me**: See if this format works and get your feedback on how things go\n",
    "- **Me**: Enable a discourse, not lecture"
   ]
  },
  {
   "cell_type": "markdown",
   "metadata": {
    "slideshow": {
     "slide_type": "subslide"
    }
   },
   "source": [
    "### Anti-Goals\n",
    "\n",
    "- Go particularly deep on the Python data stack\n",
    "- Do something more sexy or sophisticated or advanced this session\n",
    "- Socially loaf; if it's too easy for you right now, help others!\n",
    "- Try to get through everything if people are getting stuck\n",
    "\n",
    "<br>\n",
    "<br>\n",
    "<br>\n",
    "<br>\n",
    "<br>\n",
    "\n",
    "&rarr; **If you're good with the aforementioned, let's get after it.**"
   ]
  },
  {
   "cell_type": "code",
   "execution_count": null,
   "metadata": {
    "slideshow": {
     "slide_type": "subslide"
    }
   },
   "outputs": [],
   "source": [
    "## Import dependencies \n",
    "from itertools import product\n",
    "from random import randint, seed\n",
    "from collections import Counter\n",
    "from scipy.special import comb\n",
    "from math import factorial\n",
    "\n",
    "# Set the random seed for reproduceable results; no need to alter this\n",
    "seed(2020)"
   ]
  },
  {
   "cell_type": "markdown",
   "metadata": {
    "slideshow": {
     "slide_type": "slide"
    }
   },
   "source": [
    "## Problem\n",
    "\n",
    "Today, we're going to answer a question that Charlotte posed to the `#stat-110` Slack channel the other day:\n",
    "\n",
    "<br>\n",
    "\n",
    "> A client has 6 shipments on 6 tradelanes in a week. If the shipments occur on any of the tradelanes randomly, with all possibilities  equally likely, **what is the probability that some tradelane had more than 2 shipments?**"
   ]
  },
  {
   "cell_type": "markdown",
   "metadata": {
    "slideshow": {
     "slide_type": "subslide"
    }
   },
   "source": [
    "### Initial Thoughts\n",
    "\n",
    "<br>\n",
    "\n",
    "To get the brain warmed-up:\n",
    "\n",
    "- Do you understand the what we're trying to figure out? What clarifying questions should you ask to confirm your understanding?\n",
    "\n",
    "- What are some important assumptions, simplifications, or reductions that might help us solve this problem?\n",
    "\n",
    "- At a high-level, how might you go about trying to solve this problem?"
   ]
  },
  {
   "cell_type": "markdown",
   "metadata": {
    "slideshow": {
     "slide_type": "subslide"
    }
   },
   "source": [
    "> Do you understand the what we're trying to figure out? What clarifying questions should you ask to confirm your understanding?"
   ]
  },
  {
   "cell_type": "markdown",
   "metadata": {
    "slideshow": {
     "slide_type": "fragment"
    }
   },
   "source": [
    "As an example, one outcome might be `(6, 2, 3, 1, 1, 3)`, which can be interpreted as:\n",
    "\n",
    "- the 1st shipment happened on tradelane 6\n",
    "- the 2nd shipment happened on tradelane 2\n",
    "- the 3rd shipment happened on tradelane 3\n",
    "- the 4th shipment happened on tradelane 1\n",
    "- the 5th shipment happened on tradelane 1\n",
    "- the 6th shipment happened on tradelane 3\n",
    "\n",
    "Here's another example: `(4, 6, 2, 6, 2, 4)`\n",
    "\n",
    "**Question**: How would you interpret this outcome?"
   ]
  },
  {
   "cell_type": "markdown",
   "metadata": {
    "slideshow": {
     "slide_type": "subslide"
    }
   },
   "source": [
    "But there are lots of possibilities here, and we only care about those where \"some tradelane had more than 2 shipments.\""
   ]
  },
  {
   "cell_type": "markdown",
   "metadata": {
    "slideshow": {
     "slide_type": "subslide"
    }
   },
   "source": [
    "**Question**: Do the examples we've considered qualify as outcomes where \"some tradelane had more than 2 shipments\"?\n",
    "\n",
    "- `(6, 2, 3, 1, 1, 3)`: yes or no?\n",
    "- `(4, 6, 2, 6, 2, 4)`: yes or no?\n",
    "\n",
    "What about this one?\n",
    "\n",
    "- `(1, 1, 1, 1, 5, 3)`: yes or no?"
   ]
  },
  {
   "cell_type": "markdown",
   "metadata": {
    "slideshow": {
     "slide_type": "subslide"
    }
   },
   "source": [
    "> What are some important assumptions or simplifications or reductions that might help us solve this problem?\n",
    "\n",
    "- We can use the _naïve definition of probability_ since all of the outcomes are equally likely.\n",
    "- There is a certain _symmetry_ to this problem."
   ]
  },
  {
   "cell_type": "markdown",
   "metadata": {
    "slideshow": {
     "slide_type": "subslide"
    }
   },
   "source": [
    "> At a high-level, how might you go about trying to solve this problem?"
   ]
  },
  {
   "cell_type": "markdown",
   "metadata": {
    "slideshow": {
     "slide_type": "fragment"
    }
   },
   "source": [
    "- **Numerically**: You have a computer in front of you, so you could try and write a program that enumerates all the outcomes and then count the ones we care about (or the ones we don't).\n",
    "\n",
    "- **Analytically**: If you felt like you knew how to approach this problem using math, you could do that, too.\n",
    "\n",
    "- **Indraneelly**: You find Indraneel and harass him until he arrives at a solution. "
   ]
  },
  {
   "cell_type": "markdown",
   "metadata": {
    "slideshow": {
     "slide_type": "subslide"
    }
   },
   "source": [
    "Great! You understand our objective and the context of the problem."
   ]
  },
  {
   "cell_type": "markdown",
   "metadata": {
    "slideshow": {
     "slide_type": "subslide"
    }
   },
   "source": [
    "**Question**: What other, similar problem is this one like? (*Hint*: Think about rolling a die.)\n",
    "\n",
    "*Fun Fact*: In math-speak, problems that have the same structure are called *isomorphic*."
   ]
  },
  {
   "cell_type": "markdown",
   "metadata": {
    "slideshow": {
     "slide_type": "fragment"
    }
   },
   "source": [
    "**Answer**:\n",
    "\n",
    "This experiment is just like rolling a fair, six-sided die 6 times! Each outcome is comprised of the numbers the die landed on for each of the 6 rolls.\n",
    "\n",
    "Taking an example outcome, `(6, 2, 3, 1, 1, 3)`, this can be interpreted as:\n",
    "\n",
    "- Roll a $6$\n",
    "- Roll a $2$\n",
    "- Roll a $3$\n",
    "- Roll a $1$\n",
    "- Roll a $1$\n",
    "- Roll a $3$\n",
    "\n",
    "...but this is the same as assigning shipments (each element/slot in the tuple) to tradelanes (the numbers filling the slots)!"
   ]
  },
  {
   "cell_type": "markdown",
   "metadata": {
    "slideshow": {
     "slide_type": "slide"
    }
   },
   "source": [
    "## Enumerating Outcomes\n",
    "\n",
    "<br>\n",
    "<br>\n",
    "<br>\n",
    "\n",
    "**TODO**: First, generate all of the possible outcomes as a tuple of length 6. Each element in the tuple is a shipment, and the number comprising that element is the tradelane where the shipment occurred."
   ]
  },
  {
   "cell_type": "code",
   "execution_count": null,
   "metadata": {
    "slideshow": {
     "slide_type": "subslide"
    }
   },
   "outputs": [],
   "source": [
    "## Generate the full set of possible outcomes\n",
    "tradelanes = 6\n",
    "shipments = 6\n",
    "\n",
    "# TODO: Get a list of tuples enumerating all possible outcomes\n",
    "outcomes = \n",
    "\n",
    "## Print a few example outcomes\n",
    "num_sample_outcomes = 5\n",
    "examples_idx = [randint(0, len(outcomes)-1) for x in range(num_sample_outcomes)] \n",
    "for example in examples_idx:\n",
    "    print(outcomes[example])"
   ]
  },
  {
   "cell_type": "markdown",
   "metadata": {
    "slideshow": {
     "slide_type": "subslide"
    }
   },
   "source": [
    "**Question**: How many possible outcomes are there?"
   ]
  },
  {
   "cell_type": "markdown",
   "metadata": {
    "slideshow": {
     "slide_type": "subslide"
    }
   },
   "source": [
    "**Answer**:\n",
    "\n",
    "We can see by the multiplication rule that there are $6^6$ possible outcomes:\n",
    "\n",
    "$$\n",
    "|S| = 6 \\cdot 6 \\cdot 6 \\cdot 6 \\cdot 6 \\cdot 6\n",
    "$$\n",
    "\n",
    "This makes sense since each shipment can be any one of the 6 tradelanes and there are 6 shipments. \n",
    "\n",
    "<br>\n",
    "\n",
    "**Note**: The bars around an event, like above $|S|$, indicate the _cardinality_ of the event, or how many outcomes qualify as that event."
   ]
  },
  {
   "cell_type": "markdown",
   "metadata": {
    "slideshow": {
     "slide_type": "subslide"
    }
   },
   "source": [
    "**Note**: $S$ is the _sample space_ of this experiment, i.e., the set of all possible _outcomes_. An _event_ is a subset of the _sample space_.\n",
    "\n",
    "<br>\n",
    "<div>\n",
    "<img src=\"./pebble_world.png\" width=\"800\"/>\n",
    "</div>"
   ]
  },
  {
   "cell_type": "markdown",
   "metadata": {
    "slideshow": {
     "slide_type": "subslide"
    }
   },
   "source": [
    "Now, let's check that our analytical answer matches our numerical answer."
   ]
  },
  {
   "cell_type": "code",
   "execution_count": null,
   "metadata": {
    "slideshow": {
     "slide_type": "fragment"
    }
   },
   "outputs": [],
   "source": [
    "# S = number of all possible outcomes\n",
    "S = 6**6\n",
    "print(f\"Analytical approach: |S| = {S}\")\n",
    "print(f\"Numerical approach: |S| = {len(outcomes)}\")"
   ]
  },
  {
   "cell_type": "markdown",
   "metadata": {
    "slideshow": {
     "slide_type": "slide"
    }
   },
   "source": [
    " ## Understanding the event we care about\n",
    "\n",
    "Now, let's make sure we understand what \"some tradelanes have more than 2 shipments\" means.\n",
    "\n",
    "_Some_ means \"at least one\" (in math-speak this is the same thing as \"there exists\" or $\\exists$). \n",
    "\n",
    "So **the outcomes we're interested in have _at least one_ tradelane with more than 2 shipments**. This means _at least one_ tradelane has _3 or more_ shipments, for example: \n",
    "\n",
    "- `(5, 5, 5, 3, 2, 4)`\n",
    "- `(1, 1, 1, 5, 5, 5)`\n",
    "- `(6, 6, 6, 3, 6, 2)`\n",
    "- `(2, 2, 2, 2, 2, 2)`\n",
    "- etc."
   ]
  },
  {
   "cell_type": "markdown",
   "metadata": {
    "slideshow": {
     "slide_type": "slide"
    }
   },
   "source": [
    "### General Strategy: Complement\n",
    "\n",
    "Writing out all of the outcomes we're interested is really onerous (read: don't do this), so let's **try obtaining the *complement* of the event we care about**, which contains the outcomes we *don't* care about.\n",
    "\n",
    "Notice:\n",
    "\n",
    "$$\n",
    "\\neg (some\\:\\text{tradelanes have}\\: \\gt\\: 2\\: \\text{shipments}) \\equiv all\\:\\text{tradelanes have} \\le 2\\: \\text{shipments}\n",
    "$$\n",
    "\n",
    "![Complement](https://www.probabilitycourse.com/images/chapter1/complement_b.png)\n",
    "\n",
    "The grey shaded region is the _complement_ of $A$, often denoted $A^c$."
   ]
  },
  {
   "cell_type": "markdown",
   "metadata": {
    "slideshow": {
     "slide_type": "subslide"
    }
   },
   "source": [
    "**Question**: How would I negate the following statement?\n",
    "\n",
    "> All Data Analysts at Flexport from Georgia are cool."
   ]
  },
  {
   "cell_type": "markdown",
   "metadata": {
    "slideshow": {
     "slide_type": "subslide"
    }
   },
   "source": [
    "**Answer**:\n",
    "\n",
    "> _Some_ Data Analysts from Georgia are _not_ cool."
   ]
  },
  {
   "cell_type": "markdown",
   "metadata": {
    "slideshow": {
     "slide_type": "fragment"
    }
   },
   "source": [
    "![We love Catherine anyways. Because Taro.](https://pbs.twimg.com/profile_images/413070386989776896/dIg6_foT_400x400.png)"
   ]
  },
  {
   "cell_type": "markdown",
   "metadata": {
    "slideshow": {
     "slide_type": "slide"
    }
   },
   "source": [
    "## Solving Numerically\n",
    "\n",
    "Let's first start by counting the number of times a tradelane is used among the 6 shipments _for each outcome_.\n",
    "\n",
    "**Examples**:\n",
    "- If a given outcome is `(6, 3, 4, 1, 4, 2)`, I want to count two 4's, one 6, one 3, one 1, and one 2.\n",
    "- If a given outcome is `(1, 4, 4, 5, 4, 4)`, I want to count four 4's, one 5, and one 1.\n"
   ]
  },
  {
   "cell_type": "code",
   "execution_count": null,
   "metadata": {
    "slideshow": {
     "slide_type": "subslide"
    }
   },
   "outputs": [],
   "source": [
    "## TODO: Count the number of shipments on each tradelane for every outcome\n",
    "# SUGGESTION: Make a list of Counter objects so we can print a few out\n",
    "# to ensure that we are counting shipments per tradelane per outcome correctly\n",
    "outcome_counts = \n",
    "\n",
    "## TODO: Print a few examples\n",
    "# Comment out the code below if you did something different vs. the SUGGESTION above\n",
    "for example in examples_idx:\n",
    "    print(outcome_counts[example])"
   ]
  },
  {
   "cell_type": "markdown",
   "metadata": {
    "slideshow": {
     "slide_type": "subslide"
    }
   },
   "source": [
    "### Complement Method\n",
    "**TODO**: Below, count the outcomes we are _not_ interested in...and then subtract this from the number of all possible outcomes.\n",
    "\n",
    "This would leave us the the number of outcomes we _are_ interested in!"
   ]
  },
  {
   "cell_type": "code",
   "execution_count": null,
   "metadata": {
    "slideshow": {
     "slide_type": "subslide"
    }
   },
   "outputs": [],
   "source": [
    "## TODO: Find the outcomes we're NOT interested in\n",
    "\n",
    "\n",
    "## TODO: Save the outcomes we DO NOT care about to a list\n",
    "not_outcomes_of_interest = \n",
    "\n",
    "# Count the number of outcomes we DO care about\n",
    "print(f\"{S-len(not_outcomes_of_interest)} outcomes having some tradelanes have more than 2 shipments\")\n",
    "\n",
    "## TODO: Calculate probability of the complement\n",
    "p_event_we_dont_want = \n",
    "print(f\"P(some tradelanes have more than 2 shipments) = {1-p_event_we_dont_want:.4f}\")"
   ]
  },
  {
   "cell_type": "markdown",
   "metadata": {
    "slideshow": {
     "slide_type": "subslide"
    }
   },
   "source": [
    "### Direct Counting Method (Check)\n",
    "This way is a good check to see if our strategy is right. \n",
    "\n",
    "**TODO**: Counting the outcomes we care about directly."
   ]
  },
  {
   "cell_type": "code",
   "execution_count": null,
   "metadata": {
    "slideshow": {
     "slide_type": "subslide"
    }
   },
   "outputs": [],
   "source": [
    "## TODO: Find the outcomes where the number of shipments in some tradelane is > 2\n",
    "\n",
    "\n",
    "## TODO: Save the outcomes we DO care about to a list\n",
    "outcomes_of_interest = \n",
    "\n",
    "# Count the number of outcomes we DO care about\n",
    "print(f\"{len(outcomes_of_interest)} outcomes having some tradelanes have more than 2 shipments\")\n",
    "\n",
    "## TODO: Calculate probability\n",
    "p_event_we_want = \n",
    "print(f\"P(some tradelanes have more than 2 shipments) = {p_event_we_want:.4f}\")"
   ]
  },
  {
   "cell_type": "markdown",
   "metadata": {
    "slideshow": {
     "slide_type": "slide"
    }
   },
   "source": [
    "## Solving Analytically\n",
    "Everything we've done above has been pretty \"brute force.\" Let's see if we can reason our way through this problem.\n",
    "\n",
    "**Question**: How would you break this problem down into smaller, bite-size pieces? (*Hint*: Think about partitioning the sample space $S$ into MECE parts.)"
   ]
  },
  {
   "cell_type": "markdown",
   "metadata": {
    "slideshow": {
     "slide_type": "subslide"
    }
   },
   "source": [
    "**Answer**:\n",
    "\n",
    "First, let's break the outcomes into two disjoint events: \n",
    "\n",
    "1. $R$ is the event some tradelanes have more than 2 shipments\n",
    "2. $R^c$ is the event all tradelanes have 2 or fewer shipments. ($R^c$ is the complement of $R$)\n",
    "\n",
    "<br>\n",
    "\n",
    "**Note**: This is called a _partition_ of the sample space. We have partitioned it into mutually exclusive events, i.e., $S = R \\cup R^c$. This also means the the $P(R) + P(R^c) = 1$. (Think about why $P(S) = 1$.)"
   ]
  },
  {
   "cell_type": "markdown",
   "metadata": {
    "slideshow": {
     "slide_type": "fragment"
    }
   },
   "source": [
    "$R^c$ can be further broken into two disjoint events: \n",
    "\n",
    "- the event that all tradelanes have no more than 1 shipment, $R^c_1$\n",
    "- the event that some tradelanes have 2 shipments (but not more), $R^c_2$\n",
    "\n",
    "**Note**: We've taken a partition of $R^c$ -- we've taken a partition of a partition.\n",
    "\n",
    "$$\n",
    "S = R \\cup R^c\n",
    "$$\n",
    "$$\n",
    "R^c = R^c_1 \\cup R^c_2\n",
    "$$\n",
    "$$\n",
    "\\therefore S = R \\cup (R^c_1 \\cup R^c_2) = R \\cup R^c_1 \\cup R^c_2\n",
    "$$"
   ]
  },
  {
   "cell_type": "markdown",
   "metadata": {
    "slideshow": {
     "slide_type": "subslide"
    }
   },
   "source": [
    "**Question**: Let's start with $R^c_1$. How many ways can each tradelane have exactly one shipment?"
   ]
  },
  {
   "cell_type": "code",
   "execution_count": null,
   "metadata": {
    "slideshow": {
     "slide_type": "fragment"
    }
   },
   "outputs": [],
   "source": [
    "## TODO: Calculate the number of outcomes where each tradelane has exactly one shipment\n",
    "R_c_1 = \n",
    "print(R_c_1)"
   ]
  },
  {
   "cell_type": "markdown",
   "metadata": {
    "slideshow": {
     "slide_type": "subslide"
    }
   },
   "source": [
    "Now, we need to tackle the harder case, $R^c_2$: where some tradelane has _exactly_ 2 shipments.\n",
    "\n",
    "**Question**: How would you break this case into smaller cases?"
   ]
  },
  {
   "cell_type": "markdown",
   "metadata": {
    "slideshow": {
     "slide_type": "fragment"
    }
   },
   "source": [
    "**Answer**:\n",
    "\n",
    "To do this, we break this into the all of the ways at least 1 tradelane could have 2 shipments:\n",
    "\n",
    "- 1 tradelane has two shipments, 4 tradelanes remaining have one shipment\n",
    "- 2 tradelanes have two shipments, 2 tradelanes remaining have one shipment\n",
    "- 3 tradelanes have two shipments, 0 tradelanes remaining have one shipment\n",
    "\n",
    "We can see the form the above cases take:\n",
    "\n",
    "**$k$ tradelanes has/have two shipments, $6-2k$ tradelanes remaining have one shipment**"
   ]
  },
  {
   "cell_type": "markdown",
   "metadata": {
    "slideshow": {
     "slide_type": "slide"
    }
   },
   "source": [
    "### Solution\n",
    "In this section, you cannot rely on the \"brute force\" method from above. \n",
    "\n",
    "**TODO**: Find the answer to the problem analytically. You can use the imported functions (i.e., `factorial` and `comb`) to do the computation."
   ]
  },
  {
   "cell_type": "code",
   "execution_count": null,
   "metadata": {
    "slideshow": {
     "slide_type": "subslide"
    }
   },
   "outputs": [],
   "source": [
    "## TODO: Calculate each of the parts of R_c_2\n",
    "\n",
    "# 1 tradelane has two shipments, the remaining 4 have one shipment\n",
    "R_c_2_a = \n",
    "\n",
    "# 2 tradelanes have two shipments, the remaining 2 have one shipment\n",
    "R_c_2_b = \n",
    "\n",
    "# 3 tradelanes have two shipments, the remaining 0 have one shipment\n",
    "R_c_2_c = \n",
    "\n",
    "# Calculate R_c_2\n",
    "R_c_2 = int(R_c_2_a) + int(R_c_2_b) + int(R_c_2_c)\n",
    "\n",
    "# TODO: Calculate R_c\n",
    "R_c = \n",
    "\n",
    "## Convert events to probabilities\n",
    "p_R_c = R_c / S\n",
    "\n",
    "# Find the complement of R_c, which is R\n",
    "answer = 1 - p_R_c\n",
    "\n",
    "# Calculate probability\n",
    "print(f\"P(some tradelanes have more than 2 shipments) = {answer:.4f}\")"
   ]
  },
  {
   "cell_type": "markdown",
   "metadata": {
    "slideshow": {
     "slide_type": "skip"
    }
   },
   "source": [
    "**Note**: This should match your answer from above."
   ]
  }
 ],
 "metadata": {
  "celltoolbar": "Slideshow",
  "kernelspec": {
   "display_name": "Python 3",
   "language": "python",
   "name": "python3"
  },
  "language_info": {
   "codemirror_mode": {
    "name": "ipython",
    "version": 3
   },
   "file_extension": ".py",
   "mimetype": "text/x-python",
   "name": "python",
   "nbconvert_exporter": "python",
   "pygments_lexer": "ipython3",
   "version": "3.7.6"
  },
  "livereveal": {
   "scroll": true
  }
 },
 "nbformat": 4,
 "nbformat_minor": 4
}
