{
 "cells": [
  {
   "cell_type": "markdown",
   "metadata": {
    "slideshow": {
     "slide_type": "slide"
    }
   },
   "source": [
    "# Data Visualization in Python \n",
    "DA Probability & Statistics Learning Series • Python Lesson 2\n",
    "\n",
    "<img src=\"https://pyxis.nymag.com/v1/imgs/0c1/267/38d1f78b4d3b94bd1b630ed7f810f3504b-07-softbank-group-05.2x.rhorizontal.w700.jpg\" align=\"center\" height=\"400\" width=\"600\"/>\n",
    "\n",
    "There's always something to learn from our fellow Vision Fund portfolio companies...\n",
    "\n",
    "*See **#da_prob_stat** for discussion during and after this tutorial.*\n"
   ]
  },
  {
   "cell_type": "markdown",
   "metadata": {
    "slideshow": {
     "slide_type": "slide"
    }
   },
   "source": [
    "## Goals\n",
    "\n",
    "- Understand the basic tools available to visualize data in Python\n",
    "- Create wrapper functions around existing visualization functions to make it easier to use them\n",
    "- Revisit linear regression and the intuition behind it\n",
    "- Learn to visualize regressions in Python\n",
    "- Give Shreyas a shot at being the TA he never was"
   ]
  },
  {
   "cell_type": "markdown",
   "metadata": {
    "slideshow": {
     "slide_type": "slide"
    }
   },
   "source": [
    "## Setup ⚙️"
   ]
  },
  {
   "cell_type": "code",
   "execution_count": 32,
   "metadata": {
    "slideshow": {
     "slide_type": "fragment"
    }
   },
   "outputs": [],
   "source": [
    "# Import dependencies\n",
    "from db_utils import get_connection, get_data\n",
    "import pandas as pd\n",
    "import datetime\n",
    "\n",
    "# Data viz\n",
    "import matplotlib.pyplot as plt\n",
    "from matplotlib.ticker import PercentFormatter\n",
    "import seaborn as sns\n",
    "\n",
    "# Regression\n",
    "from sklearn.model_selection import train_test_split \n",
    "from sklearn.linear_model import LinearRegression\n",
    "from sklearn import metrics"
   ]
  },
  {
   "cell_type": "markdown",
   "metadata": {},
   "source": [
    "_Note that we are importing a new function called `get_data()` from `db_utils`. This is a wrapper around the the `pd.read_sql()` function you've seen before. Type `get_data()` and hit `Shift+Tab` to see how it works._"
   ]
  },
  {
   "cell_type": "markdown",
   "metadata": {},
   "source": [
    "### Throwback ⏪\n",
    "\n",
    "In the homework from the previous Python lesson, we calculated the OTP of Air shipments in March 2020"
   ]
  },
  {
   "cell_type": "code",
   "execution_count": 6,
   "metadata": {},
   "outputs": [],
   "source": [
    "# Get the database connection and cursor objects\n",
    "conn, cur = get_connection()\n",
    "\n",
    "# Get data from the otp.sql file\n",
    "hw_df = get_data('otp.sql', 'file', conn)\n",
    "\n",
    "# Rename column headers\n",
    "hw_df.columns = [\n",
    "    'shipment_id', \n",
    "    'completion_date', \n",
    "    'mode_blended', \n",
    "    'transit_on_time', \n",
    "    'all_transit_milestones_completed'\n",
    "]"
   ]
  },
  {
   "cell_type": "code",
   "execution_count": 7,
   "metadata": {},
   "outputs": [],
   "source": [
    "# Create an int version of transit_on_time and convert completion date from string to date\n",
    "hw_df['transit_on_time'] = hw_df['transit_on_time'].apply(lambda x: x == 'True')\n",
    "hw_df['transit_on_time_int'] = hw_df['transit_on_time'].apply(lambda x: int(x))\n",
    "\n",
    "hw_df['completion_dt'] = [datetime.datetime.strptime(i, '%Y-%m-%d') for i in hw_df['completion_date']]\n",
    "hw_df['completion_month'] = hw_df['completion_dt'].dt.month\n",
    "hw_df['completion_year'] = hw_df['completion_dt'].dt.year"
   ]
  },
  {
   "cell_type": "code",
   "execution_count": 13,
   "metadata": {},
   "outputs": [
    {
     "name": "stdout",
     "output_type": "stream",
     "text": [
      "Air Shipments OTP - March 2020: 36.0%\n"
     ]
    }
   ],
   "source": [
    "air_march_otp = \\\n",
    "hw_df[\n",
    "    (hw_df['all_transit_milestones_completed'] == 'Yes') &\n",
    "    (hw_df['completion_month'] == 3) &\n",
    "    (hw_df['completion_year'] == 2020) &\n",
    "    (hw_df['mode_blended'] == 'Air')\n",
    "].\\\n",
    "groupby(by=['mode_blended', 'completion_month', 'completion_year']).\\\n",
    "agg({'transit_on_time_int' : 'mean'}).\\\n",
    "reset_index()\n",
    "\n",
    "air_march_otp.columns = ['mode', 'month', 'year', 'otp_percent']\n",
    "\n",
    "print(f'Air Shipments OTP - March 2020: {air_march_otp.loc[0,\"otp_percent\"]*100}%')"
   ]
  },
  {
   "cell_type": "markdown",
   "metadata": {},
   "source": [
    "## Motivating Question 🤔\n",
    "\n",
    "> What has OTP looked like for Air shipments over the course of 2020? Have things gotten better since Nate joined the team?"
   ]
  },
  {
   "cell_type": "code",
   "execution_count": 14,
   "metadata": {},
   "outputs": [],
   "source": [
    "air_otp = \\\n",
    "hw_df[\n",
    "    (hw_df['all_transit_milestones_completed'] == 'Yes') &\n",
    "    (hw_df['mode_blended'] == 'Air')\n",
    "].\\\n",
    "groupby(by=['mode_blended', 'completion_month', 'completion_year']).\\\n",
    "agg({'transit_on_time_int' : 'mean'}).\\\n",
    "reset_index()\n",
    "\n",
    "air_otp.columns = ['mode', 'month', 'year', 'otp_percent']"
   ]
  },
  {
   "cell_type": "code",
   "execution_count": 15,
   "metadata": {},
   "outputs": [
    {
     "data": {
      "text/plain": [
       "<matplotlib.axes._subplots.AxesSubplot at 0x10f512950>"
      ]
     },
     "execution_count": 15,
     "metadata": {},
     "output_type": "execute_result"
    },
    {
     "data": {
      "image/png": "[encoded data removed]",
      "text/plain": [
       "<Figure size 432x288 with 1 Axes>"
      ]
     },
     "metadata": {
      "needs_background": "light"
     },
     "output_type": "display_data"
    }
   ],
   "source": [
    "air_otp.plot('month', 'otp_percent')"
   ]
  },
  {
   "cell_type": "markdown",
   "metadata": {},
   "source": [
    "And there's our first chart! It's a pretty 💩chart but it's a chart nonetheless... Also, Nate has evidently had a **HUGE** impact on the team in just a few months of being here.\n",
    "<br>\n",
    "But...\n",
    "<br>\n",
    "What even is this chart..."
   ]
  },
  {
   "cell_type": "markdown",
   "metadata": {},
   "source": [
    "### Open Questions ❓\n",
    "- How does `.plot()` work?\n",
    "- Shreyas can you **please** label your axes for me?\n",
    "- Why does this chart look so 💩?\n",
    "\n",
    "Let's dive in!"
   ]
  },
  {
   "cell_type": "markdown",
   "metadata": {},
   "source": [
    "## Tools for Data Visualization\n",
    "\n",
    "> Great leaders don't blame the tools they are given. They work to sharpen them. - _Simon Sinek_\n",
    "\n",
    "There are several tools we could use for data viz in Python, including `matplotlib`, `seaborn`, `plotly`, and `bokeh`. They're all quriky in their own ways though, and as analysts, we need to know how to make them work for us.\n",
    "\n",
    "In this session, we will grapple with two modules: `matplotlib.pyplot` and `seaborn`."
   ]
  },
  {
   "cell_type": "markdown",
   "metadata": {},
   "source": [
    "_Aside: I personally always get confused between `Module`, `Package`, and `Library`. Here's what the [internet](https://www.quora.com/What-is-the-difference-between-Python-modules-packages-libraries-and-frameworks) says:_\n",
    "- **`Module`**: Any `.py` file that contains functions, Classes, global variables, etc. is considered a `module`. We've seen these before a lot: `pandas`, `numpy`, `datetime`, and even the custom created `db_utils` are all `modules`.\n",
    "- **`Package`/`Library`**: In Python, these are synonymous. They are directories of other `packages`/`libraries` and `modules` that organize related tools and files in the same place. \n",
    "    - We can use the command `import library_name` to get all the packages residing within `library_name`\n",
    "    - We can also use the command `import library_name.module_name` or `from library_name import module_name` to access a specific `module` in a `library`"
   ]
  },
  {
   "cell_type": "code",
   "execution_count": null,
   "metadata": {},
   "outputs": [],
   "source": []
  },
  {
   "cell_type": "markdown",
   "metadata": {},
   "source": [
    "###"
   ]
  },
  {
   "cell_type": "code",
   "execution_count": 24,
   "metadata": {},
   "outputs": [
    {
     "data": {
      "image/png": "[encoded data removed]",
      "text/plain": [
       "<Figure size 576x288 with 1 Axes>"
      ]
     },
     "metadata": {
      "needs_background": "light"
     },
     "output_type": "display_data"
    }
   ],
   "source": [
    "fig, ax = plt.subplots(1, 1, figsize=(8,4))"
   ]
  }
 ],
 "metadata": {
  "kernelspec": {
   "display_name": "Python 3",
   "language": "python",
   "name": "python3"
  },
  "language_info": {
   "codemirror_mode": {
    "name": "ipython",
    "version": 3
   },
   "file_extension": ".py",
   "mimetype": "text/x-python",
   "name": "python",
   "nbconvert_exporter": "python",
   "pygments_lexer": "ipython3",
   "version": "3.7.5"
  }
 },
 "nbformat": 4,
 "nbformat_minor": 4
}
