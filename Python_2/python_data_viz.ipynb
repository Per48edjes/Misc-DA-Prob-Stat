{
 "cells": [
  {
   "cell_type": "markdown",
   "metadata": {
    "slideshow": {
     "slide_type": "slide"
    }
   },
   "source": [
    "# Data Visualization in Python \n",
    "DA Probability & Statistics Learning Series • Python Lesson 2\n",
    "\n",
    "<img src=\"https://pyxis.nymag.com/v1/imgs/0c1/267/38d1f78b4d3b94bd1b630ed7f810f3504b-07-softbank-group-05.2x.rhorizontal.w700.jpg\" align=\"center\" height=\"400\" width=\"600\"/>\n",
    "\n",
    "There's always something to learn from our fellow Vision Fund portfolio companies...\n",
    "\n",
    "*See **#da_prob_stat** for discussion during and after this tutorial.*\n"
   ]
  },
  {
   "cell_type": "markdown",
   "metadata": {
    "slideshow": {
     "slide_type": "slide"
    }
   },
   "source": [
    "## Goals\n",
    "\n",
    "- Understand the basic tools available to visualize data in Python\n",
    "- Create wrapper functions around existing visualization functions to make it easier to use them\n",
    "- Learn to perfrom EDA with data viz in Python\n",
    "- Give Shreyas a shot at being the TA he never was"
   ]
  },
  {
   "cell_type": "markdown",
   "metadata": {
    "slideshow": {
     "slide_type": "slide"
    }
   },
   "source": [
    "## Setup ⚙️"
   ]
  },
  {
   "cell_type": "code",
   "execution_count": 39,
   "metadata": {
    "slideshow": {
     "slide_type": "fragment"
    }
   },
   "outputs": [],
   "source": [
    "# Import dependencies\n",
    "from db_utils import get_connection, get_data\n",
    "import pandas as pd\n",
    "import datetime\n",
    "\n",
    "# Data viz\n",
    "%matplotlib inline\n",
    "import matplotlib.pyplot as plt\n",
    "from matplotlib import figure, axes\n",
    "from matplotlib.ticker import PercentFormatter\n",
    "import seaborn as sns"
   ]
  },
  {
   "cell_type": "markdown",
   "metadata": {},
   "source": [
    "_Note that we are importing a new function called `get_data()` from `db_utils`. This is a wrapper around the the `pd.read_sql()` function you've seen before. Type `get_data()` and hit `Shift+Tab` to see how it works._"
   ]
  },
  {
   "cell_type": "markdown",
   "metadata": {},
   "source": [
    "**WARM UP:** Complete `get_data()` function"
   ]
  },
  {
   "cell_type": "markdown",
   "metadata": {},
   "source": [
    "def get_data(input_source, input_type, conn):\n",
    "    \"\"\"\n",
    "    Function to get data from a .sql file or SQL query string input\n",
    "\n",
    "    Parameters\n",
    "    ---\n",
    "    input_source\n",
    "        Either a string with a valid SQL query or a .sql file\n",
    "\n",
    "    input_type\n",
    "        'file' if input is a .sql file; 'text' if input is  a string\n",
    "\n",
    "    conn\n",
    "        Connector object returned by get_connection() function\n",
    "    \"\"\"\n",
    "\n",
    "    if input_type == 'text':\n",
    "        # Use the read_sql method to get the data from Snowflake into a Pandas dataframe\n",
    "        df = #pd.read(input_source, conn)\n",
    "\n",
    "    if input_type == 'file':\n",
    "        # Open the input_source file using the 'with' clause\n",
    "        with #open(input_source, 'r') as q:\n",
    "\n",
    "            # Save contents of input_source as a string in query_str\n",
    "            query_str = #q.read()\n",
    "\n",
    "            # Use the read_sql method to get the data from Snowflake into a Pandas dataframe\n",
    "            df = #pd.read_sql(query_str, conn)\n",
    "\n",
    "    # Make all the columns of the dataframe lowercase\n",
    "    df.columns = map(str.lower, df.columns)\n",
    "\n",
    "    return df"
   ]
  },
  {
   "cell_type": "markdown",
   "metadata": {},
   "source": [
    "### Throwback ⏪\n",
    "\n",
    "In the homework from the previous Python lesson, we calculated the OTP of Air shipments in March 2020"
   ]
  },
  {
   "cell_type": "code",
   "execution_count": 24,
   "metadata": {},
   "outputs": [
    {
     "name": "stdout",
     "output_type": "stream",
     "text": [
      "Initiating login request with your identity provider. A browser window should have opened for you to complete the login. If you can't see it, check existing browser windows, or your OS settings. Press CTRL+C to abort and try again...\n"
     ]
    }
   ],
   "source": [
    "# Get the database connection and cursor objects\n",
    "conn, cur = get_connection()\n",
    "\n",
    "# Get data from the otp.sql file\n",
    "hw_df = get_data('otp.sql', 'file', conn)\n",
    "\n",
    "# Rename column headers\n",
    "hw_df.columns = [\n",
    "    'shipment_id', \n",
    "    'completion_date', \n",
    "    'mode_blended', \n",
    "    'transit_on_time', \n",
    "    'all_transit_milestones_completed'\n",
    "]"
   ]
  },
  {
   "cell_type": "code",
   "execution_count": 25,
   "metadata": {},
   "outputs": [],
   "source": [
    "# Create an int version of transit_on_time and convert completion date from string to date\n",
    "hw_df['transit_on_time'] = hw_df['transit_on_time'].apply(lambda x: x == 'True')\n",
    "hw_df['transit_on_time_int'] = hw_df['transit_on_time'].apply(lambda x: int(x))\n",
    "\n",
    "hw_df['completion_dt'] = [datetime.datetime.strptime(i, '%Y-%m-%d') for i in hw_df['completion_date']]\n",
    "hw_df['completion_month'] = hw_df['completion_dt'].dt.month\n",
    "hw_df['completion_year'] = hw_df['completion_dt'].dt.year"
   ]
  },
  {
   "cell_type": "code",
   "execution_count": 26,
   "metadata": {},
   "outputs": [
    {
     "name": "stdout",
     "output_type": "stream",
     "text": [
      "Air Shipments OTP - March 2020: 36.0%\n"
     ]
    }
   ],
   "source": [
    "air_march_otp = \\\n",
    "hw_df[\n",
    "    (hw_df['all_transit_milestones_completed'] == 'Yes') &\n",
    "    (hw_df['completion_month'] == 3) &\n",
    "    (hw_df['completion_year'] == 2020) &\n",
    "    (hw_df['mode_blended'] == 'Air')\n",
    "].\\\n",
    "groupby(by=['mode_blended', 'completion_month', 'completion_year']).\\\n",
    "agg({'transit_on_time_int' : 'mean'}).\\\n",
    "reset_index()\n",
    "\n",
    "air_march_otp.columns = ['mode', 'month', 'year', 'otp_percent']\n",
    "\n",
    "print(f'Air Shipments OTP - March 2020: {air_march_otp.loc[0,\"otp_percent\"]*100}%')"
   ]
  },
  {
   "cell_type": "markdown",
   "metadata": {},
   "source": [
    "## Motivating Question 🤔\n",
    "\n",
    "> What has OTP looked like for Air shipments over the course of 2020? Have things gotten better since Nate joined the team?"
   ]
  },
  {
   "cell_type": "markdown",
   "metadata": {},
   "source": [
    "**TODO**: Create dataframe for overtime plot"
   ]
  },
  {
   "cell_type": "code",
   "execution_count": 27,
   "metadata": {},
   "outputs": [],
   "source": [
    "air_otp = \\\n",
    "hw_df[\n",
    "    (hw_df['all_transit_milestones_completed'] == 'Yes') &\n",
    "    (hw_df['mode_blended'] == 'Air')\n",
    "].\\\n",
    "groupby(by=['mode_blended', 'completion_month', 'completion_year']).\\\n",
    "agg({'transit_on_time_int' : 'mean'}).\\\n",
    "reset_index()\n",
    "\n",
    "air_otp.columns = ['mode', 'month', 'year', 'otp_percent']"
   ]
  },
  {
   "cell_type": "code",
   "execution_count": 28,
   "metadata": {},
   "outputs": [
    {
     "data": {
      "text/plain": [
       "<matplotlib.axes._subplots.AxesSubplot at 0x12168b350>"
      ]
     },
     "execution_count": 28,
     "metadata": {},
     "output_type": "execute_result"
    },
    {
     "data": {
      "image/png": "[encoded data removed]",
      "text/plain": [
       "<Figure size 432x288 with 1 Axes>"
      ]
     },
     "metadata": {
      "needs_background": "light"
     },
     "output_type": "display_data"
    }
   ],
   "source": [
    "air_otp.plot('month', 'otp_percent')"
   ]
  },
  {
   "cell_type": "markdown",
   "metadata": {},
   "source": [
    "And there's our first chart! It's not a pretty chart but it's a chart nonetheless... Also, Nate has evidently had a **HUGE** impact on the team in just a few months of being here."
   ]
  },
  {
   "cell_type": "markdown",
   "metadata": {},
   "source": [
    "### Open Questions ❓\n",
    "- How does `.plot()` work?\n",
    "- Shreyas can you **please** label your axes for me?\n",
    "- Why does this chart look so 💩?\n",
    "\n",
    "Let's dive in!"
   ]
  },
  {
   "cell_type": "markdown",
   "metadata": {},
   "source": [
    "## Tools for Data Visualization 📈\n",
    "\n",
    "> Great leaders don't blame the tools they are given. They work to sharpen them. - _Simon Sinek_\n",
    "\n",
    "There are several tools we could use for data viz in Python, including `matplotlib`, `seaborn`, `plotly`, and `bokeh`. They're all quriky in their own ways though, and as analysts, we need to know how to make them work for us.\n",
    "\n",
    "In this session, we will grapple with the the `matplotlib` package."
   ]
  },
  {
   "cell_type": "markdown",
   "metadata": {},
   "source": [
    "_Aside: I personally always get confused between `Module`, `Package`, and `Library`. Here's what the [internet](https://www.quora.com/What-is-the-difference-between-Python-modules-packages-libraries-and-frameworks) says:_\n",
    "- **Module**: Any `.py` file that contains functions, Classes, global variables, etc. is considered a _module_. We've seen these before a lot: `pandas`, `numpy`, `datetime`, and even the custom created `db_utils` are all _modules_.\n",
    "- **Package/Library**: In Python, these are synonymous. They are directories of other _packages/libraries_ and _modules_ that consolidate related tools and files in the same place. \n",
    "    - We can use the command `import library_name` to get all the _packages_ residing within `library_name`\n",
    "    - We can also use the command `import library_name.module_name` or `from library_name import module_name` to access a specific _module_ in a _library_"
   ]
  },
  {
   "cell_type": "markdown",
   "metadata": {},
   "source": [
    "## Matplotlib 📚\n",
    "\n",
    "`matplotlib` is arguably the most popular and versatile visualization library in Python. It's built off `numpy` and is ideal for 2D plotting. It takes an object oriented approach to visualizing data, similar to how `pandas` uses object oriented methods to create tables."
   ]
  },
  {
   "cell_type": "markdown",
   "metadata": {},
   "source": [
    "In `pandas`, we instantiate an object of class `DataFrame` each time we want to create a table from a dictionary ro `csv` file or `sql` query. We then call functions on that object to manipulate and analyze the data."
   ]
  },
  {
   "cell_type": "markdown",
   "metadata": {},
   "source": [
    "In `matplotlib`, different classes are used to create different layers of a visualization. It's like drawing on a canvas! However, there are two fundamental ways in which you can use these classes to 'create your picture':\n",
    "1. You can use an 'object oriented' approach by creating individual objects as you need them; **add to your canvas piece by piece**.\n",
    "2. You can use convenience wrappers that automatically do some of the object creation *for you*; **start with a shell and go from there**.\n",
    "\n",
    "We'll walk through both approaches."
   ]
  },
  {
   "cell_type": "markdown",
   "metadata": {},
   "source": [
    "### Matplotlib Strucutre 🧱"
   ]
  },
  {
   "cell_type": "markdown",
   "metadata": {},
   "source": [
    "**Figure:** The base layer that contains one or more charts is called a `Figure`. If you are an artist, the `Figure` is your canvas.\n",
    "- The `Figure` class lives in the module `matplotlib.figure`"
   ]
  },
  {
   "cell_type": "code",
   "execution_count": 91,
   "metadata": {},
   "outputs": [
    {
     "data": {
      "text/plain": [
       "<Figure size 288x288 with 0 Axes>"
      ]
     },
     "execution_count": 91,
     "metadata": {},
     "output_type": "execute_result"
    }
   ],
   "source": [
    "## OBJECT ORIENTED\n",
    "\n",
    "# Create an object of class figure\n",
    "object_my_fig = figure.Figure(figsize=(4,4))\n",
    "object_my_fig"
   ]
  },
  {
   "cell_type": "code",
   "execution_count": 92,
   "metadata": {},
   "outputs": [
    {
     "data": {
      "text/plain": [
       "<Figure size 288x288 with 0 Axes>"
      ]
     },
     "metadata": {},
     "output_type": "display_data"
    }
   ],
   "source": [
    "## PYPLOT WRAPPER\n",
    "\n",
    "# More standard way of creating a figure using pyplot\n",
    "fig = plt.figure(figsize=(4,4))"
   ]
  },
  {
   "cell_type": "markdown",
   "metadata": {},
   "source": [
    "**Axes:** A figure is nothing without the data we want to visualize - it's blank. Objects of class `Axes` contain the data we want to plot.\n",
    "- `Axes` can be best thought of as, well, axes\n",
    "- A figure can have multiple axes arranged in different ways\n",
    "- Each `Axes` object is a chart that you want to plot\n",
    "- You can provide an `Axes` object with a title, set the number of axis ticks, add a legend, choose the type of chart, and all that good stuff"
   ]
  },
  {
   "cell_type": "code",
   "execution_count": 146,
   "metadata": {},
   "outputs": [
    {
     "data": {
      "image/png": "[encoded data removed]",
      "text/plain": [
       "<Figure size 288x288 with 1 Axes>"
      ]
     },
     "execution_count": 146,
     "metadata": {},
     "output_type": "execute_result"
    }
   ],
   "source": [
    "## OBJECT ORIENTED\n",
    "\n",
    "# Recreating figure because we don't want to add an \n",
    "# infinite number of axes to it each time we run this cell\n",
    "object_my_fig = figure.Figure(figsize=(4,4))\n",
    "\n",
    "# add_axes() takes a sequence of [left, bottom, width, height] quantities\n",
    "object_ax = object_my_fig.add_axes([0,0,2,1])\n",
    "\n",
    "# TODO: Add a set of 1x1 axes starting at the top right of the existing axes\n",
    "# object_my_fig.add_axes([2,1,1,1])\n",
    "\n",
    "object_my_fig"
   ]
  },
  {
   "cell_type": "code",
   "execution_count": 103,
   "metadata": {
    "scrolled": false
   },
   "outputs": [
    {
     "data": {
      "image/png": "[encoded data removed]",
      "text/plain": [
       "<Figure size 288x288 with 1 Axes>"
      ]
     },
     "metadata": {
      "needs_background": "light"
     },
     "output_type": "display_data"
    }
   ],
   "source": [
    "## PYPLOT WRAPPER\n",
    "\n",
    "# Recreate figure to avoid adding too many axes\n",
    "fig = plt.figure(figsize=(4,4))\n",
    "\n",
    "# Add axes to figure using pyplot\n",
    "ax = plt.axes([0,0,2,1])"
   ]
  },
  {
   "cell_type": "markdown",
   "metadata": {},
   "source": [
    "**Plot:** Now that you have the skeleton of your chart, you can start adding data to it!\n",
    "- Charts can come in various forms, but for now, we will just stick with a basic line plot"
   ]
  },
  {
   "cell_type": "code",
   "execution_count": 148,
   "metadata": {},
   "outputs": [
    {
     "ename": "AttributeError",
     "evalue": "'FigureCanvasBase' object has no attribute 'manager'\nFigure.show works only for figures managed by pyplot, normally created by pyplot.figure().",
     "output_type": "error",
     "traceback": [
      "\u001b[0;31m---------------------------------------------------------------------------\u001b[0m",
      "\u001b[0;31mAttributeError\u001b[0m                            Traceback (most recent call last)",
      "\u001b[0;32m~/.local/share/virtualenvs/da_prob_stat-2TW9_CI1/lib/python3.7/site-packages/matplotlib/figure.py\u001b[0m in \u001b[0;36mshow\u001b[0;34m(self, warn)\u001b[0m\n\u001b[1;32m    433\u001b[0m         \u001b[0;32mtry\u001b[0m\u001b[0;34m:\u001b[0m\u001b[0;34m\u001b[0m\u001b[0;34m\u001b[0m\u001b[0m\n\u001b[0;32m--> 434\u001b[0;31m             \u001b[0mmanager\u001b[0m \u001b[0;34m=\u001b[0m \u001b[0mgetattr\u001b[0m\u001b[0;34m(\u001b[0m\u001b[0mself\u001b[0m\u001b[0;34m.\u001b[0m\u001b[0mcanvas\u001b[0m\u001b[0;34m,\u001b[0m \u001b[0;34m'manager'\u001b[0m\u001b[0;34m)\u001b[0m\u001b[0;34m\u001b[0m\u001b[0;34m\u001b[0m\u001b[0m\n\u001b[0m\u001b[1;32m    435\u001b[0m         \u001b[0;32mexcept\u001b[0m \u001b[0mAttributeError\u001b[0m \u001b[0;32mas\u001b[0m \u001b[0merr\u001b[0m\u001b[0;34m:\u001b[0m\u001b[0;34m\u001b[0m\u001b[0;34m\u001b[0m\u001b[0m\n",
      "\u001b[0;31mAttributeError\u001b[0m: 'FigureCanvasBase' object has no attribute 'manager'",
      "\nDuring handling of the above exception, another exception occurred:\n",
      "\u001b[0;31mAttributeError\u001b[0m                            Traceback (most recent call last)",
      "\u001b[0;32m<ipython-input-148-adfe6fe8c016>\u001b[0m in \u001b[0;36m<module>\u001b[0;34m\u001b[0m\n\u001b[1;32m     10\u001b[0m \u001b[0;31m# object_ax.legend(labels='otp_percent', loc=0)\u001b[0m\u001b[0;34m\u001b[0m\u001b[0;34m\u001b[0m\u001b[0;34m\u001b[0m\u001b[0m\n\u001b[1;32m     11\u001b[0m \u001b[0;34m\u001b[0m\u001b[0m\n\u001b[0;32m---> 12\u001b[0;31m \u001b[0mobject_my_fig\u001b[0m\u001b[0;34m.\u001b[0m\u001b[0mshow\u001b[0m\u001b[0;34m(\u001b[0m\u001b[0;34m)\u001b[0m\u001b[0;34m\u001b[0m\u001b[0;34m\u001b[0m\u001b[0m\n\u001b[0m",
      "\u001b[0;32m~/.local/share/virtualenvs/da_prob_stat-2TW9_CI1/lib/python3.7/site-packages/matplotlib/figure.py\u001b[0m in \u001b[0;36mshow\u001b[0;34m(self, warn)\u001b[0m\n\u001b[1;32m    437\u001b[0m                                  \u001b[0;34m\"Figure.show works only \"\u001b[0m\u001b[0;34m\u001b[0m\u001b[0;34m\u001b[0m\u001b[0m\n\u001b[1;32m    438\u001b[0m                                  \u001b[0;34m\"for figures managed by pyplot, normally \"\u001b[0m\u001b[0;34m\u001b[0m\u001b[0;34m\u001b[0m\u001b[0m\n\u001b[0;32m--> 439\u001b[0;31m                                  \"created by pyplot.figure().\" % err)\n\u001b[0m\u001b[1;32m    440\u001b[0m \u001b[0;34m\u001b[0m\u001b[0m\n\u001b[1;32m    441\u001b[0m         \u001b[0;32mif\u001b[0m \u001b[0mmanager\u001b[0m \u001b[0;32mis\u001b[0m \u001b[0;32mnot\u001b[0m \u001b[0;32mNone\u001b[0m\u001b[0;34m:\u001b[0m\u001b[0;34m\u001b[0m\u001b[0;34m\u001b[0m\u001b[0m\n",
      "\u001b[0;31mAttributeError\u001b[0m: 'FigureCanvasBase' object has no attribute 'manager'\nFigure.show works only for figures managed by pyplot, normally created by pyplot.figure()."
     ]
    }
   ],
   "source": [
    "## OBJECT ORIENTED\n",
    "\n",
    "# Recreate figure to avoid adding too many axes\n",
    "object_my_fig = figure.Figure(figsize=(4,4))\n",
    "object_ax = object_my_fig.add_axes([0,0,2,1])\n",
    "\n",
    "object_plot = object_ax.plot(air_otp['month'], air_otp['otp_percent'])\n",
    "# plt.plot(air_otp['month'], air_otp['otp_percent'], ax=object_ax)\n",
    "\n",
    "# object_ax.legend(labels='otp_percent', loc=0)\n",
    "\n",
    "object_my_fig"
   ]
  },
  {
   "cell_type": "code",
   "execution_count": 139,
   "metadata": {
    "scrolled": false
   },
   "outputs": [
    {
     "data": {
      "text/plain": [
       "<matplotlib.legend.Legend at 0x130f4fe10>"
      ]
     },
     "execution_count": 139,
     "metadata": {},
     "output_type": "execute_result"
    },
    {
     "data": {
      "image/png": "[encoded data removed]",
      "text/plain": [
       "<Figure size 288x288 with 1 Axes>"
      ]
     },
     "metadata": {
      "needs_background": "light"
     },
     "output_type": "display_data"
    }
   ],
   "source": [
    "## PYPLOT WRAPPER\n",
    "\n",
    "# Recreate figure to avoid adding too many axes\n",
    "fig = plt.figure(figsize=(4,4))\n",
    "ax = plt.axes([0,0,2,1])\n",
    "\n",
    "plt.plot(air_otp['month'], air_otp['otp_percent'])\n",
    "\n",
    "plt.legend(labels='otp_percent', loc=0)"
   ]
  },
  {
   "cell_type": "code",
   "execution_count": 116,
   "metadata": {},
   "outputs": [],
   "source": [
    "object_plot = object_ax.plot([1,2,3], [1, 2,3])\n",
    "\n",
    "plt.show()"
   ]
  },
  {
   "cell_type": "markdown",
   "metadata": {},
   "source": [
    "There are two ways in which you can create visualizations with `matplotlib`:\n",
    "    - `pyplot` offers convenience wrappers around `matplotlib`s  \n",
    "\n",
    "`pyplot` is a commonly used module in `matplotlib` that makes MATLAB style plotting available in Python\n",
    "\n",
    "- `plot()` function in `pyplot` can be called in multiple ways\n",
    "    - `df.plot()` where `df` is some `pandas` `DataFrame` object\n",
    "    - `ax.plot()` on any `matplotlib` `Axes` object\n",
    "    - `plt.plot()` where `plt` refers to the `pyplot` module"
   ]
  },
  {
   "cell_type": "markdown",
   "metadata": {},
   "source": [
    "There are various convenience wrappers built on top of `matplotlib`s object oriented methods to easily generate plots. Here are a couple:\n",
    "\n",
    "1. We've already seen the [wrapper accessible via pandas](https://pandas.pydata.org/pandas-docs/stable/reference/api/pandas.DataFrame.plot.html):"
   ]
  },
  {
   "cell_type": "code",
   "execution_count": 29,
   "metadata": {},
   "outputs": [
    {
     "data": {
      "text/plain": [
       "<matplotlib.axes._subplots.AxesSubplot at 0x12162c990>"
      ]
     },
     "execution_count": 29,
     "metadata": {},
     "output_type": "execute_result"
    },
    {
     "data": {
      "image/png": "[encoded data removed]",
      "text/plain": [
       "<Figure size 432x288 with 1 Axes>"
      ]
     },
     "metadata": {
      "needs_background": "light"
     },
     "output_type": "display_data"
    }
   ],
   "source": [
    "# Chart using df.plot()\n",
    "air_otp.plot('month', 'otp_percent')"
   ]
  },
  {
   "cell_type": "markdown",
   "metadata": {},
   "source": [
    "2. Another is using the `matplotlib.pyplot` module that we imported as `plt`"
   ]
  },
  {
   "cell_type": "code",
   "execution_count": 30,
   "metadata": {},
   "outputs": [
    {
     "data": {
      "text/plain": [
       "[<matplotlib.lines.Line2D at 0x12267dcd0>]"
      ]
     },
     "execution_count": 30,
     "metadata": {},
     "output_type": "execute_result"
    },
    {
     "data": {
      "image/png": "[encoded data removed]",
      "text/plain": [
       "<Figure size 432x288 with 1 Axes>"
      ]
     },
     "metadata": {
      "needs_background": "light"
     },
     "output_type": "display_data"
    }
   ],
   "source": [
    "# The chart above was created using the pandas .plot() function\n",
    "plt.plot(air_otp['month'], air_otp['otp_percent'])"
   ]
  },
  {
   "cell_type": "markdown",
   "metadata": {},
   "source": [
    "### Standard Process"
   ]
  },
  {
   "cell_type": "code",
   "execution_count": 67,
   "metadata": {},
   "outputs": [
    {
     "data": {
      "image/png": "[encoded data removed]",
      "text/plain": [
       "<Figure size 288x288 with 1 Axes>"
      ]
     },
     "metadata": {
      "needs_background": "light"
     },
     "output_type": "display_data"
    }
   ],
   "source": [
    "# Initialize 1 figure with one pair of axes together\n",
    "# this is the same as fig, ax = plt.subplots(1, 1, figsize=(4,4))\n",
    "fig, ax = plt.subplots(1, 1, figsize=(4,4))"
   ]
  },
  {
   "cell_type": "markdown",
   "metadata": {},
   "source": [
    "# Scratch"
   ]
  },
  {
   "cell_type": "code",
   "execution_count": 20,
   "metadata": {},
   "outputs": [
    {
     "data": {
      "text/plain": [
       "Text(0.5, 1.0, 'Hello')"
      ]
     },
     "execution_count": 20,
     "metadata": {},
     "output_type": "execute_result"
    },
    {
     "data": {
      "image/png": "[encoded data removed]",
      "text/plain": [
       "<Figure size 576x288 with 4 Axes>"
      ]
     },
     "metadata": {
      "needs_background": "light"
     },
     "output_type": "display_data"
    }
   ],
   "source": [
    "fig, ax = plt.subplots(2,2,figsize=(8,4)) # this is the same as \"fig, ax = plt.subplots(1, 1, figsize=(8,4))\"\n",
    "\n",
    "ax[0,1].plot([1,2,3], [1,2,3])\n",
    "ax[0,1].set_title(\"Hello\")"
   ]
  }
 ],
 "metadata": {
  "kernelspec": {
   "display_name": "Python 3",
   "language": "python",
   "name": "python3"
  },
  "language_info": {
   "codemirror_mode": {
    "name": "ipython",
    "version": 3
   },
   "file_extension": ".py",
   "mimetype": "text/x-python",
   "name": "python",
   "nbconvert_exporter": "python",
   "pygments_lexer": "ipython3",
   "version": "3.7.5"
  }
 },
 "nbformat": 4,
 "nbformat_minor": 4
}
