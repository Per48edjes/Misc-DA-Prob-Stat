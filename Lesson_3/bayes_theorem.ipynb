{
 "cells": [
  {
   "cell_type": "markdown",
   "metadata": {},
   "source": [
    "# Bayes Theorem\n",
    "DA Probability & Statistics • Lesson 3"
   ]
  },
  {
   "cell_type": "markdown",
   "metadata": {},
   "source": [
    "## Topics to Cover\n",
    "- Motivating question - Together\n",
    "- Bayes intuition for the 2 event case - NJ\n",
    "- Updating priors - Shreyas\n",
    "    - Loop through various priors to demonstrate how the posterior probabilities will update\n",
    "    - What is the consequence of updating priors?\n",
    "    - Controversy around priors being subjective: [Prosecutor's Fallacy](https://towardsdatascience.com/the-prosecutors-fallacy-cb0da4e9c039)\n",
    "- Add a partitioning event and have the students calculate the posterior based on that - Shreyas\n",
    "- Bayes proof for the generalized case - NJ\n",
    "- Generalized case example - Together\n",
    "    - "
   ]
  },
  {
   "cell_type": "markdown",
   "metadata": {},
   "source": [
    "## Motivating Context 🤔\n",
    "\n",
    "Between 1996-98, Sally Clark, a British woman, lost her two infant children under similarly mysterious circumstances. The defence argued that the children had died of *SIDS* - sudden infant death syndrome. However, the prosecution claimed that the probability of children from an affluent family, like Clark's, suffering from SIDS was 1 in 73 million. They used this to *prove* that she *must* be guilty of killing her children; in 1999, Clark was, in fact, convicted of murdering them."
   ]
  },
  {
   "cell_type": "markdown",
   "metadata": {},
   "source": [
    "**TODO:** How would you structure this as events?"
   ]
  },
  {
   "cell_type": "markdown",
   "metadata": {},
   "source": [
    "> Sally Clark is guilty of killing her two children **because** it is *so* unlikely for them to have died mysteriously if she were innocent.\n",
    "\n",
    "Sounds like a pretty reasonable statement right? It's inaccurate though!"
   ]
  },
  {
   "cell_type": "markdown",
   "metadata": {},
   "source": [
    "**TODO:** What do you think makes this case funky?"
   ]
  },
  {
   "cell_type": "markdown",
   "metadata": {},
   "source": [
    "The prosecution argued the following:\n",
    "\n",
    "$$\n",
    "\\begin{split}\n",
    "P(\\text{innocence | evidence}) & = P(\\text{evidence | innocence}) \\\\\n",
    "P(\\text{I | E}) & = P(\\text{E | I})\n",
    "\\end{split}\n",
    "$$\n",
    "\n",
    "As we saw above, in plain English, that comparison sounds pretty normal. Mathematically though, it's really not."
   ]
  },
  {
   "cell_type": "markdown",
   "metadata": {},
   "source": [
    "From our lesson on conditional probability, we can infer:\n",
    "\n",
    "$$\n",
    "\\begin{split}\n",
    "P(I | E) & = \\frac{P(I \\cap E)}{P(E)} \\\\\n",
    "\\implies P(I \\cap E) & = P(I | E)P(E)\n",
    "\\end{split}\n",
    "$$\n",
    "\n",
    "**and the other way too...**\n",
    "\n",
    "$$\n",
    "\\begin{split}\n",
    "P(E | I) & = \\frac{P(I \\cap E)}{P(I)} \\\\\n",
    "\\implies P(I \\cap E) & = P(E | I)P(I)\n",
    "\\end{split}\n",
    "$$\n",
    "\n",
    "**thus**\n",
    "\n",
    "$$\n",
    "\\begin{split}\n",
    "P(I | E)P(E) & = P(E | I)P(I) \\\\ \\\\\n",
    "\\implies P(I | E) & = \\frac{P(E | I)P(I)}{P(E)} \\\\ \\\\\n",
    "\\implies P(I | E) & \\neq P(E | I)\n",
    "\\end{split}\n",
    "$$"
   ]
  },
  {
   "cell_type": "markdown",
   "metadata": {},
   "source": [
    "**CONCLUSION:** The prosecution was wrong to convict Sally Clark in the way that it did. She was eventually re-tried and acquitted but has since passed away.\n",
    "- Equating a conditional to its inverse is incorrect.\n",
    "- Ignoring the base rate of the innocence. The base rate of a mother actually kiling her two infants. That rarely happens."
   ]
  },
  {
   "cell_type": "markdown",
   "metadata": {},
   "source": [
    "The Sally Clark case was a statistical blunder. But the mistakes made by the prosecution in this case aren't exclusive to the courtroom.\n",
    "\n",
    "A more trivial version of the **Prosecutor's Fallacy** is saying:\n",
    "\n",
    ">My partner hasn't texted me in 3 hours - they probably don't love me.\n",
    "\n",
    "  - $P(\\text{don't love you | late text}) \\neq P(\\text{late text | don't love you})$\n",
    "  - The latter would understandably be very high, but the former is likely because they are either busy or are fed up of sheltering in place with you. Relax a little 😉"
   ]
  },
  {
   "cell_type": "markdown",
   "metadata": {},
   "source": [
    "Bayes gives us a way to correctly relate conditional probabilities to each other"
   ]
  },
  {
   "cell_type": "markdown",
   "metadata": {},
   "source": [
    "## Intro to Bayes"
   ]
  },
  {
   "cell_type": "markdown",
   "metadata": {},
   "source": [
    "$$\n",
    "\\begin{split}\n",
    "P(A|B) = \\frac{P(B|A)P(A)}{P(B)}\n",
    "\\end{split}\n",
    "$$"
   ]
  },
  {
   "cell_type": "markdown",
   "metadata": {},
   "source": [
    "- **Marginal Probability**: Unconditional probability of an event. eg. $P(A)$ and $P(B)$\n",
    "- **Prior Probability**: A type of marginal probability relevant to Bayes Theorem. It is the probability of an event based on our prior beliefs about that event. Here, $P(A)$ is the prior. The posterior is the updated probability of the prior given new information from event $B$.\n",
    "- Posterior Probability: The conditional probability we are trying to compute - $P(A|B)$\n",
    "- Likelihood: This is the inverse of the conditional probablity we are trying to compute. If we are interested in $P(A|B)$, likelihood refers to $P(B|A)$"
   ]
  },
  {
   "cell_type": "markdown",
   "metadata": {},
   "source": [
    "## Updating Priors"
   ]
  },
  {
   "cell_type": "markdown",
   "metadata": {},
   "source": [
    "Bayes Theorem, and conditional probability in general, can be framed in multiple ways:\n",
    "- $P(A|B)$ = Probability that event $A$ occurs *given* that event $B$ has occured\n",
    "- $P(A|E)$ = Probability of hypothesis $A$ being true *given* certain evidence $E$\n",
    "- $P(A|B)$ = Updated probability of event $A$ occurring *given* additional information from event $B$"
   ]
  },
  {
   "cell_type": "markdown",
   "metadata": {},
   "source": [
    "In each of these s scenarios, we:\n",
    "1. take an event $A$ that has some probabilty of ocurrring in isolation - $P(A)$\n",
    "2. we update that probability to some new probability based on new information obtained from another event ocurring $P(A|B)$"
   ]
  },
  {
   "cell_type": "markdown",
   "metadata": {},
   "source": [
    "### COVID Example\n",
    "Prior probability of an event can depend on a variety of factors. For instance, before running a test to identify if someone has COVID-19, \n",
    "- Older people, on average, have a higher likelihood of contracting COVID-19 relative to younger people\n",
    "- People from high density neighbourhoods might be more likely to have the virus\n",
    "- Genetic predisposition to influenza will make someone more suesceptible to COVID-19"
   ]
  },
  {
   "cell_type": "markdown",
   "metadata": {},
   "source": [
    "- Add coherence eample: test one and then test another and then see results together\n",
    "- spo"
   ]
  }
 ],
 "metadata": {
  "kernelspec": {
   "display_name": "Python 3",
   "language": "python",
   "name": "python3"
  },
  "language_info": {
   "codemirror_mode": {
    "name": "ipython",
    "version": 3
   },
   "file_extension": ".py",
   "mimetype": "text/x-python",
   "name": "python",
   "nbconvert_exporter": "python",
   "pygments_lexer": "ipython3",
   "version": "3.7.5"
  }
 },
 "nbformat": 4,
 "nbformat_minor": 4
}
