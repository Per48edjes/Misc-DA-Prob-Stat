{
 "cells": [
  {
   "cell_type": "markdown",
   "metadata": {},
   "source": [
    "# Bayes Theorem\n",
    "DA Probability & Statistics Learning Series • Lesson 3\n",
    "\n",
    "<!-- <img src=\"https://imgs.xkcd.com/comics/conditionals.png\" align=\"center\"/> -->\n",
    "\n",
    "Welcome, again!\n",
    "\n",
    "*See **#da_prob_stat** for discussion during and after this tutorial.*"
   ]
  },
  {
   "cell_type": "markdown",
   "metadata": {},
   "source": [
    "## Goals\n",
    "- \n",
    "- \n",
    "- "
   ]
  },
  {
   "cell_type": "code",
   "execution_count": 81,
   "metadata": {},
   "outputs": [],
   "source": [
    "# Import dependencies \n",
    "import sys\n",
    "sys.path.append('../custom/')\n",
    "sys.path.append('../Lesson_2/')\n",
    "from db_utils import get_connection, get_data\n",
    "import pandas as pd\n",
    "\n",
    "# Object typing\n",
    "from typing import TypeVar\n",
    "PandasSeries = TypeVar('pd.core.series.Series')\n",
    "PandasDataFrame = TypeVar('pd.core.frame.DataFrame')\n",
    "\n",
    "# Data viz\n",
    "import matplotlib.pyplot as plt\n",
    "from matplotlib.ticker import PercentFormatter\n",
    "import seaborn as sns\n",
    "import numpy as np"
   ]
  },
  {
   "cell_type": "markdown",
   "metadata": {},
   "source": [
    "## Motivating Context 🤔\n",
    "\n",
    "Between 1996-98, Sally Clark, a British woman, lost her two infant children under similarly mysterious circumstances. The defence argued that the children had died of *SIDS* - sudden infant death syndrome. However, the prosecution claimed that the probability of children from an affluent family, like Clark's, suffering from SIDS was 1 in 73 million. They used this to *prove* that she *must* be guilty of killing her children; in 1999, Clark was, in fact, convicted of murdering them."
   ]
  },
  {
   "cell_type": "markdown",
   "metadata": {},
   "source": [
    "**TODO:** How would you structure this as events?"
   ]
  },
  {
   "cell_type": "markdown",
   "metadata": {},
   "source": [
    "> Sally Clark is guilty of killing her two children **because** it is *so* unlikely for them to have died mysteriously if she were innocent.\n",
    "\n",
    "Sounds like a pretty reasonable statement right? It's inaccurate though!"
   ]
  },
  {
   "cell_type": "markdown",
   "metadata": {},
   "source": [
    "**TODO:** What do you think makes this case funky?"
   ]
  },
  {
   "cell_type": "markdown",
   "metadata": {},
   "source": [
    "The prosecution argued the following:\n",
    "\n",
    "$$\n",
    "\\begin{split}\n",
    "P(\\text{innocence | evidence}) & = P(\\text{evidence | innocence}) \\\\\n",
    "P(\\text{I | E}) & = P(\\text{E | I})\n",
    "\\end{split}\n",
    "$$\n",
    "\n",
    "As we saw above, in plain English, that comparison sounds pretty normal. Mathematically though, it's really not."
   ]
  },
  {
   "cell_type": "markdown",
   "metadata": {},
   "source": [
    "From our lesson on conditional probability, we can infer:\n",
    "\n",
    "$$\n",
    "\\begin{split}\n",
    "P(I | E) & = \\frac{P(I \\cap E)}{P(E)} \\\\\n",
    "\\implies P(I \\cap E) & = P(I | E)P(E)\n",
    "\\end{split}\n",
    "$$\n",
    "\n",
    "**and the other way too...**\n",
    "\n",
    "$$\n",
    "\\begin{split}\n",
    "P(E | I) & = \\frac{P(I \\cap E)}{P(I)} \\\\\n",
    "\\implies P(I \\cap E) & = P(E | I)P(I)\n",
    "\\end{split}\n",
    "$$\n",
    "\n",
    "**thus**\n",
    "\n",
    "$$\n",
    "\\begin{split}\n",
    "P(I | E)P(E) & = P(E | I)P(I) \\\\ \\\\\n",
    "\\implies P(I | E) & = \\frac{P(E | I)P(I)}{P(E)} \\\\ \\\\\n",
    "\\implies P(I | E) & \\neq P(E | I)\n",
    "\\end{split}\n",
    "$$"
   ]
  },
  {
   "cell_type": "markdown",
   "metadata": {},
   "source": [
    "**CONCLUSIONS:**\n",
    "- Equating a conditional to its inverse is incorrect.\n",
    "- The prosecution was wrong to convict Sally Clark. It ignored the base rate of the innocence, i.e. the base rate of a mother actually kiling her two infants. That rarely happens."
   ]
  },
  {
   "cell_type": "markdown",
   "metadata": {},
   "source": [
    "The Sally Clark case was a statistical blunder. But the mistakes made by the prosecution in this case aren't exclusive to the courtroom.\n",
    "\n",
    "A more trivial version of the [**Prosecutor's Fallacy**](https://towardsdatascience.com/the-prosecutors-fallacy-cb0da4e9c039) is saying:\n",
    "\n",
    ">My partner hasn't texted me in 3 hours - they probably don't love me.\n",
    "\n",
    "  - $P(\\text{don't love you | late text}) \\neq P(\\text{late text | don't love you})$\n",
    "  - The latter would understandably be very high, but the former is likely because they are either busy or are fed up of sheltering in place with you. Relax a little 😉"
   ]
  },
  {
   "cell_type": "markdown",
   "metadata": {},
   "source": [
    "<font color='blue'>Bayes gives us a way to correctly relate conditional probabilities to each other</font>"
   ]
  },
  {
   "cell_type": "markdown",
   "metadata": {},
   "source": [
    "## Intro to Bayes"
   ]
  },
  {
   "cell_type": "code",
   "execution_count": 79,
   "metadata": {},
   "outputs": [
    {
     "data": {
      "text/plain": [
       "False"
      ]
     },
     "execution_count": 79,
     "metadata": {},
     "output_type": "execute_result"
    }
   ],
   "source": [
    "os.path.exists('query.sql')"
   ]
  },
  {
   "cell_type": "code",
   "execution_count": 75,
   "metadata": {},
   "outputs": [
    {
     "ename": "FileNotFoundError",
     "evalue": "[Errno 2] No such file or directory: 'query.sql'",
     "output_type": "error",
     "traceback": [
      "\u001b[0;31m---------------------------------------------------------------------------\u001b[0m",
      "\u001b[0;31mFileNotFoundError\u001b[0m                         Traceback (most recent call last)",
      "\u001b[0;32m<ipython-input-75-1138d72b9c5b>\u001b[0m in \u001b[0;36m<module>\u001b[0;34m\u001b[0m\n\u001b[1;32m      6\u001b[0m \u001b[0;34m\u001b[0m\u001b[0m\n\u001b[1;32m      7\u001b[0m     \u001b[0;31m# Open the query.sql file\u001b[0m\u001b[0;34m\u001b[0m\u001b[0;34m\u001b[0m\u001b[0;34m\u001b[0m\u001b[0m\n\u001b[0;32m----> 8\u001b[0;31m     \u001b[0;32mwith\u001b[0m \u001b[0mopen\u001b[0m\u001b[0;34m(\u001b[0m\u001b[0;34m'query.sql'\u001b[0m\u001b[0;34m,\u001b[0m \u001b[0;34m'r'\u001b[0m\u001b[0;34m)\u001b[0m \u001b[0;32mas\u001b[0m \u001b[0mq\u001b[0m\u001b[0;34m:\u001b[0m\u001b[0;34m\u001b[0m\u001b[0;34m\u001b[0m\u001b[0m\n\u001b[0m\u001b[1;32m      9\u001b[0m \u001b[0;34m\u001b[0m\u001b[0m\n\u001b[1;32m     10\u001b[0m         \u001b[0;31m# Save contents of query.sql as string\u001b[0m\u001b[0;34m\u001b[0m\u001b[0;34m\u001b[0m\u001b[0;34m\u001b[0m\u001b[0m\n",
      "\u001b[0;31mFileNotFoundError\u001b[0m: [Errno 2] No such file or directory: 'query.sql'"
     ]
    }
   ],
   "source": [
    "# Get the database connection and cursor objects\n",
    "conn, cur = get_connection()\n",
    "\n",
    "# Use a context manager to open and close connection and files\n",
    "with conn:\n",
    "    \n",
    "    # Open the query.sql file\n",
    "    with open('query.sql', 'r') as q:\n",
    "\n",
    "        # Save contents of query.sql as string\n",
    "        query_str = q.read()\n",
    "    \n",
    "    # Use the read_sql method to get the data from Snowflake into a \n",
    "    # Pandas dataframe\n",
    "    df = pd.read_sql(query_str, conn)\n",
    "    \n",
    "    # Make all the columns lowercase\n",
    "    df.columns = map(str.lower, df.columns)\n",
    "\n",
    "# Preview the data\n",
    "df.sample(3)"
   ]
  },
  {
   "cell_type": "code",
   "execution_count": 3,
   "metadata": {},
   "outputs": [],
   "source": [
    "# Isolate data to be used\n",
    "tradelane_mode_df = df[['tradelane', 'mode']]\n",
    "tradelane_mode_df\n",
    "\n",
    "# Call Crosstab function from last time to get sums of tradelane and mode pairs.\n",
    "tradelane_mode_xt = pd.crosstab(index=tradelane_mode_df['tradelane'], \n",
    "                               columns=tradelane_mode_df['mode'])"
   ]
  },
  {
   "cell_type": "markdown",
   "metadata": {},
   "source": [
    "# Binary Classification with Bayes\n",
    "\n",
    "Let's introduce this with an example (motivated from a lesson at UC Berkeley):\n",
    "\n",
    "Let's Say we know that: \n",
    "- 60% of shipments are Ocean and the remaining 40% are Ocean\n",
    "- 50% of Ocean Shipments are on TPEB\n",
    "- 80% of Air Shipments are on TPEB\n",
    "\n",
    "\n",
    "Now suppose I pick a shipment at random. Can you classify the shipment as Air or Ocean? We can do this by predicting which is more likely to happen. \n",
    "\n"
   ]
  },
  {
   "cell_type": "markdown",
   "metadata": {},
   "source": [
    "<b> You probably guessed ocean ... </b>\n",
    "\n",
    "The shipment is picked at random and so you know that the chance that the shipment is Ocean is 60%. That's greater than the 40% chance of being an Air shipment, so you would classify the shipment as Ocean.\n",
    "\n",
    "The information about the tradelane is irrelevant, as we already know the proportions of mode. \n",
    "\n",
    "We have a pretty simple classifier! "
   ]
  },
  {
   "cell_type": "markdown",
   "metadata": {},
   "source": [
    "But now suppose I give you some additional information about the shipment that was picked:\n",
    "\n",
    "<b>The Shipment was on TPEB. </b>\n",
    "\n",
    "Would this knowledge change your classification?\n",
    "\n",
    "<b>Updating the Prediction Based on New Information </b>\n",
    "\n",
    "Now that we know the shipment is on TPEB, it becomes important to look at the relation between shipment and mode. It's still true that more shipments are ocean than air. But it's also true that among the ocean shipments, a much higher percent are on TPEB. Our classification has to take both of these observations into account.\n",
    "\n",
    "To visualize this, we will use a table that consists of one row for each of 100 shipments whose mode and tradelane have the same proportions as given in the data.\n"
   ]
  },
  {
   "cell_type": "code",
   "execution_count": 4,
   "metadata": {},
   "outputs": [
    {
     "data": {
      "text/html": [
       "<div>\n",
       "<style scoped>\n",
       "    .dataframe tbody tr th:only-of-type {\n",
       "        vertical-align: middle;\n",
       "    }\n",
       "\n",
       "    .dataframe tbody tr th {\n",
       "        vertical-align: top;\n",
       "    }\n",
       "\n",
       "    .dataframe thead th {\n",
       "        text-align: right;\n",
       "    }\n",
       "</style>\n",
       "<table border=\"1\" class=\"dataframe\">\n",
       "  <thead>\n",
       "    <tr style=\"text-align: right;\">\n",
       "      <th></th>\n",
       "      <th>Mode</th>\n",
       "      <th>Tradelane</th>\n",
       "    </tr>\n",
       "  </thead>\n",
       "  <tbody>\n",
       "    <tr>\n",
       "      <td>0</td>\n",
       "      <td>Ocean</td>\n",
       "      <td>Not TPEB</td>\n",
       "    </tr>\n",
       "    <tr>\n",
       "      <td>1</td>\n",
       "      <td>Ocean</td>\n",
       "      <td>Not TPEB</td>\n",
       "    </tr>\n",
       "    <tr>\n",
       "      <td>2</td>\n",
       "      <td>Ocean</td>\n",
       "      <td>Not TPEB</td>\n",
       "    </tr>\n",
       "    <tr>\n",
       "      <td>3</td>\n",
       "      <td>Ocean</td>\n",
       "      <td>Not TPEB</td>\n",
       "    </tr>\n",
       "    <tr>\n",
       "      <td>4</td>\n",
       "      <td>Ocean</td>\n",
       "      <td>Not TPEB</td>\n",
       "    </tr>\n",
       "  </tbody>\n",
       "</table>\n",
       "</div>"
      ],
      "text/plain": [
       "    Mode Tradelane\n",
       "0  Ocean  Not TPEB\n",
       "1  Ocean  Not TPEB\n",
       "2  Ocean  Not TPEB\n",
       "3  Ocean  Not TPEB\n",
       "4  Ocean  Not TPEB"
      ]
     },
     "execution_count": 4,
     "metadata": {},
     "output_type": "execute_result"
    }
   ],
   "source": [
    "mode = np.array(['Ocean']*60 + ['Air']*40)\n",
    "tradelane = np.array(['Not TPEB']*30+['TPEB']*30+['Not TPEB']*8+['TPEB']*32)\n",
    "df = {'Mode':mode,'Tradelane':tradelane}\n",
    "df = pd.DataFrame(df, columns=['Mode','Tradelane'])\n",
    "\n",
    "df.head()"
   ]
  },
  {
   "cell_type": "code",
   "execution_count": 5,
   "metadata": {},
   "outputs": [
    {
     "data": {
      "text/html": [
       "<div>\n",
       "<style scoped>\n",
       "    .dataframe tbody tr th:only-of-type {\n",
       "        vertical-align: middle;\n",
       "    }\n",
       "\n",
       "    .dataframe tbody tr th {\n",
       "        vertical-align: top;\n",
       "    }\n",
       "\n",
       "    .dataframe thead th {\n",
       "        text-align: right;\n",
       "    }\n",
       "</style>\n",
       "<table border=\"1\" class=\"dataframe\">\n",
       "  <thead>\n",
       "    <tr style=\"text-align: right;\">\n",
       "      <th>Mode</th>\n",
       "      <th>Air</th>\n",
       "      <th>Ocean</th>\n",
       "    </tr>\n",
       "    <tr>\n",
       "      <th>Tradelane</th>\n",
       "      <th></th>\n",
       "      <th></th>\n",
       "    </tr>\n",
       "  </thead>\n",
       "  <tbody>\n",
       "    <tr>\n",
       "      <td>Not TPEB</td>\n",
       "      <td>8</td>\n",
       "      <td>30</td>\n",
       "    </tr>\n",
       "    <tr>\n",
       "      <td>TPEB</td>\n",
       "      <td>32</td>\n",
       "      <td>30</td>\n",
       "    </tr>\n",
       "  </tbody>\n",
       "</table>\n",
       "</div>"
      ],
      "text/plain": [
       "Mode       Air  Ocean\n",
       "Tradelane            \n",
       "Not TPEB     8     30\n",
       "TPEB        32     30"
      ]
     },
     "execution_count": 5,
     "metadata": {},
     "output_type": "execute_result"
    }
   ],
   "source": [
    "pd.crosstab(index=df['Tradelane'], \n",
    "                               columns=df['Mode'])"
   ]
  },
  {
   "cell_type": "markdown",
   "metadata": {},
   "source": [
    "The total count is 100 shipments, of which 60 are Ocean and 40 are Air. Among the Ocean, 50% are in each of the tradelane choices. Among the 40 Air Shipments, 20% are not on TPEB and 80% are. \n",
    "\n",
    "Coming back to the example, we have to pick which row the shipment is most likely to be in. When we knew nothing more about the shipment, and therefore were more likely to be in the second column (Ocean) because that contains more shipments.\n",
    "\n",
    "But now we know that the student is on TPEB, so the space of possible outcomes has decreased: now the shipment can only be in one of the two TPEB cells. \n",
    "\n",
    "There are 62 shipments in those cells, and 32 out of the 62 are Air. That's more than half, even though not by much. \n",
    "\n",
    "So, in the light of the new information about the tradelane, <b> we have to update our prediction and now classify the shipment as Air. </b>\n"
   ]
  },
  {
   "cell_type": "markdown",
   "metadata": {},
   "source": [
    "The method that we have just used above is due to the Reverend [Thomas Bayes](https://en.wikipedia.org/wiki/Thomas_Bayes) (1701-1761). His method solved what was called an \"inverse probability\" problem: given new data, how can you update chances you had found earlier? Though Bayes lived three centuries ago, his method is widely used now in machine learning."
   ]
  },
  {
   "cell_type": "markdown",
   "metadata": {},
   "source": [
    "## Conditional Probability!  \n",
    "\n",
    "Let's mathematically build up the intuition behind Bayes Theorem.\n",
    "\n",
    "- Lets say Event A is Shipment is on Air. \n",
    "- Lets say Event B is Shipment being on TPEB. \n",
    "\n",
    "<b>From last time we know: </b>\n",
    "\n",
    "The probability of two events A and B happening, $P(A \\cap B)$ , is the probability of $A$, $P(A)$, times the probability of B given that A has occurred, $P(B \\mid A)$. \n",
    "\n",
    "$$\n",
    "P(A \\cap B)$ = $P(A)P(B \\mid A)\n",
    "$$\n",
    "\n",
    "On the other hand, the probability of A and B is also equal to the probability\n",
    "of B times the probability of A given B.\n",
    "\n",
    "$$\n",
    "P(A \\cap B)$ = $P(B)P(A \\mid B)\n",
    "$$\n",
    "\n",
    "Equating the two yields:\n",
    "\n",
    "$$\n",
    "P(B)P(A \\mid B)$ = $P(A)P(B \\mid A)\n",
    "$$\n",
    "\n",
    "and thus\n",
    "\n",
    "$$\n",
    "P(A \\mid B) = \\frac{P(A) P(B \\mid A)} {P(B)}\n",
    "$$"
   ]
  },
  {
   "cell_type": "markdown",
   "metadata": {},
   "source": [
    "## The Law of Total Probability 📜\n",
    "\n",
    "Now we need connect conditional and unconditional probabilities. We do this with **the Law of Total Probability** (LOTP). \n",
    "\n",
    "\n",
    "You'll also have the tools to deal with conditioning on multiple events/pieces of information since the concepts translate generally.\n",
    "\n"
   ]
  },
  {
   "cell_type": "markdown",
   "metadata": {},
   "source": [
    "**The Law of Total Probability** is an incredibly useful problem solving tool. Formally stated, it says:\n",
    "\n",
    "$$\n",
    "\\text{If }A_i,...,A_n \\text{ is a partition of the sample space }S \\text{, then }P(B) = \\sum_{i=1}^{n}{P(B|A_i)P(A_i)}.\n",
    "$$"
   ]
  },
  {
   "cell_type": "markdown",
   "metadata": {},
   "source": [
    "But this is likely better illustrated with a picture:\n",
    "\n",
    "![Partition of B by A](./LOTP.png)"
   ]
  },
  {
   "cell_type": "markdown",
   "metadata": {},
   "source": [
    "Okay, your turn to practice!\n",
    "\n",
    "**Question**: \n",
    "\n",
    "> What's $P(\\text{TPEB})$. \n",
    "\n",
    "Partition the data and use LOTP so you can calculate it. Check against the data directly."
   ]
  },
  {
   "cell_type": "code",
   "execution_count": null,
   "metadata": {},
   "outputs": [],
   "source": [
    "## TODO: Demonstrate LOTP on our data; start with tradelane_mode_xt\n",
    "df = pd.read_sql(query_str, conn)\n",
    "\n",
    "# This is the denominator to convert cardinality of sets to probabilities\n",
    "# (per the Naive Definition of Probability)\n",
    "S = tradelane_mode_xt.sum().sum()\n",
    "\n",
    "# Show that p_TPEB_by_LTOP == p_TPEB\n",
    "p_TPEB = tradelane_mode_xt.loc['TPEB',:].sum()/S\n",
    "\n",
    "p_Air = tradelane_mode_xt.loc[:,'Air'].sum()/S\n",
    "\n",
    "p_not_Air = 1 - p_Air\n",
    "\n",
    "p_TPEB_given_Air = \n",
    "\n",
    "p_TPEB_given_not_Air = \n",
    "\n",
    "p_TPEB_by_LOTP = \n",
    "\n",
    "# # Check if our answer is right   \n",
    "# print(f\"Our Answer: {p_TPEB_by_LOTP:.5%}\")\n",
    "# print(f\"Expected Answer: {p_TPEB:.5%}\")"
   ]
  },
  {
   "cell_type": "markdown",
   "metadata": {},
   "source": [
    "$$\n",
    "\\begin{split}\n",
    "P(A|B) = \\frac{P(B|A)P(A)}{P(B)}\n",
    "\\end{split}\n",
    "$$"
   ]
  },
  {
   "cell_type": "markdown",
   "metadata": {},
   "source": [
    "- **Marginal Probability**: Unconditional probability of an event. eg. $P(A)$ and $P(B)$\n",
    "- **Prior Probability**: A type of marginal probability relevant to Bayes Theorem. It is the probability of an event based on our prior beliefs about that event. Here, $P(A)$ is the prior. The posterior is the updated probability of the prior given new information from event $B$.\n",
    "- **Posterior Probability**: The conditional probability we are trying to compute - $P(A|B)$\n",
    "- **Likelihood**: This is the inverse of the conditional probablity we are trying to compute. If we are interested in $P(A|B)$, likelihood refers to $P(B|A)$"
   ]
  },
  {
   "cell_type": "markdown",
   "metadata": {},
   "source": [
    "## Updating Priors ☝🏽"
   ]
  },
  {
   "cell_type": "markdown",
   "metadata": {},
   "source": [
    "Bayes Theorem, and conditional probability in general, can be framed in multiple ways:\n",
    "- $P(A|B)$ = Probability that event $A$ occurs *given* that event $B$ has occured\n",
    "- $P(A|E)$ = Probability of hypothesis $A$ being true *given* certain evidence $E$\n",
    "- $P(A|B)$ = Updated probability of event $A$ occurring *given* additional information from event $B$"
   ]
  },
  {
   "cell_type": "markdown",
   "metadata": {},
   "source": [
    "In each of these s scenarios, we:\n",
    "1. take an event $A$ that has some probabilty of ocurrring in isolation - $P(A)$\n",
    "2. we update that probability to some new probability based on new information obtained from another event ocurring $P(A|B)$"
   ]
  },
  {
   "cell_type": "markdown",
   "metadata": {},
   "source": [
    "We've seen that Bayes Theorem helps us relate conditional probabilities to one another. Now let's look at how it can be leveraged to update our prior beliefs about certain events."
   ]
  },
  {
   "cell_type": "markdown",
   "metadata": {},
   "source": [
    "### Ravi Goes to Disneyland 🏰"
   ]
  },
  {
   "cell_type": "markdown",
   "metadata": {},
   "source": [
    "Ravi is excited that Disneyland has finally opened up and he has taken the day off to go to LA and enjoy Goofy's Sky School after months of waiting. However, for Ravi to be able to enter Disneyland, the management needs to be certain that he doesn't have COVID-19; he needs to be tested.\n",
    "\n",
    "Nervous about his fate, Ravi goes to the Disneyland clinic and waits for the doctor. When the doctor arrives, she makes an initial assessment of him. She comments that since Ravi looks asymptomatic and generally quite energized, he probably doesn not have COVID. However, he took a flight to LA and that increases the chance that he might have contracted it more recently. She thinks for a few minutes, notes down some stuff, and concludes that Ravi's prior (*pre-test*) probability of having COVID is:\n",
    "\n",
    "$P(C) = 0.3 = 30\\%$"
   ]
  },
  {
   "cell_type": "markdown",
   "metadata": {},
   "source": [
    "The doctor's test, **Test X**, is 90% reliable. If someone tests positive, we are 95% certain that they have COVID; if they test negative, we are 90% sure that they don't. Both the false positive and false negative rates are 10% respectively.\n",
    "\n",
    "Ravi is administered the test and his results come out **negative**! If $N_X$ is the event that Ravi tests negative with **Test X**, then\n",
    "\n",
    "$$\n",
    "P(C | N_X) = \\frac{P(N_X | C)P(C)}{P(N_X)} \n",
    "           = \\frac{P(N_X | C)P(C)}{P(N_X | C)P(C) + P(N_X | C^c)P(C^c)} \n",
    "           = \\frac{(0.1)(0.3)}{(0.1)(0.3) + (0.9)(0.7)}\n",
    "           = 0.045\n",
    "           = 4.5\\%\n",
    "$$\n",
    "\n",
    "The posterior probability of Ravi having COVID given a negative test result is 4.5% - a significant decrease from the prior probability of 30% that the doctor assumed when Ravi came in. In this way, we've 'updated our priors'."
   ]
  },
  {
   "cell_type": "markdown",
   "metadata": {},
   "source": [
    "Unfortunately, even a test with 90% reliability can't confirm that Ravi does not have COVID for sure. A 4.5% chance is above the **strict threshold of 2%** that Disney is enforcing on its visitors and Ravi doesn't meet that cut. Sorry bud ☹️"
   ]
  },
  {
   "cell_type": "code",
   "execution_count": 71,
   "metadata": {},
   "outputs": [
    {
     "name": "stdout",
     "output_type": "stream",
     "text": [
      "Question 1\n",
      "---\n",
      "If P(C) = 0.01, then P(C | Nx) = 0.11%\n",
      "If P(C) = 0.05, then P(C | Nx) = 0.58%\n",
      "If P(C) = 0.1, then P(C | Nx) = 1.22%\n",
      "If P(C) = 0.4, then P(C | Nx) = 6.90%\n",
      "\n",
      "Question 2\n",
      "---\n",
      "P(C | Nx) is less than 1% when P(C) = 0.08\n"
     ]
    }
   ],
   "source": [
    "# TODO\n",
    "# What if the doctor felt differently during her initial evaluation of Ravi's health? \n",
    "# Or what if Ravi was both corrupt and desperate and offered the doctor $1000 for a 'better' initial evaluation?\n",
    "# Would that alter the posterior probability?\n",
    "# Loop through a few values of using the compute_bayes_posterior function to see for yourself!\n",
    "\n",
    "# calculate P(A|B) when provided P(A), P(B|A), P(B|not A)\n",
    "def compute_posterior(p_a, p_b_given_a, p_b_given_not_a):\n",
    "    # calculate P(not A)\n",
    "    not_a = 1 - p_a\n",
    "    # calculate P(B)\n",
    "    p_b = p_b_given_a * p_a + p_b_given_not_a * not_a\n",
    "    # calculate P(A|B)\n",
    "    p_a_given_b = (p_b_given_a * p_a) / p_b\n",
    "    return p_a_given_b\n",
    "\n",
    "# P(Nx|C) = P(Tests Negative given Has COVID)\n",
    "p_Nx_given_C = 0.1\n",
    "\n",
    "# P(Nx|not C) = P(Tests Negative given Does Not Have COVID)\n",
    "p_Nx_given_not_C = 0.9\n",
    "\n",
    "print('Question 1\\n---')\n",
    "# Calculate P(C|Nx) for various values of P(C)\n",
    "for c in [0.01, 0.05, 0.1, 0.4]:\n",
    "    print('If P(C) = {0}, then P(C | Nx) = {1:.2%}'.format(c, compute_posterior(c, p_Nx_given_C, p_Nx_given_not_C)))\n",
    "\n",
    "print('\\nQuestion 2\\n---')\n",
    "# Use a while loop to figure out the first value of P(c) for which P(C|Nx) is less than 1%\n",
    "c = 0.3\n",
    "while c > 0:\n",
    "    p_C_given_Nx = compute_posterior(c, p_Nx_given_C, p_Nx_given_not_C)\n",
    "    if p_C_given_Nx < 0.01:\n",
    "        print(f'P(C | Nx) is less than 1% when P(C) = {c:.2}')\n",
    "        break\n",
    "    c -= 0.01\n",
    "else:\n",
    "    print('Given the effectiveness of the test, there is no prior probability of COVID that can bring the posterior probability less than 1%')"
   ]
  },
  {
   "cell_type": "markdown",
   "metadata": {},
   "source": [
    "## Multiple Conditions"
   ]
  },
  {
   "cell_type": "markdown",
   "metadata": {},
   "source": [
    "Fortunately, bribing the doc isn't necessarily Ravi's only solution to entering Disneyland."
   ]
  },
  {
   "cell_type": "markdown",
   "metadata": {},
   "source": [
    "The doctor sympathizes with Ravi and says that she might be able to help him out. She tells Ravi about a second test, **Test Y**, made by a different drug company than that of **Test X**. It wasn't as good as **Test X** with a reliability of just 70%, but it might just be what Ravi needs."
   ]
  },
  {
   "cell_type": "markdown",
   "metadata": {},
   "source": [
    "**TODO:** What is the doctor's latest assessment of Ravi's likelihood of having COVID? i.e. what is the new prior $F(C)$? "
   ]
  },
  {
   "cell_type": "markdown",
   "metadata": {},
   "source": [
    "The doctor administers **Test Y** and Ravi tests negative again!"
   ]
  },
  {
   "cell_type": "code",
   "execution_count": 70,
   "metadata": {},
   "outputs": [
    {
     "name": "stdout",
     "output_type": "stream",
     "text": [
      "With F(C) = 4.50%, P(C | Ny) = 1.98%\n"
     ]
    }
   ],
   "source": [
    "# What is the probability that Ravi has COVID after the results of Test Y?\n",
    "\n",
    "# F(C) = New prior probability that Ravi has COVID-19\n",
    "f_C = 0.045\n",
    "\n",
    "# P(Ny|C) = P(Tests Negative given Has COVID)\n",
    "p_Ny_given_C = 0.3\n",
    "\n",
    "# P(Ny|not C) = P(Tests Negative given Does Not Have COVID)\n",
    "p_Ny_given_not_C = 0.7\n",
    "\n",
    "print('With F(C) = {0:.2%}, P(C | Ny) = {1:.2%}'.format(f_C, bayes_theorem(f_C, p_Ny_given_C, p_Ny_given_not_C)))"
   ]
  },
  {
   "cell_type": "code",
   "execution_count": null,
   "metadata": {},
   "outputs": [],
   "source": []
  }
 ],
 "metadata": {
  "kernelspec": {
   "display_name": "Python 3",
   "language": "python",
   "name": "python3"
  },
  "language_info": {
   "codemirror_mode": {
    "name": "ipython",
    "version": 3
   },
   "file_extension": ".py",
   "mimetype": "text/x-python",
   "name": "python",
   "nbconvert_exporter": "python",
   "pygments_lexer": "ipython3",
   "version": "3.7.5"
  }
 },
 "nbformat": 4,
 "nbformat_minor": 4
}
