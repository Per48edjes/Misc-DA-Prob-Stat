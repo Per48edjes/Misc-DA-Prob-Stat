{
 "cells": [
  {
   "cell_type": "markdown",
   "metadata": {},
   "source": [
    "# Bayes Theorem\n",
    "DA Probability & Statistics • Lesson 3"
   ]
  },
  {
   "cell_type": "markdown",
   "metadata": {},
   "source": [
    "## Topics to Cover\n",
    "- Motivating question - Together\n",
    "- Bayes intuition for the 2 event case - NJ\n",
    "- Updating priors - Shreyas\n",
    "    - Loop through various priors to demonstrate how the posterior probabilities will update\n",
    "    - What is the consequence of updating priors?\n",
    "    - Controversy around priors being subjective: [Prosecutor's Fallacy](https://towardsdatascience.com/the-prosecutors-fallacy-cb0da4e9c039)\n",
    "- Add a partitioning event and have the students calculate the posterior based on that - Shreyas\n",
    "- Bayes proof for the generalized case - NJ\n",
    "- Generalized case example - Together\n",
    "    - "
   ]
  },
  {
   "cell_type": "markdown",
   "metadata": {},
   "source": [
    "## Motivating Question 🤔\n",
    "> Tell me something that I thought I could answer using what Ravi taught last lesson but in reality is hard to do without Bayes Theorem\n",
    "\n",
    "- That should explian why calculating probabilities in one direction is harder than calculating it the other way\n",
    "- **OR** position it as hypothesis and evidence where only one direction is what is interesting to look at"
   ]
  },
  {
   "cell_type": "markdown",
   "metadata": {},
   "source": [
    "$$\n",
    "\\begin{align}\n",
    "P(\\text{at least one shipment is air}) &= \\frac{3}{4}\\\\\n",
    "P(\\text{the second shipment is air}) &= \\frac{1}{2}\n",
    "\\end{align}\n",
    "$$\n",
    "\n",
    "- Posterior Probability: \n",
    "- Conditional Probability: \n",
    "- Prior Probability: \n",
    "- Marginal Probability: "
   ]
  },
  {
   "cell_type": "code",
   "execution_count": null,
   "metadata": {},
   "outputs": [],
   "source": []
  }
 ],
 "metadata": {
  "kernelspec": {
   "display_name": "Python 3",
   "language": "python",
   "name": "python3"
  },
  "language_info": {
   "codemirror_mode": {
    "name": "ipython",
    "version": 3
   },
   "file_extension": ".py",
   "mimetype": "text/x-python",
   "name": "python",
   "nbconvert_exporter": "python",
   "pygments_lexer": "ipython3",
   "version": "3.7.4"
  }
 },
 "nbformat": 4,
 "nbformat_minor": 4
}
