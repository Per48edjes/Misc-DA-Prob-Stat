{
 "cells": [
  {
   "cell_type": "markdown",
   "metadata": {
    "slideshow": {
     "slide_type": "slide"
    }
   },
   "source": [
    "# Random Variables and Distributions\n",
    "DA Probability & Statistics Learning Series • Lesson 📚.3.1\n",
    "\n",
    "<img src=\"https://ihaveapc.com/wp-content/uploads/2018/03/1-2.jpg\" align=\"center\" width=\"30%\"/>\n",
    "\n",
    "Welcome, again!\n",
    "\n",
    "*See **#da_prob_stat** for discussion during and after this tutorial.*"
   ]
  },
  {
   "cell_type": "markdown",
   "metadata": {
    "slideshow": {
     "slide_type": "slide"
    }
   },
   "source": [
    "# Goal:\n",
    "![end_goal](./end_goal.png)"
   ]
  },
  {
   "cell_type": "markdown",
   "metadata": {
    "slideshow": {
     "slide_type": "slide"
    }
   },
   "source": [
    "A **Random Variable** is a variable whose possible values are numerical outcomes of a random process\n",
    "<img src=\"https://www.mathsisfun.com/data/images/random-variable-1.svg\" align=\"center\"/>"
   ]
  },
  {
   "cell_type": "markdown",
   "metadata": {
    "slideshow": {
     "slide_type": "notes"
    }
   },
   "source": [
    "X really refers to the distribution of possible values and the associated probabilities.\n",
    "This contrasts to your conventional algebraic variables that typically have a single value"
   ]
  },
  {
   "cell_type": "markdown",
   "metadata": {
    "slideshow": {
     "slide_type": "slide"
    }
   },
   "source": [
    "![functions](./pebble_to_line.png)"
   ]
  },
  {
   "cell_type": "markdown",
   "metadata": {
    "slideshow": {
     "slide_type": "slide"
    }
   },
   "source": [
    "A **discrete random variable** is one which may take on only a countable number of distinct values. For example, rolling a die.\n",
    "\n",
    "$$\n",
    "\\begin{align}\n",
    "X &= [{1},{2},{3},{4},{5},{6}]\n",
    "\\end{align}\n",
    "$$\n",
    "\n",
    "A discrete random variable must adhere to the following two rules:\n",
    "\n",
    "$$\n",
    "1: 0 \\le P(X=x_i) \\le 1 \\text{ for each i }\\\\\n",
    "2: P(X=x_1)+P(X=x_2)+...+P(X=x_k)=1\n",
    "$$\n",
    "\n",
    "A **continuous random variable** is one which takes an infinite number of possible values\n",
    "\n",
    "$$\n",
    "\\begin{align}\n",
    "Y &= \\text{ exact transit time of a shipment }\n",
    "\\end{align}\n",
    "$$"
   ]
  },
  {
   "cell_type": "code",
   "execution_count": 1,
   "metadata": {
    "slideshow": {
     "slide_type": "slide"
    }
   },
   "outputs": [],
   "source": [
    "# Import dependencies \n",
    "from custom.db_utils import get_connection\n",
    "import pandas as pd\n",
    "\n",
    "#Stats\n",
    "import scipy.stats\n",
    "import numpy as np\n",
    "\n",
    "# Data viz\n",
    "import matplotlib.pyplot as plt\n",
    "import seaborn as sns"
   ]
  },
  {
   "cell_type": "code",
   "execution_count": 2,
   "metadata": {
    "scrolled": true,
    "slideshow": {
     "slide_type": "slide"
    }
   },
   "outputs": [
    {
     "name": "stdout",
     "output_type": "stream",
     "text": [
      "Initiating login request with your identity provider. A browser window should have opened for you to complete the login. If you can't see it, check existing browser windows, or your OS settings. Press CTRL+C to abort and try again...\n"
     ]
    },
    {
     "data": {
      "text/html": [
       "<div>\n",
       "<style scoped>\n",
       "    .dataframe tbody tr th:only-of-type {\n",
       "        vertical-align: middle;\n",
       "    }\n",
       "\n",
       "    .dataframe tbody tr th {\n",
       "        vertical-align: top;\n",
       "    }\n",
       "\n",
       "    .dataframe thead th {\n",
       "        text-align: right;\n",
       "    }\n",
       "</style>\n",
       "<table border=\"1\" class=\"dataframe\">\n",
       "  <thead>\n",
       "    <tr style=\"text-align: right;\">\n",
       "      <th></th>\n",
       "      <th>invoice_id</th>\n",
       "      <th>invoice_shared_at</th>\n",
       "      <th>share_due_at</th>\n",
       "      <th>is_invoiced_on_time</th>\n",
       "      <th>days_to_share</th>\n",
       "    </tr>\n",
       "  </thead>\n",
       "  <tbody>\n",
       "    <tr>\n",
       "      <th>24880</th>\n",
       "      <td>724282</td>\n",
       "      <td>2020-06-16 16:28:21.083357</td>\n",
       "      <td>2020-05-23 09:40:43.183000+00:00</td>\n",
       "      <td>False</td>\n",
       "      <td>24.2831</td>\n",
       "    </tr>\n",
       "    <tr>\n",
       "      <th>17575</th>\n",
       "      <td>774694</td>\n",
       "      <td>2020-07-31 15:12:53.003516</td>\n",
       "      <td>2020-06-29 16:57:39.253842+00:00</td>\n",
       "      <td>False</td>\n",
       "      <td>31.9272</td>\n",
       "    </tr>\n",
       "    <tr>\n",
       "      <th>3619</th>\n",
       "      <td>788935</td>\n",
       "      <td>2020-07-25 01:22:31.128266</td>\n",
       "      <td>2020-07-16 14:30:00+00:00</td>\n",
       "      <td>False</td>\n",
       "      <td>8.4531</td>\n",
       "    </tr>\n",
       "  </tbody>\n",
       "</table>\n",
       "</div>"
      ],
      "text/plain": [
       "       invoice_id          invoice_shared_at                     share_due_at  \\\n",
       "24880      724282 2020-06-16 16:28:21.083357 2020-05-23 09:40:43.183000+00:00   \n",
       "17575      774694 2020-07-31 15:12:53.003516 2020-06-29 16:57:39.253842+00:00   \n",
       "3619       788935 2020-07-25 01:22:31.128266        2020-07-16 14:30:00+00:00   \n",
       "\n",
       "       is_invoiced_on_time  days_to_share  \n",
       "24880                False        24.2831  \n",
       "17575                False        31.9272  \n",
       "3619                 False         8.4531  "
      ]
     },
     "execution_count": 2,
     "metadata": {},
     "output_type": "execute_result"
    }
   ],
   "source": [
    "# Get the database connection and cursor objects\n",
    "conn, cur = get_connection()\n",
    "\n",
    "# Use a context manager to open and close connection and files\n",
    "with conn:\n",
    "    \n",
    "    # Open the query.sql file\n",
    "    with open('invoicing_otp.sql', 'r') as q:\n",
    "\n",
    "        # Save contents of query.sql as string\n",
    "        query_str = q.read()\n",
    "    \n",
    "    # Use the read_sql method to get the data from Snowflake into a \n",
    "    # Pandas dataframe\n",
    "    df = pd.read_sql(query_str, conn)\n",
    "    \n",
    "    # Make all the columns lowercase\n",
    "    df.columns = map(str.lower, df.columns)\n",
    "\n",
    "# Preview the data\n",
    "df.sample(3)"
   ]
  },
  {
   "cell_type": "markdown",
   "metadata": {
    "slideshow": {
     "slide_type": "slide"
    }
   },
   "source": [
    "**TODO**: \n",
    "\n",
    "Based on the dataframe, define 2 random variables: one discrete and one continuous"
   ]
  },
  {
   "cell_type": "markdown",
   "metadata": {
    "slideshow": {
     "slide_type": "slide"
    }
   },
   "source": [
    "**Discrete Random Variable**\n",
    "$$\n",
    "X=\\left\\{\\begin{matrix}\n",
    "1\\text{ on-time}\\\\\n",
    "0\\text{ late}\\;\\;\\;\\;\\;\n",
    "\\end{matrix}\\right.\n",
    "$$\n",
    "\n",
    "**Continuous Random Variable**\n",
    "$$\n",
    "Y=\\text{time to share}\n",
    "$$"
   ]
  },
  {
   "cell_type": "code",
   "execution_count": 3,
   "metadata": {
    "slideshow": {
     "slide_type": "slide"
    }
   },
   "outputs": [
    {
     "data": {
      "text/plain": [
       "<matplotlib.axes._subplots.AxesSubplot at 0x143bfd410>"
      ]
     },
     "execution_count": 3,
     "metadata": {},
     "output_type": "execute_result"
    },
    {
     "data": {
      "image/png": "[encoded data removed]",
      "text/plain": [
       "<Figure size 432x288 with 1 Axes>"
      ]
     },
     "metadata": {
      "needs_background": "light"
     },
     "output_type": "display_data"
    }
   ],
   "source": [
    "#Now lets plot the distributions of the discrete random variable\n",
    "df['is_invoiced_on_time'].astype(int).value_counts().plot(kind=\"bar\")"
   ]
  },
  {
   "cell_type": "markdown",
   "metadata": {
    "slideshow": {
     "slide_type": "slide"
    }
   },
   "source": [
    "**Probability Distributions** are the summary of probabilities for the values of a random variable\n",
    "<img src=\"https://miro.medium.com/max/700/1*nOMS0KgevT7YfqtfnhgXUg.png\" align=\"center\"/>"
   ]
  },
  {
   "cell_type": "markdown",
   "metadata": {
    "slideshow": {
     "slide_type": "slide"
    }
   },
   "source": [
    "## Moments of the Distribution\n",
    "<ol start=\"0\">\n",
    "  <li>Total Probability</li>\n",
    "  <li>Expected Value: average or mean value of a random variable X, E[X]</li>\n",
    "  <li>Variance: spread of the values of a random variable from the mean, Var(X)</li>\n",
    "  <li>Skewness: measure of the asymmetry of the probability distribution of a random variable about its mean</li>\n",
    "  <li>Kurtosis: measure of the \"tailedness\" of the probability distribution of a random variable</li>\n",
    "</ol>"
   ]
  },
  {
   "cell_type": "markdown",
   "metadata": {
    "slideshow": {
     "slide_type": "slide"
    }
   },
   "source": [
    "## Discrete Probability Distributions\n",
    "\n",
    "Probability Mass Function (PMF): calculates the probability of observing a given value\n",
    "\n",
    "Cumulative Density Function (CDF): calculates the probability of an observation equal or less than a value"
   ]
  },
  {
   "cell_type": "code",
   "execution_count": 4,
   "metadata": {
    "slideshow": {
     "slide_type": "slide"
    }
   },
   "outputs": [
    {
     "name": "stdout",
     "output_type": "stream",
     "text": [
      "0    20014\n",
      "1    17662\n",
      "Name: is_invoiced_on_time, dtype: int64\n"
     ]
    },
    {
     "data": {
      "text/plain": [
       "<matplotlib.axes._subplots.AxesSubplot at 0x143f09290>"
      ]
     },
     "execution_count": 4,
     "metadata": {},
     "output_type": "execute_result"
    },
    {
     "data": {
      "image/png": "[encoded data removed]",
      "text/plain": [
       "<Figure size 432x288 with 1 Axes>"
      ]
     },
     "metadata": {
      "needs_background": "light"
     },
     "output_type": "display_data"
    }
   ],
   "source": [
    "#Remind us what our histogram of our discrete random variable looked like\n",
    "print(df['is_invoiced_on_time'].astype(int).value_counts())\n",
    "df['is_invoiced_on_time'].astype(int).value_counts().plot(kind=\"bar\")"
   ]
  },
  {
   "cell_type": "markdown",
   "metadata": {
    "slideshow": {
     "slide_type": "slide"
    }
   },
   "source": [
    "Recall our **Discrete Random Variable**\n",
    "$$\n",
    "X=\\left\\{\\begin{matrix}\n",
    "1\\text{ on-time}\\\\\n",
    "0\\text{ late}\\;\\;\\;\\;\\;\n",
    "\\end{matrix}\\right.\n",
    "$$\n",
    "         \n",
    "This **Bernoulli Trial** has two possible outcomes, a success and failure.\n",
    "\n",
    "An important part of every Bernoulli trial is that each action must be independent.\n",
    "\n",
    "**TO DO:** Try to define Probability Mass Function for a bernoulli trial"
   ]
  },
  {
   "cell_type": "markdown",
   "metadata": {
    "slideshow": {
     "slide_type": "slide"
    }
   },
   "source": [
    "<img src=\"https://www.statisticshowto.com/wp-content/uploads/2016/07/pdf-bernoulli.png\" align=\"center\"/>\n",
    "\n",
    "A bernoulli distribution represents the success or failure of a single Bernoulli trial"
   ]
  },
  {
   "cell_type": "markdown",
   "metadata": {
    "slideshow": {
     "slide_type": "slide"
    }
   },
   "source": [
    "**TO DO:** What is the expected value of our random variable?"
   ]
  },
  {
   "cell_type": "markdown",
   "metadata": {
    "slideshow": {
     "slide_type": "slide"
    }
   },
   "source": [
    "**TO DO:** What is the expected value of our random variable?\n",
    "$$\n",
    "E[X]= p\n",
    "$$"
   ]
  },
  {
   "cell_type": "markdown",
   "metadata": {
    "slideshow": {
     "slide_type": "slide"
    }
   },
   "source": [
    "So a bernoulli distribution represents the success or failure of a single Bernoulli trial, what happens if we have _n_ trials?"
   ]
  },
  {
   "cell_type": "code",
   "execution_count": 5,
   "metadata": {
    "slideshow": {
     "slide_type": "slide"
    }
   },
   "outputs": [
    {
     "name": "stdout",
     "output_type": "stream",
     "text": [
      "{1: 36, 2: 39, 0: 17, 3: 8}\n"
     ]
    },
    {
     "data": {
      "text/plain": [
       "(array([17., 36., 39.,  8.]),\n",
       " array([0, 1, 2, 3, 4]),\n",
       " <a list of 4 Patch objects>)"
      ]
     },
     "execution_count": 5,
     "metadata": {},
     "output_type": "execute_result"
    },
    {
     "data": {
      "image/png": "[encoded data removed]",
      "text/plain": [
       "<Figure size 432x288 with 1 Axes>"
      ]
     },
     "metadata": {
      "needs_background": "light"
     },
     "output_type": "display_data"
    }
   ],
   "source": [
    "on_time_ct = [] \n",
    "for i in range(1,101):\n",
    "    sample_data = df.sample(n = 3) \n",
    "    successes = sample_data['is_invoiced_on_time'].sum()\n",
    "    on_time_ct.append(successes)\n",
    "d = {x:on_time_ct.count(x) for x in on_time_ct}\n",
    "print(d)\n",
    "\n",
    "plt.hist(on_time_ct, bins=[0, 1, 2, 3,4])"
   ]
  },
  {
   "cell_type": "markdown",
   "metadata": {
    "slideshow": {
     "slide_type": "slide"
    }
   },
   "source": [
    "How do we derive this mathematically?"
   ]
  },
  {
   "cell_type": "markdown",
   "metadata": {
    "slideshow": {
     "slide_type": "slide"
    }
   },
   "source": [
    "**Possible Results**\n",
    "$$\n",
    "S=[TTT,TTF,TFF,TFT,FFF,FFT,FTF,FTT]\n",
    "$$\n",
    "Let X be the number of Trues selected (i.e. on time)\n",
    "\n",
    "Possible values values of X are, therefore, either 0, 1, 2, or 3"
   ]
  },
  {
   "cell_type": "markdown",
   "metadata": {
    "slideshow": {
     "slide_type": "slide"
    }
   },
   "source": [
    "Since we have the data, we know that that 48% of the invoices issued are on time, while 52% are not. \n",
    "\n",
    "That is, P(T)=.48 and P(F)=.52 Then, by independence:\n",
    "$$\n",
    "P(X=0) = P(FFF) = .52*.52*.52 = 1 * (.48)^0 * (.52)^3\n",
    "$$\n",
    "And, by independence and mutual exclusivity of TFF, FTF, and FFT:\n",
    "$$\n",
    "P(X=1) = P(TFF)+P(FTF)+P(FFT) = 3 * .48 * .52 * .52 = 3 * (.48)^1 * (.52)^2\n",
    "$$\n",
    "Do you see a pattern in our calculations?"
   ]
  },
  {
   "cell_type": "markdown",
   "metadata": {
    "slideshow": {
     "slide_type": "slide"
    }
   },
   "source": [
    "## Binomial Distribution:\n",
    "the number of success in a sequence of independent experiments\n",
    "\n",
    "1. The number of observations n is fixed.\n",
    "2. Each observation is independent.\n",
    "3. Each observation represents one of two outcomes (\"success\" or \"failure\").\n",
    "4. The probability of \"success\" p is the same for each outcome.\n",
    "\n",
    "We denote the binomial distribution as \n",
    "$$\n",
    "X\\sim b(n, p)\n",
    "$$\n",
    "\n",
    "**PMF:** \n",
    "\n",
    "<img src=\"https://wikimedia.org/api/rest_v1/media/math/render/svg/20edfc22372742d64909cf7c7f97593bade88338\" align=\"center\"/>\n",
    "\n",
    "**CDF:** \n",
    "\n",
    "<img src=\"https://wikimedia.org/api/rest_v1/media/math/render/svg/8689ba703ee51a5f66f605ea1f293fc74fa380b9\" align=\"center\"/>\n",
    "\n",
    "\n",
    "For a single trial, i.e., n = 1, the binomial distribution is a **Bernoulli distribution**"
   ]
  },
  {
   "cell_type": "markdown",
   "metadata": {
    "slideshow": {
     "slide_type": "slide"
    }
   },
   "source": [
    "# Shipment Insurance Claims Rate\n",
    "Let's say we had an insurance DA, Jason Exotic 🐅, who is tasked with estimating the true claims rate for shipments. He has a sample of 30,000 shipments that were insured and observes that claims were only filed for only 30 shipments.\n",
    "\n",
    "**Question:** What's the likelihood we would've obtained this result if the true claims rate was actually .005? .001? .25?"
   ]
  },
  {
   "cell_type": "markdown",
   "metadata": {},
   "source": [
    "I only anticipate getting this far!"
   ]
  },
  {
   "cell_type": "markdown",
   "metadata": {
    "slideshow": {
     "slide_type": "slide"
    }
   },
   "source": [
    "## Poisson distribution:\n",
    " - The Poisson distribution can be used to calculate the probabilities of various numbers of \"successes\" based on the mean number of successes\n",
    "\n",
    "**PDF:**\n",
    "<img src=\"https://wikimedia.org/api/rest_v1/media/math/render/svg/75b15a85051528f8722d2b676a557f6c22bf85c4\" align=\"left \"/>\n",
    "**CDF:**\n",
    "<img src=\"https://wikimedia.org/api/rest_v1/media/math/render/svg/016f49082c09ba307c9cb2a51039134a4c35cca2\" align=\"right \"/>\n"
   ]
  },
  {
   "cell_type": "markdown",
   "metadata": {
    "slideshow": {
     "slide_type": "subslide"
    }
   },
   "source": [
    "Also see: \n",
    " - Multinoulli and multinomial distributions (ex. probabilities of transportation mode)\n",
    " - Discrete uniform distribution"
   ]
  },
  {
   "cell_type": "markdown",
   "metadata": {
    "slideshow": {
     "slide_type": "slide"
    }
   },
   "source": [
    "## Continuous Probability Distributions\n",
    "\n",
    "**Probability Density Function (PDF):** calculates the probability of observing a given value\n",
    "\n",
    "**Cumulative Density Function (CDF):** calculates the probability of an observation equal or less than a value\n",
    "\n",
    "The **CDF** is the integral of the **PDF** from  −∞ to 𝑥"
   ]
  },
  {
   "cell_type": "code",
   "execution_count": 6,
   "metadata": {
    "scrolled": true,
    "slideshow": {
     "slide_type": "slide"
    }
   },
   "outputs": [
    {
     "data": {
      "text/plain": [
       "(array([7.5900e+02, 4.2110e+03, 2.7504e+04, 4.0080e+03, 7.0300e+02,\n",
       "        2.1200e+02, 8.1000e+01, 4.5000e+01, 4.3000e+01, 2.8000e+01,\n",
       "        2.0000e+01, 7.0000e+00, 1.1000e+01, 1.0000e+01, 1.0000e+01,\n",
       "        1.3000e+01, 5.0000e+00, 2.0000e+00, 2.0000e+00, 2.0000e+00]),\n",
       " array([-56.1489 , -31.67837,  -7.20784,  17.26269,  41.73322,  66.20375,\n",
       "         90.67428, 115.14481, 139.61534, 164.08587, 188.5564 , 213.02693,\n",
       "        237.49746, 261.96799, 286.43852, 310.90905, 335.37958, 359.85011,\n",
       "        384.32064, 408.79117, 433.2617 ]),\n",
       " <a list of 20 Patch objects>)"
      ]
     },
     "execution_count": 6,
     "metadata": {},
     "output_type": "execute_result"
    },
    {
     "data": {
      "image/png": "[encoded data removed]",
      "text/plain": [
       "<Figure size 432x288 with 1 Axes>"
      ]
     },
     "metadata": {
      "needs_background": "light"
     },
     "output_type": "display_data"
    }
   ],
   "source": [
    "#Histogram of our continuous random variable\n",
    "share_times = df['days_to_share'].tolist()\n",
    "plt.hist(share_times, bins=20)"
   ]
  },
  {
   "cell_type": "markdown",
   "metadata": {
    "slideshow": {
     "slide_type": "slide"
    }
   },
   "source": [
    "A **Gaussian (normal)** distribution: \n",
    " - widely used in data science\n",
    " - represents many phenomena in the world\n",
    " - and the sum of small random variables also turns out to usually follow a normal distribution (Central Limit Theorem)\n",
    "\n",
    "**PDF:**\n",
    "<img src=\"https://wikimedia.org/api/rest_v1/media/math/render/svg/00cb9b2c9b866378626bcfa45c86a6de2f2b2e40\" align=\"left \"/>\n",
    "**CDF:**\n",
    "<img src=\"https://wikimedia.org/api/rest_v1/media/math/render/svg/187f33664b79492eedf4406c66d67f9fe5f524ea\" align=\"right \"/>\n"
   ]
  },
  {
   "cell_type": "code",
   "execution_count": 7,
   "metadata": {
    "slideshow": {
     "slide_type": "slide"
    }
   },
   "outputs": [
    {
     "data": {
      "image/png": "[encoded data removed]",
      "text/plain": [
       "<Figure size 432x288 with 2 Axes>"
      ]
     },
     "metadata": {
      "needs_background": "light"
     },
     "output_type": "display_data"
    }
   ],
   "source": [
    "from scipy.stats import norm\n",
    "\n",
    "#Let's take a step back and visualize the relationship between the PDF and CDF\n",
    "\n",
    "fig, (ax1, ax2) = plt.subplots(1,2)\n",
    "x= np.arange(-4,4,0.001)\n",
    "ax1.plot(x, norm.pdf(x))\n",
    "px=np.arange(-4,1,0.01)\n",
    "ax1.set_ylim(0,0.5)\n",
    "ax1.fill_between(px,norm.pdf(px),alpha=0.5, color='g')\n",
    "ax1.set_title('Normal Distribution PDF')\n",
    "# for text\n",
    "ax1.text(-1.5,0.1,\"cdf(x)\", fontsize=15)\n",
    "ax2.plot(x, norm.cdf(x))\n",
    "ax2.set_title('Normal Distribution CDF')\n",
    "plt.show()"
   ]
  },
  {
   "cell_type": "code",
   "execution_count": 8,
   "metadata": {
    "slideshow": {
     "slide_type": "slide"
    }
   },
   "outputs": [
    {
     "data": {
      "text/plain": [
       "Text(0.5, 1.0, 'Normal Distribution CDF')"
      ]
     },
     "execution_count": 8,
     "metadata": {},
     "output_type": "execute_result"
    },
    {
     "data": {
      "image/png": "[encoded data removed]",
      "text/plain": [
       "<Figure size 1440x360 with 3 Axes>"
      ]
     },
     "metadata": {
      "needs_background": "light"
     },
     "output_type": "display_data"
    }
   ],
   "source": [
    "#now lets try to see how well our invoicing OTP data fits a normal distribution \n",
    "mean = np.mean(share_times)\n",
    "std = np.std(share_times)\n",
    "\n",
    "distribution = norm(mean, std)\n",
    "\n",
    "min_time = min(share_times)\n",
    "max_time = max(share_times)\n",
    "values = list(range(int(min_time), int(max_time)))\n",
    "probabilities = [distribution.pdf(v) for v in values]\n",
    "\n",
    "fig, (ax1, ax2, ax3) = plt.subplots(1, 3, figsize=(20,5))\n",
    "\n",
    "ax1.hist(share_times, bins=200, density=True)\n",
    "ax1.set_title('Histogram')\n",
    "ax1.set_ylim(0,0.09)\n",
    "\n",
    "ax2.hist(share_times, bins=200, density=True)\n",
    "ax2.plot(values, probabilities)\n",
    "ax2.set_title('Histogram with Normal Distribution PDF')\n",
    "ax2.set_ylim(0,0.09)\n",
    "\n",
    "ax3.hist(share_times, cumulative=True, density=1, bins=200)\n",
    "ax3.set_title('Normal Distribution CDF')"
   ]
  },
  {
   "cell_type": "code",
   "execution_count": 9,
   "metadata": {},
   "outputs": [
    {
     "name": "stdout",
     "output_type": "stream",
     "text": [
      "mean :  4.0200769296103624\n",
      "var  :  494.0242543772732\n",
      "skew :  5.807284933120771\n",
      "kurt :  68.0997563250272\n"
     ]
    }
   ],
   "source": [
    "from scipy.stats import kurtosis, skew\n",
    "print(\"mean : \", np.mean(share_times))\n",
    "print(\"var  : \", np.var(share_times))\n",
    "print(\"skew : \", skew(share_times))\n",
    "print(\"kurt : \", kurtosis(share_times))"
   ]
  },
  {
   "cell_type": "markdown",
   "metadata": {},
   "source": [
    "**Homework:**\n",
    "Take the same data in `invoice_details.sql` and find the distribution that best fits the following, and provide the 4 moments of the :\n",
    "\n",
    "1. The probability that an invoice is shared by each of Flexport's entities\n",
    "2. The probability that an invoice is shared in a given base currency\n",
    "3. The probability that and invoice revenue amount (USD) is between 1000 and 2000. "
   ]
  }
 ],
 "metadata": {
  "celltoolbar": "Slideshow",
  "kernelspec": {
   "display_name": "Python 3",
   "language": "python",
   "name": "python3"
  },
  "language_info": {
   "codemirror_mode": {
    "name": "ipython",
    "version": 3
   },
   "file_extension": ".py",
   "mimetype": "text/x-python",
   "name": "python",
   "nbconvert_exporter": "python",
   "pygments_lexer": "ipython3",
   "version": "3.7.7"
  }
 },
 "nbformat": 4,
 "nbformat_minor": 4
}
