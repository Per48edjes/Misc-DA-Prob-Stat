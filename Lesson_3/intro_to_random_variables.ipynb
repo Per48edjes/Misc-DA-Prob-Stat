{
 "cells": [
  {
   "cell_type": "markdown",
   "metadata": {
    "slideshow": {
     "slide_type": "slide"
    }
   },
   "source": [
    "# Random Variables and Distributions\n",
    "DA Probability & Statistics Learning Series • Lesson 3(?)\n",
    "\n",
    "<img src=\"https://ihaveapc.com/wp-content/uploads/2018/03/1-2.jpg\" align=\"center\" width=\"30%\"/>\n",
    "\n",
    "Welcome, again!\n",
    "\n",
    "*See **#da_prob_stat** for discussion during and after this tutorial.*"
   ]
  },
  {
   "cell_type": "markdown",
   "metadata": {
    "slideshow": {
     "slide_type": "slide"
    }
   },
   "source": [
    "A **Random Variable** is a variable whose possible values are numerical outcomes of a random process\n",
    "<img src=\"https://www.mathsisfun.com/data/images/random-variable-1.svg\" align=\"center\"/>"
   ]
  },
  {
   "cell_type": "markdown",
   "metadata": {
    "slideshow": {
     "slide_type": "notes"
    }
   },
   "source": [
    "X really refers to the distribution of possible values and the associated probabilities.\n",
    "This contrasts to your conventional algebraic variables that typically have a single value"
   ]
  },
  {
   "cell_type": "markdown",
   "metadata": {
    "slideshow": {
     "slide_type": "slide"
    }
   },
   "source": [
    "A **discrete random variable** is one which may take on only a countable number of distinct values. For example, rolling a die.\n",
    "\n",
    "$$\n",
    "\\begin{align}\n",
    "X &= [{1},{2},{3},{4},{5},{6}]\n",
    "\\end{align}\n",
    "$$\n",
    "\n",
    "A discrete random variable must adhere to the following two rules:\n",
    "\n",
    "$$\n",
    "1: 0 < P(X=x_i) < 1 \\text{ for each i }\\\\\n",
    "2: P(X=x_1)+P(X=x_2)+...+P(X=x_k)=1\n",
    "$$\n",
    "\n",
    "A **continuous random variable** is one which takes an infinite number of possible values\n",
    "\n",
    "$$\n",
    "\\begin{align}\n",
    "Y &= \\text{ exact transit time of a shipment }\n",
    "\\end{align}\n",
    "$$"
   ]
  },
  {
   "cell_type": "code",
   "execution_count": 3,
   "metadata": {
    "slideshow": {
     "slide_type": "subslide"
    }
   },
   "outputs": [],
   "source": [
    "# Import dependencies \n",
    "from custom.db_utils import get_connection\n",
    "import pandas as pd\n",
    "\n",
    "# Data viz\n",
    "import matplotlib.pyplot as plt\n",
    "import seaborn as sns"
   ]
  },
  {
   "cell_type": "code",
   "execution_count": 33,
   "metadata": {
    "slideshow": {
     "slide_type": "subslide"
    }
   },
   "outputs": [
    {
     "name": "stdout",
     "output_type": "stream",
     "text": [
      "Initiating login request with your identity provider. A browser window should have opened for you to complete the login. If you can't see it, check existing browser windows, or your OS settings. Press CTRL+C to abort and try again...\n"
     ]
    },
    {
     "data": {
      "text/html": [
       "<div>\n",
       "<style scoped>\n",
       "    .dataframe tbody tr th:only-of-type {\n",
       "        vertical-align: middle;\n",
       "    }\n",
       "\n",
       "    .dataframe tbody tr th {\n",
       "        vertical-align: top;\n",
       "    }\n",
       "\n",
       "    .dataframe thead th {\n",
       "        text-align: right;\n",
       "    }\n",
       "</style>\n",
       "<table border=\"1\" class=\"dataframe\">\n",
       "  <thead>\n",
       "    <tr style=\"text-align: right;\">\n",
       "      <th></th>\n",
       "      <th>invoice_id</th>\n",
       "      <th>invoice_shared_at</th>\n",
       "      <th>share_due_at</th>\n",
       "      <th>is_invoiced_on_time</th>\n",
       "      <th>days_to_share</th>\n",
       "    </tr>\n",
       "  </thead>\n",
       "  <tbody>\n",
       "    <tr>\n",
       "      <th>18308</th>\n",
       "      <td>829740</td>\n",
       "      <td>2020-06-18 16:20:00.590881</td>\n",
       "      <td>2020-05-23 16:00:00+00:00</td>\n",
       "      <td>False</td>\n",
       "      <td>26.0139</td>\n",
       "    </tr>\n",
       "    <tr>\n",
       "      <th>26259</th>\n",
       "      <td>784826</td>\n",
       "      <td>2020-07-15 19:18:31.331282</td>\n",
       "      <td>2020-07-16 14:41:15+00:00</td>\n",
       "      <td>True</td>\n",
       "      <td>-0.8075</td>\n",
       "    </tr>\n",
       "    <tr>\n",
       "      <th>4079</th>\n",
       "      <td>758527</td>\n",
       "      <td>2020-06-04 13:22:48.726151</td>\n",
       "      <td>2020-06-06 16:00:00+00:00</td>\n",
       "      <td>True</td>\n",
       "      <td>-2.1092</td>\n",
       "    </tr>\n",
       "  </tbody>\n",
       "</table>\n",
       "</div>"
      ],
      "text/plain": [
       "       invoice_id          invoice_shared_at              share_due_at  \\\n",
       "18308      829740 2020-06-18 16:20:00.590881 2020-05-23 16:00:00+00:00   \n",
       "26259      784826 2020-07-15 19:18:31.331282 2020-07-16 14:41:15+00:00   \n",
       "4079       758527 2020-06-04 13:22:48.726151 2020-06-06 16:00:00+00:00   \n",
       "\n",
       "       is_invoiced_on_time  days_to_share  \n",
       "18308                False        26.0139  \n",
       "26259                 True        -0.8075  \n",
       "4079                  True        -2.1092  "
      ]
     },
     "execution_count": 33,
     "metadata": {},
     "output_type": "execute_result"
    }
   ],
   "source": [
    "# Get the database connection and cursor objects\n",
    "conn, cur = get_connection()\n",
    "\n",
    "# Use a context manager to open and close connection and files\n",
    "with conn:\n",
    "    \n",
    "    # Open the query.sql file\n",
    "    with open('invoicing_otp.sql', 'r') as q:\n",
    "\n",
    "        # Save contents of query.sql as string\n",
    "        query_str = q.read()\n",
    "    \n",
    "    # Use the read_sql method to get the data from Snowflake into a \n",
    "    # Pandas dataframe\n",
    "    df = pd.read_sql(query_str, conn)\n",
    "    \n",
    "    # Make all the columns lowercase\n",
    "    df.columns = map(str.lower, df.columns)\n",
    "\n",
    "# Preview the data\n",
    "df.sample(3)"
   ]
  },
  {
   "cell_type": "markdown",
   "metadata": {
    "slideshow": {
     "slide_type": "slide"
    }
   },
   "source": [
    "**TODO**: Define 2 random variables, one discrete and one continuous"
   ]
  },
  {
   "cell_type": "markdown",
   "metadata": {
    "slideshow": {
     "slide_type": "slide"
    }
   },
   "source": [
    "Discrete Random Variable\n",
    "$$\n",
    "x=\\left\\{\\begin{matrix}\n",
    "1\\text{ on-time}\\\\\n",
    "0\\text{ late}\\;\\;\\;\\;\\;\n",
    "\\end{matrix}\\right.\n",
    "$$\n",
    "\n",
    "Continuous Random Variable\n",
    "$$\n",
    "Y=\\text{time to share}\n",
    "$$"
   ]
  },
  {
   "cell_type": "markdown",
   "metadata": {
    "slideshow": {
     "slide_type": "slide"
    }
   },
   "source": [
    "Now lets plot the distributions of these random variables"
   ]
  },
  {
   "cell_type": "code",
   "execution_count": 50,
   "metadata": {
    "slideshow": {
     "slide_type": "slide"
    }
   },
   "outputs": [
    {
     "data": {
      "text/plain": [
       "<matplotlib.axes._subplots.AxesSubplot at 0x1381e64d0>"
      ]
     },
     "execution_count": 50,
     "metadata": {},
     "output_type": "execute_result"
    },
    {
     "data": {
      "image/png": "[encoded data removed]",
      "text/plain": [
       "<Figure size 432x288 with 1 Axes>"
      ]
     },
     "metadata": {
      "needs_background": "light"
     },
     "output_type": "display_data"
    }
   ],
   "source": [
    "import numpy as np\n",
    "import matplotlib.pyplot as plt\n",
    "\n",
    "df['is_invoiced_on_time'].astype(int).value_counts().plot(kind=\"bar\")\n",
    "\n",
    "#this is a bernoulli distribution, the discrete probability distribution of a random variable \n",
    "#which takes the value 1 with probability p and the value 0 with probability q=1-p"
   ]
  },
  {
   "cell_type": "code",
   "execution_count": 35,
   "metadata": {
    "slideshow": {
     "slide_type": "slide"
    }
   },
   "outputs": [
    {
     "data": {
      "text/plain": [
       "(array([   15.,    58.,   146.,   303.,   410.,   564.,   868.,  1159.,\n",
       "         2322., 14181.,  4977.,  2248.,  1498.,  1149.,   759.,   509.,\n",
       "          394.,   277.,   160.,    85.]),\n",
       " array([-54.9157  , -49.171095, -43.42649 , -37.681885, -31.93728 ,\n",
       "        -26.192675, -20.44807 , -14.703465,  -8.95886 ,  -3.214255,\n",
       "          2.53035 ,   8.274955,  14.01956 ,  19.764165,  25.50877 ,\n",
       "         31.253375,  36.99798 ,  42.742585,  48.48719 ,  54.231795,\n",
       "         59.9764  ]),\n",
       " <a list of 20 Patch objects>)"
      ]
     },
     "execution_count": 35,
     "metadata": {},
     "output_type": "execute_result"
    },
    {
     "data": {
      "image/png": "[encoded data removed]",
      "text/plain": [
       "<Figure size 432x288 with 1 Axes>"
      ]
     },
     "metadata": {
      "needs_background": "light"
     },
     "output_type": "display_data"
    }
   ],
   "source": [
    "share_times = df['days_to_share'].tolist()\n",
    "plt.hist(share_times, bins=20)"
   ]
  },
  {
   "cell_type": "code",
   "execution_count": 36,
   "metadata": {
    "slideshow": {
     "slide_type": "slide"
    }
   },
   "outputs": [
    {
     "data": {
      "text/plain": [
       "[<matplotlib.lines.Line2D at 0x133e4c3d0>]"
      ]
     },
     "execution_count": 36,
     "metadata": {},
     "output_type": "execute_result"
    },
    {
     "data": {
      "image/png": "[encoded data removed]",
      "text/plain": [
       "<Figure size 432x288 with 1 Axes>"
      ]
     },
     "metadata": {
      "needs_background": "light"
     },
     "output_type": "display_data"
    }
   ],
   "source": [
    "mean = np.mean(share_times)\n",
    "std = pstd(share_times)\n",
    "\n",
    "from scipy.stats import norm\n",
    "distribution = norm(mean, std)\n",
    "\n",
    "min_time = min(share_times)\n",
    "max_time = max(share_times)\n",
    "values = list(range(int(min_time), int(max_time)))\n",
    "probabilities = [distribution.pdf(v) for v in values]\n",
    "\n",
    "from matplotlib import pyplot\n",
    "pyplot.hist(share_times, bins=20, density=True) # , \n",
    "pyplot.plot(values, probabilities)"
   ]
  },
  {
   "cell_type": "code",
   "execution_count": null,
   "metadata": {},
   "outputs": [],
   "source": []
  }
 ],
 "metadata": {
  "celltoolbar": "Slideshow",
  "kernelspec": {
   "display_name": "Python 3",
   "language": "python",
   "name": "python3"
  },
  "language_info": {
   "codemirror_mode": {
    "name": "ipython",
    "version": 3
   },
   "file_extension": ".py",
   "mimetype": "text/x-python",
   "name": "python",
   "nbconvert_exporter": "python",
   "pygments_lexer": "ipython3",
   "version": "3.7.7"
  }
 },
 "nbformat": 4,
 "nbformat_minor": 4
}
