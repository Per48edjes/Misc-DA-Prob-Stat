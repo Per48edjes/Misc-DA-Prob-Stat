{
 "cells": [
  {
   "cell_type": "markdown",
   "metadata": {},
   "source": [
    "# Bayes Theorem\n",
    "DA Probability & Statistics • Lesson 3\n",
    "\n",
    "- NJ's Part -- Shreyas, you Can copy cell by cell "
   ]
  },
  {
   "cell_type": "code",
   "execution_count": 1,
   "metadata": {},
   "outputs": [],
   "source": [
    "# Import dependencies \n",
    "from custom.db_utils import get_connection\n",
    "import pandas as pd\n",
    "\n",
    "# Object typing\n",
    "from typing import TypeVar\n",
    "PandasSeries = TypeVar('pd.core.series.Series')\n",
    "PandasDataFrame = TypeVar('pd.core.frame.DataFrame')\n",
    "\n",
    "# Data viz\n",
    "import matplotlib.pyplot as plt\n",
    "from matplotlib.ticker import PercentFormatter\n",
    "import seaborn as sns\n",
    "import numpy as np"
   ]
  },
  {
   "cell_type": "code",
   "execution_count": 2,
   "metadata": {},
   "outputs": [
    {
     "data": {
      "text/html": [
       "<div>\n",
       "<style scoped>\n",
       "    .dataframe tbody tr th:only-of-type {\n",
       "        vertical-align: middle;\n",
       "    }\n",
       "\n",
       "    .dataframe tbody tr th {\n",
       "        vertical-align: top;\n",
       "    }\n",
       "\n",
       "    .dataframe thead th {\n",
       "        text-align: right;\n",
       "    }\n",
       "</style>\n",
       "<table border=\"1\" class=\"dataframe\">\n",
       "  <thead>\n",
       "    <tr style=\"text-align: right;\">\n",
       "      <th></th>\n",
       "      <th>shipment_id</th>\n",
       "      <th>accepted_quote_at</th>\n",
       "      <th>tradelane</th>\n",
       "      <th>mode</th>\n",
       "    </tr>\n",
       "  </thead>\n",
       "  <tbody>\n",
       "    <tr>\n",
       "      <td>78654</td>\n",
       "      <td>787169</td>\n",
       "      <td>2020-05-12 00:00:00+00:00</td>\n",
       "      <td>TPEB</td>\n",
       "      <td>Ocean</td>\n",
       "    </tr>\n",
       "    <tr>\n",
       "      <td>114341</td>\n",
       "      <td>483506</td>\n",
       "      <td>2019-01-23 00:00:00+00:00</td>\n",
       "      <td>TPEB</td>\n",
       "      <td>Ocean</td>\n",
       "    </tr>\n",
       "    <tr>\n",
       "      <td>49296</td>\n",
       "      <td>613201</td>\n",
       "      <td>2019-09-05 00:00:00+00:00</td>\n",
       "      <td>TPEB</td>\n",
       "      <td>Ocean</td>\n",
       "    </tr>\n",
       "  </tbody>\n",
       "</table>\n",
       "</div>"
      ],
      "text/plain": [
       "        shipment_id         accepted_quote_at tradelane   mode\n",
       "78654        787169 2020-05-12 00:00:00+00:00      TPEB  Ocean\n",
       "114341       483506 2019-01-23 00:00:00+00:00      TPEB  Ocean\n",
       "49296        613201 2019-09-05 00:00:00+00:00      TPEB  Ocean"
      ]
     },
     "execution_count": 2,
     "metadata": {},
     "output_type": "execute_result"
    }
   ],
   "source": [
    "# Get the database connection and cursor objects\n",
    "conn, cur = get_connection()\n",
    "\n",
    "# Use a context manager to open and close connection and files\n",
    "with conn:\n",
    "    \n",
    "    # Open the query.sql file\n",
    "    with open('query.sql', 'r') as q:\n",
    "\n",
    "        # Save contents of query.sql as string\n",
    "        query_str = q.read()\n",
    "    \n",
    "    # Use the read_sql method to get the data from Snowflake into a \n",
    "    # Pandas dataframe\n",
    "    df = pd.read_sql(query_str, conn)\n",
    "    \n",
    "    # Make all the columns lowercase\n",
    "    df.columns = map(str.lower, df.columns)\n",
    "\n",
    "# Preview the data\n",
    "df.sample(3)"
   ]
  },
  {
   "cell_type": "code",
   "execution_count": 3,
   "metadata": {},
   "outputs": [],
   "source": [
    "# Isolate data to be used\n",
    "tradelane_mode_df = df[['tradelane', 'mode']]\n",
    "tradelane_mode_df\n",
    "\n",
    "# Call Crosstab function from last time to get sums of tradelane and mode pairs.\n",
    "tradelane_mode_xt = pd.crosstab(index=tradelane_mode_df['tradelane'], \n",
    "                               columns=tradelane_mode_df['mode'])"
   ]
  },
  {
   "cell_type": "markdown",
   "metadata": {},
   "source": [
    "# Binary Classification with Bayes\n",
    "\n",
    "Let's introduce this with an example (motivated from a lesson at UC Berkeley):\n",
    "\n",
    "Let's Say we know that: \n",
    "- 60% of shipments are Ocean and the remaining 40% are Ocean\n",
    "- 50% of Ocean Shipments are on TPEB\n",
    "- 80% of Air Shipments are on TPEB\n",
    "\n",
    "\n",
    "Now suppose I pick a shipment at random. Can you classify the shipment as Air or Ocean? We can do this by predicting which is more likely to happen. \n",
    "\n"
   ]
  },
  {
   "cell_type": "markdown",
   "metadata": {},
   "source": [
    "<b> You probably guessed ocean ... </b>\n",
    "\n",
    "The shipment is picked at random and so you know that the chance that the shipment is Ocean is 60%. That's greater than the 40% chance of being an Air shipment, so you would classify the shipment as Ocean.\n",
    "\n",
    "The information about the tradelane is irrelevant, as we already know the proportions of mode. \n",
    "\n",
    "We have a pretty simple classifier! "
   ]
  },
  {
   "cell_type": "markdown",
   "metadata": {},
   "source": [
    "But now suppose I give you some additional information about the shipment that was picked:\n",
    "\n",
    "<b>The Shipment was on TPEB. </b>\n",
    "\n",
    "Would this knowledge change your classification?\n",
    "\n",
    "<b>Updating the Prediction Based on New Information </b>\n",
    "\n",
    "Now that we know the shipment is on TPEB, it becomes important to look at the relation between shipment and mode. It's still true that more shipments are ocean than air. But it's also true that among the ocean shipments, a much higher percent are on TPEB. Our classification has to take both of these observations into account.\n",
    "\n",
    "To visualize this, we will use a table that consists of one row for each of 100 shipments whose mode and tradelane have the same proportions as given in the data.\n"
   ]
  },
  {
   "cell_type": "code",
   "execution_count": 4,
   "metadata": {},
   "outputs": [
    {
     "data": {
      "text/html": [
       "<div>\n",
       "<style scoped>\n",
       "    .dataframe tbody tr th:only-of-type {\n",
       "        vertical-align: middle;\n",
       "    }\n",
       "\n",
       "    .dataframe tbody tr th {\n",
       "        vertical-align: top;\n",
       "    }\n",
       "\n",
       "    .dataframe thead th {\n",
       "        text-align: right;\n",
       "    }\n",
       "</style>\n",
       "<table border=\"1\" class=\"dataframe\">\n",
       "  <thead>\n",
       "    <tr style=\"text-align: right;\">\n",
       "      <th></th>\n",
       "      <th>Mode</th>\n",
       "      <th>Tradelane</th>\n",
       "    </tr>\n",
       "  </thead>\n",
       "  <tbody>\n",
       "    <tr>\n",
       "      <td>0</td>\n",
       "      <td>Ocean</td>\n",
       "      <td>Not TPEB</td>\n",
       "    </tr>\n",
       "    <tr>\n",
       "      <td>1</td>\n",
       "      <td>Ocean</td>\n",
       "      <td>Not TPEB</td>\n",
       "    </tr>\n",
       "    <tr>\n",
       "      <td>2</td>\n",
       "      <td>Ocean</td>\n",
       "      <td>Not TPEB</td>\n",
       "    </tr>\n",
       "    <tr>\n",
       "      <td>3</td>\n",
       "      <td>Ocean</td>\n",
       "      <td>Not TPEB</td>\n",
       "    </tr>\n",
       "    <tr>\n",
       "      <td>4</td>\n",
       "      <td>Ocean</td>\n",
       "      <td>Not TPEB</td>\n",
       "    </tr>\n",
       "  </tbody>\n",
       "</table>\n",
       "</div>"
      ],
      "text/plain": [
       "    Mode Tradelane\n",
       "0  Ocean  Not TPEB\n",
       "1  Ocean  Not TPEB\n",
       "2  Ocean  Not TPEB\n",
       "3  Ocean  Not TPEB\n",
       "4  Ocean  Not TPEB"
      ]
     },
     "execution_count": 4,
     "metadata": {},
     "output_type": "execute_result"
    }
   ],
   "source": [
    "mode = np.array(['Ocean']*60 + ['Air']*40)\n",
    "tradelane = np.array(['Not TPEB']*30+['TPEB']*30+['Not TPEB']*8+['TPEB']*32)\n",
    "df = {'Mode':mode,'Tradelane':tradelane}\n",
    "df = pd.DataFrame(df, columns=['Mode','Tradelane'])\n",
    "\n",
    "df.head()"
   ]
  },
  {
   "cell_type": "code",
   "execution_count": 5,
   "metadata": {},
   "outputs": [
    {
     "data": {
      "text/html": [
       "<div>\n",
       "<style scoped>\n",
       "    .dataframe tbody tr th:only-of-type {\n",
       "        vertical-align: middle;\n",
       "    }\n",
       "\n",
       "    .dataframe tbody tr th {\n",
       "        vertical-align: top;\n",
       "    }\n",
       "\n",
       "    .dataframe thead th {\n",
       "        text-align: right;\n",
       "    }\n",
       "</style>\n",
       "<table border=\"1\" class=\"dataframe\">\n",
       "  <thead>\n",
       "    <tr style=\"text-align: right;\">\n",
       "      <th>Mode</th>\n",
       "      <th>Air</th>\n",
       "      <th>Ocean</th>\n",
       "    </tr>\n",
       "    <tr>\n",
       "      <th>Tradelane</th>\n",
       "      <th></th>\n",
       "      <th></th>\n",
       "    </tr>\n",
       "  </thead>\n",
       "  <tbody>\n",
       "    <tr>\n",
       "      <td>Not TPEB</td>\n",
       "      <td>8</td>\n",
       "      <td>30</td>\n",
       "    </tr>\n",
       "    <tr>\n",
       "      <td>TPEB</td>\n",
       "      <td>32</td>\n",
       "      <td>30</td>\n",
       "    </tr>\n",
       "  </tbody>\n",
       "</table>\n",
       "</div>"
      ],
      "text/plain": [
       "Mode       Air  Ocean\n",
       "Tradelane            \n",
       "Not TPEB     8     30\n",
       "TPEB        32     30"
      ]
     },
     "execution_count": 5,
     "metadata": {},
     "output_type": "execute_result"
    }
   ],
   "source": [
    "pd.crosstab(index=df['Tradelane'], \n",
    "                               columns=df['Mode'])"
   ]
  },
  {
   "cell_type": "markdown",
   "metadata": {},
   "source": [
    "The total count is 100 shipments, of which 60 are Ocean and 40 are Air. Among the Ocean, 50% are in each of the tradelane choices. Among the 40 Air Shipments, 20% are not on TPEB and 80% are. \n",
    "\n",
    "Coming back to the example, we have to pick which row the shipment is most likely to be in. When we knew nothing more about the shipment, and therefore were more likely to be in the second column (Ocean) because that contains more shipments.\n",
    "\n",
    "But now we know that the student is on TPEB, so the space of possible outcomes has decreased: now the shipment can only be in one of the two TPEB cells. \n",
    "\n",
    "There are 62 shipments in those cells, and 32 out of the 62 are Air. That's more than half, even though not by much. \n",
    "\n",
    "So, in the light of the new information about the tradelane, <b> we have to update our prediction and now classify the shipment as Air. </b>\n"
   ]
  },
  {
   "cell_type": "markdown",
   "metadata": {},
   "source": [
    "The method that we have just used above is due to the Reverend [Thomas Bayes](https://en.wikipedia.org/wiki/Thomas_Bayes) (1701-1761). His method solved what was called an \"inverse probability\" problem: given new data, how can you update chances you had found earlier? Though Bayes lived three centuries ago, his method is widely used now in machine learning."
   ]
  },
  {
   "cell_type": "markdown",
   "metadata": {},
   "source": [
    "## Conditional Probability!  \n",
    "\n",
    "Let's mathematically build up the intuition behind Bayes Theorem.\n",
    "\n",
    "- Lets say Event A is Shipment is on Air. \n",
    "- Lets say Event B is Shipment being on TPEB. \n",
    "\n",
    "<b>From last time we know: </b>\n",
    "\n",
    "The probability of two events A and B happening, $P(A \\cap B)$ , is the probability of $A$, $P(A)$, times the probability of B given that A has occurred, $P(B \\mid A)$. \n",
    "\n",
    "$P(A \\cap B)$ = $P(A)P(B \\mid A)$\n",
    "\n",
    "On the other hand, the probability of A and B is also equal to the probability\n",
    "of B times the probability of A given B.\n",
    "\n",
    "$P(A \\cap B)$ = $P(B)P(A \\mid B)$\n",
    "\n",
    "Equating the two yields:\n",
    "\n",
    "$P(B)P(A \\mid B)$ = $P(A)P(B \\mid A)$\n",
    "\n",
    "and thus\n",
    "\n",
    "$P(A \\mid B) = \\frac{P(A) P(B \\mid A)} {P(B)}$"
   ]
  },
  {
   "cell_type": "markdown",
   "metadata": {},
   "source": [
    "## The Law of Total Probability 📜\n",
    "\n",
    "Now we need connect conditional and unconditional probabilities. We do this with **the Law of Total Probability** (LOTP). \n",
    "\n",
    "\n",
    "You'll also have the tools to deal with conditioning on multiple events/pieces of information since the concepts translate generally.\n",
    "\n"
   ]
  },
  {
   "cell_type": "markdown",
   "metadata": {},
   "source": [
    "**The Law of Total Probability** is an incredibly useful problem solving tool. Formally stated, it says:\n",
    "\n",
    "$$\n",
    "\\text{If }A_i,...,A_n \\text{ is a partition of the sample space }S \\text{, then }P(B) = \\sum_{i=1}^{n}{P(B|A_i)P(A_i)}.\n",
    "$$"
   ]
  },
  {
   "cell_type": "markdown",
   "metadata": {},
   "source": [
    "But this is likely better illustrated with a picture:\n",
    "\n",
    "![Partition of B by A](./LOTP.png)"
   ]
  },
  {
   "cell_type": "markdown",
   "metadata": {},
   "source": [
    "Okay, your turn to practice!\n",
    "\n",
    "**Question**: \n",
    "\n",
    "> What's $P(\\text{TPEB})$. \n",
    "\n",
    "Partition the data and use LOTP so you can calculate it. Check against the data directly."
   ]
  },
  {
   "cell_type": "code",
   "execution_count": 12,
   "metadata": {},
   "outputs": [
    {
     "ename": "SyntaxError",
     "evalue": "invalid syntax (<ipython-input-12-ac30134b2c1b>, line 15)",
     "output_type": "error",
     "traceback": [
      "\u001b[0;36m  File \u001b[0;32m\"<ipython-input-12-ac30134b2c1b>\"\u001b[0;36m, line \u001b[0;32m15\u001b[0m\n\u001b[0;31m    p_TPEB_given_Air =\u001b[0m\n\u001b[0m                       ^\u001b[0m\n\u001b[0;31mSyntaxError\u001b[0m\u001b[0;31m:\u001b[0m invalid syntax\n"
     ]
    }
   ],
   "source": [
    "## TODO: Demonstrate LOTP on our data; start with tradelane_mode_xt\n",
    "df = pd.read_sql(query_str, conn)\n",
    "\n",
    "# This is the denominator to convert cardinality of sets to probabilities\n",
    "# (per the Naive Definition of Probability)\n",
    "S = tradelane_mode_xt.sum().sum()\n",
    "\n",
    "# Show that p_TPEB_by_LTOP == p_TPEB\n",
    "p_TPEB = tradelane_mode_xt.loc['TPEB',:].sum()/S\n",
    "\n",
    "p_Air = tradelane_mode_xt.loc[:,'Air'].sum()/S\n",
    "\n",
    "p_not_Air = 1 - p_Air\n",
    "\n",
    "p_TPEB_given_Air = \n",
    "\n",
    "p_TPEB_given_not_Air = \n",
    "\n",
    "p_TPEB_by_LOTP = \n",
    "\n",
    "# # Check if our answer is right   \n",
    "# print(f\"Our Answer: {p_TPEB_by_LOTP:.5%}\")\n",
    "# print(f\"Expected Answer: {p_TPEB:.5%}\")"
   ]
  },
  {
   "cell_type": "markdown",
   "metadata": {},
   "source": [
    "# Appendix Below"
   ]
  },
  {
   "cell_type": "code",
   "execution_count": 13,
   "metadata": {},
   "outputs": [],
   "source": [
    "#maybe calculate P(air|tpeb) and p(ocean|tpeb) to drive home example"
   ]
  },
  {
   "cell_type": "code",
   "execution_count": 14,
   "metadata": {},
   "outputs": [
    {
     "name": "stdout",
     "output_type": "stream",
     "text": [
      "P(A|B) = 0.339%\n"
     ]
    }
   ],
   "source": [
    "# calculate the probability using Bayes Theorem\n",
    "# Handy Function we can use!!\n",
    "\n",
    "# calculate P(A|B) given P(A), P(B|A), P(B|not A)\n",
    "def bayes_theorem(p_a, p_b_given_a, p_b_given_not_a):\n",
    "    # calculate P(not A)\n",
    "    not_a = 1 - p_a\n",
    "    # calculate P(B)\n",
    "    p_b = p_b_given_a * p_a + p_b_given_not_a * not_a\n",
    "    # calculate P(A|B)\n",
    "    p_a_given_b = (p_b_given_a * p_a) / p_b\n",
    "    return p_a_given_b\n",
    " \n",
    "# P(A)\n",
    "p_a = 0.0002\n",
    "# P(B|A)\n",
    "p_b_given_a = 0.85\n",
    "# P(B|not A)\n",
    "p_b_given_not_a = 0.05\n",
    "# calculate P(A|B)\n",
    "result = bayes_theorem(p_a, p_b_given_a, p_b_given_not_a)\n",
    "# summarize\n",
    "print('P(A|B) = %.3f%%' % (result * 100))"
   ]
  },
  {
   "cell_type": "markdown",
   "metadata": {},
   "source": [
    "### Bayes' Rule of the General Case ###\n",
    "In general, if the entire outcome space can be partitioned into events $A_1, A_2 \\ldots , A_n$, and $B$ is an event of positive probability, then for each $i$,\n",
    "\n",
    "$$\n",
    "\\begin{align*}\n",
    "P(A_i \\mid B) &= \\frac{P(A_iB)}{P(B)} ~~~~ \\text{(division rule)} \\\\ \\\\\n",
    "&= \\frac{P(A_iB)}{\\sum_{j=1}^n P(A_j B)} ~~~~ \\text{(the }A_j\\text{'s partition the whole space)} \\\\ \\\\\n",
    "&= \\frac{P(A_i)P(B \\mid A_i)}{\\sum_{j=1}^n P(A_j)P(B \\mid A_j)} ~~~~\n",
    "\\text{(multiplication rule)}\n",
    "\\end{align*}\n",
    "$$\n",
    "\n",
    "This calculation is an application of the division rule in a setting where the events $A_1, A_2, \\ldots , A_n$ can be thought of as the results of an \"earlier\" stage of an experiment and $B$ the result of a \"later\" stage. The calculation allows us to find \"backwards in time\" conditional chances of an earlier event given a later one, by writing the chance in terms of the \"forwards in time\" conditional chances of the later event given the earlier ones."
   ]
  },
  {
   "cell_type": "code",
   "execution_count": null,
   "metadata": {},
   "outputs": [],
   "source": []
  },
  {
   "cell_type": "code",
   "execution_count": null,
   "metadata": {},
   "outputs": [],
   "source": []
  }
 ],
 "metadata": {
  "kernelspec": {
   "display_name": "Python 3",
   "language": "python",
   "name": "python3"
  },
  "language_info": {
   "codemirror_mode": {
    "name": "ipython",
    "version": 3
   },
   "file_extension": ".py",
   "mimetype": "text/x-python",
   "name": "python",
   "nbconvert_exporter": "python",
   "pygments_lexer": "ipython3",
   "version": "3.7.5"
  }
 },
 "nbformat": 4,
 "nbformat_minor": 4
}
