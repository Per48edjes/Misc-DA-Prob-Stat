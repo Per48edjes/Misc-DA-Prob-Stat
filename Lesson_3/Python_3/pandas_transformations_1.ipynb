{
 "cells": [
  {
   "cell_type": "code",
   "execution_count": 14,
   "metadata": {},
   "outputs": [],
   "source": [
    "import pandas as pd\n",
    "import numpy as np\n",
    "from db_utils import get_connection, validate_connection, get_data\n",
    "pd.options.display.float_format = '{:,.2f}'.format"
   ]
  },
  {
   "cell_type": "markdown",
   "metadata": {},
   "source": [
    "# Motivating Question\n",
    "\n",
    "How can we manipulate data in pandas to to answer our questions?\n",
    "\n",
    "We're going to be working with some ```Milestone Updates``` data which is messy, buggy, and at the same time is the source for a lot of questions we'll need to solve.\n",
    "The column update_lead_hours here is a calculation of hours between when the update was made, and when the milestone occured. Negative means the milestone was created after it happened, postive means the milestone was created ahead of the actual event."
   ]
  },
  {
   "cell_type": "code",
   "execution_count": 36,
   "metadata": {},
   "outputs": [
    {
     "name": "stdout",
     "output_type": "stream",
     "text": [
      "Initiating login request with your identity provider. A browser window should have opened for you to complete the login. If you can't see it, check existing browser windows, or your OS settings. Press CTRL+C to abort and try again...\n"
     ]
    }
   ],
   "source": [
    "# We'll get started by establishing a database connection and pulling a predetermined dataset of milestone updates\n",
    "# We're selecting for only July 2020, only Air/Ocean shipments, and only arrival/departure milestones.\n",
    "conn, cur = get_connection()\n",
    "df = get_data(\n",
    "    \"select \\\n",
    "    mu.id,\\\n",
    "    mu.shipment_id,\\\n",
    "    s.mode as shipment_mode,\\\n",
    "    s.load_type as shipment_load_type,\\\n",
    "    legs.leg_transportation_mode_name as leg_mode_type,\\\n",
    "    address_type,\\\n",
    "    update_event_type,\\\n",
    "    update_date_type,\\\n",
    "    source,\\\n",
    "    created_by,\\\n",
    "    update_lead_hours\\\n",
    "    from entities.shipment_milestone_updates as mu\\\n",
    "    left join entities.legs as legs \\\n",
    "        on legs.leg_id = mu.leg_id \\\n",
    "    left join entities.shipment_attributes as s\\\n",
    "        on s.shipment_id = mu.shipment_id\\\n",
    "    where update_created_at >= '2020-07-01'\\\n",
    "    and update_created_at <= '2020-07-31'\\\n",
    "    and update_event_type in ('arrival', 'departure')\\\n",
    "    order by shipment_id desc\", 'text', conn)\n"
   ]
  },
  {
   "cell_type": "markdown",
   "metadata": {},
   "source": [
    "# Exploration\n",
    "\n",
    "Let's take a look through our data to have an idea of what we're working with.\n"
   ]
  },
  {
   "cell_type": "code",
   "execution_count": 38,
   "metadata": {},
   "outputs": [
    {
     "data": {
      "text/html": [
       "<div>\n",
       "<style scoped>\n",
       "    .dataframe tbody tr th:only-of-type {\n",
       "        vertical-align: middle;\n",
       "    }\n",
       "\n",
       "    .dataframe tbody tr th {\n",
       "        vertical-align: top;\n",
       "    }\n",
       "\n",
       "    .dataframe thead th {\n",
       "        text-align: right;\n",
       "    }\n",
       "</style>\n",
       "<table border=\"1\" class=\"dataframe\">\n",
       "  <thead>\n",
       "    <tr style=\"text-align: right;\">\n",
       "      <th></th>\n",
       "      <th>id</th>\n",
       "      <th>shipment_id</th>\n",
       "      <th>shipment_mode</th>\n",
       "      <th>shipment_load_type</th>\n",
       "      <th>leg_mode_type</th>\n",
       "      <th>address_type</th>\n",
       "      <th>update_event_type</th>\n",
       "      <th>update_date_type</th>\n",
       "      <th>source</th>\n",
       "      <th>created_by</th>\n",
       "      <th>update_lead_hours</th>\n",
       "    </tr>\n",
       "  </thead>\n",
       "  <tbody>\n",
       "    <tr>\n",
       "      <th>0</th>\n",
       "      <td>vu3219541886076666330647937003561493TLLU1613600</td>\n",
       "      <td>860766</td>\n",
       "      <td>Ocean</td>\n",
       "      <td>LCL</td>\n",
       "      <td>Truck - Domestic</td>\n",
       "      <td>departure_port</td>\n",
       "      <td>arrival</td>\n",
       "      <td>scheduled</td>\n",
       "      <td>human</td>\n",
       "      <td>Cassie Yang</td>\n",
       "      <td>155.00</td>\n",
       "    </tr>\n",
       "    <tr>\n",
       "      <th>1</th>\n",
       "      <td>vu3219541986076666330647937003905235TLLU1613600</td>\n",
       "      <td>860766</td>\n",
       "      <td>Ocean</td>\n",
       "      <td>LCL</td>\n",
       "      <td>Truck - Domestic</td>\n",
       "      <td>consolidation</td>\n",
       "      <td>departure</td>\n",
       "      <td>scheduled</td>\n",
       "      <td>human</td>\n",
       "      <td>Cassie Yang</td>\n",
       "      <td>155.00</td>\n",
       "    </tr>\n",
       "    <tr>\n",
       "      <th>2</th>\n",
       "      <td>vu32295137860525665492378826761106066ct</td>\n",
       "      <td>860525</td>\n",
       "      <td>Trucking - Domestic</td>\n",
       "      <td>FTL</td>\n",
       "      <td>Truck - Domestic</td>\n",
       "      <td>origin</td>\n",
       "      <td>departure</td>\n",
       "      <td>scheduled</td>\n",
       "      <td>human</td>\n",
       "      <td>Nate Lund</td>\n",
       "      <td>100.00</td>\n",
       "    </tr>\n",
       "    <tr>\n",
       "      <th>3</th>\n",
       "      <td>vu32295136860525665492378826761106069ct</td>\n",
       "      <td>860525</td>\n",
       "      <td>Trucking - Domestic</td>\n",
       "      <td>FTL</td>\n",
       "      <td>Truck - Domestic</td>\n",
       "      <td>destination</td>\n",
       "      <td>arrival</td>\n",
       "      <td>scheduled</td>\n",
       "      <td>human</td>\n",
       "      <td>Nate Lund</td>\n",
       "      <td>109.00</td>\n",
       "    </tr>\n",
       "    <tr>\n",
       "      <th>4</th>\n",
       "      <td>vu32295096860523665491278826651106069ct</td>\n",
       "      <td>860523</td>\n",
       "      <td>Trucking - Domestic</td>\n",
       "      <td>FTL</td>\n",
       "      <td>Truck - Domestic</td>\n",
       "      <td>destination</td>\n",
       "      <td>arrival</td>\n",
       "      <td>scheduled</td>\n",
       "      <td>human</td>\n",
       "      <td>Nate Lund</td>\n",
       "      <td>109.00</td>\n",
       "    </tr>\n",
       "  </tbody>\n",
       "</table>\n",
       "</div>"
      ],
      "text/plain": [
       "                                                id  shipment_id  \\\n",
       "0  vu3219541886076666330647937003561493TLLU1613600       860766   \n",
       "1  vu3219541986076666330647937003905235TLLU1613600       860766   \n",
       "2          vu32295137860525665492378826761106066ct       860525   \n",
       "3          vu32295136860525665492378826761106069ct       860525   \n",
       "4          vu32295096860523665491278826651106069ct       860523   \n",
       "\n",
       "         shipment_mode shipment_load_type     leg_mode_type    address_type  \\\n",
       "0                Ocean                LCL  Truck - Domestic  departure_port   \n",
       "1                Ocean                LCL  Truck - Domestic   consolidation   \n",
       "2  Trucking - Domestic                FTL  Truck - Domestic          origin   \n",
       "3  Trucking - Domestic                FTL  Truck - Domestic     destination   \n",
       "4  Trucking - Domestic                FTL  Truck - Domestic     destination   \n",
       "\n",
       "  update_event_type update_date_type source   created_by  update_lead_hours  \n",
       "0           arrival        scheduled  human  Cassie Yang             155.00  \n",
       "1         departure        scheduled  human  Cassie Yang             155.00  \n",
       "2         departure        scheduled  human    Nate Lund             100.00  \n",
       "3           arrival        scheduled  human    Nate Lund             109.00  \n",
       "4           arrival        scheduled  human    Nate Lund             109.00  "
      ]
     },
     "execution_count": 38,
     "metadata": {},
     "output_type": "execute_result"
    }
   ],
   "source": [
    "df.head()\n",
    "# Looks like there's some outliers in our lead_hours data which we'll need to take care of"
   ]
  },
  {
   "cell_type": "markdown",
   "metadata": {},
   "source": [
    "# Questions:\n",
    "    1. What percentage of actual updates are human vs automated\n",
    "    2. What (if any) is the improvement in update speed for automation\n",
    "    3. What milestones are frequently missing per given mode?\n",
    "    4. What are the fastest updates per mode\n",
    "    \n",
    "    Keeping in mind for the above, we'll need to handle outliers and extraneous/missing data."
   ]
  },
  {
   "cell_type": "markdown",
   "metadata": {},
   "source": [
    "# 1. Percentage of  updates human vs automated\n",
    "\n",
    "I'm solving this by stringing together some logic to only solve for air and ocean milestones (that's all we want right now) and choosing only actual dates, not scheduled. From there we get a total count of rows, and final determine the count of each value in a series before dividing by the toal.\n",
    "\n",
    "After examining this solution work through your own solution utilizing another way to cut data. This could be solved using iloc, loc, or <a href=\"https://pandas.pydata.org/pandas-docs/stable/reference/api/pandas.DataFrame.query.html\">query which I suggest</a>. You can also use the <a href=\"https://pandas.pydata.org/pandas-docs/stable/reference/api/pandas.DataFrame.groupby.html\">group_by function</a> to circumvent value_counts. In total this question can be answered in a single line."
   ]
  },
  {
   "cell_type": "code",
   "execution_count": 58,
   "metadata": {},
   "outputs": [
    {
     "data": {
      "text/plain": [
       "human           0.67\n",
       "no user found   0.29\n",
       "cargosmart      0.02\n",
       "inttra          0.02\n",
       "crux            0.00\n",
       "Name: source, dtype: float64"
      ]
     },
     "execution_count": 58,
     "metadata": {},
     "output_type": "execute_result"
    }
   ],
   "source": [
    "# One (computationally expensive) way to filter data is to create a series that holds conditional expressions\n",
    "# for example\n",
    "ocean_filter = df.shipment_mode == 'Ocean'\n",
    "air_filter = df.shipment_mode == 'Air'\n",
    "milestones_filter = df.update_date_type == 'actual'\n",
    "final_filter =  (ocean_filter | air_filter )& milestones_filter\n",
    "\n",
    "total_rows = df[final_filter]['id'].count()\n",
    "df[final_filter]['source'].value_counts()/total_rows\n"
   ]
  },
  {
   "cell_type": "code",
   "execution_count": null,
   "metadata": {},
   "outputs": [],
   "source": [
    "# SOLUTION CELL\n",
    "df.query(\"update_date_type == 'actual' & shipment_mode in ('Ocean', 'Air')\").groupby(by='source')['id'].count()/df.query(\"update_date_type == 'actual'\")['id'].count()"
   ]
  },
  {
   "cell_type": "markdown",
   "metadata": {},
   "source": [
    "# 2. Improvement in Update Speed for Automation\n",
    "\n",
    "Well we learned in the top portion that the majority of our updates are coming from humans, with "
   ]
  },
  {
   "cell_type": "code",
   "execution_count": null,
   "metadata": {},
   "outputs": [],
   "source": []
  }
 ],
 "metadata": {
  "kernelspec": {
   "display_name": "Python 3",
   "language": "python",
   "name": "python3"
  },
  "language_info": {
   "codemirror_mode": {
    "name": "ipython",
    "version": 3
   },
   "file_extension": ".py",
   "mimetype": "text/x-python",
   "name": "python",
   "nbconvert_exporter": "python",
   "pygments_lexer": "ipython3",
   "version": "3.7.7"
  }
 },
 "nbformat": 4,
 "nbformat_minor": 4
}
