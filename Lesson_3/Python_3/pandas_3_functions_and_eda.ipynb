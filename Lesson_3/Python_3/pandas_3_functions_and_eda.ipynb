{
 "cells": [
  {
   "cell_type": "markdown",
   "metadata": {},
   "source": [
    "# Exploratory Analysis in Pandas with Functions\n",
    "\n",
    "How can we write clean code to organize messy analytical work?\n",
    "\n",
    "Objectives:\n",
    "1. Show how to break down a broad business problem into answerable data questions\n",
    "2. Answer these questions in a diligent, clear, and reproducible way\n",
    "3. Drive further exploration based on the answers to these questions\n",
    "\n",
    "Number (2) above is where clean, effective Python code will save your ass"
   ]
  },
  {
   "cell_type": "markdown",
   "metadata": {},
   "source": [
    "## The Business Problem: CRD Changes\n",
    "\n",
    "An example of how a business partner might approach this, via **email**, **slack**, or **intake meeting**:\n",
    "\n",
    "> We're facing a lot of uncertainty due to changing CRDs - it's difficult or impossible to arrange origin trucking, and some of our sailing/filght assignments are being invalidated. Can we get more visibility into how often this is happening? \n",
    "\n",
    "It pays to follow up with the stakeholder here to get some context and figure out how to best approach the problem:\n",
    "1. What's the specific business risk involved? The first example above outlines this fairly well.\n",
    "2. What are the specific scenarios where we might care about this?\n",
    "3. How can this information be _actionable_ for the end user?\n",
    "\n",
    "Number (3) is especially important here - ultimately, whatever solution that you provide, it should speak to some action that the stakeholder team can take based on the data.\n",
    "\n",
    "Let's say you ask for clarification and get the following additional information:\n",
    "\n",
    "> We're specifically interested in ocean shipments, because anecdotally it's really disrupting our fullillment process. If a CRD changes and we can't use the original assignment, then we might end up with dead inventory which has a pretty direct financial impact. It also creates a bad experience for the client, who may end up with a longer transit time.\n",
    "\n",
    "> If we knew how often CRDs were historically changing, we could get a sense of how much this is contributing to our overall fulfillment problems. We can start to \"score\" clients based on the likelihood that their CRDs will change, and either enforce better behavior or account for this in our fulfillment process. It would be really cool to actually _anticipate_ which CRDs will change and by how much, anecdotally this seems really unpredictable.\n",
    "\n",
    "## Framing Analytical Questions\n",
    "\n",
    "Great - now we have a better understanding of how the business is thinking about this problem. But where do we even start with actually pulling data?\n",
    "\n",
    "While some of the suggestions from our stakeholder might be exciting - predicting CRD changes, scoring clients - here it pays to ***challenge your assumptions, start as simple as possible, and increase complexity in a logical and incremental fashion***\n",
    "\n",
    "We can start by laying out some clearly defined questions that we should be able to answer with data:\n",
    "- How often do shipment CRDs change?\n",
    "- When CRD does change, how much on average does it differ from the original or previous CRD?\n",
    "- When do CRD changes typically occur, relative to quoting and relative to the CRD itself?\n",
    "\n",
    "All of these should give us insight into the more general questions asked by our stakeholder (how much of a problem is this?) while also giving us a sense of how much further we can take this analysis. All of these questions can also be sliced on different dimensions, like client segment and trade-lane, to get more insight (if it's actionable).\n",
    "\n",
    "***What data points would we need to answer these basic questions?***\n",
    "- Each instance of a CRD being created or changed for a shipment\n",
    "- The time that the creation/change took place\n",
    "- The CRD at that time\n",
    "- When the shipment was quoted\n",
    "\n",
    "Unfortunately we don't have a true event-based data table for CRDs (if this has changed, awesome). But we _can_ back out the changes from the audits table. Let's grab the data and get started."
   ]
  },
  {
   "cell_type": "code",
   "execution_count": 101,
   "metadata": {},
   "outputs": [],
   "source": [
    "import pandas as pd\n",
    "import numpy as np\n",
    "from datetime import date\n",
    "\n",
    "# plotting\n",
    "import matplotlib as mpl\n",
    "import matplotlib.pyplot as plt\n",
    "import seaborn as sns\n",
    "sns.set_style('whitegrid')\n",
    "plt.rcParams[\"figure.figsize\"] = (11,6)\n",
    "%config IPCompleter.greedy=True\n"
   ]
  },
  {
   "cell_type": "markdown",
   "metadata": {},
   "source": [
    "### Installing internal packages\n",
    "We'll want to use our internal Python library to access Snowflake. It's easy to install!\n",
    "\n",
    "Check out [PyPi instructions here](https://github.flexport.io/flexport/kimono/tree/master/astronomer/commonlib#step-6-installing-your-package) and navigate the [PyPi server here](http://10.70.168.13:6543/#/)"
   ]
  },
  {
   "cell_type": "code",
   "execution_count": 149,
   "metadata": {
    "collapsed": true
   },
   "outputs": [
    {
     "name": "stdout",
     "output_type": "stream",
     "text": [
      "Looking in indexes: http://10.70.168.13:6543/simple/\n",
      "Requirement already satisfied: analytics-utils==1.1.4 in /Users/thanson/dev/kimono/astronomer/commonlib/analytics-utils (1.1.4)\n",
      "Requirement already satisfied: snowflake-connector-python in /usr/local/lib/python3.7/site-packages (from analytics-utils==1.1.4) (2.2.10)\n",
      "Requirement already satisfied: pandas in /Users/thanson/Library/Python/3.7/lib/python/site-packages (from analytics-utils==1.1.4) (0.24.2)\n",
      "Requirement already satisfied: pycryptodomex!=3.5.0,<4.0.0,>=3.2 in /usr/local/lib/python3.7/site-packages (from snowflake-connector-python->analytics-utils==1.1.4) (3.9.3)\n",
      "Requirement already satisfied: cryptography<3.0.0,>=2.5.0 in /usr/local/lib/python3.7/site-packages (from snowflake-connector-python->analytics-utils==1.1.4) (2.8)\n",
      "Requirement already satisfied: azure-common<2.0.0 in /usr/local/lib/python3.7/site-packages (from snowflake-connector-python->analytics-utils==1.1.4) (1.1.23)\n",
      "Requirement already satisfied: oscrypto<2.0.0 in /usr/local/lib/python3.7/site-packages (from snowflake-connector-python->analytics-utils==1.1.4) (1.1.0)\n",
      "Requirement already satisfied: azure-storage-blob<13.0.0,>=12.0.0; python_version >= \"3.5.2\" in /usr/local/lib/python3.7/site-packages (from snowflake-connector-python->analytics-utils==1.1.4) (12.5.0)\n",
      "Requirement already satisfied: pytz<2021.0 in /Users/thanson/Library/Python/3.7/lib/python/site-packages (from snowflake-connector-python->analytics-utils==1.1.4) (2019.1)\n",
      "Requirement already satisfied: requests<2.24.0 in /usr/local/lib/python3.7/site-packages (from snowflake-connector-python->analytics-utils==1.1.4) (2.22.0)\n",
      "Requirement already satisfied: asn1crypto<2.0.0,>0.24.0 in /usr/local/lib/python3.7/site-packages (from snowflake-connector-python->analytics-utils==1.1.4) (1.2.0)\n",
      "Requirement already satisfied: urllib3<1.26.0,>=1.20 in /usr/local/lib/python3.7/site-packages (from snowflake-connector-python->analytics-utils==1.1.4) (1.24.3)\n",
      "Requirement already satisfied: pyjwt<2.0.0 in /usr/local/lib/python3.7/site-packages (from snowflake-connector-python->analytics-utils==1.1.4) (1.7.1)\n",
      "Requirement already satisfied: pyOpenSSL<21.0.0,>=16.2.0 in /usr/local/lib/python3.7/site-packages (from snowflake-connector-python->analytics-utils==1.1.4) (19.0.0)\n",
      "Requirement already satisfied: certifi<2021.0.0 in /usr/local/lib/python3.7/site-packages (from snowflake-connector-python->analytics-utils==1.1.4) (2019.6.16)\n",
      "Requirement already satisfied: cffi<1.15,>=1.9 in /usr/local/lib/python3.7/site-packages (from snowflake-connector-python->analytics-utils==1.1.4) (1.13.2)\n",
      "Requirement already satisfied: idna<2.10 in /usr/local/lib/python3.7/site-packages (from snowflake-connector-python->analytics-utils==1.1.4) (2.7)\n",
      "Requirement already satisfied: boto3<1.15,>=1.4.4 in /usr/local/lib/python3.7/site-packages (from snowflake-connector-python->analytics-utils==1.1.4) (1.10.50)\n",
      "Requirement already satisfied: numpy>=1.12.0 in /usr/local/lib/python3.7/site-packages (from pandas->analytics-utils==1.1.4) (1.18.5)\n",
      "Requirement already satisfied: python-dateutil>=2.5.0 in /usr/local/lib/python3.7/site-packages (from pandas->analytics-utils==1.1.4) (2.8.0)\n",
      "Requirement already satisfied: six>=1.4.1 in /usr/local/lib/python3.7/site-packages (from cryptography<3.0.0,>=2.5.0->snowflake-connector-python->analytics-utils==1.1.4) (1.15.0)\n",
      "Requirement already satisfied: azure-core<2.0.0,>=1.6.0 in /usr/local/lib/python3.7/site-packages (from azure-storage-blob<13.0.0,>=12.0.0; python_version >= \"3.5.2\"->snowflake-connector-python->analytics-utils==1.1.4) (1.6.0)\n",
      "Requirement already satisfied: msrest>=0.6.10 in /usr/local/lib/python3.7/site-packages (from azure-storage-blob<13.0.0,>=12.0.0; python_version >= \"3.5.2\"->snowflake-connector-python->analytics-utils==1.1.4) (0.6.16)\n",
      "Requirement already satisfied: chardet<3.1.0,>=3.0.2 in /usr/local/lib/python3.7/site-packages (from requests<2.24.0->snowflake-connector-python->analytics-utils==1.1.4) (3.0.4)\n",
      "Requirement already satisfied: pycparser in /usr/local/lib/python3.7/site-packages (from cffi<1.15,>=1.9->snowflake-connector-python->analytics-utils==1.1.4) (2.19)\n",
      "Requirement already satisfied: botocore<1.14.0,>=1.13.50 in /usr/local/lib/python3.7/site-packages (from boto3<1.15,>=1.4.4->snowflake-connector-python->analytics-utils==1.1.4) (1.13.50)\n",
      "Requirement already satisfied: jmespath<1.0.0,>=0.7.1 in /usr/local/lib/python3.7/site-packages (from boto3<1.15,>=1.4.4->snowflake-connector-python->analytics-utils==1.1.4) (0.9.4)\n",
      "Requirement already satisfied: s3transfer<0.3.0,>=0.2.0 in /usr/local/lib/python3.7/site-packages (from boto3<1.15,>=1.4.4->snowflake-connector-python->analytics-utils==1.1.4) (0.2.1)\n",
      "Requirement already satisfied: requests-oauthlib>=0.5.0 in /usr/local/lib/python3.7/site-packages (from msrest>=0.6.10->azure-storage-blob<13.0.0,>=12.0.0; python_version >= \"3.5.2\"->snowflake-connector-python->analytics-utils==1.1.4) (1.2.0)\n",
      "Requirement already satisfied: isodate>=0.6.0 in /usr/local/lib/python3.7/site-packages (from msrest>=0.6.10->azure-storage-blob<13.0.0,>=12.0.0; python_version >= \"3.5.2\"->snowflake-connector-python->analytics-utils==1.1.4) (0.6.0)\n",
      "Requirement already satisfied: docutils<0.16,>=0.10 in /usr/local/lib/python3.7/site-packages (from botocore<1.14.0,>=1.13.50->boto3<1.15,>=1.4.4->snowflake-connector-python->analytics-utils==1.1.4) (0.14)\n",
      "Requirement already satisfied: oauthlib>=3.0.0 in /usr/local/lib/python3.7/site-packages (from requests-oauthlib>=0.5.0->msrest>=0.6.10->azure-storage-blob<13.0.0,>=12.0.0; python_version >= \"3.5.2\"->snowflake-connector-python->analytics-utils==1.1.4) (3.1.0)\n"
     ]
    }
   ],
   "source": [
    "!pip3 install -i http://10.70.168.13:6543/simple/ analytics-utils==1.1.4 --trusted-host 10.70.168.13\n",
    "from analytics_utils.utils import snowflake as sf"
   ]
  },
  {
   "cell_type": "markdown",
   "metadata": {},
   "source": [
    "### Start with a query\n",
    "\n",
    "The data has to come from somewhere...\n",
    "\n",
    "Some general notes on SQL queries as part of EDA workflow:\n",
    "- Code structure\n",
    "    - You can extract the query into a separate file, but I like keeping it in the notebook so things are self contained and easier to reference\n",
    "    - I like defining the query as a standalone string that you can reference in a function. That way, you can edit the query separately from running it\n",
    "- How to write the query\n",
    "    - Avoid including too much complex logic/transformation in the query itself. Python code is generally easier to parse and understand what's going on (maybe just my opinion)\n",
    "    - We also want to avoid having to re-run the query a million times\n",
    "    - \"Go wide\" and include any data that you think you might need\n",
    "\n"
   ]
  },
  {
   "cell_type": "code",
   "execution_count": 88,
   "metadata": {},
   "outputs": [],
   "source": [
    "# here I define my query as a string\n",
    "\n",
    "CRD_CHANGE_QUERY = (\n",
    "    \"\"\"\n",
    "    SELECT \n",
    "      a.id as audit_id,\n",
    "      a.auditable_id as leg_id,\n",
    "      a.action,\n",
    "      sl.shipment_id,\n",
    "      a.created_at as changed_at,\n",
    "      CASE WHEN ARRAY_SIZE(a.audited_changes:cargo_ready_date) = 2\n",
    "        THEN a.audited_changes:cargo_ready_date[1]\n",
    "        ELSE a.audited_changes:cargo_ready_date END as crd,\n",
    "      q.quote_submitted_at,\n",
    "      q.quote_accepted_at\n",
    "    FROM core.audits as a\n",
    "       JOIN legacy.bi_shipment_legs as sl\n",
    "       ON (a.auditable_id = sl.leg_id \n",
    "           AND a.auditable_type in ('OperationalRoute::Leg', 'Leg')\n",
    "           AND sl.from_origin_address)\n",
    "       JOIN legacy.prep_quotes as q\n",
    "       ON (sl.shipment_id = q.shipment_id and q.quote_accepted_at is not null)\n",
    "    WHERE\n",
    "      a.audited_changes:cargo_ready_date is not null\n",
    "      AND a.audited_changes:cargo_ready_date != 'null'\n",
    "      AND a.created_at BETWEEN '{start}' and '{end}'\n",
    "    \"\"\")\n",
    "\n",
    "\n",
    "# notice the bits in curly braces - these are arguments that we will later *interpolate* into the query"
   ]
  },
  {
   "cell_type": "code",
   "execution_count": 19,
   "metadata": {},
   "outputs": [],
   "source": [
    "# next, I want to define a function to run a query with arguments\n",
    "#  using a function here isolates the code necessary to pull data, so it's super easy to call later on\n",
    "\n",
    "# first, let's set up a blank function\n",
    "#  there's a lot of stuff here, but it doesn't actually do anything\n",
    "def get_crd_changes(start: date, end: date) -> pd.DataFrame:\n",
    "    \"\"\"\n",
    "    Return every instance of a CRD changing during the period between ``start`` and ``end``\n",
    "    Pulling from the audits table\n",
    "    \"\"\"\n",
    "    pass"
   ]
  },
  {
   "cell_type": "markdown",
   "metadata": {},
   "source": [
    "### Anatomy of a function\n",
    "\n",
    "1. Name: make it descriptive, even if it's verbose\n",
    "2. Arguments: act as variables within the function. Here, we can put key pieces of configuration that we might want to change\n",
    "    - Example: adding start and end dates to our query. Instead of changing the query itself, we can define arguments that are *interpolated* into the query text\n",
    "3. Return something - in this case, a DataFrame\n",
    "    - In the above example, we used `pass` to return nothing. This is very useful to skeleton out functions before you actually write them\n",
    "\n",
    "#### A note on type hints\n",
    "You may notice the **type hints** above. This is a new feature in Python 3 that allows us to specify input and output types. Each argument has a type, indicated with `:`, while the type of the data returned by the function is indicated outside of the function with `->`\n",
    "\n",
    "Type hints are not required, nor are they enforced. Check it out below:"
   ]
  },
  {
   "cell_type": "code",
   "execution_count": 132,
   "metadata": {},
   "outputs": [],
   "source": [
    "# define a function to add two... things of unspecified type\n",
    "def my_function(a, b):\n",
    "    return a + b"
   ]
  },
  {
   "cell_type": "code",
   "execution_count": 136,
   "metadata": {},
   "outputs": [],
   "source": [
    "# What will this return?\n",
    "#my_function(1, 2)"
   ]
  },
  {
   "cell_type": "code",
   "execution_count": 137,
   "metadata": {},
   "outputs": [],
   "source": [
    "# What will this return?\n",
    "#my_function('a', 'b')"
   ]
  },
  {
   "cell_type": "code",
   "execution_count": 138,
   "metadata": {},
   "outputs": [],
   "source": [
    "# What will this return?\n",
    "#my_function('a', 1)"
   ]
  },
  {
   "cell_type": "code",
   "execution_count": 140,
   "metadata": {},
   "outputs": [],
   "source": [
    "# let's rewrite this with type hints\n",
    "def my_function_with_hints(a: int, b: int) -> int:\n",
    "    return a + b"
   ]
  },
  {
   "cell_type": "code",
   "execution_count": 142,
   "metadata": {},
   "outputs": [],
   "source": [
    "# However, does this actually do anything?\n",
    "#my_function_with_hints('a', 'b')"
   ]
  },
  {
   "cell_type": "markdown",
   "metadata": {},
   "source": [
    "#### Why bother with type hints anyway?\n",
    "\n",
    "Type hints act as *rich documentation* of a function's intended usage. If you're collaborating with someone, or revisiting old code, you can quickly understand what to expect. Sure, it's not enforced, but it is helpful.\n",
    "\n",
    "We most often see type hints in *production-level code*, where style guidelines may require their usage. So, is there any value in using them for ad-hoc analysis in notebooks, or is this just Tyler being a hardass (who has written production code)?\n",
    "\n",
    "My *opinion* is emphatically yes! For all the reasons above, using type hints helps us write clean, well documented code without much additional effort. It also forces us to write functions with clear usage and avoid any unpleasant type flexibility that may be allowed by Python.\n",
    "\n",
    "#### A note on *docstrings*\n",
    "\n",
    "After the function definitions, you can include documentation using triple quotes. This is referred to as a \"docstring\" and acts as another key piece of documentation around functions. Again, these are typically required as part of style guidelines for production code - but, they can be useful for analytical work as well.\n",
    "\n",
    "What should the docstring contain?\n",
    "- A *concise* explanation of what the function does. If you can't concisely explain, it's likely that the function is doing too much!\n",
    "- Explanation for how each of the arguments of a function are used \n",
    "- Explanation for the data returned"
   ]
  },
  {
   "cell_type": "code",
   "execution_count": 21,
   "metadata": {},
   "outputs": [],
   "source": [
    "# time to actually write the function\n",
    "def get_crd_changes(start: date, end: date) -> pd.DataFrame:\n",
    "    \"\"\"\n",
    "    Return every instance of a CRD changing during the period between ``start`` and ``end``\n",
    "    Pulling from the audits table\n",
    "    \"\"\"\n",
    "    # interpolate arguments into the query\n",
    "    formatted_query = CRD_CHANGE_QUERY.format(start=start, end=end)\n",
    "    \n",
    "    # use our snowflake package to run the query\n",
    "    return sf.run_snowflake_query(formatted_query)"
   ]
  },
  {
   "cell_type": "code",
   "execution_count": 145,
   "metadata": {},
   "outputs": [
    {
     "data": {
      "text/plain": [
       "'2020-01-01'"
      ]
     },
     "execution_count": 145,
     "metadata": {},
     "output_type": "execute_result"
    }
   ],
   "source": [
    "# `.format()` \"just works\" with dates, but let's make sure...\n",
    "'{start}'.format(start=date(2020,1,1))"
   ]
  },
  {
   "cell_type": "code",
   "execution_count": 146,
   "metadata": {},
   "outputs": [
    {
     "name": "stdout",
     "output_type": "stream",
     "text": [
      "Initiating login request with your identity provider. A browser window should have opened for you to complete the login. If you can't see it, check existing browser windows, or your OS settings. Press CTRL+C to abort and try again...\n"
     ]
    }
   ],
   "source": [
    "# use our function\n",
    "# our use of arguments comes in handy here\n",
    "#   we can run with a shorter date range to confirm that this is working\n",
    "#   without waiting forever\n",
    "crd_changes = get_crd_changes(date(2020, 1, 1), date(2021, 1, 1))"
   ]
  },
  {
   "cell_type": "markdown",
   "metadata": {},
   "source": [
    "### Sanity checking the data\n",
    "\n",
    "Prior to making any assertions, let's make sure that things look OK from a high level\n",
    "\n",
    "- Is the _grain_ what I expected? \n",
    "    - It's a good practice to include some kind of primary key in your query, just so this is easier to reason about\n",
    "    - the `.value_counts()` method is a lifesaver here\n",
    "- Do columns take on the values that I expected?\n",
    "    - Is anything missing more often than I would expect?\n",
    "- Is the size in line with what I would expect (orders of magnitude)\n",
    "- Other specific pieces of logic that might make sense"
   ]
  },
  {
   "cell_type": "code",
   "execution_count": 90,
   "metadata": {},
   "outputs": [
    {
     "data": {
      "text/plain": [
       "f864cd55-8ee7-4756-84f7-85907f2a0baf    1\n",
       "b26278ab-5e0c-4173-b78b-f960089c4104    1\n",
       "12e91549-5213-40f9-a260-6e5964e7b438    1\n",
       "21ccd5ba-e169-41c4-81fa-8d48ad3fef05    1\n",
       "17811eef-ec03-436c-b07d-21e806ddada9    1\n",
       "Name: audit_id, dtype: int64"
      ]
     },
     "execution_count": 90,
     "metadata": {},
     "output_type": "execute_result"
    }
   ],
   "source": [
    "# is the grain correct?\n",
    "crd_changes.audit_id.value_counts().head()"
   ]
  },
  {
   "cell_type": "code",
   "execution_count": 91,
   "metadata": {},
   "outputs": [
    {
     "data": {
      "text/html": [
       "<div>\n",
       "<style scoped>\n",
       "    .dataframe tbody tr th:only-of-type {\n",
       "        vertical-align: middle;\n",
       "    }\n",
       "\n",
       "    .dataframe tbody tr th {\n",
       "        vertical-align: top;\n",
       "    }\n",
       "\n",
       "    .dataframe thead th {\n",
       "        text-align: right;\n",
       "    }\n",
       "</style>\n",
       "<table border=\"1\" class=\"dataframe\">\n",
       "  <thead>\n",
       "    <tr style=\"text-align: right;\">\n",
       "      <th></th>\n",
       "      <th>audit_id</th>\n",
       "      <th>leg_id</th>\n",
       "      <th>action</th>\n",
       "      <th>shipment_id</th>\n",
       "      <th>changed_at</th>\n",
       "      <th>crd</th>\n",
       "      <th>quote_submitted_at</th>\n",
       "      <th>quote_accepted_at</th>\n",
       "    </tr>\n",
       "  </thead>\n",
       "  <tbody>\n",
       "    <tr>\n",
       "      <th>29718</th>\n",
       "      <td>4021651a-6402-4a75-a0da-0566eeba5c5a</td>\n",
       "      <td>7562673</td>\n",
       "      <td>update</td>\n",
       "      <td>828236</td>\n",
       "      <td>2020-07-01 03:14:19.313000+00:00</td>\n",
       "      <td>\"2020-07-20\"</td>\n",
       "      <td>2020-06-30 01:21:15.366435</td>\n",
       "      <td>2020-06-30 16:58:25.993621</td>\n",
       "    </tr>\n",
       "    <tr>\n",
       "      <th>381389</th>\n",
       "      <td>780a58af-ce6c-4717-a015-d024fb623ce7</td>\n",
       "      <td>6817051</td>\n",
       "      <td>update</td>\n",
       "      <td>705724</td>\n",
       "      <td>2020-03-31 15:53:32.779000+00:00</td>\n",
       "      <td>\"2020-04-16\"</td>\n",
       "      <td>2020-04-14 10:35:22.443708</td>\n",
       "      <td>2020-04-14 10:35:22.654336</td>\n",
       "    </tr>\n",
       "    <tr>\n",
       "      <th>241588</th>\n",
       "      <td>2d903734-7fe4-4ceb-ba2e-cd5bf31ad061</td>\n",
       "      <td>8292224</td>\n",
       "      <td>create</td>\n",
       "      <td>895207</td>\n",
       "      <td>2020-09-08 21:44:54.188000+00:00</td>\n",
       "      <td>\"2020-10-06\"</td>\n",
       "      <td>2020-11-13 17:29:33.680335</td>\n",
       "      <td>2020-11-13 17:47:50.474152</td>\n",
       "    </tr>\n",
       "    <tr>\n",
       "      <th>93678</th>\n",
       "      <td>45a71656-5e2a-4cae-98dd-5b04f244d577</td>\n",
       "      <td>8292138</td>\n",
       "      <td>create</td>\n",
       "      <td>899187</td>\n",
       "      <td>2020-09-08 21:33:49.992000+00:00</td>\n",
       "      <td>\"2020-09-07\"</td>\n",
       "      <td>2020-09-08 21:33:15.029815</td>\n",
       "      <td>2020-09-08 21:33:43.859163</td>\n",
       "    </tr>\n",
       "    <tr>\n",
       "      <th>332073</th>\n",
       "      <td>c2f4c863-4fb8-4943-9f5c-15d9b89d05be</td>\n",
       "      <td>6701363</td>\n",
       "      <td>create</td>\n",
       "      <td>740847</td>\n",
       "      <td>2020-03-14 01:42:47.400000+00:00</td>\n",
       "      <td>\"2020-03-16\"</td>\n",
       "      <td>2020-03-09 16:48:39.815871</td>\n",
       "      <td>2020-03-14 01:42:39.009066</td>\n",
       "    </tr>\n",
       "  </tbody>\n",
       "</table>\n",
       "</div>"
      ],
      "text/plain": [
       "                                    audit_id   leg_id  action  shipment_id  \\\n",
       "29718   4021651a-6402-4a75-a0da-0566eeba5c5a  7562673  update       828236   \n",
       "381389  780a58af-ce6c-4717-a015-d024fb623ce7  6817051  update       705724   \n",
       "241588  2d903734-7fe4-4ceb-ba2e-cd5bf31ad061  8292224  create       895207   \n",
       "93678   45a71656-5e2a-4cae-98dd-5b04f244d577  8292138  create       899187   \n",
       "332073  c2f4c863-4fb8-4943-9f5c-15d9b89d05be  6701363  create       740847   \n",
       "\n",
       "                             changed_at           crd  \\\n",
       "29718  2020-07-01 03:14:19.313000+00:00  \"2020-07-20\"   \n",
       "381389 2020-03-31 15:53:32.779000+00:00  \"2020-04-16\"   \n",
       "241588 2020-09-08 21:44:54.188000+00:00  \"2020-10-06\"   \n",
       "93678  2020-09-08 21:33:49.992000+00:00  \"2020-09-07\"   \n",
       "332073 2020-03-14 01:42:47.400000+00:00  \"2020-03-16\"   \n",
       "\n",
       "               quote_submitted_at          quote_accepted_at  \n",
       "29718  2020-06-30 01:21:15.366435 2020-06-30 16:58:25.993621  \n",
       "381389 2020-04-14 10:35:22.443708 2020-04-14 10:35:22.654336  \n",
       "241588 2020-11-13 17:29:33.680335 2020-11-13 17:47:50.474152  \n",
       "93678  2020-09-08 21:33:15.029815 2020-09-08 21:33:43.859163  \n",
       "332073 2020-03-09 16:48:39.815871 2020-03-14 01:42:39.009066  "
      ]
     },
     "execution_count": 91,
     "metadata": {},
     "output_type": "execute_result"
    }
   ],
   "source": [
    "# does everything look as expected?\n",
    "crd_changes.sample(5)"
   ]
  },
  {
   "cell_type": "code",
   "execution_count": 123,
   "metadata": {},
   "outputs": [
    {
     "data": {
      "text/plain": [
       "audit_id                           object\n",
       "leg_id                              int64\n",
       "action                             object\n",
       "shipment_id                         int64\n",
       "changed_at            datetime64[ns, UTC]\n",
       "crd                        datetime64[ns]\n",
       "quote_submitted_at         datetime64[ns]\n",
       "quote_accepted_at          datetime64[ns]\n",
       "dtype: object"
      ]
     },
     "execution_count": 123,
     "metadata": {},
     "output_type": "execute_result"
    }
   ],
   "source": [
    "# are the types correct?\n",
    "crd_changes.dtypes"
   ]
  },
  {
   "cell_type": "code",
   "execution_count": 92,
   "metadata": {},
   "outputs": [
    {
     "data": {
      "text/plain": [
       "audit_id              0.000000\n",
       "leg_id                0.000000\n",
       "action                0.000000\n",
       "shipment_id           0.000000\n",
       "changed_at            0.000000\n",
       "crd                   0.000000\n",
       "quote_submitted_at    0.000003\n",
       "quote_accepted_at     0.000000\n",
       "dtype: float64"
      ]
     },
     "execution_count": 92,
     "metadata": {},
     "output_type": "execute_result"
    }
   ],
   "source": [
    "# is anything missing more often than we expect?\n",
    "pd.isnull(crd_changes).mean()"
   ]
  },
  {
   "cell_type": "code",
   "execution_count": 93,
   "metadata": {},
   "outputs": [
    {
     "data": {
      "text/plain": [
       "(390190, 8)"
      ]
     },
     "execution_count": 93,
     "metadata": {},
     "output_type": "execute_result"
    }
   ],
   "source": [
    "# how much data was returned?\n",
    "crd_changes.shape"
   ]
  },
  {
   "cell_type": "code",
   "execution_count": 94,
   "metadata": {},
   "outputs": [
    {
     "data": {
      "text/plain": [
       "205491"
      ]
     },
     "execution_count": 94,
     "metadata": {},
     "output_type": "execute_result"
    }
   ],
   "source": [
    "# how does this compare to the number of shipments?\n",
    "crd_changes.shipment_id.nunique()"
   ]
  },
  {
   "cell_type": "code",
   "execution_count": 152,
   "metadata": {},
   "outputs": [
    {
     "data": {
      "text/plain": [
       "0   2020-07-31\n",
       "1   2020-07-30\n",
       "2   2020-05-29\n",
       "3   2020-07-21\n",
       "4   2020-08-03\n",
       "Name: crd, dtype: datetime64[ns]"
      ]
     },
     "execution_count": 152,
     "metadata": {},
     "output_type": "execute_result"
    }
   ],
   "source": [
    "# the CRD field is a bit funky, how can we deal with that?\n",
    "pd.to_datetime(crd_changes.crd.str.strip('\"'), errors='coerce').head()"
   ]
  },
  {
   "cell_type": "code",
   "execution_count": 153,
   "metadata": {},
   "outputs": [
    {
     "data": {
      "text/plain": [
       "0.008143631505802594"
      ]
     },
     "execution_count": 153,
     "metadata": {},
     "output_type": "execute_result"
    }
   ],
   "source": [
    "# do any have blank CRDs? We probably want to get rid of those\n",
    "pd.isnull(pd.to_datetime(crd_changes.crd.str.strip('\"'), errors='coerce')).mean()"
   ]
  },
  {
   "cell_type": "markdown",
   "metadata": {},
   "source": [
    "### Another useful application for functions: isolating and compartmentalizing code\n",
    "After sanity checking the data above, we found one thing we wanted to change - the formatting around the CRD column. We *could* go make that change in the query, which may or may not be cumbersome. To some extent it's up to you.\n",
    "\n",
    "One disadvantage of putting *all* logic in the query (as mentioned above), is that this requires you to re-run the query any time you tweak the logic, which may slow down your iteration.\n",
    "\n",
    "However, if you put this transformation in Python, you run into potential cell state issues. If I alter the `crd` column in place, that might cause problems if I run the cells out of order, and it becomes hard for me to keep track of the state of individual objects.\n",
    "\n",
    "In these cases I like to write an additional function to isolate all code used to transform the data in Python. In this function, you could include:\n",
    "- date and string formatting that is cumbersome in SQL\n",
    "- aggregation and window functions that are possible, but cumbersome and difficult to read in SQL\n",
    "- anything that you want to make configurable after the SQL query is run\n",
    "\n",
    "This way, you can keep the execution of all data processing in two functions, and focus on the analysis below"
   ]
  },
  {
   "cell_type": "code",
   "execution_count": 154,
   "metadata": {},
   "outputs": [],
   "source": [
    "def format_change_data(data: pd.DataFrame) -> pd.DataFrame:\n",
    "    \"\"\"\n",
    "    perform post-processing on the query output from ``get_crd_changes``\n",
    "    - strip double quotes from CRD\n",
    "    \"\"\"\n",
    "    output = data.copy()\n",
    "    output['crd'] = pd.to_datetime(crd_changes.crd.str.strip('\"'), errors='coerce')\n",
    "    \n",
    "    return output"
   ]
  },
  {
   "cell_type": "markdown",
   "metadata": {},
   "source": [
    "### Let's start actually answering our questions\n",
    "\n",
    "First, ***how often do shipment CRDs change?***\n",
    "\n",
    "Let's think of ways to summarize this"
   ]
  },
  {
   "cell_type": "code",
   "execution_count": 97,
   "metadata": {},
   "outputs": [
    {
     "data": {
      "text/plain": [
       "0.19276457009282252"
      ]
     },
     "execution_count": 97,
     "metadata": {},
     "output_type": "execute_result"
    }
   ],
   "source": [
    "# what percentage of legs have more than one CRD? \n",
    "leg_crd_counts = crd_changes.groupby('leg_id')['audit_id'].count()\n",
    "(leg_crd_counts > 1).mean()"
   ]
  },
  {
   "cell_type": "code",
   "execution_count": 103,
   "metadata": {},
   "outputs": [
    {
     "data": {
      "text/plain": [
       "<matplotlib.axes._subplots.AxesSubplot at 0x12d1a23d0>"
      ]
     },
     "execution_count": 103,
     "metadata": {},
     "output_type": "execute_result"
    },
    {
     "data": {
      "image/png": "[encoded data removed]",
      "text/plain": [
       "<Figure size 792x432 with 1 Axes>"
      ]
     },
     "metadata": {},
     "output_type": "display_data"
    }
   ],
   "source": [
    "# how often do CRDs change more than once?\n",
    "leg_crd_counts.loc[leg_crd_counts > 1].hist(bins=np.arange(2, 10, 1))"
   ]
  },
  {
   "cell_type": "code",
   "execution_count": 107,
   "metadata": {},
   "outputs": [
    {
     "data": {
      "text/plain": [
       "1    0.807235\n",
       "2    0.146450\n",
       "3    0.031622\n",
       "4    0.009431\n",
       "5    0.003157\n",
       "6    0.001191\n",
       "Name: audit_id, dtype: float64"
      ]
     },
     "execution_count": 107,
     "metadata": {},
     "output_type": "execute_result"
    }
   ],
   "source": [
    "(leg_crd_counts.value_counts() / len(leg_crd_counts)).head(6)"
   ]
  },
  {
   "cell_type": "markdown",
   "metadata": {},
   "source": [
    "**When CRD does change, how much on average does it differ from the original or previous CRD?**"
   ]
  },
  {
   "cell_type": "code",
   "execution_count": 131,
   "metadata": {},
   "outputs": [
    {
     "data": {
      "text/html": [
       "<div>\n",
       "<style scoped>\n",
       "    .dataframe tbody tr th:only-of-type {\n",
       "        vertical-align: middle;\n",
       "    }\n",
       "\n",
       "    .dataframe tbody tr th {\n",
       "        vertical-align: top;\n",
       "    }\n",
       "\n",
       "    .dataframe thead th {\n",
       "        text-align: right;\n",
       "    }\n",
       "</style>\n",
       "<table border=\"1\" class=\"dataframe\">\n",
       "  <thead>\n",
       "    <tr style=\"text-align: right;\">\n",
       "      <th></th>\n",
       "      <th>leg_id</th>\n",
       "      <th>audit_id</th>\n",
       "      <th>action</th>\n",
       "      <th>shipment_id</th>\n",
       "      <th>changed_at</th>\n",
       "      <th>crd</th>\n",
       "      <th>quote_submitted_at</th>\n",
       "      <th>quote_accepted_at</th>\n",
       "      <th>previous_crd</th>\n",
       "      <th>crd_first</th>\n",
       "      <th>changed_at_first</th>\n",
       "      <th>difference_from_prev</th>\n",
       "      <th>difference_from_first</th>\n",
       "    </tr>\n",
       "  </thead>\n",
       "  <tbody>\n",
       "    <tr>\n",
       "      <th>0</th>\n",
       "      <td>3746888</td>\n",
       "      <td>3bc8b048-952c-4228-baeb-96b27e1fc41c</td>\n",
       "      <td>update</td>\n",
       "      <td>464990</td>\n",
       "      <td>2020-01-03 09:08:57.387000+00:00</td>\n",
       "      <td>2018-09-19</td>\n",
       "      <td>2018-12-18 03:39:54.475116</td>\n",
       "      <td>2018-12-18 03:40:08.736630</td>\n",
       "      <td>NaT</td>\n",
       "      <td>2018-09-19</td>\n",
       "      <td>2020-01-03 09:08:57.387000+00:00</td>\n",
       "      <td>NaN</td>\n",
       "      <td>NaN</td>\n",
       "    </tr>\n",
       "    <tr>\n",
       "      <th>1</th>\n",
       "      <td>3747026</td>\n",
       "      <td>4475bb3f-cf8e-429d-a635-ea0c315512dc</td>\n",
       "      <td>update</td>\n",
       "      <td>465006</td>\n",
       "      <td>2020-01-03 09:10:07.185000+00:00</td>\n",
       "      <td>2018-09-21</td>\n",
       "      <td>2018-12-18 03:55:55.994154</td>\n",
       "      <td>2018-12-18 04:00:12.506836</td>\n",
       "      <td>NaT</td>\n",
       "      <td>2018-09-21</td>\n",
       "      <td>2020-01-03 09:10:07.185000+00:00</td>\n",
       "      <td>NaN</td>\n",
       "      <td>NaN</td>\n",
       "    </tr>\n",
       "    <tr>\n",
       "      <th>2</th>\n",
       "      <td>3755836</td>\n",
       "      <td>118cc2d4-b045-4c73-879a-1bdf14f2eb11</td>\n",
       "      <td>update</td>\n",
       "      <td>466004</td>\n",
       "      <td>2020-01-03 09:10:38.638000+00:00</td>\n",
       "      <td>2018-10-10</td>\n",
       "      <td>2019-01-17 11:04:49.781597</td>\n",
       "      <td>2019-01-17 11:06:10.277585</td>\n",
       "      <td>NaT</td>\n",
       "      <td>2018-10-10</td>\n",
       "      <td>2020-01-03 09:10:38.638000+00:00</td>\n",
       "      <td>NaN</td>\n",
       "      <td>NaN</td>\n",
       "    </tr>\n",
       "    <tr>\n",
       "      <th>3</th>\n",
       "      <td>3755944</td>\n",
       "      <td>55e71d31-628e-45c5-91b5-e92d11749266</td>\n",
       "      <td>update</td>\n",
       "      <td>466009</td>\n",
       "      <td>2020-01-03 09:11:00.860000+00:00</td>\n",
       "      <td>2018-10-14</td>\n",
       "      <td>2018-12-19 09:25:42.322081</td>\n",
       "      <td>2018-12-19 09:25:51.627186</td>\n",
       "      <td>NaT</td>\n",
       "      <td>2018-10-14</td>\n",
       "      <td>2020-01-03 09:11:00.860000+00:00</td>\n",
       "      <td>NaN</td>\n",
       "      <td>NaN</td>\n",
       "    </tr>\n",
       "    <tr>\n",
       "      <th>4</th>\n",
       "      <td>3756929</td>\n",
       "      <td>1c8127d7-d21d-4f88-bf71-7dd7f6b13193</td>\n",
       "      <td>update</td>\n",
       "      <td>466013</td>\n",
       "      <td>2020-01-03 09:11:20.273000+00:00</td>\n",
       "      <td>2018-10-17</td>\n",
       "      <td>2018-12-19 09:56:18.845739</td>\n",
       "      <td>2018-12-19 12:53:06.579606</td>\n",
       "      <td>NaT</td>\n",
       "      <td>2018-10-17</td>\n",
       "      <td>2020-01-03 09:11:20.273000+00:00</td>\n",
       "      <td>NaN</td>\n",
       "      <td>NaN</td>\n",
       "    </tr>\n",
       "  </tbody>\n",
       "</table>\n",
       "</div>"
      ],
      "text/plain": [
       "    leg_id                              audit_id  action  shipment_id  \\\n",
       "0  3746888  3bc8b048-952c-4228-baeb-96b27e1fc41c  update       464990   \n",
       "1  3747026  4475bb3f-cf8e-429d-a635-ea0c315512dc  update       465006   \n",
       "2  3755836  118cc2d4-b045-4c73-879a-1bdf14f2eb11  update       466004   \n",
       "3  3755944  55e71d31-628e-45c5-91b5-e92d11749266  update       466009   \n",
       "4  3756929  1c8127d7-d21d-4f88-bf71-7dd7f6b13193  update       466013   \n",
       "\n",
       "                        changed_at        crd         quote_submitted_at  \\\n",
       "0 2020-01-03 09:08:57.387000+00:00 2018-09-19 2018-12-18 03:39:54.475116   \n",
       "1 2020-01-03 09:10:07.185000+00:00 2018-09-21 2018-12-18 03:55:55.994154   \n",
       "2 2020-01-03 09:10:38.638000+00:00 2018-10-10 2019-01-17 11:04:49.781597   \n",
       "3 2020-01-03 09:11:00.860000+00:00 2018-10-14 2018-12-19 09:25:42.322081   \n",
       "4 2020-01-03 09:11:20.273000+00:00 2018-10-17 2018-12-19 09:56:18.845739   \n",
       "\n",
       "           quote_accepted_at previous_crd  crd_first  \\\n",
       "0 2018-12-18 03:40:08.736630          NaT 2018-09-19   \n",
       "1 2018-12-18 04:00:12.506836          NaT 2018-09-21   \n",
       "2 2019-01-17 11:06:10.277585          NaT 2018-10-10   \n",
       "3 2018-12-19 09:25:51.627186          NaT 2018-10-14   \n",
       "4 2018-12-19 12:53:06.579606          NaT 2018-10-17   \n",
       "\n",
       "                  changed_at_first  difference_from_prev  \\\n",
       "0 2020-01-03 09:08:57.387000+00:00                   NaN   \n",
       "1 2020-01-03 09:10:07.185000+00:00                   NaN   \n",
       "2 2020-01-03 09:10:38.638000+00:00                   NaN   \n",
       "3 2020-01-03 09:11:00.860000+00:00                   NaN   \n",
       "4 2020-01-03 09:11:20.273000+00:00                   NaN   \n",
       "\n",
       "   difference_from_first  \n",
       "0                    NaN  \n",
       "1                    NaN  \n",
       "2                    NaN  \n",
       "3                    NaN  \n",
       "4                    NaN  "
      ]
     },
     "execution_count": 131,
     "metadata": {},
     "output_type": "execute_result"
    }
   ],
   "source": [
    "# here, we need to do some additional transformation\n",
    "first_crd = crd_changes.sort_values('changed_at').groupby('leg_id')[['crd', 'changed_at']].first()\n",
    "\n",
    "crd_comparison = crd_changes.copy()\n",
    "crd_comparison['previous_crd'] = crd_changes.sort_values('changed_at').groupby('leg_id').crd.shift(1)\n",
    "crd_comparison = crd_comparison.set_index('leg_id').join(first_crd, how='inner', rsuffix='_first').reset_index()\n",
    "\n",
    "# now generate columns to indicate difference\n",
    "crd_comparison['difference_from_prev'] = (crd_comparison.crd - crd_comparison.previous_crd) / np.timedelta64(1, 'D')\n",
    "crd_comparison['difference_from_first'] = (crd_comparison.crd - crd_comparison.crd_first) / np.timedelta64(1, 'D')\n",
    "\n",
    "# I want my difference to be null in cases when it's the first CRD\n",
    "crd_comparison.loc[crd_comparison.changed_at == crd_comparison.changed_at_first, 'difference_from_first'] = np.nan\n",
    "crd_comparison.head()"
   ]
  },
  {
   "cell_type": "code",
   "execution_count": 176,
   "metadata": {},
   "outputs": [],
   "source": [
    "# let's add this logic to our processing function\n",
    "# normally I wouldn't write a second function - I'd just update the first one\n",
    "def format_change_data_updated(data: pd.DataFrame) -> pd.DataFrame:\n",
    "    \"\"\"\n",
    "    perform post-processing on the query output from ``get_crd_changes``\n",
    "    - strip double quotes from CRD\n",
    "    - add first CRD information\n",
    "    - add previous CRD information\n",
    "    \"\"\"\n",
    "    # crd formatting\n",
    "    output = data.copy()\n",
    "    output['crd'] = pd.to_datetime(crd_changes.crd.str.strip('\"'), errors='coerce')\n",
    "    \n",
    "    # add first and previous CRD information\n",
    "    first_crd = output.sort_values('changed_at').groupby('leg_id')[['crd', 'changed_at']].first()\n",
    "    previous_crd = output.sort_values('changed_at').groupby('leg_id').crd.shift(1)\n",
    "    \n",
    "    output = output \\\n",
    "        .join(previous_crd, how='inner', rsuffix='_prev') \\\n",
    "        .set_index('leg_id') \\\n",
    "        .join(first_crd, how='inner', rsuffix='_first') \\\n",
    "        .reset_index()\n",
    "    \n",
    "    output['crd_order'] = output.groupby('leg_id').changed_at.rank(method='min')\n",
    "    \n",
    "    # generate columns for differences\n",
    "    output['difference_from_prev'] = (output.crd - output.crd_prev) / np.timedelta64(1, 'D')\n",
    "    output['difference_from_first'] = (output.crd - output.crd_first) / np.timedelta64(1, 'D')\n",
    "    \n",
    "    # null the difference from first if it is the first\n",
    "    output.loc[output.crd_order == 1, 'difference_from_first'] = np.nan\n",
    "\n",
    "    return output"
   ]
  },
  {
   "cell_type": "code",
   "execution_count": 177,
   "metadata": {},
   "outputs": [],
   "source": [
    "crd_comparison = format_change_data_updated(crd_changes)"
   ]
  },
  {
   "cell_type": "code",
   "execution_count": 181,
   "metadata": {},
   "outputs": [
    {
     "data": {
      "text/plain": [
       "count    78241.000000\n",
       "mean         8.520584\n",
       "std        285.746162\n",
       "min     -73048.000000\n",
       "25%         -1.000000\n",
       "50%          3.000000\n",
       "75%         10.000000\n",
       "max       7305.000000\n",
       "Name: difference_from_first, dtype: float64"
      ]
     },
     "execution_count": 181,
     "metadata": {},
     "output_type": "execute_result"
    }
   ],
   "source": [
    "crd_comparison.difference_from_first.describe()"
   ]
  },
  {
   "cell_type": "code",
   "execution_count": 186,
   "metadata": {},
   "outputs": [
    {
     "data": {
      "text/plain": [
       "<matplotlib.axes._subplots.AxesSubplot at 0x14043ad60>"
      ]
     },
     "execution_count": 186,
     "metadata": {},
     "output_type": "execute_result"
    },
    {
     "data": {
      "image/png": "[encoded data removed]",
      "text/plain": [
       "<Figure size 792x432 with 1 Axes>"
      ]
     },
     "metadata": {},
     "output_type": "display_data"
    }
   ],
   "source": [
    "crd_comparison.difference_from_first.hist(bins=np.arange(-20, 50, 1))"
   ]
  },
  {
   "cell_type": "code",
   "execution_count": 189,
   "metadata": {},
   "outputs": [
    {
     "data": {
      "text/html": [
       "<div>\n",
       "<style scoped>\n",
       "    .dataframe tbody tr th:only-of-type {\n",
       "        vertical-align: middle;\n",
       "    }\n",
       "\n",
       "    .dataframe tbody tr th {\n",
       "        vertical-align: top;\n",
       "    }\n",
       "\n",
       "    .dataframe thead th {\n",
       "        text-align: right;\n",
       "    }\n",
       "</style>\n",
       "<table border=\"1\" class=\"dataframe\">\n",
       "  <thead>\n",
       "    <tr style=\"text-align: right;\">\n",
       "      <th></th>\n",
       "      <th>leg_id</th>\n",
       "      <th>difference_from_first</th>\n",
       "    </tr>\n",
       "    <tr>\n",
       "      <th>crd_order</th>\n",
       "      <th></th>\n",
       "      <th></th>\n",
       "    </tr>\n",
       "  </thead>\n",
       "  <tbody>\n",
       "    <tr>\n",
       "      <th>1.0</th>\n",
       "      <td>308689</td>\n",
       "      <td>NaN</td>\n",
       "    </tr>\n",
       "    <tr>\n",
       "      <th>2.0</th>\n",
       "      <td>59530</td>\n",
       "      <td>5.197345</td>\n",
       "    </tr>\n",
       "    <tr>\n",
       "      <th>3.0</th>\n",
       "      <td>14304</td>\n",
       "      <td>14.157246</td>\n",
       "    </tr>\n",
       "    <tr>\n",
       "      <th>4.0</th>\n",
       "      <td>4537</td>\n",
       "      <td>19.314107</td>\n",
       "    </tr>\n",
       "    <tr>\n",
       "      <th>5.0</th>\n",
       "      <td>1624</td>\n",
       "      <td>27.527529</td>\n",
       "    </tr>\n",
       "    <tr>\n",
       "      <th>6.0</th>\n",
       "      <td>650</td>\n",
       "      <td>36.736585</td>\n",
       "    </tr>\n",
       "    <tr>\n",
       "      <th>7.0</th>\n",
       "      <td>282</td>\n",
       "      <td>35.074627</td>\n",
       "    </tr>\n",
       "    <tr>\n",
       "      <th>8.0</th>\n",
       "      <td>145</td>\n",
       "      <td>38.722628</td>\n",
       "    </tr>\n",
       "    <tr>\n",
       "      <th>9.0</th>\n",
       "      <td>77</td>\n",
       "      <td>37.298701</td>\n",
       "    </tr>\n",
       "    <tr>\n",
       "      <th>10.0</th>\n",
       "      <td>45</td>\n",
       "      <td>34.714286</td>\n",
       "    </tr>\n",
       "  </tbody>\n",
       "</table>\n",
       "</div>"
      ],
      "text/plain": [
       "           leg_id  difference_from_first\n",
       "crd_order                               \n",
       "1.0        308689                    NaN\n",
       "2.0         59530               5.197345\n",
       "3.0         14304              14.157246\n",
       "4.0          4537              19.314107\n",
       "5.0          1624              27.527529\n",
       "6.0           650              36.736585\n",
       "7.0           282              35.074627\n",
       "8.0           145              38.722628\n",
       "9.0            77              37.298701\n",
       "10.0           45              34.714286"
      ]
     },
     "execution_count": 189,
     "metadata": {},
     "output_type": "execute_result"
    }
   ],
   "source": [
    "crd_comparison.groupby('crd_order').agg(dict(leg_id='count', difference_from_first='mean')).head(10)"
   ]
  },
  {
   "cell_type": "code",
   "execution_count": 198,
   "metadata": {},
   "outputs": [
    {
     "data": {
      "text/plain": [
       "<matplotlib.axes._subplots.AxesSubplot at 0x12cfb64c0>"
      ]
     },
     "execution_count": 198,
     "metadata": {},
     "output_type": "execute_result"
    },
    {
     "data": {
      "image/png": "[encoded data removed]",
      "text/plain": [
       "<Figure size 792x432 with 1 Axes>"
      ]
     },
     "metadata": {},
     "output_type": "display_data"
    }
   ],
   "source": [
    "crd_comparison.groupby('crd_order').difference_from_first.quantile([0.25, 0.5, 0.75]).unstack().iloc[:10].plot()"
   ]
  },
  {
   "cell_type": "code",
   "execution_count": null,
   "metadata": {},
   "outputs": [],
   "source": []
  }
 ],
 "metadata": {
  "kernelspec": {
   "display_name": "Python 3",
   "language": "python",
   "name": "python3"
  },
  "language_info": {
   "codemirror_mode": {
    "name": "ipython",
    "version": 3
   },
   "file_extension": ".py",
   "mimetype": "text/x-python",
   "name": "python",
   "nbconvert_exporter": "python",
   "pygments_lexer": "ipython3",
   "version": "3.8.3"
  }
 },
 "nbformat": 4,
 "nbformat_minor": 4
}
