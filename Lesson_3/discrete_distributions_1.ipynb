{
 "cells": [
  {
   "cell_type": "markdown",
   "metadata": {
    "slideshow": {
     "slide_type": "slide"
    }
   },
   "source": [
    "# Discrete Distributions I\n",
    "DA Probability & Statistics Learning Series • 📚.3.2\n",
    "\n",
    "<br>\n",
    "<img src=\"https://miro.medium.com/max/1200/0*vEU2404dGwUgbidl.jpg\" />\n",
    "<br>\n",
    "\n",
    "Welcome!\n",
    "\n",
    "*See **#da_prob_stat** for discussion during and after this tutorial.*"
   ]
  },
  {
   "cell_type": "markdown",
   "metadata": {
    "slideshow": {
     "slide_type": "subslide"
    }
   },
   "source": [
    "### Goals\n",
    "\n",
    "- Reinforce our familiarity and comfort with the new mathematical objects we introduced last time: **random variables** and their **distributions**\n",
    "- Introduce **expectation** and lay the groundwork for generalizing across all \\[discrete\\] distributions\n",
    "- Intuit and characterize the **Hypergeometric** distribution and connect it to the **Binomial** by reexamining Christy Wong's lunchtime habits 🍲\n",
    "\n",
    "*We may break this session into multiple parts depending on how far we get given our time constraints.*\n"
   ]
  },
  {
   "cell_type": "code",
   "execution_count": 1,
   "metadata": {
    "slideshow": {
     "slide_type": "skip"
    }
   },
   "outputs": [],
   "source": [
    "# Autoreload changes to custom\n",
    "%load_ext autoreload\n",
    "%autoreload 2\n",
    "\n",
    "# Sharpen matplotlib plots\n",
    "%config InlineBackend.figure_format = 'retina'\n",
    "\n",
    "# Display outputs side by side\n",
    "from IPython.core.display import display, HTML\n",
    "\n",
    "def display_side_by_side(dfs:list, captions:list):\n",
    "    \"\"\"Display tables side by side to save vertical space\n",
    "    Input:\n",
    "        dfs: list of pandas.DataFrame\n",
    "        captions: list of table captions\n",
    "    \"\"\"\n",
    "    output = \"\"\n",
    "    combined = dict(zip(captions, dfs))\n",
    "    for caption, df in combined.items():\n",
    "        output += df.style.set_table_attributes(\"style='display:inline'\").set_caption(caption)._repr_html_()\n",
    "        output += \"\\xa0\\xa0\\xa0\"\n",
    "    display(HTML(output))"
   ]
  },
  {
   "cell_type": "code",
   "execution_count": 2,
   "metadata": {
    "slideshow": {
     "slide_type": "skip"
    }
   },
   "outputs": [],
   "source": [
    "# Import dependencies \n",
    "from custom.db_utils import get_connection\n",
    "import pandas as pd\n",
    "\n",
    "# Analysis\n",
    "import scipy.stats\n",
    "import numpy as np\n",
    "\n",
    "# Data viz\n",
    "import matplotlib.pyplot as plt"
   ]
  },
  {
   "cell_type": "markdown",
   "metadata": {
    "slideshow": {
     "slide_type": "slide"
    }
   },
   "source": [
    "## Warm Up 🤔\n",
    "\n",
    "First, let's think through the homework question I posed at the end of the last lesson (📚.3.1):\n",
    "\n",
    "<br>\n",
    "\n",
    "> Find an example of two discrete random variables $X$ and $Y$ (on the same sample space) such that $X$ and $Y$ have the same distribution (i.e., same PMF and same CDF), but the event $X = Y$ never occurs."
   ]
  },
  {
   "cell_type": "markdown",
   "metadata": {
    "slideshow": {
     "slide_type": "subslide"
    }
   },
   "source": [
    "Hints: \n",
    "\n",
    "- Think about a very, very simple discrete distribution like the Bernoulli. What can we model with it?"
   ]
  },
  {
   "cell_type": "markdown",
   "metadata": {
    "slideshow": {
     "slide_type": "fragment"
    }
   },
   "source": [
    "- How might _any_ two events be mutually exclusive but equally likely (i.e., $P(X=x) = P(Y=y)$ for all $x$, and $y$, but $X \\neq Y$)?"
   ]
  },
  {
   "cell_type": "markdown",
   "metadata": {
    "slideshow": {
     "slide_type": "fragment"
    }
   },
   "source": [
    "- Let's fix our distribution that $X$ and $Y$ share: let's say it's uniform (so all events are equally likely)."
   ]
  },
  {
   "cell_type": "markdown",
   "metadata": {
    "slideshow": {
     "slide_type": "subslide"
    }
   },
   "source": [
    "**Answer**:\n",
    "\n",
    "> Let $X$ and $Y$ be distributed $\\text{Bern}(0.5)$ whereby $X$ indicates a fair coin that lands 'heads' upon being flipped and $Y$ indicates the coin landing 'tails.' Hence, $X$ = $1 - Y$.\n",
    "\n",
    "This is but one possible answer! For you to ponder: what would be another example?"
   ]
  },
  {
   "cell_type": "markdown",
   "metadata": {
    "slideshow": {
     "slide_type": "slide"
    }
   },
   "source": [
    "## Review ⏪\n",
    "\n",
    "Remember the big picture that we've developed thus far?\n",
    "\n",
    "![The Big Picture](./end_goal.png)"
   ]
  },
  {
   "cell_type": "markdown",
   "metadata": {
    "slideshow": {
     "slide_type": "subslide"
    }
   },
   "source": [
    "### Characterizing Discrete Distributions\n",
    "\n",
    "Pebble World analogues can carry us pretty far in understanding their mathematical counterparts. We can continue extending that analogy with distributions.\n",
    "\n",
    "Working with events:\n",
    "\n",
    "| Pebble World | Math Terminology | Notation &nbsp; &nbsp; &nbsp; &nbsp; &nbsp;\n",
    "|:-----:|:-----:|:----------------------:|\n",
    "| box of pebbles | sample space | $S$\n",
    "| 1 pebble | outcome | $s$\n",
    "| 1+ pebbles | event | $A = \\{s_{1}, s_{9}\\}$\n",
    "| mass of pebble(s) | probability | $P(A)$"
   ]
  },
  {
   "cell_type": "markdown",
   "metadata": {
    "slideshow": {
     "slide_type": "subslide"
    }
   },
   "source": [
    "When we consider an event $X=x$, it's really just shorthand for $X(s) = x$. **Random variables are functions that take a pebble and return (map to) a number**.\n",
    "\n",
    "![Grouping Pebbles](./grouping_pebbles.png)"
   ]
  },
  {
   "cell_type": "markdown",
   "metadata": {
    "slideshow": {
     "slide_type": "subslide"
    }
   },
   "source": [
    "So now, we can extend our mental cheatsheet:\n",
    "\n",
    "| Pebble World | Math Terminology | Notation &nbsp; &nbsp; &nbsp; &nbsp; &nbsp;\n",
    "|:-----:|:-----:|:----------------------:|\n",
    "| pebble label type | random variable | $X$, $Z$, $Y$\n",
    "| pebble label value | numerical value  | $x$, $z$, $y$\n",
    "| 1+ pebbles | event | $X = x$, $Z \\gt 3$, $Y \\leq k$\n",
    "| mass of pebble(s) | probability | $P(X = x)$, $P(Z \\gt 3)$, $P(Y \\leq k)$"
   ]
  },
  {
   "cell_type": "markdown",
   "metadata": {
    "slideshow": {
     "slide_type": "slide"
    }
   },
   "source": [
    "### The Bernoulli\n",
    "\n",
    "When we looked at the Bernoulli distribution, we noticed that it was the simplest discrete distribution. It models an event happening / not happening by assigning probabilities associated with the event and its complement to $0$ and $1$, respectively.\n",
    "\n",
    "Letting $X \\sim \\text{Bern}(p)$, we can say the PMF of $X$ is:\n",
    "\n",
    "$$\n",
    "f(k) = P(X=k) =\\begin{cases}q=1-p&{\\text{if }}k=0\\\\p&{\\text{if }}k=1\\end{cases}\n",
    "$$\n",
    "\n",
    "**Reminder**: The *support* of a distribution are the *events* (which are just numbers!) that have a non-zero probability. Immediately, we see that the support for a Bernoulli is $\\{0,1\\}$ for $0\\lt p \\lt 1$.\n",
    "\n"
   ]
  },
  {
   "cell_type": "code",
   "execution_count": 3,
   "metadata": {
    "slideshow": {
     "slide_type": "subslide"
    }
   },
   "outputs": [
    {
     "name": "stdout",
     "output_type": "stream",
     "text": [
      "Initiating login request with your identity provider. A browser window should have opened for you to complete the login. If you can't see it, check existing browser windows, or your OS settings. Press CTRL+C to abort and try again...\n"
     ]
    },
    {
     "data": {
      "text/html": [
       "<div>\n",
       "<style scoped>\n",
       "    .dataframe tbody tr th:only-of-type {\n",
       "        vertical-align: middle;\n",
       "    }\n",
       "\n",
       "    .dataframe tbody tr th {\n",
       "        vertical-align: top;\n",
       "    }\n",
       "\n",
       "    .dataframe thead th {\n",
       "        text-align: right;\n",
       "    }\n",
       "</style>\n",
       "<table border=\"1\" class=\"dataframe\">\n",
       "  <thead>\n",
       "    <tr style=\"text-align: right;\">\n",
       "      <th></th>\n",
       "      <th>invoice_id</th>\n",
       "      <th>invoice_shared_at</th>\n",
       "      <th>share_due_at</th>\n",
       "      <th>is_invoiced_on_time</th>\n",
       "      <th>days_to_share</th>\n",
       "    </tr>\n",
       "  </thead>\n",
       "  <tbody>\n",
       "    <tr>\n",
       "      <th>10765</th>\n",
       "      <td>893831</td>\n",
       "      <td>2020-08-04 02:50:26.751573</td>\n",
       "      <td>2020-09-11 06:00:00+00:00</td>\n",
       "      <td>True</td>\n",
       "      <td>-38.1316</td>\n",
       "    </tr>\n",
       "    <tr>\n",
       "      <th>20349</th>\n",
       "      <td>1023504</td>\n",
       "      <td>2020-09-22 20:01:20.016285</td>\n",
       "      <td>2020-08-28 04:00:00+00:00</td>\n",
       "      <td>False</td>\n",
       "      <td>25.6676</td>\n",
       "    </tr>\n",
       "    <tr>\n",
       "      <th>19004</th>\n",
       "      <td>881921</td>\n",
       "      <td>2020-07-27 09:14:12.338213</td>\n",
       "      <td>2020-08-29 17:30:00+00:00</td>\n",
       "      <td>True</td>\n",
       "      <td>-33.3443</td>\n",
       "    </tr>\n",
       "  </tbody>\n",
       "</table>\n",
       "</div>"
      ],
      "text/plain": [
       "       invoice_id          invoice_shared_at              share_due_at  \\\n",
       "10765      893831 2020-08-04 02:50:26.751573 2020-09-11 06:00:00+00:00   \n",
       "20349     1023504 2020-09-22 20:01:20.016285 2020-08-28 04:00:00+00:00   \n",
       "19004      881921 2020-07-27 09:14:12.338213 2020-08-29 17:30:00+00:00   \n",
       "\n",
       "       is_invoiced_on_time  days_to_share  \n",
       "10765                 True       -38.1316  \n",
       "20349                False        25.6676  \n",
       "19004                 True       -33.3443  "
      ]
     },
     "execution_count": 3,
     "metadata": {},
     "output_type": "execute_result"
    }
   ],
   "source": [
    "# Get the database connection and cursor objects\n",
    "conn, cur = get_connection()\n",
    "\n",
    "# Use a context manager to open and close connection and files\n",
    "with conn:\n",
    "    \n",
    "    # Open the query.sql file\n",
    "    with open('invoicing_otp.sql', 'r') as q:\n",
    "\n",
    "        # Save contents of query.sql as string\n",
    "        query_str = q.read()\n",
    "    \n",
    "    # Use the read_sql method to get the data from Snowflake into a \n",
    "    # Pandas dataframe\n",
    "    df = pd.read_sql(query_str, conn)\n",
    "    \n",
    "    # Make all the columns lowercase\n",
    "    df.columns = map(str.lower, df.columns)\n",
    "\n",
    "# Preview the data\n",
    "df.sample(3)"
   ]
  },
  {
   "cell_type": "code",
   "execution_count": 4,
   "metadata": {
    "slideshow": {
     "slide_type": "skip"
    }
   },
   "outputs": [],
   "source": [
    "# Step-function plot function\n",
    "def plot_step(x,y, ax=None, where='post', **kwargs):\n",
    "    '''\n",
    "    Returns step function plot on ax\n",
    "    '''\n",
    "    assert where in ['post', 'pre']\n",
    "    x = np.array(x)\n",
    "    y = np.array(y)\n",
    "    if where=='post':\n",
    "        y_slice = y[:-1]\n",
    "    if where=='pre': \n",
    "        y_slice = y[1:]\n",
    "    X = np.c_[x[:-1], x[1:], x[1:]]\n",
    "    Y = np.c_[y_slice, y_slice, np.zeros_like(x[:-1])*np.nan]\n",
    "    if not ax: \n",
    "        ax=plt.gca()\n",
    "    return ax.plot(X.flatten(), Y.flatten(), **kwargs)\n",
    "\n",
    "def bernoulli_xtick_labeler(tick_val, tick_pos):\n",
    "    if int(tick_val) in [0,1]:\n",
    "        return int(tick_val)\n",
    "    else:\n",
    "        return ''"
   ]
  },
  {
   "cell_type": "code",
   "execution_count": 5,
   "metadata": {
    "slideshow": {
     "slide_type": "subslide"
    }
   },
   "outputs": [
    {
     "data": {
      "image/png": "[encoded data removed]",
      "text/plain": [
       "<Figure size 864x576 with 2 Axes>"
      ]
     },
     "metadata": {
      "image/png": {
       "height": 481,
       "width": 720
      },
      "needs_background": "light"
     },
     "output_type": "display_data"
    },
    {
     "name": "stdout",
     "output_type": "stream",
     "text": [
      "p = 46.91% invoices are invoiced on time\n",
      "q = 53.09% invoices are NOT invoiced on time\n"
     ]
    }
   ],
   "source": [
    "from scipy.stats import bernoulli\n",
    "from matplotlib.ticker import FuncFormatter, MaxNLocator, MultipleLocator\n",
    "\n",
    "# Random variable X is distributed Bern(p)\n",
    "p = df['is_invoiced_on_time'].mean()\n",
    "x = np.array([0,1])\n",
    "# x = np.arange(bernoulli.ppf(0.01, p),\n",
    "#               bernoulli.ppf(0.99, p))\n",
    "\n",
    "# Plot\n",
    "fig, axes = plt.subplots(1, 2, figsize=(12,8))\n",
    "\n",
    "for i, ax in enumerate(axes):\n",
    "\n",
    "    # Plot the PMF\n",
    "    if i == 0:\n",
    "        ax.plot(x, bernoulli.pmf(x, p), 'bo', ms=8, label='PMF of $X$')\n",
    "        ax.vlines(x, 0, bernoulli.pmf(x, p), colors='b', lw=5, alpha=0.5)\n",
    "        ax.plot(1-x, bernoulli.pmf(1-x, p), 'bo', ms=8)\n",
    "        ax.vlines(1-x, 0, bernoulli.pmf(1-x, p), colors='b', lw=5, alpha=0.5)\n",
    "        ax.set_ylabel('Probability')\n",
    "        ax.title.set_text('PMF of $X$')\n",
    "    else:\n",
    "        plot_step([-1,0,1,2], [0,1-p,1,1], color='b', lw=5, alpha=0.5, label='CDF of $X$')\n",
    "        ax.plot(0, 1-p, 'bo', ms=8)\n",
    "        ax.plot(1, 1, 'bo', ms=8)\n",
    "        ax.title.set_text('CDF of $X$')\n",
    "        ax.set_xlim(left=-.2)\n",
    "\n",
    "    # Styling\n",
    "    ax.spines['right'].set_color('none')\n",
    "    ax.spines['top'].set_color('none')\n",
    "    ax.set_ylim(0, 1.1)\n",
    "    \n",
    "    # Axis ticks, labels\n",
    "    ax.xaxis.set_major_formatter(FuncFormatter(bernoulli_xtick_labeler))\n",
    "    ax.xaxis.set_major_locator(MaxNLocator(integer=True))\n",
    "    ax.yaxis.set_minor_locator(MultipleLocator(0.1))\n",
    "    ax.tick_params(which='minor', width=0.75, length=2.5, labelsize=10)\n",
    "\n",
    "plt.show()\n",
    "\n",
    "print(f\"p = {p:.2%} invoices are invoiced on time\")\n",
    "print(f\"q = {1-p:.2%} invoices are NOT invoiced on time\")"
   ]
  },
  {
   "cell_type": "markdown",
   "metadata": {
    "slideshow": {
     "slide_type": "slide"
    }
   },
   "source": [
    "### The Binomial\n",
    "\n",
    "The best way to remember these named distributions is to associate them with a story. The Bernoulli is often framed as flipping a coin. We can extend this story to reflect what the Binomial is.\n",
    "\n",
    "**Question**: \n",
    "\n",
    "> What \"story\" can I tell to explain the Binomial?"
   ]
  },
  {
   "cell_type": "markdown",
   "metadata": {
    "slideshow": {
     "slide_type": "fragment"
    }
   },
   "source": [
    "Hint: What distribution is equivalent to $\\text{Bin}(1,p)$?"
   ]
  },
  {
   "cell_type": "markdown",
   "metadata": {
    "slideshow": {
     "slide_type": "subslide"
    }
   },
   "source": [
    "**Answer**:\n",
    "\n",
    "> Let $n$ people each flip a coin that has a probability $p$ of landing 'heads.' Count the number of 'heads.'\n",
    "\n",
    "Translating this story into math, we say the Binomial is the distribution of the sum of $n$ independent random variables distributed $\\text{Bern}(p)$.\n",
    "\n",
    "With this story in mind, we can directly characterize the Binomial's PMF. Letting $X \\sim \\text{Bin}(n,p)$, we can say the PMF of $X$ is:\n",
    "\n",
    "$$\n",
    "f(k)= P(X=k) = \\binom{n}{k}p^{k}q^{n-k}\n",
    "$$"
   ]
  },
  {
   "cell_type": "markdown",
   "metadata": {
    "slideshow": {
     "slide_type": "subslide"
    }
   },
   "source": [
    "**Question**:\n",
    "\n",
    "> Let's say 10 independent invoices get logged. What the probability that 7 or more are on-time? Assume $p$ from our calculations above / last time."
   ]
  },
  {
   "cell_type": "code",
   "execution_count": 6,
   "metadata": {
    "slideshow": {
     "slide_type": "subslide"
    }
   },
   "outputs": [
    {
     "data": {
      "image/png": "[encoded data removed]",
      "text/plain": [
       "<Figure size 1080x576 with 2 Axes>"
      ]
     },
     "metadata": {
      "image/png": {
       "height": 481,
       "width": 887
      },
      "needs_background": "light"
     },
     "output_type": "display_data"
    },
    {
     "name": "stdout",
     "output_type": "stream",
     "text": [
      "12.58% chance 7+ invoices (of 10) are on-time\n"
     ]
    }
   ],
   "source": [
    "from scipy.stats import binom\n",
    "\n",
    "# Random variable X is distributed Bin(n,p)\n",
    "n = 10\n",
    "x = np.arange(0,n+1)\n",
    "\n",
    "# Plot\n",
    "fig, axes = plt.subplots(1, 2, figsize=(15,8))\n",
    "\n",
    "for i, ax in enumerate(axes):\n",
    "\n",
    "    # Plot the PMF\n",
    "    if i == 0:\n",
    "        ax.plot(x, binom.pmf(x, n, p), 'bo', ms=8, label='PMF of $X$')\n",
    "        ax.vlines(x, 0, binom.pmf(x, n, p), colors='b', lw=5, alpha=0.5)\n",
    "        ax.set_ylabel('Probability')\n",
    "        ax.title.set_text('PMF of $X$')\n",
    "    else:\n",
    "        plot_step(x, binom.cdf(x, n, p), color='b', lw=5, alpha=0.5, label='CDF of $X$')\n",
    "        for i, prob in enumerate(binom.cdf(x, n, p)):\n",
    "            ax.plot(x[i], prob, 'bo', ms=8)\n",
    "        ax.title.set_text('CDF of $X$')\n",
    "\n",
    "    # Styling\n",
    "    ax.spines['right'].set_color('none')\n",
    "    ax.spines['top'].set_color('none')\n",
    "    ax.set_ylim(0, 1.1)\n",
    "    \n",
    "    # Axis ticks, labels\n",
    "    ax.xaxis.set_major_locator(MaxNLocator(integer=True))\n",
    "    ax.yaxis.set_minor_locator(MultipleLocator(0.1))\n",
    "    ax.tick_params(which='minor', width=0.75, length=2.5, labelsize=10)\n",
    "\n",
    "plt.show()\n",
    "\n",
    "print(f\"{1 - binom.cdf(x, n, p)[6]:.2%} chance 7+ invoices (of {n}) are on-time\")"
   ]
  },
  {
   "cell_type": "markdown",
   "metadata": {
    "slideshow": {
     "slide_type": "fragment"
    }
   },
   "source": [
    "**Answer**:\n",
    "\n",
    "> The CDF of $X$ is $P(X \\leq x)$. To compute the probability of the event we care about (i.e., $7$+ invoices are on-time), we can take the complement of the event we don't care about, which is the CDF evaluated at $6$: $P(X \\geq 7) = 1 - P(X \\leq 6)$."
   ]
  },
  {
   "cell_type": "markdown",
   "metadata": {
    "slideshow": {
     "slide_type": "subslide"
    }
   },
   "source": [
    "**Question**:\n",
    "\n",
    "> What's the distribution of $X+Y$ if $X \\sim \\text{Bin}(n,p)$, $Y \\sim \\text{Bin}(m,p)$, and $X$ and $Y$ are independent?"
   ]
  },
  {
   "cell_type": "markdown",
   "metadata": {
    "slideshow": {
     "slide_type": "fragment"
    }
   },
   "source": [
    "Hint: Think about what Binomial random variables count. "
   ]
  },
  {
   "cell_type": "markdown",
   "metadata": {
    "slideshow": {
     "slide_type": "fragment"
    }
   },
   "source": [
    "**Answer**:\n",
    "\n",
    "> $X+Y \\sim \\text{Bin}(n+m, p)$. The proof is immediate from the story of the Binomial!\n",
    "\n",
    "You actually have all of the tools to prove this algebraically, too. Using *LOTP* and *independence* and by recognizing Vandermonde's Identity (story: choosing a team of size $k$ from a group consisting of $m$ men and $n$ women), the proof is as follows:\n",
    "\n",
    "\\begin{align}\n",
    "P(X+Y=k) &= \\sum_{j=0}^{k} P(X+Y=k|X=j) P(X=j)\\\\\n",
    "&= \\sum_{j=0}^{k} P(Y=k-j) P(X=j)\\\\\n",
    "&= \\sum_{j=0}^{k} \\binom{m}{k-j}p^{k-j}q^{m-k+j} \\binom{n}{j}p^{j}q^{n-j}\\\\\n",
    "&= p^{k}q^{n+m-k} \\sum_{j=0}^{k} \\binom{m}{k-j} \\binom{n}{j}\\\\\n",
    "&= \\binom{n+m}{k}p^{k}q^{n+m-k}\n",
    "\\end{align}"
   ]
  },
  {
   "cell_type": "markdown",
   "metadata": {
    "slideshow": {
     "slide_type": "slide"
    }
   },
   "source": [
    "## Expectation 𝔼\n",
    "\n",
    "### Take 1 🎬\n",
    "\n",
    "**Question**:\n",
    "\n",
    "> What's the *average* of $X$ if $X \\sim \\text{Bern}(p)$?\n",
    "\n",
    "We...\n",
    "\n",
    "...write $\\mathop{E}(X)$ or $\\mathop{\\mathbb{E}}X$.\n",
    "\n",
    "...say we're taking the \"expectation of $X$\" or the \"expected value of $X$\" or the \"mean of $X$.\""
   ]
  },
  {
   "cell_type": "markdown",
   "metadata": {
    "slideshow": {
     "slide_type": "subslide"
    }
   },
   "source": [
    "**Answer**:\n",
    "\n",
    "> $\\mathop{\\mathbb{E}}X = 0q + 1p = p$\n",
    "\n",
    "![Center of Mass](expectation_center_of_mass.png)\n",
    "\n",
    "In physics, **the center of mass** is an analogous concept to expectation. Consider a weightless rod on which are placed weights, at locations $x_{i}$ along the rod and having masses $p_{i}$ (whose sum is one). The point at which the rod balances is $\\mathbb{E}X$."
   ]
  },
  {
   "cell_type": "markdown",
   "metadata": {
    "slideshow": {
     "slide_type": "subslide"
    }
   },
   "source": [
    "But where did $0q + 1p$ come from? And how did we know this was equal to $\\mathbb{E}X$?"
   ]
  },
  {
   "cell_type": "markdown",
   "metadata": {
    "slideshow": {
     "slide_type": "fragment"
    }
   },
   "source": [
    "The definition of **expectation** for a discrete random variable is inspired by the weighted mean of a list of numbers, with weights given by probabilities.\n",
    "\n",
    "For distributions with *countably infinite* supports, expectation is the infinite sum:\n",
    "\n",
    "$$\n",
    "E(X) = \\sum_{j=1}^{\\infty} x_{j} P(X = x_{j})\n",
    "$$\n",
    "\n",
    "For distributions with *countably finite* supports, expectation is the sum given over all of its support:\n",
    "\n",
    "$$\n",
    "\\begin{align}\n",
    "E(X) = \\sum_{x}^{} \\underbrace{x}_{\\text{value}} \\underbrace{P(X = x)}_{\\text{PMF at }x}\n",
    "\\end{align}\n",
    "$$\n"
   ]
  },
  {
   "cell_type": "markdown",
   "metadata": {
    "slideshow": {
     "slide_type": "subslide"
    }
   },
   "source": [
    "### Linearity of Expectation\n",
    "\n",
    "We need a spreadsheet jock to jump into this [spreadsheet](https://docs.google.com/spreadsheets/d/1a1y4k6x8ZpKNofz-mdb02tjQOrQJGdyDrHPx9_uxvRI/edit?usp=sharing) to help us fully grasp the properties of expectation, including the very, very powerful property of **linearity**."
   ]
  },
  {
   "cell_type": "markdown",
   "metadata": {
    "slideshow": {
     "slide_type": "fragment"
    }
   },
   "source": [
    "We can now define (formally) *linearity of expectation*:\n",
    "\n",
    "For any random variables $X$, $Y$ and any constant $c$,\n",
    "\n",
    "$$\n",
    "E(X + Y) = E(X) + E(Y),\\\\\n",
    "E(cX) = cE(X)\n",
    "$$"
   ]
  },
  {
   "cell_type": "markdown",
   "metadata": {
    "slideshow": {
     "slide_type": "subslide"
    }
   },
   "source": [
    "**Questions**: \n",
    "\n",
    "> How can we prove linearity of expectation, i.e., $E(X) + E(Y) = E(X+Y)$, especially if $X$ and $Y$ are on the same sample space?\n",
    "\n",
    "Hint 1: Think about Pebble World. (Always a good idea.)\\\n",
    "Hint 2: Think about *grouped* vs. *ungrouped* ways of averaging.\n",
    "\n",
    "> How would we compute $\\mathbb{E}X^{2}$?\n",
    "\n",
    "Hint 1: A function of a function is a function. A random variable is a function. A function of a random variable is...?\\\n",
    "Hint 2: Refer back to that [spreadsheet](https://docs.google.com/spreadsheets/d/1a1y4k6x8ZpKNofz-mdb02tjQOrQJGdyDrHPx9_uxvRI/edit?usp=sharing).\n",
    "\n",
    "*Note*: We won't explicitly answer these here in the notebook, but can discuss (time permitting)."
   ]
  },
  {
   "cell_type": "markdown",
   "metadata": {
    "slideshow": {
     "slide_type": "slide"
    }
   },
   "source": [
    "### The Fundamental Bridge\n",
    "\n",
    "That may seem excruciatingly simple, but the connection between events and random variables is established with the expectation of a Bernoulli random variable. \n",
    "\n",
    "Let random variable $I_{A}$ be the indicator random variable for event $A$. That is, when $A$ occurs $I_{A}=1$ and when $A$ doesn't occur, $I_{A}=0$. Then, from what we know about Bernoulli distributions, we can say:\n",
    "\n",
    "$$\n",
    "P(A) = \\mathop{E}(I_{A})\n",
    "$$\n",
    "\n",
    "\n",
    "This is **The Fundamental Bridge**. This seems very trivial, but as we'll see later, the implications are enormous!"
   ]
  },
  {
   "cell_type": "markdown",
   "metadata": {
    "slideshow": {
     "slide_type": "subslide"
    }
   },
   "source": [
    "### Take 2 🎬\n",
    "\n",
    "**Question**:\n",
    "\n",
    "> What's the *average* of $X$ if $X \\sim \\text{Bin}(n,p)$?\n",
    "\n",
    "Hint: Think about the \"story\" of the Binomial."
   ]
  },
  {
   "cell_type": "markdown",
   "metadata": {
    "slideshow": {
     "slide_type": "subslide"
    }
   },
   "source": [
    "**Answer**:\n",
    "\n",
    "> $\\mathop{\\mathbb{E}}X = np$\n",
    "\n",
    "If we have the sum of $n$ *independent and identically distributed* (commonly, simply stated $\\text{i.i.d}$) Bernoulli trials with each trial having a probability $p$ of success, we should expect $\\sum_{i=1}^{n} p = np$ successes on average (by *linearity of expectation*)!"
   ]
  },
  {
   "cell_type": "markdown",
   "metadata": {
    "slideshow": {
     "slide_type": "slide"
    }
   },
   "source": [
    "## The Hypergeometric\n",
    "\n",
    "As I said before, it's a good idea to associate distributions with stories. I hope that you will forever be unable to disentangle the Hypergeometric distribution from Christy Wong's affinity for soup.\n",
    "\n",
    "In 🤏.1, we needed some sort of test to determine if there was substantially enough evidence that Christy's propensity to opt for soup at lunch vs. other Flexporters based on the data we collected on her and others. We used a **Wald Test** then and we had already introduced the **$\\chi^2$ Test of Independence** in 📚.2.1. We're closing the loop on this today with **Fisher's Exact Test**."
   ]
  },
  {
   "cell_type": "markdown",
   "metadata": {
    "slideshow": {
     "slide_type": "subslide"
    }
   },
   "source": [
    "Following Christy for 60 more days yields the following contingency table:"
   ]
  },
  {
   "cell_type": "code",
   "execution_count": 7,
   "metadata": {
    "slideshow": {
     "slide_type": "fragment"
    }
   },
   "outputs": [
    {
     "data": {
      "text/html": [
       "<div>\n",
       "<style scoped>\n",
       "    .dataframe tbody tr th:only-of-type {\n",
       "        vertical-align: middle;\n",
       "    }\n",
       "\n",
       "    .dataframe tbody tr th {\n",
       "        vertical-align: top;\n",
       "    }\n",
       "\n",
       "    .dataframe thead th {\n",
       "        text-align: right;\n",
       "    }\n",
       "</style>\n",
       "<table border=\"1\" class=\"dataframe\">\n",
       "  <thead>\n",
       "    <tr style=\"text-align: right;\">\n",
       "      <th>soup_indicator</th>\n",
       "      <th>0</th>\n",
       "      <th>1</th>\n",
       "      <th>All</th>\n",
       "    </tr>\n",
       "    <tr>\n",
       "      <th>predictor</th>\n",
       "      <th></th>\n",
       "      <th></th>\n",
       "      <th></th>\n",
       "    </tr>\n",
       "  </thead>\n",
       "  <tbody>\n",
       "    <tr>\n",
       "      <th>Christy</th>\n",
       "      <td>3</td>\n",
       "      <td>57</td>\n",
       "      <td>60</td>\n",
       "    </tr>\n",
       "    <tr>\n",
       "      <th>Others</th>\n",
       "      <td>51</td>\n",
       "      <td>9</td>\n",
       "      <td>60</td>\n",
       "    </tr>\n",
       "    <tr>\n",
       "      <th>All</th>\n",
       "      <td>54</td>\n",
       "      <td>66</td>\n",
       "      <td>120</td>\n",
       "    </tr>\n",
       "  </tbody>\n",
       "</table>\n",
       "</div>"
      ],
      "text/plain": [
       "soup_indicator   0   1  All\n",
       "predictor                  \n",
       "Christy          3  57   60\n",
       "Others          51   9   60\n",
       "All             54  66  120"
      ]
     },
     "execution_count": 7,
     "metadata": {},
     "output_type": "execute_result"
    }
   ],
   "source": [
    "# Set random seed \n",
    "np.random.seed(2020)\n",
    "\n",
    "# Fabricate data on soup eating (drinking?) habits\n",
    "params = dict(Christy=0.9, Others=0.1)\n",
    "soup_data = pd.DataFrame({k: np.random.choice([0,1], 60, replace=True, p=[1-v, v]) \n",
    "                      for k, v in params.items()}).melt(value_name='soup_indicator', \n",
    "                                                        var_name='predictor')\n",
    "\n",
    "# Build 2x2 contingency table\n",
    "soup_abs_freq = pd.crosstab(soup_data['predictor'], soup_data['soup_indicator'], margins=True)\n",
    "\n",
    "soup_abs_freq"
   ]
  },
  {
   "cell_type": "markdown",
   "metadata": {
    "slideshow": {
     "slide_type": "subslide"
    }
   },
   "source": [
    "Let's think about how we'd want to construct a test with these data and the discrete distributions we've covered so far.\n",
    "\n",
    "**Question**: \n",
    "\n",
    "> What would be a good candidate *parameter* to test? What should our null hypothesis be?\n",
    "\n",
    "Hint: What parameters have we seen so far with the Bernoulli and the Binomial?"
   ]
  },
  {
   "cell_type": "markdown",
   "metadata": {
    "slideshow": {
     "slide_type": "fragment"
    }
   },
   "source": [
    "**Answer**:\n",
    "\n",
    "> We should consider $p$, the probability of choosing soup for lunch. If we let $p_{\\text{Christy}}$ be the probability Christy gets soup and $p_{\\text{non-Christy}}$ be the probability someone who's not Christy gets soup, our null hypothesis should be $p_{\\text{Christy}} = p_{\\text{non-Christy}}$."
   ]
  },
  {
   "cell_type": "markdown",
   "metadata": {
    "slideshow": {
     "slide_type": "subslide"
    }
   },
   "source": [
    "Cool. Now let's create two random variables, $X$ and $Y$, which count the number of times Christy and non-Christys get soup, respectively.\n",
    "\n",
    "**Question**:\n",
    "\n",
    "> How can we model $X$ and $Y$ with the distributions we've seen so far?\n",
    "\n",
    "Hint: We have $60$ days of data on the two groups and we already established $p_{\\text{Christy}}$ and $p_{\\text{non-Christy}}$."
   ]
  },
  {
   "cell_type": "markdown",
   "metadata": {
    "slideshow": {
     "slide_type": "fragment"
    }
   },
   "source": [
    "**Answer**:\n",
    "\n",
    "> Let $X \\sim \\text{Bin}(60, p_{\\text{Christy}})$ and $Y \\sim \\text{Bin}(60, p_{\\text{non-Christy}})$, independently.\n",
    "\n",
    "Now we don't know the *true* parameters, but we do have data that we collected and we have our null hypothesis that says these $p$ are the same. "
   ]
  },
  {
   "cell_type": "code",
   "execution_count": 8,
   "metadata": {
    "slideshow": {
     "slide_type": "subslide"
    }
   },
   "outputs": [
    {
     "data": {
      "text/html": [
       "<style  type=\"text/css\" >\n",
       "</style><table id=\"T_6e3dd8e6_034f_11eb_83ab_82459ae99c01\" style='display:inline'><caption>Original</caption><thead>    <tr>        <th class=\"index_name level0\" >soup_indicator</th>        <th class=\"col_heading level0 col0\" >0</th>        <th class=\"col_heading level0 col1\" >1</th>        <th class=\"col_heading level0 col2\" >All</th>    </tr>    <tr>        <th class=\"index_name level0\" >predictor</th>        <th class=\"blank\" ></th>        <th class=\"blank\" ></th>        <th class=\"blank\" ></th>    </tr></thead><tbody>\n",
       "                <tr>\n",
       "                        <th id=\"T_6e3dd8e6_034f_11eb_83ab_82459ae99c01level0_row0\" class=\"row_heading level0 row0\" >Christy</th>\n",
       "                        <td id=\"T_6e3dd8e6_034f_11eb_83ab_82459ae99c01row0_col0\" class=\"data row0 col0\" >3</td>\n",
       "                        <td id=\"T_6e3dd8e6_034f_11eb_83ab_82459ae99c01row0_col1\" class=\"data row0 col1\" >57</td>\n",
       "                        <td id=\"T_6e3dd8e6_034f_11eb_83ab_82459ae99c01row0_col2\" class=\"data row0 col2\" >60</td>\n",
       "            </tr>\n",
       "            <tr>\n",
       "                        <th id=\"T_6e3dd8e6_034f_11eb_83ab_82459ae99c01level0_row1\" class=\"row_heading level0 row1\" >Others</th>\n",
       "                        <td id=\"T_6e3dd8e6_034f_11eb_83ab_82459ae99c01row1_col0\" class=\"data row1 col0\" >51</td>\n",
       "                        <td id=\"T_6e3dd8e6_034f_11eb_83ab_82459ae99c01row1_col1\" class=\"data row1 col1\" >9</td>\n",
       "                        <td id=\"T_6e3dd8e6_034f_11eb_83ab_82459ae99c01row1_col2\" class=\"data row1 col2\" >60</td>\n",
       "            </tr>\n",
       "            <tr>\n",
       "                        <th id=\"T_6e3dd8e6_034f_11eb_83ab_82459ae99c01level0_row2\" class=\"row_heading level0 row2\" >All</th>\n",
       "                        <td id=\"T_6e3dd8e6_034f_11eb_83ab_82459ae99c01row2_col0\" class=\"data row2 col0\" >54</td>\n",
       "                        <td id=\"T_6e3dd8e6_034f_11eb_83ab_82459ae99c01row2_col1\" class=\"data row2 col1\" >66</td>\n",
       "                        <td id=\"T_6e3dd8e6_034f_11eb_83ab_82459ae99c01row2_col2\" class=\"data row2 col2\" >120</td>\n",
       "            </tr>\n",
       "    </tbody></table>   <style  type=\"text/css\" >\n",
       "</style><table id=\"T_6e3e0046_034f_11eb_83ab_82459ae99c01\" style='display:inline'><caption>Transposed</caption><thead>    <tr>        <th class=\"index_name level0\" >predictor</th>        <th class=\"col_heading level0 col0\" >Christy</th>        <th class=\"col_heading level0 col1\" >Others</th>        <th class=\"col_heading level0 col2\" >All</th>    </tr>    <tr>        <th class=\"index_name level0\" >soup_indicator</th>        <th class=\"blank\" ></th>        <th class=\"blank\" ></th>        <th class=\"blank\" ></th>    </tr></thead><tbody>\n",
       "                <tr>\n",
       "                        <th id=\"T_6e3e0046_034f_11eb_83ab_82459ae99c01level0_row0\" class=\"row_heading level0 row0\" >0</th>\n",
       "                        <td id=\"T_6e3e0046_034f_11eb_83ab_82459ae99c01row0_col0\" class=\"data row0 col0\" >3</td>\n",
       "                        <td id=\"T_6e3e0046_034f_11eb_83ab_82459ae99c01row0_col1\" class=\"data row0 col1\" >51</td>\n",
       "                        <td id=\"T_6e3e0046_034f_11eb_83ab_82459ae99c01row0_col2\" class=\"data row0 col2\" >54</td>\n",
       "            </tr>\n",
       "            <tr>\n",
       "                        <th id=\"T_6e3e0046_034f_11eb_83ab_82459ae99c01level0_row1\" class=\"row_heading level0 row1\" >1</th>\n",
       "                        <td id=\"T_6e3e0046_034f_11eb_83ab_82459ae99c01row1_col0\" class=\"data row1 col0\" >57</td>\n",
       "                        <td id=\"T_6e3e0046_034f_11eb_83ab_82459ae99c01row1_col1\" class=\"data row1 col1\" >9</td>\n",
       "                        <td id=\"T_6e3e0046_034f_11eb_83ab_82459ae99c01row1_col2\" class=\"data row1 col2\" >66</td>\n",
       "            </tr>\n",
       "            <tr>\n",
       "                        <th id=\"T_6e3e0046_034f_11eb_83ab_82459ae99c01level0_row2\" class=\"row_heading level0 row2\" >All</th>\n",
       "                        <td id=\"T_6e3e0046_034f_11eb_83ab_82459ae99c01row2_col0\" class=\"data row2 col0\" >60</td>\n",
       "                        <td id=\"T_6e3e0046_034f_11eb_83ab_82459ae99c01row2_col1\" class=\"data row2 col1\" >60</td>\n",
       "                        <td id=\"T_6e3e0046_034f_11eb_83ab_82459ae99c01row2_col2\" class=\"data row2 col2\" >120</td>\n",
       "            </tr>\n",
       "    </tbody></table>   "
      ],
      "text/plain": [
       "<IPython.core.display.HTML object>"
      ]
     },
     "metadata": {},
     "output_type": "display_data"
    }
   ],
   "source": [
    "# Contingency table\n",
    "display_side_by_side([soup_abs_freq, soup_abs_freq.T], [\"Original\",\"Transposed\"])"
   ]
  },
  {
   "cell_type": "markdown",
   "metadata": {
    "slideshow": {
     "slide_type": "-"
    }
   },
   "source": [
    "Like all of the other statistical tests we've done, we want to see how our data stacks up -- does it exhibit enough funkiness that the null hypothesis becomes implausible?\n",
    "\n",
    "So, with a fixed number of observations of soup lunches ($X+Y = 66$), we are left asking **how likely is it that Christy had 57 soup lunches *given* we saw 66 soup lunches in total**?\n",
    "\n",
    "Yep. It's time to use one of our oldest techniques: **conditioning**."
   ]
  },
  {
   "cell_type": "markdown",
   "metadata": {
    "slideshow": {
     "slide_type": "subslide"
    }
   },
   "source": [
    "We can translate our question, \"**How likely is it that Christy had 57 soup lunches *given* we saw 66 soup lunches in total**?\" into a conditional probability: $P(X=57 | X+Y=66)$.\n",
    "\n",
    "**Question**: \n",
    "\n",
    "> How can we calculate this conditional probability?"
   ]
  },
  {
   "cell_type": "markdown",
   "metadata": {
    "slideshow": {
     "slide_type": "fragment"
    }
   },
   "source": [
    "**Answer**:\n",
    "\n",
    "> Bayes Rule!\n",
    ">\n",
    "> $$\n",
    "P(X=57|X+Y=66) = \\frac{P(X+Y=66|X=57)P(X=57)}{P(X+Y=66)}\n",
    "$$"
   ]
  },
  {
   "cell_type": "markdown",
   "metadata": {
    "slideshow": {
     "slide_type": "subslide"
    }
   },
   "source": [
    "We can use what we know about **independence** and the PMFs of Binomials to actually compute this conditional probability:\n",
    "\n",
    "$$\n",
    "\\begin{align}\n",
    "P(X=57|X+Y=66) &= \\frac{P(X+Y=66|X=57)P(X=57)}{P(X+Y=66)}\\\\\n",
    "&= \\frac{P(Y=66-57|X=57)P(X=57)}{P(X+Y=66)}\\\\\n",
    "&= \\frac{P(Y=9)P(X=57)}{P(X+Y=66)}\\\\\n",
    "&= \\frac{\\binom{60}{9}p^{9}q^{51}\\binom{60}{57}p^{57}q^{3}}{\\binom{120}{66}p^{66}q^{54}}\\\\\n",
    "&= \\frac{\\binom{60}{9}\\binom{60}{57}}{\\binom{120}{66}}\\\\\n",
    "&= 9.503 \\times 10^{-21}\n",
    "\\end{align}\n",
    "$$"
   ]
  },
  {
   "cell_type": "code",
   "execution_count": 9,
   "metadata": {},
   "outputs": [
    {
     "data": {
      "text/plain": [
       "9.50265882623491e-21"
      ]
     },
     "execution_count": 9,
     "metadata": {},
     "output_type": "execute_result"
    }
   ],
   "source": [
    "from scipy.special import comb\n",
    "\n",
    "# Compute conditional probability of X=57 given X+Y=66\n",
    "comb(60,9)*comb(60,57)/comb(120,66)"
   ]
  },
  {
   "cell_type": "markdown",
   "metadata": {
    "slideshow": {
     "slide_type": "subslide"
    }
   },
   "source": [
    "Now let's consider another story:\n",
    "\n",
    "Imagine an urn with $w$ white ball and $b$ black balls. I reach in and grab $n$ balls. The Hypergeometric distribution gives me the probability of having each of $0, 1, 2, ..., n$ white balls among the $n$ I grabbed."
   ]
  },
  {
   "cell_type": "markdown",
   "metadata": {
    "slideshow": {
     "slide_type": "fragment"
    }
   },
   "source": [
    "![HGeom Story: Sampling White & Black Balls](./hgeom_urn.png)"
   ]
  },
  {
   "cell_type": "markdown",
   "metadata": {
    "slideshow": {
     "slide_type": "subslide"
    }
   },
   "source": [
    "Now we can begin to connect the Christy's story to that of the PMF of the Hypergeometric distribution. For each of the lunches, we can \"tag\" it with two labels:\n",
    "\n",
    "1. Christy OR non-Christy\n",
    "2. Soup OR No Soup\n",
    "\n",
    "| | Christy  &nbsp; &nbsp; &nbsp; &nbsp; &nbsp; | Others  &nbsp; &nbsp; &nbsp; &nbsp; &nbsp; | Total  &nbsp; &nbsp; &nbsp; &nbsp; &nbsp; &nbsp; &nbsp; &nbsp; &nbsp; &nbsp; |\n",
    "|---------|-----------|-------------|------------|\n",
    "| Soup    | $x$       | $r-x$       | $r$        |\n",
    "| No Soup | $n-x$     | $m-r+x$     | $n+m-r$    |\n",
    "| Total   | $n$       | $m$         | $n+m$      |"
   ]
  },
  {
   "cell_type": "markdown",
   "metadata": {
    "slideshow": {
     "slide_type": "subslide"
    }
   },
   "source": [
    "Here's the generalized derivation. Notice that conditioning on the sum of two, independent Binomial distributions yields the Hypergeometric PMF. \n",
    "\n",
    "$$\n",
    "\\begin{align}\n",
    "P(X=x|X+Y=r) &= \\frac{P(X+Y=r|X=x)P(X=x)}{P(X+Y=r)}\\\\\n",
    "&= \\frac{P(Y=r-x)P(X=x)}{P(X+Y=r)}\\\\\n",
    "&= \\frac{\\binom{m}{r-x}p^{r-x}q^{m-r+x}\\binom{n}{x}p^{x}q^{n-x}}{\\binom{n+m}{r}p^{r}q^{n+m-r}}\\\\\n",
    "&= \\frac{\\binom{n}{x}p^{x}q^{n-x}\\binom{m}{r-x}p^{r-x}q^{m-r+x}}{\\binom{n+m}{r}p^{r}q^{n+m-r}}\\\\\n",
    "&= \\frac{\\binom{n}{x}\\binom{m}{r-x}}{\\binom{n+m}{r}}\\\\\n",
    "\\end{align}\n",
    "$$"
   ]
  },
  {
   "cell_type": "markdown",
   "metadata": {
    "slideshow": {
     "slide_type": "subslide"
    }
   },
   "source": [
    "**Question**:\n",
    "\n",
    "> How do I translate drawing balls from a jar to determining how plausible it is that Christy eats (statistically) significantly more than others?\n",
    "\n",
    "Hint: Let's return to the [spreadsheet](https://docs.google.com/spreadsheets/d/1a1y4k6x8ZpKNofz-mdb02tjQOrQJGdyDrHPx9_uxvRI/edit?usp=sharing) we've been working out of."
   ]
  },
  {
   "cell_type": "markdown",
   "metadata": {
    "slideshow": {
     "slide_type": "fragment"
    }
   },
   "source": [
    "**Answer**: \n",
    "\n",
    "> A Hypergeometric random variable counts the number of \"Christy\" tagged lunches among the \"Soup\" lunches.\n",
    "\n",
    "> In the Christy story, the \"Soup\" lunches are the $n$ balls I sampled and the \"Christy\" tagged lunches are the $w$ white balls and the \"non-Christy\" tagged lunches are the $b$ black balls.\n",
    "\n",
    "> Alternatively, I could have parameterized this distribution by letting $n$ be the \"Christy\" tagged lunches, $w$ be \"Soup\" lunches, and $b$ be \"non-Soup\" lunches.\n",
    "\n",
    "Why?"
   ]
  },
  {
   "cell_type": "markdown",
   "metadata": {
    "slideshow": {
     "slide_type": "subslide"
    }
   },
   "source": [
    "**Question**:\n",
    "\n",
    "> Let's keep adding balls to the urn ($w+b \\rightarrow \\infty$) but keep the proportion of white balls the same (i.e., $\\frac{w}{w+b} = p$). What distribution does this look like?"
   ]
  },
  {
   "cell_type": "markdown",
   "metadata": {
    "slideshow": {
     "slide_type": "fragment"
    }
   },
   "source": [
    "**Answer**: \n",
    "\n",
    "> We won't prove this here, but if $w+b \\rightarrow \\infty$ and the proportion of white balls stays constant (i.e., $\\frac{w}{w+b} = p$), then $\\text{HGeom}(w, b, n)$ converges to $\\text{Bin}(n,p)$!\n",
    "\n",
    "Intuitively, this should make sense. If we have lots and lots of balls, removing relatively few doesn't really impact the probability the next one is white.\n",
    "\n",
    "In some sense, the difference between the Hypergeometric and Binomial is whether or not I draw *without replacement*, respectively. Had I drawn *with replacement* I would have $X \\sim \\text{Bin}(n, \\frac{w}{w+b})$."
   ]
  },
  {
   "cell_type": "markdown",
   "metadata": {
    "slideshow": {
     "slide_type": "subslide"
    }
   },
   "source": [
    "With the story of Christy consuming copious consommé in mind, we can directly characterize the Hypergeometric's PMF. Letting $X \\sim \\text{HGeom}(w,b,n)$, we can say the PMF of $X$ is:\n",
    "\n",
    "$$\n",
    "f(k) = P(X=k)= \\frac{\\binom{w}{k}\\binom{b}{n-k}}{\\binom{w+b}{n}}\\\\\n",
    "$$\n",
    "\n",
    "\n",
    "*Note*: In order to keep the notation somewhat consistent with the other discrete distributions, I am using $w, b, n, k$.\n",
    "\n",
    "But what about the question we set out to answer?! Let's take a look at the probability of seeing an event this extreme (or more) if there was no difference in probability of getting soup for lunch."
   ]
  },
  {
   "cell_type": "code",
   "execution_count": 10,
   "metadata": {
    "slideshow": {
     "slide_type": "subslide"
    }
   },
   "outputs": [
    {
     "data": {
      "image/png": "[encoded data removed]",
      "text/plain": [
       "<Figure size 1080x576 with 2 Axes>"
      ]
     },
     "metadata": {
      "image/png": {
       "height": 481,
       "width": 887
      },
      "needs_background": "light"
     },
     "output_type": "display_data"
    },
    {
     "name": "stdout",
     "output_type": "stream",
     "text": [
      "9.588165269199079e-21 probability of Christy contributing 57 or more soup lunches (of 66 soup lunches) if the probabilities of getting soup were the same between Christy and Others\n"
     ]
    }
   ],
   "source": [
    "from scipy.stats import hypergeom\n",
    "\n",
    "# Random variable X is distributed Bin(n,p)\n",
    "w = 60\n",
    "w_plus_b = 60+60\n",
    "n = 66\n",
    "x = np.arange(0,n+1)\n",
    "\n",
    "# Plot\n",
    "fig, axes = plt.subplots(1, 2, figsize=(15,8))\n",
    "\n",
    "for i, ax in enumerate(axes):\n",
    "\n",
    "    # Plot the PMF\n",
    "    if i == 0:\n",
    "        ax.plot(x, hypergeom.pmf(x, w_plus_b, w, n), 'bo', ms=8, label='PMF of $X$')\n",
    "        ax.vlines(x, 0, hypergeom.pmf(x, w_plus_b, w, n), colors='b', lw=5, alpha=0.5)\n",
    "        ax.set_ylabel('Probability')\n",
    "        ax.title.set_text('PMF of $X$')\n",
    "    else:\n",
    "        plot_step(x, hypergeom.cdf(x, w_plus_b, w, n), color='b', lw=5, alpha=0.5, label='CDF of $X$')\n",
    "        for i, prob in enumerate(hypergeom.cdf(x, w_plus_b, w, n)):\n",
    "            ax.plot(x[i], prob, 'bo', ms=8)\n",
    "        ax.title.set_text('CDF of $X$')\n",
    "\n",
    "    # Styling\n",
    "    ax.spines['right'].set_color('none')\n",
    "    ax.spines['top'].set_color('none')\n",
    "    ax.set_ylim(0, 1.1)\n",
    "    \n",
    "    # Axis ticks, labels\n",
    "    ax.xaxis.set_major_locator(MaxNLocator(integer=True))\n",
    "    ax.yaxis.set_minor_locator(MultipleLocator(0.1))\n",
    "    ax.tick_params(which='minor', width=0.75, length=2.5, labelsize=10)\n",
    "\n",
    "plt.show()\n",
    "\n",
    "print(f\"{sum(hypergeom.pmf(x, w_plus_b, w, n)[57:])} probability of Christy contributing 57 or more soup lunches (of {n} soup lunches) if the probabilities of getting soup were the same between Christy and Others\")"
   ]
  },
  {
   "cell_type": "markdown",
   "metadata": {
    "slideshow": {
     "slide_type": "slide"
    }
   },
   "source": [
    "Okay, time to combine all of concepts we've picked up thus far in the lesson: figure out **the mean of a Hypergeometric random variable**.\n",
    "\n",
    "**Question**:\n",
    "\n",
    "> Let $X \\sim \\text{HGeom}(w, b, n)$. What is $E(X)$?"
   ]
  },
  {
   "cell_type": "markdown",
   "metadata": {
    "slideshow": {
     "slide_type": "fragment"
    }
   },
   "source": [
    "Hint 1: Try to simulate this -- what do you notice? **Submit a PR!**\\\n",
    "Hint 2: Remember, the Binomial and Hypergeometric are related.\\\n",
    "Hint 3: Use indicator random variables.\\\n",
    "Hint 4: Let's go back to our [spreadsheet](https://docs.google.com/spreadsheets/d/1a1y4k6x8ZpKNofz-mdb02tjQOrQJGdyDrHPx9_uxvRI/edit#gid=0)."
   ]
  },
  {
   "cell_type": "markdown",
   "metadata": {
    "slideshow": {
     "slide_type": "slide"
    }
   },
   "source": [
    "So far, we've only considered static number of trials and probabilities of success for each trial. Allowing these to go to some *limit*, we can begin to model much more interesting phenomena.\n",
    "\n",
    "Consider a port, and we define a random variable, $X$, to count the the number of vessels carrying Flexport containers that arrive each hour in a day. (How would we compute the average number of Flexport-laden vessels?)\n",
    "\n",
    "Now, let $Y$ count the same thing as $X$ except that now we're counting every minute. The probability we see any given vessel of interest is smaller in this given interval, right?\n",
    "\n",
    "What about $Z$ that does the same as the other random variables, but for every nanosecond? The pattern should hold, right? In any given nanosecond, it's very, very unlikely a boat we're looking to count will come through."
   ]
  },
  {
   "cell_type": "markdown",
   "metadata": {
    "slideshow": {
     "slide_type": "slide"
    }
   },
   "source": [
    "## Exit Ticket ␛\n",
    "\n",
    "**Question**:\n",
    "\n",
    "> What happens when I begin to do Bernoulli trials \"faster and faster\" with the probability of each trial getting smaller and smaller?\n",
    "\n",
    "Hint 1: Start with $X\\sim\\text{Bin}(n, p)$. Now increase $n$ and decrease $p$ such that $\\lambda$ stays constant (where $\\lambda = np$).\\\n",
    "Hint 2: Try to simulate this -- what do you notice? **Submit a PR!**\\\n",
    "Hint 3: Watch the last 10 minutes of our lesson on [Derangements](https://drive.google.com/file/d/1NBG5lqpSOa6JR5mUkNSx0qzhnUltZ39l/view?usp=sharing)."
   ]
  }
 ],
 "metadata": {
  "celltoolbar": "Slideshow",
  "kernelspec": {
   "display_name": "Python 3",
   "language": "python",
   "name": "python3"
  },
  "language_info": {
   "codemirror_mode": {
    "name": "ipython",
    "version": 3
   },
   "file_extension": ".py",
   "mimetype": "text/x-python",
   "name": "python",
   "nbconvert_exporter": "python",
   "pygments_lexer": "ipython3",
   "version": "3.7.6"
  },
  "livereveal": {
   "scroll": true
  },
  "rise": {
   "enable_chalkboard": true
  }
 },
 "nbformat": 4,
 "nbformat_minor": 4
}
