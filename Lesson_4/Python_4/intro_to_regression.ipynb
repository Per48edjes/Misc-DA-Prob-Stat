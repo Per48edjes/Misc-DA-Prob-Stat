{
 "cells": [
  {
   "cell_type": "markdown",
   "metadata": {},
   "source": [
    "# 🐍.4 Intro to Regression in Python (Pandas/Numpy/Statsmodel)\n",
    "\n",
    "*With: Nate & Tyler*\n",
    "\n",
    "\n",
    "<img src=\"https://www.explainxkcd.com/wiki/images/9/91/linear_regression.png\" width=\"400px\"/>\n",
    "<br>\n",
    "Why Regression?\n",
    "Regression is going to be our first foray into machine learning, or statstics, or econometrics depending on your point of view. This lesson will approach the theory and motivations behind simple linear regression.\n",
    "\n",
    "*So what is regression?* <br>\n",
    ">A statistical method that allows us to summarize and study relationships between two continuous (quantitative) variables:\n",
    "\n",
    ">One variable, denoted x, is regarded as the predictor, explanatory, or independent variable.\n",
    " The other variable, denoted y, is regarded as the response, outcome, or dependent variable.\n",
    " \n",
    "With regression, we can distill the relationship between two variables into a single parameter or set of parameters. This can be useful for:\n",
    "- Inference: can we quantitatively show a relationship between the two variables? How strong is this relationship?\n",
    "- Prediction: can we anticipate the values of our dependent variable based on the values of our independent variable(s)"
   ]
  },
  {
   "cell_type": "code",
   "execution_count": 8,
   "metadata": {},
   "outputs": [],
   "source": [
    "# Let's import some of the modules we'll need\n",
    "import sys\n",
    "import pandas as pd\n",
    "import numpy as np\n",
    "import matplotlib.pyplot as plt\n",
    "plt.style.use('seaborn')\n",
    "sys.path.append('../../custom')\n",
    "\n",
    "from db_utils import get_connection, validate_connection, get_data\n",
    "pd.options.display.float_format = '{:,.2f}'.format"
   ]
  },
  {
   "cell_type": "markdown",
   "metadata": {},
   "source": [
    "# Open Question?\n",
    "## What is a model?\n",
    "\n",
    "We'll pause here for feedback!\n",
    "\n",
    "> Taking the mean of univariate data is a form of modeling! Why?\n",
    "\n",
    "> Can we name more models?"
   ]
  },
  {
   "cell_type": "markdown",
   "metadata": {},
   "source": [
    "### Motivating Question?\n",
    "Let's pretend we're admissions counselors and we'd like to admit college student that are going to be successful. How might we determine that? \n",
    "> Let's assume we can use SAT scores to predict college GPA potential.\n",
    "\n",
    "Our Hypothesis is that students with higher SAT scores will perform better in college and have higher GPAs. Let's test this by graphing it!"
   ]
  },
  {
   "cell_type": "code",
   "execution_count": 9,
   "metadata": {},
   "outputs": [
    {
     "data": {
      "text/html": [
       "<div>\n",
       "<style scoped>\n",
       "    .dataframe tbody tr th:only-of-type {\n",
       "        vertical-align: middle;\n",
       "    }\n",
       "\n",
       "    .dataframe tbody tr th {\n",
       "        vertical-align: top;\n",
       "    }\n",
       "\n",
       "    .dataframe thead th {\n",
       "        text-align: right;\n",
       "    }\n",
       "</style>\n",
       "<table border=\"1\" class=\"dataframe\">\n",
       "  <thead>\n",
       "    <tr style=\"text-align: right;\">\n",
       "      <th></th>\n",
       "      <th>high_GPA</th>\n",
       "      <th>math_SAT</th>\n",
       "      <th>verb_SAT</th>\n",
       "      <th>comp_GPA</th>\n",
       "      <th>univ_GPA</th>\n",
       "      <th>Total_SAT</th>\n",
       "    </tr>\n",
       "  </thead>\n",
       "  <tbody>\n",
       "    <tr>\n",
       "      <th>0</th>\n",
       "      <td>3.45</td>\n",
       "      <td>643</td>\n",
       "      <td>589</td>\n",
       "      <td>3.76</td>\n",
       "      <td>3.52</td>\n",
       "      <td>1232</td>\n",
       "    </tr>\n",
       "    <tr>\n",
       "      <th>1</th>\n",
       "      <td>2.78</td>\n",
       "      <td>558</td>\n",
       "      <td>512</td>\n",
       "      <td>2.87</td>\n",
       "      <td>2.91</td>\n",
       "      <td>1070</td>\n",
       "    </tr>\n",
       "    <tr>\n",
       "      <th>2</th>\n",
       "      <td>2.52</td>\n",
       "      <td>583</td>\n",
       "      <td>503</td>\n",
       "      <td>2.54</td>\n",
       "      <td>2.40</td>\n",
       "      <td>1086</td>\n",
       "    </tr>\n",
       "    <tr>\n",
       "      <th>3</th>\n",
       "      <td>3.67</td>\n",
       "      <td>685</td>\n",
       "      <td>602</td>\n",
       "      <td>3.83</td>\n",
       "      <td>3.47</td>\n",
       "      <td>1287</td>\n",
       "    </tr>\n",
       "    <tr>\n",
       "      <th>4</th>\n",
       "      <td>3.24</td>\n",
       "      <td>592</td>\n",
       "      <td>538</td>\n",
       "      <td>3.29</td>\n",
       "      <td>3.47</td>\n",
       "      <td>1130</td>\n",
       "    </tr>\n",
       "  </tbody>\n",
       "</table>\n",
       "</div>"
      ],
      "text/plain": [
       "   high_GPA  math_SAT  verb_SAT  comp_GPA  univ_GPA  Total_SAT\n",
       "0      3.45       643       589      3.76      3.52       1232\n",
       "1      2.78       558       512      2.87      2.91       1070\n",
       "2      2.52       583       503      2.54      2.40       1086\n",
       "3      3.67       685       602      3.83      3.47       1287\n",
       "4      3.24       592       538      3.29      3.47       1130"
      ]
     },
     "execution_count": 9,
     "metadata": {},
     "output_type": "execute_result"
    }
   ],
   "source": [
    "data = pd.read_csv('sat_data.csv')\n",
    "data['Total_SAT'] = data['math_SAT'] + data['verb_SAT']\n",
    "data.head()"
   ]
  },
  {
   "cell_type": "code",
   "execution_count": 7,
   "metadata": {},
   "outputs": [
    {
     "data": {
      "text/plain": [
       "Text(0, 0.5, 'University GPA')"
      ]
     },
     "execution_count": 7,
     "metadata": {},
     "output_type": "execute_result"
    },
    {
     "data": {
      "image/png": "[encoded data removed]",
      "text/plain": [
       "<Figure size 576x396 with 1 Axes>"
      ]
     },
     "metadata": {},
     "output_type": "display_data"
    }
   ],
   "source": [
    "fig = plt.figure()\n",
    "plt.scatter(data.Total_SAT, data.univ_GPA)\n",
    "fig.suptitle('SAT Scores vs University GPA')\n",
    "plt.xlabel('SAT Total Score')\n",
    "plt.ylabel('University GPA')"
   ]
  },
  {
   "cell_type": "markdown",
   "metadata": {},
   "source": [
    "We can see from the above graph that there is a general trend. It appears that people with higher SAT scores generally get better GPAs in college.\n",
    "\n",
    "But now we want to quantify this in a relational format. By increasing SAT score by x-points, how much might this be expected to increase university GPA?"
   ]
  },
  {
   "cell_type": "markdown",
   "metadata": {},
   "source": [
    "### Enter : Our formula for a linear equation!\n",
    "Most of you might recall from algebra, our equation for a linear equation expressed below. <br><br>\n",
    "\\begin{equation}\n",
    "y = m x + b\n",
    "\\end{equation}\n",
    "<br>\n",
    "We'll want to express that here where Y is our dependent variable (University GPA), x is our independent variable (SAT total Score), and m is a scalar value that we'll use to define the relationship between the two of them.\n",
    "\n",
    "Here we have specified the *data generating process*. Implicitly, we have a hypothesis that the *actual* college GPAs follow this formula, whether that reflects a causal relationship or not. Is this realistic? No! But this is the assumption that we are making with a simple linear model. It's a useful way to distill real world concepts into math, but it comes with many caveats.\n",
    "\n",
    "<img src=\"https://i.imgur.com/hZdj1XI.png\" width=\"600\"><img src=\"\" width=\"600\">"
   ]
  },
  {
   "cell_type": "markdown",
   "metadata": {},
   "source": [
    "To build a `Linear Regression` using these variables we'll want to draw a line through our data such that we have an\n",
    "initial intercept (b) and the slope of our line relates our observed values of X and Y.\n",
    "\n",
    "To do this we're going to refactor our above equation a little bit and write it in a clearer format for understanding how they are related, such that Y is a function of random variable X. \n",
    "<br><br>\n",
    "\\begin{equation}\n",
    "Y_i = f(X) = \\beta_0 + \\beta_1 X_i + \\epsilon_i\n",
    "\\end{equation}\n",
    "<br><br>\n",
    "In this equation our intercept is equal to $\\beta_{0}$, $\\beta_{1}$ is our scalar value (same as m in equation above) and $\\epsilon$ is going to model our error, or residuals.\n",
    "\n",
    "\n",
    "> Can anyone tell us why we have subscripts for $\\beta$ and $X$?"
   ]
  },
  {
   "cell_type": "markdown",
   "metadata": {},
   "source": [
    "So what does epsilon mean? Remember we're planning on drawing a line of best fit through our data. For each $x$ value, $\\epsilon$ is going to represent the error of our fit (the distance from the actual observed value to our predicted line).\n",
    "\n",
    "For a well specified model, $\\epsilon$ is theoretically *totally random*, and does not depend on any factors. Again, is this realistic? Probably not.\n",
    "\n",
    "<img src=\"https://files.realpython.com/media/fig-lin-reg.a506035b654a.png\" width=\"600\">"
   ]
  },
  {
   "cell_type": "markdown",
   "metadata": {},
   "source": [
    "# Let's build a Regression Model\n",
    "\n",
    "We've articulated our data generating process as a simple equation. Our parameters are $\\beta_{0}$ and $\\beta_{1}$. But how do we determine what values these parameters take on?\n",
    "\n",
    "We want to find the *best* version of the paramters. But what does \"best\" mean here?"
   ]
  },
  {
   "cell_type": "markdown",
   "metadata": {},
   "source": [
    "### Let's start with a hand-calculated example\n",
    "\n",
    "Looking at the graph above let's come up with some estimates for a slope and intercept to input into our formula.\n",
    "I'm going to regraph our formula here so we can better see the full axis.\n",
    "\n",
    "*Pause for discussion*"
   ]
  },
  {
   "cell_type": "code",
   "execution_count": 6,
   "metadata": {},
   "outputs": [
    {
     "data": {
      "text/plain": [
       "(0.0, 4.0)"
      ]
     },
     "execution_count": 6,
     "metadata": {},
     "output_type": "execute_result"
    },
    {
     "data": {
      "image/png": "[encoded data removed]",
      "text/plain": [
       "<Figure size 576x396 with 1 Axes>"
      ]
     },
     "metadata": {},
     "output_type": "display_data"
    }
   ],
   "source": [
    "def get_predicted_value(beta_0: float, beta_1: float, x: float) -> float:\n",
    "    \"\"\"\n",
    "    calculates the predicted value based on:\n",
    "    - ``x``: independent variable\n",
    "    - ``beta_0``: intercept parameter\n",
    "    - ``beta_1``: slope parameter\n",
    "    \"\"\"\n",
    "    return beta_0 + beta_1 * x\n",
    "\n",
    "def fit_line(X: np.array, beta_0: float, beta_1: float) -> pd.Series:\n",
    "    \"\"\"\n",
    "    Returns a series of predicted Y values for X and beta_0 and beta_1 values:\n",
    "    - ``X``: independent variable as np.array\n",
    "    - ``beta_0``: intercept parameter\n",
    "    - ``beta_1``: slope parameter\n",
    "    \"\"\"\n",
    "    return pd.Series(\n",
    "        [get_predicted_value(beta_0, beta_1, x) for x in X],\n",
    "        index=X)\n",
    "\n",
    "fig = plt.figure()\n",
    "plt.scatter(data.Total_SAT, data.univ_GPA)\n",
    "fig.suptitle('SAT Scores vs University GPA')\n",
    "plt.xlabel('SAT Total Score')\n",
    "plt.ylabel('University GPA')\n",
    "plt.xlim(0,1500)\n",
    "plt.ylim(0,4)\n",
    "\n",
    "## INPUT OUR PREDICTED VALUES BELOW\n",
    "beta_0 = \n",
    "beta_1 = \n",
    "\n",
    "fit_line(np.arange(0, 1600), beta_0, beta_1).plot(linestyle='dashed', color=\"green\")"
   ]
  },
  {
   "cell_type": "markdown",
   "metadata": {},
   "source": [
    "We can measure the \"best\" parameters based on how much the implied predictions (or fitted values) differ from the actual values (\"goodness of fit\"). We wouldn't use straight up error since this could be negative (different values would cancel each other out). It would be more approriate to use *absolute error* as our measurement. Even better would be *squared error*. This would both convert errors to absolute terms and put more weight on bigger errors. \n",
    "\n",
    "Finally, we want to aggregate goodness of fit across all of the different observations in our sample - easily accomplished by taking the mean.\n",
    "\n",
    "What do we end up with?! ***Mean, Squared error***\n",
    "\n",
    "This can also be described as a **loss function**, which describes the goodness of fit and determines which sets of parameters are better than others."
   ]
  },
  {
   "cell_type": "markdown",
   "metadata": {},
   "source": [
    "### Creating a Loss Function\n",
    "\n",
    "Can we calculate the loss function described above for a given set of parameters?"
   ]
  },
  {
   "cell_type": "code",
   "execution_count": 7,
   "metadata": {},
   "outputs": [],
   "source": [
    "def loss_function(dependent_values: np.array, independent_values: np.array,\n",
    "                  beta_0: float, beta_1: float) -> float:\n",
    "    '''\n",
    "    Takes our Dependent and Independent values, and fit parameters beta_0 and beta_1\n",
    "    to output the mean squared error of the predicted values.\n",
    "    - ``dependent_values``: an array Y\n",
    "    - ``independent_values``: an array X\n",
    "    - ``beta_0``: intercept parameter\n",
    "    - ``beta_1``: slope parameter\n",
    "    '''\n",
    "\n",
    "    # INPUT OUR FUNCTION FOR LOSS FUNCTION BELOW\n",
    "        \n",
    "    return epsilon\n",
    "\n",
    "\n",
    "# Let's test our loss function\n",
    "# MSE = loss_function(data.univ_GPA, data.Total_SAT, beta_0, beta_1)\n",
    "# print('Mean Squared Error: %s' %MSE)"
   ]
  },
  {
   "cell_type": "markdown",
   "metadata": {
    "slideshow": {
     "slide_type": "fragment"
    }
   },
   "source": [
    "Now that we have a measure of fit, let's try a few different values"
   ]
  },
  {
   "cell_type": "code",
   "execution_count": 8,
   "metadata": {},
   "outputs": [
    {
     "data": {
      "text/plain": [
       "(1.0, 4.0)"
      ]
     },
     "execution_count": 8,
     "metadata": {},
     "output_type": "execute_result"
    },
    {
     "data": {
      "image/png": "[encoded data removed]",
      "text/plain": [
       "<Figure size 576x396 with 1 Axes>"
      ]
     },
     "metadata": {},
     "output_type": "display_data"
    }
   ],
   "source": [
    "fig = plt.figure()\n",
    "plt.scatter(data.Total_SAT, data.univ_GPA)\n",
    "fig.suptitle('SAT Scores vs University GPA')\n",
    "plt.xlabel('SAT Total Score')\n",
    "plt.ylabel('University GPA')\n",
    "plt.xlim(1000,1500)\n",
    "plt.ylim(1,4)\n",
    "\n",
    "## INPUT OUR PREDICTED VALUES BELOW\n",
    "#beta_0 = \n",
    "#beta_1 = \n",
    "\n",
    "#fit_line(np.arange(1000, 1600), beta_0, beta_1).plot(linestyle='dashed', color=\"green\", label=\"hand fit\")\n",
    "#print('Mean Squared Error: %s' %loss_function(data.univ_GPA, data.Total_SAT, beta_0, beta_1))"
   ]
  },
  {
   "cell_type": "markdown",
   "metadata": {},
   "source": [
    "> Can we describe what this might mean logically?"
   ]
  },
  {
   "cell_type": "markdown",
   "metadata": {},
   "source": [
    "## Great, but now let's Optimize!\n",
    "The `machine learning` portion of linear regression is solving for the best fit of this line, we do this by reducing the sum squared error, or the loss function as we've defined it, we need to fine the line where this SSE or epsilon in this case is the minimum possible value we can find. \n",
    "\n",
    "Rather than diving into the math behind this solve, we're going to introduce some easy tools you can use to resolve this yourself."
   ]
  },
  {
   "cell_type": "code",
   "execution_count": 7,
   "metadata": {},
   "outputs": [],
   "source": [
    "# Import the statsmodels module and associated information we'll need to perform this analysis\n",
    "import statsmodels.api as sm"
   ]
  },
  {
   "cell_type": "code",
   "execution_count": 8,
   "metadata": {},
   "outputs": [
    {
     "name": "stdout",
     "output_type": "stream",
     "text": [
      "                            OLS Regression Results                            \n",
      "==============================================================================\n",
      "Dep. Variable:               univ_GPA   R-squared:                       0.469\n",
      "Model:                            OLS   Adj. R-squared:                  0.464\n",
      "Method:                 Least Squares   F-statistic:                     90.89\n",
      "Date:                Mon, 12 Oct 2020   Prob (F-statistic):           8.05e-16\n",
      "Time:                        19:06:16   Log-Likelihood:                -30.775\n",
      "No. Observations:                 105   AIC:                             65.55\n",
      "Df Residuals:                     103   BIC:                             70.86\n",
      "Df Model:                           1                                         \n",
      "Covariance Type:            nonrobust                                         \n",
      "==============================================================================\n",
      "                 coef    std err          t      P>|t|      [0.025      0.975]\n",
      "------------------------------------------------------------------------------\n",
      "const         -0.1716      0.352     -0.487      0.627      -0.870       0.527\n",
      "Total_SAT      0.0027      0.000      9.534      0.000       0.002       0.003\n",
      "==============================================================================\n",
      "Omnibus:                        1.053   Durbin-Watson:                   1.672\n",
      "Prob(Omnibus):                  0.591   Jarque-Bera (JB):                1.141\n",
      "Skew:                          -0.220   Prob(JB):                        0.565\n",
      "Kurtosis:                       2.742   Cond. No.                     1.35e+04\n",
      "==============================================================================\n",
      "\n",
      "Warnings:\n",
      "[1] Standard Errors assume that the covariance matrix of the errors is correctly specified.\n",
      "[2] The condition number is large, 1.35e+04. This might indicate that there are\n",
      "strong multicollinearity or other numerical problems.\n"
     ]
    }
   ],
   "source": [
    "# Initialize a Linear Regression\n",
    "X = data.Total_SAT        # retrieve a np.series of X values\n",
    "X = sm.add_constant(X)    # add a space for constant value in our X fit\n",
    "y = data.univ_GPA         # define our target Y variable\n",
    "\n",
    "results = sm.OLS(y, X).fit()\n",
    "print(results.summary())"
   ]
  },
  {
   "cell_type": "code",
   "execution_count": 25,
   "metadata": {},
   "outputs": [
    {
     "data": {
      "text/plain": [
       "<matplotlib.legend.Legend at 0x123ff2fd0>"
      ]
     },
     "execution_count": 25,
     "metadata": {},
     "output_type": "execute_result"
    },
    {
     "data": {
      "image/png": "[encoded data removed]",
      "text/plain": [
       "<Figure size 576x396 with 1 Axes>"
      ]
     },
     "metadata": {},
     "output_type": "display_data"
    }
   ],
   "source": [
    "# Let's plot this against our current data to see how it looks\n",
    "res = results.fittedvalues\n",
    "\n",
    "fig = plt.figure()\n",
    "plt.scatter(data.Total_SAT, data.univ_GPA)\n",
    "fig.suptitle('SAT Scores vs University GPA')\n",
    "plt.xlabel('SAT Total Score')\n",
    "plt.ylabel('University GPA')\n",
    "plt.plot(np.arange(1050,1500), fit_line(np.arange(1050, 1500), beta_0, beta_1), color='green', linestyle='dashed', label=\"hand fit\")\n",
    "plt.plot(data.Total_SAT, res, color='red', label=\"statsmodels fit\")\n",
    "fig.legend()"
   ]
  },
  {
   "cell_type": "markdown",
   "metadata": {},
   "source": [
    "Lets see how our MSE compares between models\n",
    " "
   ]
  },
  {
   "cell_type": "code",
   "execution_count": 26,
   "metadata": {},
   "outputs": [
    {
     "name": "stdout",
     "output_type": "stream",
     "text": [
      "Hand-Fit MSE: 1.064478336\n",
      "Statsmodel-Fit MSE: 0.19998214285714286\n"
     ]
    }
   ],
   "source": [
    "print('Hand-Fit MSE: %s' %loss_function(data.univ_GPA, data.Total_SAT, beta_0, beta_1))\n",
    "print('Statsmodel-Fit MSE: %s' %results.mse_total)"
   ]
  },
  {
   "cell_type": "markdown",
   "metadata": {},
   "source": [
    "Lastly let's open up some discussion to what some of these parameters mean!"
   ]
  },
  {
   "cell_type": "code",
   "execution_count": 27,
   "metadata": {},
   "outputs": [
    {
     "name": "stdout",
     "output_type": "stream",
     "text": [
      "                            OLS Regression Results                            \n",
      "==============================================================================\n",
      "Dep. Variable:               univ_GPA   R-squared:                       0.469\n",
      "Model:                            OLS   Adj. R-squared:                  0.464\n",
      "Method:                 Least Squares   F-statistic:                     90.89\n",
      "Date:                Mon, 12 Oct 2020   Prob (F-statistic):           8.05e-16\n",
      "Time:                        19:21:45   Log-Likelihood:                -30.775\n",
      "No. Observations:                 105   AIC:                             65.55\n",
      "Df Residuals:                     103   BIC:                             70.86\n",
      "Df Model:                           1                                         \n",
      "Covariance Type:            nonrobust                                         \n",
      "==============================================================================\n",
      "                 coef    std err          t      P>|t|      [0.025      0.975]\n",
      "------------------------------------------------------------------------------\n",
      "const         -0.1716      0.352     -0.487      0.627      -0.870       0.527\n",
      "Total_SAT      0.0027      0.000      9.534      0.000       0.002       0.003\n",
      "==============================================================================\n",
      "Omnibus:                        1.053   Durbin-Watson:                   1.672\n",
      "Prob(Omnibus):                  0.591   Jarque-Bera (JB):                1.141\n",
      "Skew:                          -0.220   Prob(JB):                        0.565\n",
      "Kurtosis:                       2.742   Cond. No.                     1.35e+04\n",
      "==============================================================================\n",
      "\n",
      "Warnings:\n",
      "[1] Standard Errors assume that the covariance matrix of the errors is correctly specified.\n",
      "[2] The condition number is large, 1.35e+04. This might indicate that there are\n",
      "strong multicollinearity or other numerical problems.\n"
     ]
    }
   ],
   "source": [
    "print(results.summary())"
   ]
  },
  {
   "cell_type": "code",
   "execution_count": null,
   "metadata": {},
   "outputs": [],
   "source": []
  }
 ],
 "metadata": {
  "kernelspec": {
   "display_name": "Python 3",
   "language": "python",
   "name": "python3"
  },
  "language_info": {
   "codemirror_mode": {
    "name": "ipython",
    "version": 3
   },
   "file_extension": ".py",
   "mimetype": "text/x-python",
   "name": "python",
   "nbconvert_exporter": "python",
   "pygments_lexer": "ipython3",
   "version": "3.7.7"
  }
 },
 "nbformat": 4,
 "nbformat_minor": 4
}
